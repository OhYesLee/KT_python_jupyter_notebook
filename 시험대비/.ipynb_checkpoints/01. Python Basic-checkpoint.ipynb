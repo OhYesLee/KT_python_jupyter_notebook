{
 "cells": [
  {
   "cell_type": "code",
   "execution_count": 1,
   "id": "6173b129",
   "metadata": {},
   "outputs": [
    {
     "name": "stdout",
     "output_type": "stream",
     "text": [
      "hellow\n"
     ]
    }
   ],
   "source": [
    "print('hellow')"
   ]
  },
  {
   "cell_type": "code",
   "execution_count": 2,
   "id": "bec8c6ad",
   "metadata": {},
   "outputs": [],
   "source": [
    "x = \"Rome is not built in a day!\""
   ]
  },
  {
   "cell_type": "code",
   "execution_count": null,
   "id": "a2787f10",
   "metadata": {},
   "outputs": [],
   "source": []
  },
  {
   "cell_type": "markdown",
   "id": "ff3d3d21",
   "metadata": {},
   "source": [
    "# 리스트 관련 함수\n",
    "- 리스트.append(요소) : 리스트의 끝에 요소 추가\n",
    "- 리스트.insert(인덱스, 요소) : 리스트의 특정 인덱스에 요소 추가\n",
    "- 리스트1.extend(리스트2) : 리스트1에 리스트2를 연결해 확장\n",
    "- 리스트1 + 리스트2 : 리스트1과 리스트2를 서로 병합\n",
    "- 리스트.remove(요소) : 리스트의 특정 값의 요소를 삭제\n",
    "- 리스트.count('요소') : 리스트 중 특정 값을 가진 요소의 개수를 카운트\n",
    "- 리스트.sort() : 리스트 내 요소를 오름차순으로 정렬\n",
    "- 리스트.pop(인덱스) : 리스트 중 특정 인덱스의 요소를 삭제"
   ]
  },
  {
   "cell_type": "code",
   "execution_count": null,
   "id": "d05085d2",
   "metadata": {},
   "outputs": [],
   "source": []
  }
 ],
 "metadata": {
  "kernelspec": {
   "display_name": "Python 3 (ipykernel)",
   "language": "python",
   "name": "python3"
  },
  "language_info": {
   "codemirror_mode": {
    "name": "ipython",
    "version": 3
   },
   "file_extension": ".py",
   "mimetype": "text/x-python",
   "name": "python",
   "nbconvert_exporter": "python",
   "pygments_lexer": "ipython3",
   "version": "3.9.13"
  }
 },
 "nbformat": 4,
 "nbformat_minor": 5
}
