{
 "cells": [
  {
   "cell_type": "markdown",
   "metadata": {
    "id": "y1J78TFSRrSA"
   },
   "source": [
    "<center><img src='https://raw.githubusercontent.com/Jangrae/img/master/ml_python.png' width=600/></center>"
   ]
  },
  {
   "cell_type": "markdown",
   "metadata": {},
   "source": [
    "<img src = \"https://github.com/Jangrae/img/blob/master/iris2.png?raw=true\" width=800 align=\"left\"/>"
   ]
  },
  {
   "cell_type": "markdown",
   "metadata": {
    "id": "TSPbV_6rfe4O"
   },
   "source": [
    "# 실습 내용\n",
    "\n",
    "- 머신러닝 모델링을 위한 코딩은 무조건 할 수 있어야 합니다.\n",
    "- 코딩 내용을 자세히 알지 못해도 무작정 코딩을 진행해봅니다.\n",
    "- Iris 데이터를 대상으로 모델링을 진행합니다.\n",
    "- DecisionTree 알고리즘을 사용합니다.\n",
    "- 다양한 방법으로 모델 성능을 평가합니다."
   ]
  },
  {
   "cell_type": "markdown",
   "metadata": {
    "id": "nucoGLlcnihS"
   },
   "source": [
    "# 1.환경 준비\n",
    "\n",
    "- 기본 **라이브러리**와 대상 **데이터**를 가져와 이후 과정을 준비합니다."
   ]
  },
  {
   "cell_type": "markdown",
   "metadata": {
    "id": "RLz_NZuSnihT"
   },
   "source": [
    "<img src = \"https://github.com/Jangrae/img/blob/master/code_11.png?raw=true\" width=700 align=\"left\"/>"
   ]
  },
  {
   "cell_type": "code",
   "execution_count": 1,
   "metadata": {
    "executionInfo": {
     "elapsed": 3,
     "status": "ok",
     "timestamp": 1642509883488,
     "user": {
      "displayName": "Jangrae Lee",
      "photoUrl": "https://lh3.googleusercontent.com/a-/AOh14Gh1Pd8OuWJU2cv7uTt-fURrgvty7atx_Wtarmx0-A=s64",
      "userId": "08475661575434032088"
     },
     "user_tz": -540
    },
    "id": "q1Thk2BinihU",
    "scrolled": true
   },
   "outputs": [],
   "source": [
    "# 라이브러리 불러오기\n",
    "import numpy as np\n",
    "import pandas as pd\n",
    "import matplotlib.pyplot as plt\n",
    "import seaborn as sns\n",
    "import warnings\n",
    "\n",
    "warnings.filterwarnings(action='ignore')\n",
    "%config InlineBackend.figure_format = 'retina'"
   ]
  },
  {
   "cell_type": "code",
   "execution_count": 2,
   "metadata": {
    "executionInfo": {
     "elapsed": 368,
     "status": "ok",
     "timestamp": 1642509883854,
     "user": {
      "displayName": "Jangrae Lee",
      "photoUrl": "https://lh3.googleusercontent.com/a-/AOh14Gh1Pd8OuWJU2cv7uTt-fURrgvty7atx_Wtarmx0-A=s64",
      "userId": "08475661575434032088"
     },
     "user_tz": -540
    },
    "id": "eZjHHq36nihW"
   },
   "outputs": [],
   "source": [
    "# 데이터 읽어오기\n",
    "path = 'https://raw.githubusercontent.com/Jangrae/csv/master/iris.csv'\n",
    "data = pd.read_csv(path)"
   ]
  },
  {
   "cell_type": "markdown",
   "metadata": {
    "id": "lyKibPz_nihX"
   },
   "source": [
    "# 2.데이터 이해\n",
    "\n",
    "- 분석할 데이터를 **충분히 이해**할 수 있도록 다양한 **탐색** 과정을 수행합니다."
   ]
  },
  {
   "cell_type": "markdown",
   "metadata": {
    "id": "QC4ccBS4nihX"
   },
   "source": [
    "<img src = \"https://github.com/Jangrae/img/blob/master/code_12.png?raw=true\" width=700 align=\"left\"/>"
   ]
  },
  {
   "cell_type": "code",
   "execution_count": 3,
   "metadata": {
    "colab": {
     "base_uri": "https://localhost:8080/",
     "height": 206
    },
    "executionInfo": {
     "elapsed": 21,
     "status": "ok",
     "timestamp": 1642509883855,
     "user": {
      "displayName": "Jangrae Lee",
      "photoUrl": "https://lh3.googleusercontent.com/a-/AOh14Gh1Pd8OuWJU2cv7uTt-fURrgvty7atx_Wtarmx0-A=s64",
      "userId": "08475661575434032088"
     },
     "user_tz": -540
    },
    "id": "K2pz6Ee7nCQV",
    "outputId": "7188d4c9-8e8e-426b-9149-d0be831aedfd"
   },
   "outputs": [
    {
     "data": {
      "text/html": [
       "<div>\n",
       "<style scoped>\n",
       "    .dataframe tbody tr th:only-of-type {\n",
       "        vertical-align: middle;\n",
       "    }\n",
       "\n",
       "    .dataframe tbody tr th {\n",
       "        vertical-align: top;\n",
       "    }\n",
       "\n",
       "    .dataframe thead th {\n",
       "        text-align: right;\n",
       "    }\n",
       "</style>\n",
       "<table border=\"1\" class=\"dataframe\">\n",
       "  <thead>\n",
       "    <tr style=\"text-align: right;\">\n",
       "      <th></th>\n",
       "      <th>Sepal.Length</th>\n",
       "      <th>Sepal.Width</th>\n",
       "      <th>Petal.Length</th>\n",
       "      <th>Petal.Width</th>\n",
       "      <th>Species</th>\n",
       "    </tr>\n",
       "  </thead>\n",
       "  <tbody>\n",
       "    <tr>\n",
       "      <th>0</th>\n",
       "      <td>5.1</td>\n",
       "      <td>3.5</td>\n",
       "      <td>1.4</td>\n",
       "      <td>0.2</td>\n",
       "      <td>setosa</td>\n",
       "    </tr>\n",
       "    <tr>\n",
       "      <th>1</th>\n",
       "      <td>4.9</td>\n",
       "      <td>3.0</td>\n",
       "      <td>1.4</td>\n",
       "      <td>0.2</td>\n",
       "      <td>setosa</td>\n",
       "    </tr>\n",
       "    <tr>\n",
       "      <th>2</th>\n",
       "      <td>4.7</td>\n",
       "      <td>3.2</td>\n",
       "      <td>1.3</td>\n",
       "      <td>0.2</td>\n",
       "      <td>setosa</td>\n",
       "    </tr>\n",
       "    <tr>\n",
       "      <th>3</th>\n",
       "      <td>4.6</td>\n",
       "      <td>3.1</td>\n",
       "      <td>1.5</td>\n",
       "      <td>0.2</td>\n",
       "      <td>setosa</td>\n",
       "    </tr>\n",
       "    <tr>\n",
       "      <th>4</th>\n",
       "      <td>5.0</td>\n",
       "      <td>3.6</td>\n",
       "      <td>1.4</td>\n",
       "      <td>0.2</td>\n",
       "      <td>setosa</td>\n",
       "    </tr>\n",
       "  </tbody>\n",
       "</table>\n",
       "</div>"
      ],
      "text/plain": [
       "   Sepal.Length  Sepal.Width  Petal.Length  Petal.Width Species\n",
       "0           5.1          3.5           1.4          0.2  setosa\n",
       "1           4.9          3.0           1.4          0.2  setosa\n",
       "2           4.7          3.2           1.3          0.2  setosa\n",
       "3           4.6          3.1           1.5          0.2  setosa\n",
       "4           5.0          3.6           1.4          0.2  setosa"
      ]
     },
     "execution_count": 3,
     "metadata": {},
     "output_type": "execute_result"
    }
   ],
   "source": [
    "# 상위 몇 개 행 확인\n",
    "data.head()"
   ]
  },
  {
   "cell_type": "code",
   "execution_count": 4,
   "metadata": {
    "colab": {
     "base_uri": "https://localhost:8080/",
     "height": 206
    },
    "executionInfo": {
     "elapsed": 17,
     "status": "ok",
     "timestamp": 1642509883856,
     "user": {
      "displayName": "Jangrae Lee",
      "photoUrl": "https://lh3.googleusercontent.com/a-/AOh14Gh1Pd8OuWJU2cv7uTt-fURrgvty7atx_Wtarmx0-A=s64",
      "userId": "08475661575434032088"
     },
     "user_tz": -540
    },
    "id": "oBwMnDkFmJCS",
    "outputId": "37e82c4c-21b2-444a-f20a-adfd4e042b38"
   },
   "outputs": [
    {
     "data": {
      "text/html": [
       "<div>\n",
       "<style scoped>\n",
       "    .dataframe tbody tr th:only-of-type {\n",
       "        vertical-align: middle;\n",
       "    }\n",
       "\n",
       "    .dataframe tbody tr th {\n",
       "        vertical-align: top;\n",
       "    }\n",
       "\n",
       "    .dataframe thead th {\n",
       "        text-align: right;\n",
       "    }\n",
       "</style>\n",
       "<table border=\"1\" class=\"dataframe\">\n",
       "  <thead>\n",
       "    <tr style=\"text-align: right;\">\n",
       "      <th></th>\n",
       "      <th>Sepal.Length</th>\n",
       "      <th>Sepal.Width</th>\n",
       "      <th>Petal.Length</th>\n",
       "      <th>Petal.Width</th>\n",
       "      <th>Species</th>\n",
       "    </tr>\n",
       "  </thead>\n",
       "  <tbody>\n",
       "    <tr>\n",
       "      <th>145</th>\n",
       "      <td>6.7</td>\n",
       "      <td>3.0</td>\n",
       "      <td>5.2</td>\n",
       "      <td>2.3</td>\n",
       "      <td>virginica</td>\n",
       "    </tr>\n",
       "    <tr>\n",
       "      <th>146</th>\n",
       "      <td>6.3</td>\n",
       "      <td>2.5</td>\n",
       "      <td>5.0</td>\n",
       "      <td>1.9</td>\n",
       "      <td>virginica</td>\n",
       "    </tr>\n",
       "    <tr>\n",
       "      <th>147</th>\n",
       "      <td>6.5</td>\n",
       "      <td>3.0</td>\n",
       "      <td>5.2</td>\n",
       "      <td>2.0</td>\n",
       "      <td>virginica</td>\n",
       "    </tr>\n",
       "    <tr>\n",
       "      <th>148</th>\n",
       "      <td>6.2</td>\n",
       "      <td>3.4</td>\n",
       "      <td>5.4</td>\n",
       "      <td>2.3</td>\n",
       "      <td>virginica</td>\n",
       "    </tr>\n",
       "    <tr>\n",
       "      <th>149</th>\n",
       "      <td>5.9</td>\n",
       "      <td>3.0</td>\n",
       "      <td>5.1</td>\n",
       "      <td>1.8</td>\n",
       "      <td>virginica</td>\n",
       "    </tr>\n",
       "  </tbody>\n",
       "</table>\n",
       "</div>"
      ],
      "text/plain": [
       "     Sepal.Length  Sepal.Width  Petal.Length  Petal.Width    Species\n",
       "145           6.7          3.0           5.2          2.3  virginica\n",
       "146           6.3          2.5           5.0          1.9  virginica\n",
       "147           6.5          3.0           5.2          2.0  virginica\n",
       "148           6.2          3.4           5.4          2.3  virginica\n",
       "149           5.9          3.0           5.1          1.8  virginica"
      ]
     },
     "execution_count": 4,
     "metadata": {},
     "output_type": "execute_result"
    }
   ],
   "source": [
    "# 하위 몇 개 행 확인\n",
    "data.tail()"
   ]
  },
  {
   "cell_type": "code",
   "execution_count": 5,
   "metadata": {
    "colab": {
     "base_uri": "https://localhost:8080/"
    },
    "executionInfo": {
     "elapsed": 15,
     "status": "ok",
     "timestamp": 1642509883856,
     "user": {
      "displayName": "Jangrae Lee",
      "photoUrl": "https://lh3.googleusercontent.com/a-/AOh14Gh1Pd8OuWJU2cv7uTt-fURrgvty7atx_Wtarmx0-A=s64",
      "userId": "08475661575434032088"
     },
     "user_tz": -540
    },
    "id": "1ZsXdcfp8uwI",
    "outputId": "8ff4bd9e-cff6-4a53-eb9f-5ce99defec4a"
   },
   "outputs": [
    {
     "name": "stdout",
     "output_type": "stream",
     "text": [
      "<class 'pandas.core.frame.DataFrame'>\n",
      "RangeIndex: 150 entries, 0 to 149\n",
      "Data columns (total 5 columns):\n",
      " #   Column        Non-Null Count  Dtype  \n",
      "---  ------        --------------  -----  \n",
      " 0   Sepal.Length  150 non-null    float64\n",
      " 1   Sepal.Width   150 non-null    float64\n",
      " 2   Petal.Length  150 non-null    float64\n",
      " 3   Petal.Width   150 non-null    float64\n",
      " 4   Species       150 non-null    object \n",
      "dtypes: float64(4), object(1)\n",
      "memory usage: 6.0+ KB\n"
     ]
    }
   ],
   "source": [
    "# 변수 확인\n",
    "data.info()"
   ]
  },
  {
   "cell_type": "code",
   "execution_count": 6,
   "metadata": {
    "colab": {
     "base_uri": "https://localhost:8080/",
     "height": 300
    },
    "executionInfo": {
     "elapsed": 331,
     "status": "ok",
     "timestamp": 1642509884178,
     "user": {
      "displayName": "Jangrae Lee",
      "photoUrl": "https://lh3.googleusercontent.com/a-/AOh14Gh1Pd8OuWJU2cv7uTt-fURrgvty7atx_Wtarmx0-A=s64",
      "userId": "08475661575434032088"
     },
     "user_tz": -540
    },
    "id": "LhAk04Uy4Occ",
    "outputId": "f0626ff8-ea85-4886-de6f-2b7ae878e4da"
   },
   "outputs": [
    {
     "data": {
      "text/html": [
       "<div>\n",
       "<style scoped>\n",
       "    .dataframe tbody tr th:only-of-type {\n",
       "        vertical-align: middle;\n",
       "    }\n",
       "\n",
       "    .dataframe tbody tr th {\n",
       "        vertical-align: top;\n",
       "    }\n",
       "\n",
       "    .dataframe thead th {\n",
       "        text-align: right;\n",
       "    }\n",
       "</style>\n",
       "<table border=\"1\" class=\"dataframe\">\n",
       "  <thead>\n",
       "    <tr style=\"text-align: right;\">\n",
       "      <th></th>\n",
       "      <th>Sepal.Length</th>\n",
       "      <th>Sepal.Width</th>\n",
       "      <th>Petal.Length</th>\n",
       "      <th>Petal.Width</th>\n",
       "    </tr>\n",
       "  </thead>\n",
       "  <tbody>\n",
       "    <tr>\n",
       "      <th>count</th>\n",
       "      <td>150.000000</td>\n",
       "      <td>150.000000</td>\n",
       "      <td>150.000000</td>\n",
       "      <td>150.000000</td>\n",
       "    </tr>\n",
       "    <tr>\n",
       "      <th>mean</th>\n",
       "      <td>5.843333</td>\n",
       "      <td>3.057333</td>\n",
       "      <td>3.758000</td>\n",
       "      <td>1.199333</td>\n",
       "    </tr>\n",
       "    <tr>\n",
       "      <th>std</th>\n",
       "      <td>0.828066</td>\n",
       "      <td>0.435866</td>\n",
       "      <td>1.765298</td>\n",
       "      <td>0.762238</td>\n",
       "    </tr>\n",
       "    <tr>\n",
       "      <th>min</th>\n",
       "      <td>4.300000</td>\n",
       "      <td>2.000000</td>\n",
       "      <td>1.000000</td>\n",
       "      <td>0.100000</td>\n",
       "    </tr>\n",
       "    <tr>\n",
       "      <th>25%</th>\n",
       "      <td>5.100000</td>\n",
       "      <td>2.800000</td>\n",
       "      <td>1.600000</td>\n",
       "      <td>0.300000</td>\n",
       "    </tr>\n",
       "    <tr>\n",
       "      <th>50%</th>\n",
       "      <td>5.800000</td>\n",
       "      <td>3.000000</td>\n",
       "      <td>4.350000</td>\n",
       "      <td>1.300000</td>\n",
       "    </tr>\n",
       "    <tr>\n",
       "      <th>75%</th>\n",
       "      <td>6.400000</td>\n",
       "      <td>3.300000</td>\n",
       "      <td>5.100000</td>\n",
       "      <td>1.800000</td>\n",
       "    </tr>\n",
       "    <tr>\n",
       "      <th>max</th>\n",
       "      <td>7.900000</td>\n",
       "      <td>4.400000</td>\n",
       "      <td>6.900000</td>\n",
       "      <td>2.500000</td>\n",
       "    </tr>\n",
       "  </tbody>\n",
       "</table>\n",
       "</div>"
      ],
      "text/plain": [
       "       Sepal.Length  Sepal.Width  Petal.Length  Petal.Width\n",
       "count    150.000000   150.000000    150.000000   150.000000\n",
       "mean       5.843333     3.057333      3.758000     1.199333\n",
       "std        0.828066     0.435866      1.765298     0.762238\n",
       "min        4.300000     2.000000      1.000000     0.100000\n",
       "25%        5.100000     2.800000      1.600000     0.300000\n",
       "50%        5.800000     3.000000      4.350000     1.300000\n",
       "75%        6.400000     3.300000      5.100000     1.800000\n",
       "max        7.900000     4.400000      6.900000     2.500000"
      ]
     },
     "execution_count": 6,
     "metadata": {},
     "output_type": "execute_result"
    }
   ],
   "source": [
    "# 기술통계 확인\n",
    "data.describe()"
   ]
  },
  {
   "cell_type": "code",
   "execution_count": 7,
   "metadata": {
    "colab": {
     "base_uri": "https://localhost:8080/",
     "height": 174
    },
    "executionInfo": {
     "elapsed": 11,
     "status": "ok",
     "timestamp": 1642509884180,
     "user": {
      "displayName": "Jangrae Lee",
      "photoUrl": "https://lh3.googleusercontent.com/a-/AOh14Gh1Pd8OuWJU2cv7uTt-fURrgvty7atx_Wtarmx0-A=s64",
      "userId": "08475661575434032088"
     },
     "user_tz": -540
    },
    "id": "K09lnS9i4itn",
    "outputId": "efa42e13-7353-451d-9db2-814847e803a4"
   },
   "outputs": [
    {
     "data": {
      "text/html": [
       "<div>\n",
       "<style scoped>\n",
       "    .dataframe tbody tr th:only-of-type {\n",
       "        vertical-align: middle;\n",
       "    }\n",
       "\n",
       "    .dataframe tbody tr th {\n",
       "        vertical-align: top;\n",
       "    }\n",
       "\n",
       "    .dataframe thead th {\n",
       "        text-align: right;\n",
       "    }\n",
       "</style>\n",
       "<table border=\"1\" class=\"dataframe\">\n",
       "  <thead>\n",
       "    <tr style=\"text-align: right;\">\n",
       "      <th></th>\n",
       "      <th>Sepal.Length</th>\n",
       "      <th>Sepal.Width</th>\n",
       "      <th>Petal.Length</th>\n",
       "      <th>Petal.Width</th>\n",
       "    </tr>\n",
       "  </thead>\n",
       "  <tbody>\n",
       "    <tr>\n",
       "      <th>Sepal.Length</th>\n",
       "      <td>1.000000</td>\n",
       "      <td>-0.117570</td>\n",
       "      <td>0.871754</td>\n",
       "      <td>0.817941</td>\n",
       "    </tr>\n",
       "    <tr>\n",
       "      <th>Sepal.Width</th>\n",
       "      <td>-0.117570</td>\n",
       "      <td>1.000000</td>\n",
       "      <td>-0.428440</td>\n",
       "      <td>-0.366126</td>\n",
       "    </tr>\n",
       "    <tr>\n",
       "      <th>Petal.Length</th>\n",
       "      <td>0.871754</td>\n",
       "      <td>-0.428440</td>\n",
       "      <td>1.000000</td>\n",
       "      <td>0.962865</td>\n",
       "    </tr>\n",
       "    <tr>\n",
       "      <th>Petal.Width</th>\n",
       "      <td>0.817941</td>\n",
       "      <td>-0.366126</td>\n",
       "      <td>0.962865</td>\n",
       "      <td>1.000000</td>\n",
       "    </tr>\n",
       "  </tbody>\n",
       "</table>\n",
       "</div>"
      ],
      "text/plain": [
       "              Sepal.Length  Sepal.Width  Petal.Length  Petal.Width\n",
       "Sepal.Length      1.000000    -0.117570      0.871754     0.817941\n",
       "Sepal.Width      -0.117570     1.000000     -0.428440    -0.366126\n",
       "Petal.Length      0.871754    -0.428440      1.000000     0.962865\n",
       "Petal.Width       0.817941    -0.366126      0.962865     1.000000"
      ]
     },
     "execution_count": 7,
     "metadata": {},
     "output_type": "execute_result"
    }
   ],
   "source": [
    "# 상관관계 확인\n",
    "data.corr()"
   ]
  },
  {
   "cell_type": "code",
   "execution_count": 8,
   "metadata": {},
   "outputs": [
    {
     "data": {
      "text/html": [
       "<style>.container { width:90% !important; }</style>"
      ],
      "text/plain": [
       "<IPython.core.display.HTML object>"
      ]
     },
     "metadata": {},
     "output_type": "display_data"
    }
   ],
   "source": [
    "from IPython.display import display, HTML\n",
    "display(HTML(\"<style>.container { width:90% !important; }</style>\"))"
   ]
  },
  {
   "cell_type": "markdown",
   "metadata": {
    "id": "nVHWkAZYnihh"
   },
   "source": [
    "# 3.데이터 준비\n",
    "\n",
    "- **전처리** 과정을 통해 머신러닝 알고리즘에 사용할 수 있는 형태의 데이터를 준비합니다."
   ]
  },
  {
   "cell_type": "markdown",
   "metadata": {
    "id": "S5jfWSRxnihi"
   },
   "source": [
    "<img src = \"https://github.com/Jangrae/img/blob/master/code_13.png?raw=true\" width=700 align=\"left\"/>"
   ]
  },
  {
   "cell_type": "markdown",
   "metadata": {
    "id": "ib5r86cA5Pvv"
   },
   "source": [
    "**1) x, y 분리**\n",
    "\n",
    "- target 변수를 명확히 지정합니다.\n",
    "- target을 제외한 변수를 x 데이터프레임으로 선언합니다.\n",
    "- y 데이터프레임은 target 변수만을 가집니다."
   ]
  },
  {
   "cell_type": "code",
   "execution_count": 9,
   "metadata": {
    "executionInfo": {
     "elapsed": 10,
     "status": "ok",
     "timestamp": 1642509884181,
     "user": {
      "displayName": "Jangrae Lee",
      "photoUrl": "https://lh3.googleusercontent.com/a-/AOh14Gh1Pd8OuWJU2cv7uTt-fURrgvty7atx_Wtarmx0-A=s64",
      "userId": "08475661575434032088"
     },
     "user_tz": -540
    },
    "id": "WkNuISa8nihj"
   },
   "outputs": [],
   "source": [
    "# target 확인\n",
    "target = 'Species'\n",
    "\n",
    "# 데이터 분리\n",
    "x = data.drop(target, axis=1)\n",
    "y = data.loc[: , target]"
   ]
  },
  {
   "cell_type": "markdown",
   "metadata": {
    "id": "rupmQHmn5bgA"
   },
   "source": [
    "**2) 학습용, 평가용 데이터 분리**\n",
    "\n",
    "- 학습용, 평가용 데이터를 적절한 비율로 분리합니다.\n",
    "- 반복 실행 시 동일한 결과를 얻기 위해 random_state 옵션을 지정합니다."
   ]
  },
  {
   "cell_type": "code",
   "execution_count": 10,
   "metadata": {
    "executionInfo": {
     "elapsed": 677,
     "status": "ok",
     "timestamp": 1642509884848,
     "user": {
      "displayName": "Jangrae Lee",
      "photoUrl": "https://lh3.googleusercontent.com/a-/AOh14Gh1Pd8OuWJU2cv7uTt-fURrgvty7atx_Wtarmx0-A=s64",
      "userId": "08475661575434032088"
     },
     "user_tz": -540
    },
    "id": "N3JlTSiqnihm"
   },
   "outputs": [],
   "source": [
    "# 모듈 불러오기\n",
    "from sklearn.model_selection import train_test_split\n",
    "\n",
    "# 7:3으로 분리\n",
    "x_train, x_test, y_train, y_test = train_test_split(x, y, test_size=0.3, random_state=1)"
   ]
  },
  {
   "cell_type": "markdown",
   "metadata": {
    "id": "OzEPVOzunihm"
   },
   "source": [
    "# 4.모델링\n",
    "\n",
    "- 본격적으로 모델을 **선언**하고 **학습**하고 **평가**하는 과정을 진행합니다.\n",
    "- 우선 **회귀** 문제인지 **분류** 문제인지 명확히 구분합니다."
   ]
  },
  {
   "cell_type": "markdown",
   "metadata": {
    "id": "a-sbFHylnihn"
   },
   "source": [
    "<img src = \"https://github.com/Jangrae/img/blob/master/code_14.png?raw=true\" width=700 align=\"left\"/>"
   ]
  },
  {
   "cell_type": "markdown",
   "metadata": {
    "id": "tKe36TgHPfHP"
   },
   "source": [
    "- 회귀 문제 인가요? 분류 문제인가요?\n",
    "- 회귀인지 분류인지에 따라 사용할 알고리즘과 평가 방법이 달라집니다.\n",
    "- 우선 다음 알고리즘을 사용합니다.\n",
    "    - 알고리즘: DecisionTreeClassifier"
   ]
  },
  {
   "cell_type": "code",
   "execution_count": 11,
   "metadata": {
    "executionInfo": {
     "elapsed": 437,
     "status": "ok",
     "timestamp": 1642509885273,
     "user": {
      "displayName": "Jangrae Lee",
      "photoUrl": "https://lh3.googleusercontent.com/a-/AOh14Gh1Pd8OuWJU2cv7uTt-fURrgvty7atx_Wtarmx0-A=s64",
      "userId": "08475661575434032088"
     },
     "user_tz": -540
    },
    "id": "soGPsL-3nihn"
   },
   "outputs": [],
   "source": [
    "# 1단계: 불러오기\n",
    "from sklearn.tree import DecisionTreeClassifier"
   ]
  },
  {
   "cell_type": "code",
   "execution_count": 12,
   "metadata": {
    "executionInfo": {
     "elapsed": 7,
     "status": "ok",
     "timestamp": 1642509885274,
     "user": {
      "displayName": "Jangrae Lee",
      "photoUrl": "https://lh3.googleusercontent.com/a-/AOh14Gh1Pd8OuWJU2cv7uTt-fURrgvty7atx_Wtarmx0-A=s64",
      "userId": "08475661575434032088"
     },
     "user_tz": -540
    },
    "id": "pQsDK7ebniho"
   },
   "outputs": [],
   "source": [
    "# 2단계: 선언하기\n",
    "model = DecisionTreeClassifier()"
   ]
  },
  {
   "cell_type": "code",
   "execution_count": 14,
   "metadata": {
    "colab": {
     "base_uri": "https://localhost:8080/"
    },
    "executionInfo": {
     "elapsed": 7,
     "status": "ok",
     "timestamp": 1642509885274,
     "user": {
      "displayName": "Jangrae Lee",
      "photoUrl": "https://lh3.googleusercontent.com/a-/AOh14Gh1Pd8OuWJU2cv7uTt-fURrgvty7atx_Wtarmx0-A=s64",
      "userId": "08475661575434032088"
     },
     "user_tz": -540
    },
    "id": "SuKiWRacnihp",
    "outputId": "6cf6cbec-6dbd-4ab1-ef84-c36bdeb1df8d"
   },
   "outputs": [
    {
     "data": {
      "text/html": [
       "<style>#sk-container-id-1 {color: black;background-color: white;}#sk-container-id-1 pre{padding: 0;}#sk-container-id-1 div.sk-toggleable {background-color: white;}#sk-container-id-1 label.sk-toggleable__label {cursor: pointer;display: block;width: 100%;margin-bottom: 0;padding: 0.3em;box-sizing: border-box;text-align: center;}#sk-container-id-1 label.sk-toggleable__label-arrow:before {content: \"▸\";float: left;margin-right: 0.25em;color: #696969;}#sk-container-id-1 label.sk-toggleable__label-arrow:hover:before {color: black;}#sk-container-id-1 div.sk-estimator:hover label.sk-toggleable__label-arrow:before {color: black;}#sk-container-id-1 div.sk-toggleable__content {max-height: 0;max-width: 0;overflow: hidden;text-align: left;background-color: #f0f8ff;}#sk-container-id-1 div.sk-toggleable__content pre {margin: 0.2em;color: black;border-radius: 0.25em;background-color: #f0f8ff;}#sk-container-id-1 input.sk-toggleable__control:checked~div.sk-toggleable__content {max-height: 200px;max-width: 100%;overflow: auto;}#sk-container-id-1 input.sk-toggleable__control:checked~label.sk-toggleable__label-arrow:before {content: \"▾\";}#sk-container-id-1 div.sk-estimator input.sk-toggleable__control:checked~label.sk-toggleable__label {background-color: #d4ebff;}#sk-container-id-1 div.sk-label input.sk-toggleable__control:checked~label.sk-toggleable__label {background-color: #d4ebff;}#sk-container-id-1 input.sk-hidden--visually {border: 0;clip: rect(1px 1px 1px 1px);clip: rect(1px, 1px, 1px, 1px);height: 1px;margin: -1px;overflow: hidden;padding: 0;position: absolute;width: 1px;}#sk-container-id-1 div.sk-estimator {font-family: monospace;background-color: #f0f8ff;border: 1px dotted black;border-radius: 0.25em;box-sizing: border-box;margin-bottom: 0.5em;}#sk-container-id-1 div.sk-estimator:hover {background-color: #d4ebff;}#sk-container-id-1 div.sk-parallel-item::after {content: \"\";width: 100%;border-bottom: 1px solid gray;flex-grow: 1;}#sk-container-id-1 div.sk-label:hover label.sk-toggleable__label {background-color: #d4ebff;}#sk-container-id-1 div.sk-serial::before {content: \"\";position: absolute;border-left: 1px solid gray;box-sizing: border-box;top: 0;bottom: 0;left: 50%;z-index: 0;}#sk-container-id-1 div.sk-serial {display: flex;flex-direction: column;align-items: center;background-color: white;padding-right: 0.2em;padding-left: 0.2em;position: relative;}#sk-container-id-1 div.sk-item {position: relative;z-index: 1;}#sk-container-id-1 div.sk-parallel {display: flex;align-items: stretch;justify-content: center;background-color: white;position: relative;}#sk-container-id-1 div.sk-item::before, #sk-container-id-1 div.sk-parallel-item::before {content: \"\";position: absolute;border-left: 1px solid gray;box-sizing: border-box;top: 0;bottom: 0;left: 50%;z-index: -1;}#sk-container-id-1 div.sk-parallel-item {display: flex;flex-direction: column;z-index: 1;position: relative;background-color: white;}#sk-container-id-1 div.sk-parallel-item:first-child::after {align-self: flex-end;width: 50%;}#sk-container-id-1 div.sk-parallel-item:last-child::after {align-self: flex-start;width: 50%;}#sk-container-id-1 div.sk-parallel-item:only-child::after {width: 0;}#sk-container-id-1 div.sk-dashed-wrapped {border: 1px dashed gray;margin: 0 0.4em 0.5em 0.4em;box-sizing: border-box;padding-bottom: 0.4em;background-color: white;}#sk-container-id-1 div.sk-label label {font-family: monospace;font-weight: bold;display: inline-block;line-height: 1.2em;}#sk-container-id-1 div.sk-label-container {text-align: center;}#sk-container-id-1 div.sk-container {/* jupyter's `normalize.less` sets `[hidden] { display: none; }` but bootstrap.min.css set `[hidden] { display: none !important; }` so we also need the `!important` here to be able to override the default hidden behavior on the sphinx rendered scikit-learn.org. See: https://github.com/scikit-learn/scikit-learn/issues/21755 */display: inline-block !important;position: relative;}#sk-container-id-1 div.sk-text-repr-fallback {display: none;}</style><div id=\"sk-container-id-1\" class=\"sk-top-container\"><div class=\"sk-text-repr-fallback\"><pre>DecisionTreeClassifier()</pre><b>In a Jupyter environment, please rerun this cell to show the HTML representation or trust the notebook. <br />On GitHub, the HTML representation is unable to render, please try loading this page with nbviewer.org.</b></div><div class=\"sk-container\" hidden><div class=\"sk-item\"><div class=\"sk-estimator sk-toggleable\"><input class=\"sk-toggleable__control sk-hidden--visually\" id=\"sk-estimator-id-1\" type=\"checkbox\" checked><label for=\"sk-estimator-id-1\" class=\"sk-toggleable__label sk-toggleable__label-arrow\">DecisionTreeClassifier</label><div class=\"sk-toggleable__content\"><pre>DecisionTreeClassifier()</pre></div></div></div></div></div>"
      ],
      "text/plain": [
       "DecisionTreeClassifier()"
      ]
     },
     "execution_count": 14,
     "metadata": {},
     "output_type": "execute_result"
    }
   ],
   "source": [
    "# 3단계: 학습하기\n",
    "model.fit(x_train, y_train)"
   ]
  },
  {
   "cell_type": "code",
   "execution_count": 15,
   "metadata": {
    "executionInfo": {
     "elapsed": 7,
     "status": "ok",
     "timestamp": 1642509885275,
     "user": {
      "displayName": "Jangrae Lee",
      "photoUrl": "https://lh3.googleusercontent.com/a-/AOh14Gh1Pd8OuWJU2cv7uTt-fURrgvty7atx_Wtarmx0-A=s64",
      "userId": "08475661575434032088"
     },
     "user_tz": -540
    },
    "id": "CpJXNVBLnihq"
   },
   "outputs": [],
   "source": [
    "# 4단계: 예측하기\n",
    "y_pred = model.predict(x_test)"
   ]
  },
  {
   "cell_type": "code",
   "execution_count": 16,
   "metadata": {},
   "outputs": [
    {
     "name": "stdout",
     "output_type": "stream",
     "text": [
      "['setosa' 'versicolor' 'versicolor' 'setosa' 'virginica' 'versicolor'\n",
      " 'virginica' 'setosa' 'setosa' 'virginica']\n",
      "['setosa' 'versicolor' 'versicolor' 'setosa' 'virginica' 'versicolor'\n",
      " 'virginica' 'setosa' 'setosa' 'virginica']\n"
     ]
    }
   ],
   "source": [
    "# 예측한 값\n",
    "print(y_pred[:10])\n",
    "print(y_test.values[:10])"
   ]
  },
  {
   "cell_type": "markdown",
   "metadata": {
    "id": "uMnv2bcu2DF7"
   },
   "source": [
    "# 5.분류 성능 평가\n",
    "\n",
    "- 다양한 성능 지표로 분류 모델 성능을 평가합니다."
   ]
  },
  {
   "cell_type": "markdown",
   "metadata": {
    "id": "k3s96KFx23gF"
   },
   "source": [
    "**1) Confusion Matrix**"
   ]
  },
  {
   "cell_type": "code",
   "execution_count": 17,
   "metadata": {
    "colab": {
     "base_uri": "https://localhost:8080/"
    },
    "executionInfo": {
     "elapsed": 6,
     "status": "ok",
     "timestamp": 1642509885275,
     "user": {
      "displayName": "Jangrae Lee",
      "photoUrl": "https://lh3.googleusercontent.com/a-/AOh14Gh1Pd8OuWJU2cv7uTt-fURrgvty7atx_Wtarmx0-A=s64",
      "userId": "08475661575434032088"
     },
     "user_tz": -540
    },
    "id": "-3x1euJM2VH_",
    "outputId": "1184cd51-0dd7-45f9-cf2d-1f28c8c4489a"
   },
   "outputs": [
    {
     "name": "stdout",
     "output_type": "stream",
     "text": [
      "[[14  0  0]\n",
      " [ 0 17  1]\n",
      " [ 0  1 12]]\n"
     ]
    }
   ],
   "source": [
    "# 모듈 불러오기\n",
    "from sklearn.metrics import confusion_matrix\n",
    "\n",
    "# 성능 평가\n",
    "print(confusion_matrix(y_test, y_pred))"
   ]
  },
  {
   "cell_type": "code",
   "execution_count": 30,
   "metadata": {},
   "outputs": [
    {
     "data": {
      "text/plain": [
       "118     virginica\n",
       "18         setosa\n",
       "4          setosa\n",
       "45         setosa\n",
       "59     versicolor\n",
       "          ...    \n",
       "133     virginica\n",
       "137     virginica\n",
       "72     versicolor\n",
       "140     virginica\n",
       "37         setosa\n",
       "Name: Species, Length: 105, dtype: object"
      ]
     },
     "execution_count": 30,
     "metadata": {},
     "output_type": "execute_result"
    }
   ],
   "source": [
    "y_train"
   ]
  },
  {
   "cell_type": "code",
   "execution_count": 19,
   "metadata": {
    "colab": {
     "base_uri": "https://localhost:8080/",
     "height": 278
    },
    "executionInfo": {
     "elapsed": 890,
     "status": "ok",
     "timestamp": 1642509886161,
     "user": {
      "displayName": "Jangrae Lee",
      "photoUrl": "https://lh3.googleusercontent.com/a-/AOh14Gh1Pd8OuWJU2cv7uTt-fURrgvty7atx_Wtarmx0-A=s64",
      "userId": "08475661575434032088"
     },
     "user_tz": -540
    },
    "id": "P9VGUdz9p0Nw",
    "outputId": "0230d79a-27bb-450e-840c-a8a3f01e72f7"
   },
   "outputs": [
    {
     "data": {
      "image/png": "[encoded data removed]",
      "text/plain": [
       "<Figure size 640x480 with 1 Axes>"
      ]
     },
     "metadata": {
      "image/png": {
       "height": 413,
       "width": 539
      }
     },
     "output_type": "display_data"
    }
   ],
   "source": [
    "# 혼동행렬 시각화1\n",
    "sns.heatmap(confusion_matrix(y_test, y_pred),\n",
    "           annot= True,\n",
    "           cbar= False,\n",
    "           cmap= 'Blues',\n",
    "           linecolor='black',\n",
    "           linewidths=3)\n",
    "plt.show()\n"
   ]
  },
  {
   "cell_type": "code",
   "execution_count": 20,
   "metadata": {},
   "outputs": [
    {
     "data": {
      "image/png": "[encoded data removed]",
      "text/plain": [
       "<Figure size 640x480 with 2 Axes>"
      ]
     },
     "metadata": {
      "image/png": {
       "height": 432,
       "width": 557
      }
     },
     "output_type": "display_data"
    }
   ],
   "source": [
    "# 혼동행렬 시각화2\n",
    "from sklearn.metrics import ConfusionMatrixDisplay\n",
    "\n",
    "ConfusionMatrixDisplay.from_predictions(y_test, y_pred, cmap=plt.cm.Blues)\n",
    "plt.show()"
   ]
  },
  {
   "cell_type": "markdown",
   "metadata": {
    "id": "JUCRqABK28Jr"
   },
   "source": [
    "**2) Accuracy**"
   ]
  },
  {
   "cell_type": "code",
   "execution_count": 21,
   "metadata": {
    "colab": {
     "base_uri": "https://localhost:8080/"
    },
    "executionInfo": {
     "elapsed": 21,
     "status": "ok",
     "timestamp": 1642509886162,
     "user": {
      "displayName": "Jangrae Lee",
      "photoUrl": "https://lh3.googleusercontent.com/a-/AOh14Gh1Pd8OuWJU2cv7uTt-fURrgvty7atx_Wtarmx0-A=s64",
      "userId": "08475661575434032088"
     },
     "user_tz": -540
    },
    "id": "HcgvkOBu2ovI",
    "outputId": "f8d41edf-44d9-494a-82c1-e3002729916e"
   },
   "outputs": [
    {
     "name": "stdout",
     "output_type": "stream",
     "text": [
      "0.9555555555555556\n"
     ]
    }
   ],
   "source": [
    "# 모듈 불러오기\n",
    "from sklearn.metrics import accuracy_score\n",
    "\n",
    "# 성능 평가\n",
    "print(accuracy_score(y_test, y_pred))"
   ]
  },
  {
   "cell_type": "code",
   "execution_count": 22,
   "metadata": {},
   "outputs": [
    {
     "name": "stdout",
     "output_type": "stream",
     "text": [
      "0.9555555555555556\n"
     ]
    }
   ],
   "source": [
    "# score 메소드 사용\n",
    "print(model.score(x_test, y_test))"
   ]
  },
  {
   "cell_type": "markdown",
   "metadata": {
    "id": "7YRAi3rV3uwv"
   },
   "source": [
    "**3) Precision**"
   ]
  },
  {
   "cell_type": "code",
   "execution_count": 31,
   "metadata": {
    "colab": {
     "base_uri": "https://localhost:8080/"
    },
    "executionInfo": {
     "elapsed": 285,
     "status": "ok",
     "timestamp": 1642510746576,
     "user": {
      "displayName": "Jangrae Lee",
      "photoUrl": "https://lh3.googleusercontent.com/a-/AOh14Gh1Pd8OuWJU2cv7uTt-fURrgvty7atx_Wtarmx0-A=s64",
      "userId": "08475661575434032088"
     },
     "user_tz": -540
    },
    "id": "YK8j5g1s3V0m",
    "outputId": "d1908135-d19a-48a2-b706-91864b35fa49"
   },
   "outputs": [
    {
     "name": "stdout",
     "output_type": "stream",
     "text": [
      "[1.         0.94444444 0.92307692]\n"
     ]
    }
   ],
   "source": [
    "# 모듈 불러오기\n",
    "from sklearn.metrics import precision_score\n",
    "\n",
    "# 성능 평가\n",
    "print(precision_score(y_test, y_pred,average= None ))"
   ]
  },
  {
   "cell_type": "markdown",
   "metadata": {
    "id": "RYImEJal3xsb"
   },
   "source": [
    "**4) Recall**"
   ]
  },
  {
   "cell_type": "code",
   "execution_count": 25,
   "metadata": {
    "id": "y5EXWw7B3xsc",
    "outputId": "3dce1050-9f27-4f4b-a4b3-2ebbb49c0f60"
   },
   "outputs": [
    {
     "name": "stdout",
     "output_type": "stream",
     "text": [
      "[1.         0.94444444 0.92307692]\n"
     ]
    }
   ],
   "source": [
    "# 모듈 불러오기\n",
    "from sklearn.metrics import recall_score\n",
    "\n",
    "# 성능 평가\n",
    "print(recall_score(y_test, y_pred, average= None))"
   ]
  },
  {
   "cell_type": "markdown",
   "metadata": {
    "id": "srDyRIxy39Za"
   },
   "source": [
    "**5) F1-Score**"
   ]
  },
  {
   "cell_type": "code",
   "execution_count": 32,
   "metadata": {
    "id": "yvhFtpE739Zb",
    "outputId": "d44c9569-8cc0-432e-e1df-2cdc44e3a2dd"
   },
   "outputs": [
    {
     "name": "stdout",
     "output_type": "stream",
     "text": [
      "[1.         0.94444444 0.92307692]\n"
     ]
    }
   ],
   "source": [
    "# 모듈 불러오기\n",
    "from sklearn.metrics import f1_score\n",
    "\n",
    "# 성능 평가\n",
    "# 멀티니까 average= 'binary')) # 기본값(Defalt) 때문에 None 해야힌다!!!\n",
    "print(f1_score(y_test, y_pred, average= None))"
   ]
  },
  {
   "cell_type": "markdown",
   "metadata": {
    "id": "jp-_3s4t2_fH"
   },
   "source": [
    "**6) Classification Report**"
   ]
  },
  {
   "cell_type": "code",
   "execution_count": 34,
   "metadata": {
    "id": "qXH0EgAK2xGH",
    "outputId": "3b202a47-3dc7-4662-e64b-a0db870d5e2c"
   },
   "outputs": [
    {
     "name": "stdout",
     "output_type": "stream",
     "text": [
      "Classification_Report\n",
      "              precision    recall  f1-score   support\n",
      "\n",
      "      setosa       1.00      1.00      1.00        14\n",
      "  versicolor       0.94      0.94      0.94        18\n",
      "   virginica       0.92      0.92      0.92        13\n",
      "\n",
      "    accuracy                           0.96        45\n",
      "   macro avg       0.96      0.96      0.96        45\n",
      "weighted avg       0.96      0.96      0.96        45\n",
      "\n"
     ]
    }
   ],
   "source": [
    "# 모듈 불러오기\n",
    "from sklearn.metrics import classification_report\n",
    "# 성능 평가\n",
    "print('Classification_Report')\n",
    "print(classification_report(y_test, y_pred))"
   ]
  },
  {
   "cell_type": "code",
   "execution_count": null,
   "metadata": {},
   "outputs": [],
   "source": []
  }
 ],
 "metadata": {
  "colab": {
   "collapsed_sections": [],
   "name": "실습02_04_성능평가(Iris).ipynb",
   "provenance": []
  },
  "kernelspec": {
   "display_name": "Python 3 (ipykernel)",
   "language": "python",
   "name": "python3"
  },
  "language_info": {
   "codemirror_mode": {
    "name": "ipython",
    "version": 3
   },
   "file_extension": ".py",
   "mimetype": "text/x-python",
   "name": "python",
   "nbconvert_exporter": "python",
   "pygments_lexer": "ipython3",
   "version": "3.9.13"
  }
 },
 "nbformat": 4,
 "nbformat_minor": 4
}
