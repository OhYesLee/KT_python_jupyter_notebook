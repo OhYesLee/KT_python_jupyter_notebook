{
 "cells": [
  {
   "cell_type": "markdown",
   "id": "2fd695b4-199b-4b62-aac8-f135e90fe55c",
   "metadata": {
    "id": "2fd695b4-199b-4b62-aac8-f135e90fe55c"
   },
   "source": [
    "<center><img src='https://raw.githubusercontent.com/Jangrae/img/master/ml_python.png' width=600/></center>"
   ]
  },
  {
   "cell_type": "markdown",
   "id": "3a29e4a9-2e9a-4f79-ba07-0da80f3914f5",
   "metadata": {
    "id": "3a29e4a9-2e9a-4f79-ba07-0da80f3914f5"
   },
   "source": [
    "<img src = \"https://github.com/Jangrae/img/blob/master/medical2.png?raw=true\" width=800 align=\"left\"/>"
   ]
  },
  {
   "cell_type": "markdown",
   "id": "ea5f5460-9883-4047-8ae0-62eb3e3786f9",
   "metadata": {
    "id": "ea5f5460-9883-4047-8ae0-62eb3e3786f9"
   },
   "source": [
    "# 실습내용\n",
    "\n",
    "- 학습용 데이터와 평가용 데이터가 별도의 파일로 제공되는 경우가 있습니다.\n",
    "- 이미 우리가 학습한 방법과는 조금 다른 접근이 필요합니다.\n",
    "- 의료비 예측을 의뢰한 가상 고객의 요청을 처리해 봅니다."
   ]
  },
  {
   "cell_type": "markdown",
   "id": "13a5dc95-4a1c-45c9-abaa-41628ef4e6a3",
   "metadata": {
    "id": "13a5dc95-4a1c-45c9-abaa-41628ef4e6a3"
   },
   "source": [
    "# 1.환경 준비\n",
    "\n",
    "- 기본 라이브러리와 대상 데이터를 가져와 이후 과정을 준비합니다."
   ]
  },
  {
   "cell_type": "code",
   "execution_count": null,
   "id": "7f9c8b61-fec6-4c27-8de7-eab3163536bb",
   "metadata": {
    "id": "7f9c8b61-fec6-4c27-8de7-eab3163536bb"
   },
   "outputs": [],
   "source": [
    "# 라이브러리 불러오기\n",
    "import numpy as np\n",
    "import pandas as pd\n",
    "import matplotlib.pyplot as plt\n",
    "import seaborn as sns\n",
    "import warnings\n",
    "\n",
    "warnings.filterwarnings(action='ignore')\n",
    "%config InlineBackend.figure_format = 'retina'"
   ]
  },
  {
   "cell_type": "code",
   "execution_count": null,
   "id": "801124eb-6c04-40f4-b65f-f1f079869830",
   "metadata": {
    "id": "801124eb-6c04-40f4-b65f-f1f079869830"
   },
   "outputs": [],
   "source": [
    "# 학습용 데이터 불러오기\n",
    "path = 'https://raw.githubusercontent.com/Jangrae/csv/master/insurance_train.csv'\n",
    "data1 = pd.read_csv(path)"
   ]
  },
  {
   "cell_type": "code",
   "execution_count": null,
   "id": "1f43b23e-c18d-4715-8c2a-998be58f2eb2",
   "metadata": {
    "id": "1f43b23e-c18d-4715-8c2a-998be58f2eb2"
   },
   "outputs": [],
   "source": [
    "# 평가용 데이터 불러오기\n",
    "path = 'https://raw.githubusercontent.com/Jangrae/csv/master/insurance_test.csv'\n",
    "data2 = pd.read_csv(path)"
   ]
  },
  {
   "cell_type": "markdown",
   "id": "21b3723c-bd78-4b2e-93e6-71fa1097169d",
   "metadata": {
    "id": "21b3723c-bd78-4b2e-93e6-71fa1097169d"
   },
   "source": [
    "# 2.데이터 이해\n",
    "\n",
    "- 분석할 데이터를 충분히 이해할 수 있도록 다양한 탐색 과정을 수행합니다.\n",
    "- 모델링에 집중하기 위해 본 실습에서는 탐색 과정을 생략합니다."
   ]
  },
  {
   "cell_type": "code",
   "execution_count": null,
   "id": "398795e8-2449-4f3e-8328-09be3958f3e3",
   "metadata": {
    "id": "801124eb-6c04-40f4-b65f-f1f079869830"
   },
   "outputs": [],
   "source": [
    "# 학습용 데이터 확인\n",
    "data1"
   ]
  },
  {
   "cell_type": "code",
   "execution_count": null,
   "id": "8cdc100e-6b97-4927-9600-b441942f32bc",
   "metadata": {
    "id": "1f43b23e-c18d-4715-8c2a-998be58f2eb2"
   },
   "outputs": [],
   "source": [
    "# 평가용 데이터 확인\n",
    "data2"
   ]
  },
  {
   "cell_type": "markdown",
   "id": "f9e8dedb-7d26-48ea-a87b-6a21b7610070",
   "metadata": {
    "id": "f9e8dedb-7d26-48ea-a87b-6a21b7610070"
   },
   "source": [
    "# 3.데이터 준비\n",
    "\n",
    "- 전처리 과정을 통해 머신러닝 알고리즘에 사용할 수 있는 형태의 데이터를 준비합니다."
   ]
  },
  {
   "cell_type": "markdown",
   "id": "7b734f49-dd66-4948-8f34-218cf97e82e3",
   "metadata": {},
   "source": [
    "**1) 가변수화**"
   ]
  },
  {
   "cell_type": "code",
   "execution_count": null,
   "id": "f4b5e31d-e26b-488a-a5f3-8eced5f780b0",
   "metadata": {
    "id": "f4b5e31d-e26b-488a-a5f3-8eced5f780b0"
   },
   "outputs": [],
   "source": [
    "# 가변수화\n",
    "dumm_cols = ['sex', 'smoker', 'region']\n",
    "data1 = pd.get_dummies(data1, columns=dumm_cols, drop_first=True)\n",
    "\n",
    "# 확인\n",
    "data1.head()"
   ]
  },
  {
   "cell_type": "markdown",
   "id": "b4f4cd66-41d5-4295-b81b-0ec09a4d4ba5",
   "metadata": {},
   "source": [
    "**2) x, y 분리**"
   ]
  },
  {
   "cell_type": "code",
   "execution_count": null,
   "id": "bf7dacf1-10ab-4592-9682-e671fc8e275c",
   "metadata": {
    "id": "bf7dacf1-10ab-4592-9682-e671fc8e275c"
   },
   "outputs": [],
   "source": [
    "# x, y 분리\n",
    "target = 'charges' \n",
    "x = data1.drop(target, axis=1)\n",
    "y = data1.loc[:, target]"
   ]
  },
  {
   "cell_type": "markdown",
   "id": "1ef854ed-12cf-4035-8990-bc3720e6b99e",
   "metadata": {},
   "source": [
    "**3) 학습용, 평가용 데이터 분리**"
   ]
  },
  {
   "cell_type": "code",
   "execution_count": null,
   "id": "20c8ab5b-efdd-4cd6-9ba9-c5c6183334f0",
   "metadata": {
    "id": "20c8ab5b-efdd-4cd6-9ba9-c5c6183334f0"
   },
   "outputs": [],
   "source": [
    "# 학습용, 검증용 분리\n",
    "from sklearn.model_selection import train_test_split\n",
    "x_train, x_val, y_train, y_val = train_test_split(x, y, test_size=0.2, random_state=1)"
   ]
  },
  {
   "cell_type": "markdown",
   "id": "a79ede4f-9d0e-419b-b2a1-00d6d2cc658c",
   "metadata": {
    "id": "a79ede4f-9d0e-419b-b2a1-00d6d2cc658c"
   },
   "source": [
    "# 4.모델링\n",
    "\n",
    "- 본격적으로 모델을 선언하고 학습하고 평가하는 과정을 진행합니다.\n",
    "- 우선 회귀 문제인지 분류 문제인지 명확히 구분합니다."
   ]
  },
  {
   "cell_type": "code",
   "execution_count": null,
   "id": "3c1845d1-dd10-4223-8d0c-d2918f8914cc",
   "metadata": {
    "id": "3c1845d1-dd10-4223-8d0c-d2918f8914cc"
   },
   "outputs": [],
   "source": [
    "# 불러오기\n",
    "from sklearn.tree import DecisionTreeRegressor\n",
    "from sklearn.metrics import mean_absolute_error, r2_score"
   ]
  },
  {
   "cell_type": "code",
   "execution_count": null,
   "id": "2150657f-b046-4db1-8729-0e14454d23a8",
   "metadata": {
    "id": "2150657f-b046-4db1-8729-0e14454d23a8"
   },
   "outputs": [],
   "source": [
    "# 선언하기\n",
    "model = DecisionTreeRegressor(max_depth=5, random_state=1)"
   ]
  },
  {
   "cell_type": "code",
   "execution_count": null,
   "id": "bc64f2fa-5218-4f1c-a931-f8cf96bd57f8",
   "metadata": {
    "id": "bc64f2fa-5218-4f1c-a931-f8cf96bd57f8"
   },
   "outputs": [],
   "source": [
    "# 학습하기\n",
    "model.fit(x_train, y_train)"
   ]
  },
  {
   "cell_type": "code",
   "execution_count": null,
   "id": "5efe8d7b-12e8-451f-a220-19f7e79c1013",
   "metadata": {
    "id": "5efe8d7b-12e8-451f-a220-19f7e79c1013"
   },
   "outputs": [],
   "source": [
    "# 예측하기\n",
    "y_val_pred = model.predict(x_val)"
   ]
  },
  {
   "cell_type": "code",
   "execution_count": null,
   "id": "d94ab110-a9d0-43da-ad4b-f38ad52e29ba",
   "metadata": {
    "id": "d94ab110-a9d0-43da-ad4b-f38ad52e29ba"
   },
   "outputs": [],
   "source": [
    "# 평가하기\n",
    "print('MAE:', mean_absolute_error(y_val, y_val_pred))\n",
    "print('R2:', r2_score(y_val, y_val_pred))   "
   ]
  },
  {
   "cell_type": "markdown",
   "id": "deaca819-f10b-4118-99cb-b9d9f0a3d2cf",
   "metadata": {
    "id": "deaca819-f10b-4118-99cb-b9d9f0a3d2cf"
   },
   "source": [
    "# 5.일반화된 성능\n",
    "\n",
    "- 과연 앞에서 만든 모델의 일반화된 성능은 어떻게 될까요?\n",
    "- 즉, 고객사에 어느 정도의 성능이 예상된다고 말할 수 있을까요?\n",
    "- K-Fold CV로 일반화된 성능을 예측합니다."
   ]
  },
  {
   "cell_type": "code",
   "execution_count": null,
   "id": "bc47e868-927b-425d-868d-ac9e791e1695",
   "metadata": {
    "id": "bc47e868-927b-425d-868d-ac9e791e1695"
   },
   "outputs": [],
   "source": [
    "# 불러오기\n",
    "from sklearn.model_selection import cross_val_score\n",
    "\n",
    "# 성능예측\n",
    "cv_score = cross_val_score(model, x_train, y_train, cv=5)\n",
    "\n",
    "# 결과\n",
    "print(cv_score)\n",
    "print('평균:', cv_score.mean())"
   ]
  },
  {
   "cell_type": "markdown",
   "id": "6a8194d4-3a81-433d-a35b-b3a137908583",
   "metadata": {
    "id": "6a8194d4-3a81-433d-a35b-b3a137908583"
   },
   "source": [
    "# 6. 성능 튜닝\n",
    "\n",
    "- 앞에서 max_depth 값을 5로 고정함이 아쉽습니다.\n",
    "- Grid Search로 최적의 하이퍼파라미터를 찾아봅니다."
   ]
  },
  {
   "cell_type": "code",
   "execution_count": null,
   "id": "fae0847d-be55-4842-a165-a56bcf78e8dc",
   "metadata": {
    "id": "fae0847d-be55-4842-a165-a56bcf78e8dc"
   },
   "outputs": [],
   "source": [
    "# 불러오기\n",
    "from sklearn.model_selection import GridSearchCV\n",
    "\n",
    "# 기본 모델 선언\n",
    "model_dt = DecisionTreeRegressor(random_state=1)\n",
    "\n",
    "# 파라미터 선언\n",
    "params = {'max_depth': range(1, 51)}\n",
    "\n",
    "# 모델 선언\n",
    "model = GridSearchCV(model_dt,\n",
    "                     params,\n",
    "                     cv=5, \n",
    "                     scoring='r2')                     "
   ]
  },
  {
   "cell_type": "code",
   "execution_count": null,
   "id": "29233024-9f78-4d81-8635-f366f130f912",
   "metadata": {
    "id": "29233024-9f78-4d81-8635-f366f130f912"
   },
   "outputs": [],
   "source": [
    "# 학습하기\n",
    "model.fit(x_train, y_train)"
   ]
  },
  {
   "cell_type": "code",
   "execution_count": null,
   "id": "17b93dee-884d-488d-a11a-825c01cec105",
   "metadata": {
    "id": "17b93dee-884d-488d-a11a-825c01cec105"
   },
   "outputs": [],
   "source": [
    "# 예측 결과 확인\n",
    "print(model.best_params_)\n",
    "print(model.best_score_) "
   ]
  },
  {
   "cell_type": "code",
   "execution_count": null,
   "id": "8dde8737-ec77-4a12-b69b-6a64c72b9958",
   "metadata": {
    "id": "8dde8737-ec77-4a12-b69b-6a64c72b9958"
   },
   "outputs": [],
   "source": [
    "# 성능 검증\n",
    "y_val_pred = model.predict(x_val)\n",
    "print(r2_score(y_val, y_val_pred)) "
   ]
  },
  {
   "cell_type": "markdown",
   "id": "fdd57657-6630-428f-a197-613fe64ef7a5",
   "metadata": {
    "id": "fdd57657-6630-428f-a197-613fe64ef7a5"
   },
   "source": [
    "# 7.최종 평가\n",
    "\n",
    "- 최적의 하이퍼파라미터로 학습된 모델로 예측합니다.\n",
    "- 평가 데이터에 대해서도 필요한 전처리를 수행합니다."
   ]
  },
  {
   "cell_type": "code",
   "execution_count": null,
   "id": "dd6fb605-3084-45a3-bcfd-c7545a43b27b",
   "metadata": {
    "id": "dd6fb605-3084-45a3-bcfd-c7545a43b27b"
   },
   "outputs": [],
   "source": [
    "# 평가 데이터 확인\n",
    "data2.head()"
   ]
  },
  {
   "cell_type": "code",
   "execution_count": null,
   "id": "0ee19f66-4a5c-4ef4-85a2-6df872bee889",
   "metadata": {
    "id": "0ee19f66-4a5c-4ef4-85a2-6df872bee889"
   },
   "outputs": [],
   "source": [
    "# 평가 데이터 가변수화\n",
    "dumm_cols = ['sex', 'smoker', 'region']\n",
    "data2 = pd.get_dummies(data2, columns=dumm_cols, drop_first=True)\n",
    "\n",
    "# 확인\n",
    "data2.head()"
   ]
  },
  {
   "cell_type": "code",
   "execution_count": null,
   "id": "f0d8cc19-3b33-4d6d-baf8-e571f5f8f59e",
   "metadata": {
    "id": "f0d8cc19-3b33-4d6d-baf8-e571f5f8f59e"
   },
   "outputs": [],
   "source": [
    "# 예측하기\n",
    "x_test = data2\n",
    "y_pred = model.predict(x_test)"
   ]
  },
  {
   "cell_type": "code",
   "execution_count": null,
   "id": "1f5c7602-9de3-4c25-830d-bff45befe3fe",
   "metadata": {
    "id": "1f5c7602-9de3-4c25-830d-bff45befe3fe"
   },
   "outputs": [],
   "source": [
    "# 확인\n",
    "y_pred[:10]"
   ]
  },
  {
   "cell_type": "markdown",
   "id": "979be424-21ec-4862-92b7-66f109d0dc6c",
   "metadata": {
    "id": "979be424-21ec-4862-92b7-66f109d0dc6c"
   },
   "source": [
    "# 8. 파일 제출\n",
    "\n",
    "- 모델로 예측한 값을 파일에 붙여 엑셀 파일로 저장해 고객사에 제출합니다."
   ]
  },
  {
   "cell_type": "code",
   "execution_count": null,
   "id": "788ebcba-83aa-47e9-b334-6f7a953d8a44",
   "metadata": {
    "id": "788ebcba-83aa-47e9-b334-6f7a953d8a44"
   },
   "outputs": [],
   "source": [
    "# 파일 다시 불러오기\n",
    "path = 'https://raw.githubusercontent.com/Jangrae/csv/master/insurance_test.csv'\n",
    "final = pd.read_csv(path)\n",
    "\n",
    "# 예측결과 추가\n",
    "final['charges'] = y_pred.round(4)\n",
    "\n",
    "# 확인\n",
    "final"
   ]
  },
  {
   "cell_type": "code",
   "execution_count": null,
   "id": "237ba007-5d6d-4a25-8245-07eb88ccb1ad",
   "metadata": {
    "id": "237ba007-5d6d-4a25-8245-07eb88ccb1ad"
   },
   "outputs": [],
   "source": [
    "# 엑셀로 저장\n",
    "final.to_excel('InsurancePred.xlsx')"
   ]
  },
  {
   "cell_type": "markdown",
   "id": "306cecf7-3107-42ec-9549-7a043cc77a50",
   "metadata": {
    "id": "306cecf7-3107-42ec-9549-7a043cc77a50"
   },
   "source": [
    "# 9.정리\n",
    "\n",
    "- 실제 의료비가 지출된 경우 우리 모델의 성능이 확인될 것입니다.\n",
    "- 우리는 학습용 데이터로 나름 최선을 다했습니다.\n",
    "- 그래도 뭔가 아쉬움이 남지요? \n",
    "- 성능이 더 좋은 알고리즘을 배워서 사용할 수 있다면...."
   ]
  }
 ],
 "metadata": {
  "colab": {
   "collapsed_sections": [],
   "provenance": []
  },
  "kernelspec": {
   "display_name": "Python 3 (ipykernel)",
   "language": "python",
   "name": "python3"
  },
  "language_info": {
   "codemirror_mode": {
    "name": "ipython",
    "version": 3
   },
   "file_extension": ".py",
   "mimetype": "text/x-python",
   "name": "python",
   "nbconvert_exporter": "python",
   "pygments_lexer": "ipython3",
   "version": "3.9.13"
  }
 },
 "nbformat": 4,
 "nbformat_minor": 5
}
