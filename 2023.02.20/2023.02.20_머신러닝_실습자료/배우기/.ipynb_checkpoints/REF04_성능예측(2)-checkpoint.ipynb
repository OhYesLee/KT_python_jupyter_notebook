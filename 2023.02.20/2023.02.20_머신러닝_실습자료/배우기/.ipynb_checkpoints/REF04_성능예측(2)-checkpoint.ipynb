{
 "cells": [
  {
   "cell_type": "markdown",
   "metadata": {
    "id": "7dkEWjqG7JCw"
   },
   "source": [
    "<center><img src='https://raw.githubusercontent.com/Jangrae/img/master/ml_python.png' width=600/></center>"
   ]
  },
  {
   "cell_type": "markdown",
   "metadata": {
    "id": "JkmWP4w97lOA"
   },
   "source": [
    "# 다룰 내용\n",
    "\n",
    "- 하이퍼파라미터 값을 어떻게 설정할 때 최고 성능이 나올 것으로 기대할 수 있을까요?"
   ]
  },
  {
   "cell_type": "code",
   "execution_count": 1,
   "metadata": {
    "executionInfo": {
     "elapsed": 376,
     "status": "ok",
     "timestamp": 1645274854988,
     "user": {
      "displayName": "Jangrae Lee",
      "photoUrl": "https://lh3.googleusercontent.com/a-/AOh14Gh1Pd8OuWJU2cv7uTt-fURrgvty7atx_Wtarmx0-A=s64",
      "userId": "08475661575434032088"
     },
     "user_tz": -540
    },
    "id": "BzJjQX4lNdJr",
    "scrolled": true
   },
   "outputs": [],
   "source": [
    "# 라이브러리 불러오기\n",
    "import numpy as np\n",
    "import pandas as pd\n",
    "import matplotlib.pyplot as plt\n",
    "import seaborn as sns\n",
    "import warnings\n",
    "\n",
    "warnings.filterwarnings(action='ignore')\n",
    "%config InlineBackend.figure_format='retina'"
   ]
  },
  {
   "cell_type": "markdown",
   "metadata": {},
   "source": [
    "## 1.데이터 준비"
   ]
  },
  {
   "cell_type": "code",
   "execution_count": 2,
   "metadata": {
    "id": "1yPDiJ4NNdJs"
   },
   "outputs": [
    {
     "data": {
      "text/html": [
       "<div>\n",
       "<style scoped>\n",
       "    .dataframe tbody tr th:only-of-type {\n",
       "        vertical-align: middle;\n",
       "    }\n",
       "\n",
       "    .dataframe tbody tr th {\n",
       "        vertical-align: top;\n",
       "    }\n",
       "\n",
       "    .dataframe thead th {\n",
       "        text-align: right;\n",
       "    }\n",
       "</style>\n",
       "<table border=\"1\" class=\"dataframe\">\n",
       "  <thead>\n",
       "    <tr style=\"text-align: right;\">\n",
       "      <th></th>\n",
       "      <th>GRE</th>\n",
       "      <th>TOEFL</th>\n",
       "      <th>RANK</th>\n",
       "      <th>SOP</th>\n",
       "      <th>LOR</th>\n",
       "      <th>GPA</th>\n",
       "      <th>RESEARCH</th>\n",
       "      <th>ADMIT</th>\n",
       "    </tr>\n",
       "  </thead>\n",
       "  <tbody>\n",
       "    <tr>\n",
       "      <th>0</th>\n",
       "      <td>337</td>\n",
       "      <td>118</td>\n",
       "      <td>4</td>\n",
       "      <td>4.5</td>\n",
       "      <td>4.5</td>\n",
       "      <td>9.65</td>\n",
       "      <td>1</td>\n",
       "      <td>1</td>\n",
       "    </tr>\n",
       "    <tr>\n",
       "      <th>1</th>\n",
       "      <td>324</td>\n",
       "      <td>107</td>\n",
       "      <td>4</td>\n",
       "      <td>4.0</td>\n",
       "      <td>4.5</td>\n",
       "      <td>8.87</td>\n",
       "      <td>1</td>\n",
       "      <td>1</td>\n",
       "    </tr>\n",
       "    <tr>\n",
       "      <th>2</th>\n",
       "      <td>316</td>\n",
       "      <td>104</td>\n",
       "      <td>3</td>\n",
       "      <td>3.0</td>\n",
       "      <td>3.5</td>\n",
       "      <td>8.00</td>\n",
       "      <td>1</td>\n",
       "      <td>0</td>\n",
       "    </tr>\n",
       "    <tr>\n",
       "      <th>3</th>\n",
       "      <td>322</td>\n",
       "      <td>110</td>\n",
       "      <td>3</td>\n",
       "      <td>3.5</td>\n",
       "      <td>2.5</td>\n",
       "      <td>8.67</td>\n",
       "      <td>1</td>\n",
       "      <td>1</td>\n",
       "    </tr>\n",
       "    <tr>\n",
       "      <th>4</th>\n",
       "      <td>314</td>\n",
       "      <td>103</td>\n",
       "      <td>2</td>\n",
       "      <td>2.0</td>\n",
       "      <td>3.0</td>\n",
       "      <td>8.21</td>\n",
       "      <td>0</td>\n",
       "      <td>0</td>\n",
       "    </tr>\n",
       "  </tbody>\n",
       "</table>\n",
       "</div>"
      ],
      "text/plain": [
       "   GRE  TOEFL  RANK  SOP  LOR   GPA  RESEARCH  ADMIT\n",
       "0  337    118     4  4.5  4.5  9.65         1      1\n",
       "1  324    107     4  4.0  4.5  8.87         1      1\n",
       "2  316    104     3  3.0  3.5  8.00         1      0\n",
       "3  322    110     3  3.5  2.5  8.67         1      1\n",
       "4  314    103     2  2.0  3.0  8.21         0      0"
      ]
     },
     "execution_count": 2,
     "metadata": {},
     "output_type": "execute_result"
    }
   ],
   "source": [
    "# 데이터 읽어오기\n",
    "path = 'https://raw.githubusercontent.com/jangrae/csv/master/admission_simple.csv'\n",
    "data = pd.read_csv(path)\n",
    "\n",
    "# 확인\n",
    "data.head()"
   ]
  },
  {
   "cell_type": "code",
   "execution_count": 3,
   "metadata": {
    "executionInfo": {
     "elapsed": 3,
     "status": "ok",
     "timestamp": 1645274584228,
     "user": {
      "displayName": "Jangrae Lee",
      "photoUrl": "https://lh3.googleusercontent.com/a-/AOh14Gh1Pd8OuWJU2cv7uTt-fURrgvty7atx_Wtarmx0-A=s64",
      "userId": "08475661575434032088"
     },
     "user_tz": -540
    },
    "id": "Ops0CDL2dEDe"
   },
   "outputs": [],
   "source": [
    "# 라이브러리 불러오기\n",
    "from sklearn.model_selection import train_test_split\n",
    "\n",
    "# Target 확인\n",
    "target = 'ADMIT'\n",
    "\n",
    "# 데이터 분리\n",
    "x = data.drop(target, axis=1)\n",
    "y = data.loc[:, target]\n",
    "\n",
    "# 학습용, 평가용 데이터 7:3으로 분리\n",
    "x_train, x_test, y_train, y_test = train_test_split(x, y, test_size=0.3, random_state=1)"
   ]
  },
  {
   "cell_type": "markdown",
   "metadata": {},
   "source": [
    "## 2.성능 검증\n",
    "- 다음과 같이 K-Fold CV를 사용해 모델 성능을 평가합니다."
   ]
  },
  {
   "cell_type": "code",
   "execution_count": 4,
   "metadata": {},
   "outputs": [
    {
     "name": "stdout",
     "output_type": "stream",
     "text": [
      "성능: [0.89 0.83 0.74 0.89 0.86 0.86 0.71 0.66 0.71 0.74]\n",
      "평균: 0.79\n"
     ]
    }
   ],
   "source": [
    "# 불러오기\n",
    "from sklearn.tree import DecisionTreeClassifier\n",
    "from sklearn.model_selection import cross_val_score\n",
    "\n",
    "# 선언하기\n",
    "model = DecisionTreeClassifier(random_state=1)\n",
    "\n",
    "# 성능검증\n",
    "cv_score = cross_val_score(model, x_train, y_train, cv=10)\n",
    "\n",
    "# 확인\n",
    "print('성능:', cv_score.round(2))\n",
    "print('평균:', cv_score.mean().round(2))"
   ]
  },
  {
   "cell_type": "markdown",
   "metadata": {},
   "source": [
    "- 정확도가 79% 정도가 될 것으로 검증되었습니다.\n",
    "- 하지만 Decision Tree의 하이퍼파라미터(max_depth 등) 설정에 따라 성능이 달라질 것입니다.\n",
    "- 적절한 하이퍼파라미터 값을 알아야 제대로된 성능 검증이 가능할 것입니다."
   ]
  },
  {
   "cell_type": "markdown",
   "metadata": {},
   "source": [
    "## 3.이 방법은 어떨지...\n",
    "\n",
    "- 반복문을 사용해 max_depth 값을 바꿔가면서 K-Fold CV로 성능을 검증해 보면 어떨까요?"
   ]
  },
  {
   "cell_type": "code",
   "execution_count": 5,
   "metadata": {
    "scrolled": true
   },
   "outputs": [
    {
     "name": "stdout",
     "output_type": "stream",
     "text": [
      "성능정보: [0.87 0.86 0.85 0.83 0.81 0.83 0.83 0.81 0.83 0.81]\n",
      "최고성능: 0.87\n",
      "파라미터: 1\n"
     ]
    }
   ],
   "source": [
    "# max_depth:1 ~ 10\n",
    "result = []\n",
    "for n in range(1, 11):\n",
    "    model = DecisionTreeClassifier(max_depth=n, random_state=1)\n",
    "    cv_score = cross_val_score(model, x_train, y_train, cv=5)\n",
    "    result.append(cv_score.mean())\n",
    "\n",
    "# 확인\n",
    "result = np.array(result)\n",
    "print('성능정보:', result.round(2))\n",
    "print('최고성능:', result.max().round(2))\n",
    "print('파라미터:', result.argmax() + 1)"
   ]
  },
  {
   "cell_type": "markdown",
   "metadata": {},
   "source": [
    "- K-Fold CV를 사용해 학습 데이터로 성능을 충분히 검증했습니다.\n",
    "- 적절한 max_depth를 찾았기에 최선의 노력을 한 느낌입니다."
   ]
  },
  {
   "cell_type": "markdown",
   "metadata": {},
   "source": [
    "## 4.성능 확인\n",
    "\n",
    "\n",
    "- 위에서 찾은 max_depth 값을 지정해 모델을 만들고 성능을 확인합니다."
   ]
  },
  {
   "cell_type": "code",
   "execution_count": 6,
   "metadata": {},
   "outputs": [
    {
     "name": "stdout",
     "output_type": "stream",
     "text": [
      "[[78  6]\n",
      " [12 54]]\n",
      "              precision    recall  f1-score   support\n",
      "\n",
      "           0       0.87      0.93      0.90        84\n",
      "           1       0.90      0.82      0.86        66\n",
      "\n",
      "    accuracy                           0.88       150\n",
      "   macro avg       0.88      0.87      0.88       150\n",
      "weighted avg       0.88      0.88      0.88       150\n",
      "\n"
     ]
    }
   ],
   "source": [
    "# 불러오기\n",
    "from sklearn.metrics import confusion_matrix, classification_report\n",
    "\n",
    "# 선언하기\n",
    "model = DecisionTreeClassifier(max_depth=1, random_state=1)\n",
    "\n",
    "# 학습하기\n",
    "model.fit(x_train, y_train)\n",
    "\n",
    "# 예측하기\n",
    "y_pred = model.predict(x_test)\n",
    "\n",
    "# 평가하기\n",
    "print(confusion_matrix(y_test, y_pred))\n",
    "print(classification_report(y_test, y_pred))"
   ]
  },
  {
   "cell_type": "markdown",
   "metadata": {},
   "source": [
    "- 실제 평가에서 예상했던 성능이 나오지 않을 가능성은 충분히 있습니다.\n",
    "- 성능이 더 좋을 수도 있고 나쁠 수도 있습니다.\n",
    "- 그런데, 모델을 새로 만들고 학습을 다시 한 후 성능을 평가하니 번거롭습니다.\n",
    "- 최선의 하이퍼파라미터로 자동 학습되어 평가를 기다리면 참 좋을 텐데요.\n",
    "- 이런 아쉬움을 남기고, 모델의 트리를 시각화해 확인하고 끝냅니다."
   ]
  },
  {
   "cell_type": "code",
   "execution_count": 7,
   "metadata": {},
   "outputs": [
    {
     "data": {
      "image/png": "[encoded data removed]",
      "text/plain": [
       "<IPython.core.display.Image object>"
      ]
     },
     "execution_count": 7,
     "metadata": {
      "image/png": {
       "width": 650
      }
     },
     "output_type": "execute_result"
    }
   ],
   "source": [
    "# 시각화 모듈 불러오기\n",
    "from sklearn.tree import export_graphviz\n",
    "from IPython.display import Image\n",
    "\n",
    "# 이미지 파일 만들기\n",
    "export_graphviz(model,                                 # 모델 이름\n",
    "                out_file='tree.dot',                   # 파일 이름 \n",
    "                feature_names=x.columns,               # Feature 이름\n",
    "                class_names=['Fail', 'Pass'],          # Target Class 이름\n",
    "                rounded=True,                          # 둥근 테두리\n",
    "                precision=2,                           # 불순도 소숫점 자리수\n",
    "                max_depth=3,                           # 표시할 깊이 지정\n",
    "                filled=True)                           # 박스 내부 채우기\n",
    "\n",
    "# 파일 변환(dpi defaulr 96)\n",
    "!dot tree.dot -Tpng -otree.png -Gdpi=96   \n",
    "\n",
    "# 이미지 파일 표시\n",
    "Image(filename='tree.png', width=650)"
   ]
  },
  {
   "cell_type": "code",
   "execution_count": null,
   "metadata": {},
   "outputs": [],
   "source": []
  }
 ],
 "metadata": {
  "colab": {
   "authorship_tag": "ABX9TyO1DqVVRGHm0mxO3MG06QJL",
   "collapsed_sections": [],
   "name": "RX_01_LearningCurve.ipynb",
   "provenance": []
  },
  "kernelspec": {
   "display_name": "Python 3 (ipykernel)",
   "language": "python",
   "name": "python3"
  },
  "language_info": {
   "codemirror_mode": {
    "name": "ipython",
    "version": 3
   },
   "file_extension": ".py",
   "mimetype": "text/x-python",
   "name": "python",
   "nbconvert_exporter": "python",
   "pygments_lexer": "ipython3",
   "version": "3.9.13"
  }
 },
 "nbformat": 4,
 "nbformat_minor": 4
}
