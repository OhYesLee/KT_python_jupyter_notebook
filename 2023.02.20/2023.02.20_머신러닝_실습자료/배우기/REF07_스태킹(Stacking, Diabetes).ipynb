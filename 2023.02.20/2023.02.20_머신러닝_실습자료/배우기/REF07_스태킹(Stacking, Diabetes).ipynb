{
 "cells": [
  {
   "cell_type": "markdown",
   "metadata": {
    "id": "y1J78TFSRrSA"
   },
   "source": [
    "<center><img src='https://raw.githubusercontent.com/Jangrae/img/master/ml_python.png' width=600/></center>"
   ]
  },
  {
   "cell_type": "markdown",
   "metadata": {
    "id": "TSPbV_6rfe4O"
   },
   "source": [
    "# 실습 내용\n",
    "\n",
    "- Boston 데이터를 대상으로 모델링를 진행합니다.\n",
    "- 개별 알고리즘으로 모델을 만들어 성능을 확인합니다.\n",
    "- Stacking 앙상블을 사용해 모델을 만들어 성능을 확인합니다."
   ]
  },
  {
   "cell_type": "markdown",
   "metadata": {
    "id": "FDf7jozdnCP6"
   },
   "source": [
    "# 1.환경 준비\n",
    "\n",
    "- 기본 라이브러리와 대상 데이터를 가져와 이후 과정을 준비합니다."
   ]
  },
  {
   "cell_type": "code",
   "execution_count": null,
   "metadata": {
    "id": "CrhJhlvrnCQN",
    "scrolled": true
   },
   "outputs": [],
   "source": [
    "# 라이브러리 불러오기\n",
    "import numpy as np\n",
    "import pandas as pd\n",
    "import matplotlib.pyplot as plt\n",
    "import seaborn as sns\n",
    "import warnings\n",
    "\n",
    "warnings.filterwarnings(action='ignore')\n",
    "%config InlineBackend.figure_format = 'retina'"
   ]
  },
  {
   "cell_type": "code",
   "execution_count": null,
   "metadata": {
    "id": "G7wr7hI7nCQR"
   },
   "outputs": [],
   "source": [
    "# 데이터 읽어오기\n",
    "path = 'https://raw.githubusercontent.com/Jangrae/csv/master/diabetes.csv'\n",
    "data = pd.read_csv(path)"
   ]
  },
  {
   "cell_type": "markdown",
   "metadata": {
    "id": "MwQuL-7-nCQT"
   },
   "source": [
    "# 2.데이터 이해\n",
    "\n",
    "- 분석할 데이터를 충분히 이해할 수 있도록 다양한 탐색 과정을 수행합니다."
   ]
  },
  {
   "cell_type": "code",
   "execution_count": null,
   "metadata": {
    "colab": {
     "base_uri": "https://localhost:8080/",
     "height": 250
    },
    "executionInfo": {
     "elapsed": 18,
     "status": "ok",
     "timestamp": 1650721087083,
     "user": {
      "displayName": "Jangrae Lee",
      "userId": "08475661575434032088"
     },
     "user_tz": -540
    },
    "id": "K2pz6Ee7nCQV",
    "outputId": "e20b2fc3-c041-4220-e12d-b4059852882f"
   },
   "outputs": [],
   "source": [
    "# 상위 몇 개 행 확인\n",
    "data.head()"
   ]
  },
  {
   "cell_type": "code",
   "execution_count": null,
   "metadata": {
    "colab": {
     "base_uri": "https://localhost:8080/",
     "height": 250
    },
    "executionInfo": {
     "elapsed": 16,
     "status": "ok",
     "timestamp": 1650721087083,
     "user": {
      "displayName": "Jangrae Lee",
      "userId": "08475661575434032088"
     },
     "user_tz": -540
    },
    "id": "whCAH-EAnCQV",
    "outputId": "2cd34c97-5356-466b-dd4a-d768933782e9"
   },
   "outputs": [],
   "source": [
    "# 하위 몇 개 행 확인\n",
    "data.tail()"
   ]
  },
  {
   "cell_type": "markdown",
   "metadata": {
    "id": "AQK4N243fgQ0"
   },
   "source": [
    "**데이터설명**\n",
    "\n",
    "피마 인디언 당뇨 데이터셋은 몇 명의 여성 피마 인디언의 진료 자료와 진단 후 5년 내 당뇨 발병 여부로 구성됨\n",
    "\n",
    "- Pregnancies: 임신 횟수\n",
    "- Glucose: 포도당 부하 검사 수치\n",
    "- BloodPressure: 혈압(mm Hg)\n",
    "- SkinThickness: 팔 삼두근 뒤쪽의 피하지방 측정값(mm)\n",
    "- Insulin: 혈청 인슐린(mu U/ml)\n",
    "- BMI: 체질량지수(체중(kg)/키(m))^2\n",
    "- DiabetesPedigreeFunction: 당뇨 내력 가중치 값\n",
    "- Age: 나이\n",
    "- Outcome: 클래스 결정 값(0 또는 1)\n",
    "\n",
    "**diabetes**\n",
    "\n",
    "- 당뇨병(糖尿病, diabetes)은 높은 혈당 수치가 오랜 기간 지속되는 대사 질환이다. \n",
    "- 혈당이 높을 때의 증상으로는 소변이 잦아지고, 갈증과 배고픔이 심해진다. \n",
    "- 이를 치료하지 않으면 다른 합병증을 유발할 수 있다.\n",
    "(출처: 위키백과)"
   ]
  },
  {
   "cell_type": "code",
   "execution_count": null,
   "metadata": {
    "colab": {
     "base_uri": "https://localhost:8080/"
    },
    "executionInfo": {
     "elapsed": 16,
     "status": "ok",
     "timestamp": 1650721087084,
     "user": {
      "displayName": "Jangrae Lee",
      "userId": "08475661575434032088"
     },
     "user_tz": -540
    },
    "id": "1ZsXdcfp8uwI",
    "outputId": "71615823-17e6-43f7-93a9-ae7d8cfea7b7"
   },
   "outputs": [],
   "source": [
    "# 변수 확인\n",
    "data.info()"
   ]
  },
  {
   "cell_type": "markdown",
   "metadata": {
    "id": "pbCps4sLnCQa"
   },
   "source": [
    "# 3.데이터 준비\n",
    "\n",
    "- 전처리 과정을 통해 머신러닝 알고리즘에 사용할 수 있는 형태의 데이터를 준비합니다."
   ]
  },
  {
   "cell_type": "markdown",
   "metadata": {
    "id": "ku-wLJGX5TGS"
   },
   "source": [
    "**1) x, y 분리**"
   ]
  },
  {
   "cell_type": "code",
   "execution_count": null,
   "metadata": {
    "id": "wwiBjMMknCQc"
   },
   "outputs": [],
   "source": [
    "# target 확인\n",
    "target = 'Outcome'\n",
    "\n",
    "# 데이터 분리\n",
    "x = data.drop(target, axis=1)\n",
    "y = data.loc[:, target]"
   ]
  },
  {
   "cell_type": "markdown",
   "metadata": {
    "id": "Q2pyQOxS5dFb"
   },
   "source": [
    "**2) 학습용, 평가용 데이터 분리**"
   ]
  },
  {
   "cell_type": "code",
   "execution_count": null,
   "metadata": {
    "id": "FsW0b-pXnCQf"
   },
   "outputs": [],
   "source": [
    "# 모듈 불러오기\n",
    "from sklearn.model_selection import train_test_split\n",
    "\n",
    "# 7:3으로 분리\n",
    "x_train, x_test, y_train, y_test = train_test_split(x, y, test_size=0.3, random_state=1) "
   ]
  },
  {
   "cell_type": "markdown",
   "metadata": {},
   "source": [
    "**3) 정규화**"
   ]
  },
  {
   "cell_type": "code",
   "execution_count": null,
   "metadata": {},
   "outputs": [],
   "source": [
    "# 모듈 불러오기\n",
    "from sklearn.preprocessing import MinMaxScaler\n",
    "\n",
    "# 정규화\n",
    "scaler = MinMaxScaler()\n",
    "scaler.fit(x_train)\n",
    "x_train_s =  scaler.transform(x_train)\n",
    "x_test_s = scaler.transform(x_test)"
   ]
  },
  {
   "cell_type": "markdown",
   "metadata": {
    "id": "6SJRfUgvnCQf"
   },
   "source": [
    "# 4.모델링\n",
    "\n",
    "- 본격적으로 모델을 선언하고 학습하고 평가하는 과정을 진행합니다.\n",
    "- 우선 회귀 문제인지 분류 문제인지 명확히 구분합니다."
   ]
  },
  {
   "cell_type": "markdown",
   "metadata": {
    "id": "pbPVWSOWPwV0"
   },
   "source": [
    "## 4.1.Decision Tree 모델링\n",
    "\n",
    "- Decision Tree 알고리즘으로 모델링하고 성능을 확인합니다."
   ]
  },
  {
   "cell_type": "code",
   "execution_count": null,
   "metadata": {
    "colab": {
     "base_uri": "https://localhost:8080/"
    },
    "executionInfo": {
     "elapsed": 14,
     "status": "ok",
     "timestamp": 1650721087085,
     "user": {
      "displayName": "Jangrae Lee",
      "userId": "08475661575434032088"
     },
     "user_tz": -540
    },
    "id": "FfCQ83g4nCQg",
    "outputId": "e0e48fcc-be10-4deb-91dc-1d71306be292"
   },
   "outputs": [],
   "source": [
    "# 불러오기\n",
    "from sklearn.tree import DecisionTreeClassifier\n",
    "from sklearn.metrics import *\n",
    "\n",
    "# 선언하기\n",
    "model = DecisionTreeClassifier()\n",
    "\n",
    "# 학습하기\n",
    "model.fit(x_train, y_train)\n",
    "\n",
    "# 예측하기\n",
    "y_pred = model.predict(x_test)\n",
    "\n",
    "# 평가하기\n",
    "print(confusion_matrix(y_test, y_pred))\n",
    "print(classification_report(y_test, y_pred))\n",
    "\n",
    "# 성능정보 수집\n",
    "result = {}\n",
    "result['Decision Tree'] = accuracy_score(y_test, y_pred)"
   ]
  },
  {
   "cell_type": "markdown",
   "metadata": {
    "id": "Q-YVSOw51cIm"
   },
   "source": [
    "## 4.2.KNN 모델링\n",
    "\n",
    "- KNN 알고리즘으로 모델링하고 성능을 확인합니다."
   ]
  },
  {
   "cell_type": "code",
   "execution_count": null,
   "metadata": {
    "colab": {
     "base_uri": "https://localhost:8080/"
    },
    "executionInfo": {
     "elapsed": 12,
     "status": "ok",
     "timestamp": 1650721087085,
     "user": {
      "displayName": "Jangrae Lee",
      "userId": "08475661575434032088"
     },
     "user_tz": -540
    },
    "id": "r8dFSlm91cIm",
    "outputId": "19cca394-a487-4405-c538-c537518d99d9"
   },
   "outputs": [],
   "source": [
    "# 불러오기\n",
    "from sklearn.neighbors import KNeighborsClassifier\n",
    "from sklearn.metrics import *\n",
    "\n",
    "# 선언하기\n",
    "model = KNeighborsClassifier()\n",
    "\n",
    "# 학습하기\n",
    "model.fit(x_train_s, y_train)\n",
    "\n",
    "# 예측하기\n",
    "y_pred = model.predict(x_test_s)\n",
    "\n",
    "# 평가하기\n",
    "print(confusion_matrix(y_test, y_pred))\n",
    "print(classification_report(y_test, y_pred))\n",
    "\n",
    "# 성능정보 수집\n",
    "result['KNN'] = accuracy_score(y_test, y_pred)"
   ]
  },
  {
   "cell_type": "markdown",
   "metadata": {
    "id": "akmboUPB1d31"
   },
   "source": [
    "## 4.3.Logistic Regression 모델링\n",
    "\n",
    "- Logistic Regression알고리즘으로 모델링하고 성능을 확인합니다."
   ]
  },
  {
   "cell_type": "code",
   "execution_count": null,
   "metadata": {
    "colab": {
     "base_uri": "https://localhost:8080/"
    },
    "executionInfo": {
     "elapsed": 11,
     "status": "ok",
     "timestamp": 1650721087086,
     "user": {
      "displayName": "Jangrae Lee",
      "userId": "08475661575434032088"
     },
     "user_tz": -540
    },
    "id": "JvpU9t2m1d32",
    "outputId": "ccb1a5d3-7fab-4693-d3a3-899ae78b01a0"
   },
   "outputs": [],
   "source": [
    "# 불러오기\n",
    "from sklearn.linear_model import LogisticRegression\n",
    "from sklearn.metrics import *\n",
    "\n",
    "# 선언하기\n",
    "model = LogisticRegression(max_iter=1000)\n",
    "\n",
    "# 학습하기\n",
    "model.fit(x_train, y_train)\n",
    "\n",
    "# 예측하기\n",
    "y_pred = model.predict(x_test)\n",
    "\n",
    "# 평가하기\n",
    "print(confusion_matrix(y_test, y_pred))\n",
    "print(classification_report(y_test, y_pred))\n",
    "\n",
    "# 성능정보 수집\n",
    "result['Logistic Regression'] = accuracy_score(y_test, y_pred)"
   ]
  },
  {
   "cell_type": "markdown",
   "metadata": {
    "id": "hM93vg4RjCoS"
   },
   "source": [
    "## 4.4.LightGBM 모델링\n",
    "\n",
    "- LightGBM 알고리즘으로 모델링하고 성능을 확인합니다."
   ]
  },
  {
   "cell_type": "code",
   "execution_count": null,
   "metadata": {
    "colab": {
     "base_uri": "https://localhost:8080/"
    },
    "executionInfo": {
     "elapsed": 408,
     "status": "ok",
     "timestamp": 1650721087484,
     "user": {
      "displayName": "Jangrae Lee",
      "userId": "08475661575434032088"
     },
     "user_tz": -540
    },
    "id": "SkcN005GjCoZ",
    "outputId": "29ac77bc-8c0c-40bc-f6ab-d0f44ac40fe3"
   },
   "outputs": [],
   "source": [
    "# 불러오기\n",
    "from lightgbm import LGBMClassifier\n",
    "from sklearn.metrics import *\n",
    "\n",
    "# 선언하기\n",
    "model = LGBMClassifier()\n",
    "\n",
    "# 학습하기\n",
    "model.fit(x_train, y_train)\n",
    "\n",
    "# 예측하기\n",
    "y_pred = model.predict(x_test)\n",
    "\n",
    "# 평가하기\n",
    "print(confusion_matrix(y_test, y_pred))\n",
    "print(classification_report(y_test, y_pred))\n",
    "\n",
    "# 성능정보 수집\n",
    "result['LightGBM'] = accuracy_score(y_test, y_pred)"
   ]
  },
  {
   "cell_type": "markdown",
   "metadata": {
    "id": "5c5V021T1Ajk"
   },
   "source": [
    "## 4.5.Stacking 모델링\n",
    "\n",
    "- Stacking 앙상블을 사용해 모델링하고 성능을 확인합니다."
   ]
  },
  {
   "cell_type": "code",
   "execution_count": null,
   "metadata": {
    "colab": {
     "base_uri": "https://localhost:8080/"
    },
    "executionInfo": {
     "elapsed": 783,
     "status": "ok",
     "timestamp": 1650721088264,
     "user": {
      "displayName": "Jangrae Lee",
      "userId": "08475661575434032088"
     },
     "user_tz": -540
    },
    "id": "lrCUTzIr1Ajt",
    "outputId": "c2bbb5a3-b718-4767-f5da-6280e84b1724"
   },
   "outputs": [],
   "source": [
    "# 불러오기\n",
    "from sklearn.tree import DecisionTreeClassifier\n",
    "from sklearn.neighbors import KNeighborsClassifier\n",
    "from sklearn.linear_model import LogisticRegression\n",
    "from sklearn.ensemble import RandomForestClassifier\n",
    "from sklearn.ensemble import StackingClassifier\n",
    "from lightgbm import LGBMClassifier\n",
    "\n",
    "from sklearn.preprocessing import MinMaxScaler\n",
    "from sklearn.pipeline import make_pipeline\n",
    "from sklearn.metrics import *\n",
    "\n",
    "# 선언하기\n",
    "estimators = [('dt', DecisionTreeClassifier()),\n",
    "              ('knn', make_pipeline(MinMaxScaler(), KNeighborsClassifier())),\n",
    "              ('lr', LogisticRegression(max_iter=1000)),\n",
    "              ('lgb', LGBMClassifier())]\n",
    "\n",
    "model = StackingClassifier(estimators=estimators,\n",
    "                           final_estimator= RandomForestClassifier())\n",
    "\n",
    "# 학습하기\n",
    "model.fit(x_train, y_train)\n",
    "\n",
    "# 예측하기\n",
    "y_pred = model.predict(x_test)\n",
    "\n",
    "# 평가하기\n",
    "print(confusion_matrix(y_test, y_pred))\n",
    "print(classification_report(y_test, y_pred))\n",
    "\n",
    "# 성능정보 수집\n",
    "result['Stacking'] = accuracy_score(y_test, y_pred)"
   ]
  },
  {
   "cell_type": "markdown",
   "metadata": {
    "id": "whTmuSDx3a_d"
   },
   "source": [
    "# 5.성능 비교\n",
    "\n",
    "- 위에서 수집한 성능 정보를 시각화해 비교합니다."
   ]
  },
  {
   "cell_type": "code",
   "execution_count": null,
   "metadata": {
    "colab": {
     "base_uri": "https://localhost:8080/",
     "height": 278
    },
    "executionInfo": {
     "elapsed": 5,
     "status": "ok",
     "timestamp": 1650721088264,
     "user": {
      "displayName": "Jangrae Lee",
      "userId": "08475661575434032088"
     },
     "user_tz": -540
    },
    "id": "i7gy_QiQ4vjx",
    "outputId": "48baf67f-fd42-4746-f003-0ade09f7cc9a"
   },
   "outputs": [],
   "source": [
    "# 데이터프레임 만들기\n",
    "df = pd.DataFrame.from_dict(result, orient='index', columns=['score'])\n",
    "df.sort_values(by='score', ascending=True, inplace=True)\n",
    "\n",
    "# 성능 비교\n",
    "plt.figure(figsize=(8, 5))\n",
    "plt.barh(y=df.index, width=df['score'])\n",
    "plt.xlabel('Score')\n",
    "plt.ylabel('Model')\n",
    "plt.show()"
   ]
  }
 ],
 "metadata": {
  "colab": {
   "collapsed_sections": [],
   "name": "MLX_04_스태킹(Stacking, Diabetes).ipynb",
   "provenance": [],
   "toc_visible": true
  },
  "kernelspec": {
   "display_name": "Python 3 (ipykernel)",
   "language": "python",
   "name": "python3"
  },
  "language_info": {
   "codemirror_mode": {
    "name": "ipython",
    "version": 3
   },
   "file_extension": ".py",
   "mimetype": "text/x-python",
   "name": "python",
   "nbconvert_exporter": "python",
   "pygments_lexer": "ipython3",
   "version": "3.9.13"
  }
 },
 "nbformat": 4,
 "nbformat_minor": 4
}
