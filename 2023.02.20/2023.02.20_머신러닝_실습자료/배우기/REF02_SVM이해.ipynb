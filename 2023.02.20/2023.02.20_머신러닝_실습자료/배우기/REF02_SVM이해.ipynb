{
 "cells": [
  {
   "cell_type": "markdown",
   "metadata": {
    "id": "y1J78TFSRrSA"
   },
   "source": [
    "<center><img src='https://raw.githubusercontent.com/Jangrae/img/master/ml_python.png' width=600/></center>"
   ]
  },
  {
   "cell_type": "markdown",
   "metadata": {
    "id": "GjO7x-GTSF0b"
   },
   "source": [
    "# 다룰 내용\n",
    "\n",
    "- SVM 알고리즘을 이해합니다."
   ]
  },
  {
   "cell_type": "markdown",
   "metadata": {},
   "source": [
    "# 1.환경준비"
   ]
  },
  {
   "cell_type": "code",
   "execution_count": null,
   "metadata": {},
   "outputs": [],
   "source": [
    "# 라이브러리 불러오기\n",
    "import numpy as np\n",
    "import pandas as pd\n",
    "import matplotlib.pyplot as plt\n",
    "import seaborn as sns\n",
    "import warnings\n",
    "\n",
    "warnings.filterwarnings(action='ignore')\n",
    "%config InlineBackend.figure_format='retina'"
   ]
  },
  {
   "cell_type": "markdown",
   "metadata": {
    "id": "n352m5Fg9dgZ"
   },
   "source": [
    "* SVM 모델을 시각화 하는 함수를 만듭니다."
   ]
  },
  {
   "cell_type": "code",
   "execution_count": null,
   "metadata": {
    "executionInfo": {
     "elapsed": 279,
     "status": "ok",
     "timestamp": 1676122687990,
     "user": {
      "displayName": "Jangrae Lee",
      "userId": "08475661575434032088"
     },
     "user_tz": -540
    },
    "id": "jLEp7g_GeEtF"
   },
   "outputs": [],
   "source": [
    "def svm_visualize(x, y, model, title=''):\n",
    "    \n",
    "    xx, yy = np.meshgrid(np.linspace(x[:, 0].min(), x[:, 0].max(), 50), \n",
    "                         np.linspace(x[:, 1].min(), x[:, 1].max(), 50))\n",
    "\n",
    "    # 메쉬 그리드값에 대해 모델 부터 거리 값 만들기.\n",
    "    Z = model.decision_function(np.c_[xx.ravel(), yy.ravel()])\n",
    "    Z = Z.reshape(xx.shape)\n",
    "\n",
    "    # 그래프 그리기\n",
    "    plt.figure(figsize=(5, 5))\n",
    "\n",
    "    # 데이터 산점도\n",
    "    sns.scatterplot(x=x[:, 0], y=x[:, 1], hue=y)\n",
    "\n",
    "    # levels 0은 모델, -1, 1은 마진 경계\n",
    "    plt.contour(xx, yy, Z, levels=[-1, 0, 1], \n",
    "                colors=['gray', 'red', 'gray'],\n",
    "                linestyles=['--', '-', '--'])\n",
    "    plt.title(title)\n",
    "    plt.axis('tight')\n",
    "    plt.show()"
   ]
  },
  {
   "cell_type": "markdown",
   "metadata": {
    "id": "8DiMth6PVBx1"
   },
   "source": [
    "# 2.SVM 기본 개념\n",
    "\n",
    "- SVM 모델의 기본 개념을 이해합니다."
   ]
  },
  {
   "cell_type": "markdown",
   "metadata": {},
   "source": [
    "**1) 데이터 만들고 시각화**"
   ]
  },
  {
   "cell_type": "code",
   "execution_count": null,
   "metadata": {
    "colab": {
     "base_uri": "https://localhost:8080/",
     "height": 374
    },
    "executionInfo": {
     "elapsed": 997,
     "status": "ok",
     "timestamp": 1676126626712,
     "user": {
      "displayName": "Jangrae Lee",
      "userId": "08475661575434032088"
     },
     "user_tz": -540
    },
    "id": "YaYkGT5sihjc",
    "outputId": "3c5f13ab-450a-4fb1-db01-18028cd09538"
   },
   "outputs": [],
   "source": [
    "# 데이터 만들기\n",
    "from sklearn.datasets import make_moons, make_classification\n",
    "\n",
    "seed = 903\n",
    "x, y = make_classification(n_samples=100,\n",
    "                           n_features=2, \n",
    "                           n_redundant=0, \n",
    "                           weights=[0.5, 0.5],\n",
    "                           n_clusters_per_class=1, \n",
    "                           random_state=seed)\n",
    "\n",
    "# 시각화\n",
    "plt.figure(figsize=(5, 5))\n",
    "sns.scatterplot(x=x[:, 0], y=x[:, 1], hue=y)\n",
    "plt.show()"
   ]
  },
  {
   "cell_type": "markdown",
   "metadata": {
    "id": "8DiMth6PVBx1"
   },
   "source": [
    "**2) 모델링 후 시각화**"
   ]
  },
  {
   "cell_type": "code",
   "execution_count": null,
   "metadata": {
    "colab": {
     "base_uri": "https://localhost:8080/",
     "height": 374
    },
    "executionInfo": {
     "elapsed": 967,
     "status": "ok",
     "timestamp": 1676122966822,
     "user": {
      "displayName": "Jangrae Lee",
      "userId": "08475661575434032088"
     },
     "user_tz": -540
    },
    "id": "qXQ1puwjjB6v",
    "outputId": "caf2c5f0-6d1c-4c8a-bf61-282ab3c017e5"
   },
   "outputs": [],
   "source": [
    "# 불러오기\n",
    "from sklearn.svm import SVC\n",
    "\n",
    "# 모델링\n",
    "model = SVC(kernel='linear', C=10)\n",
    "model.fit(x, y)\n",
    "\n",
    "# 시각화\n",
    "svm_visualize(x, y, model)"
   ]
  },
  {
   "cell_type": "markdown",
   "metadata": {
    "id": "Yg3nFDp4x5wS",
    "tags": []
   },
   "source": [
    "# 3.결정 경계와 마진 이해"
   ]
  },
  {
   "cell_type": "markdown",
   "metadata": {
    "id": "lVp3x_eH-ItZ"
   },
   "source": [
    "**1) 데이터 만들고 시각화**"
   ]
  },
  {
   "cell_type": "code",
   "execution_count": null,
   "metadata": {
    "colab": {
     "base_uri": "https://localhost:8080/",
     "height": 265
    },
    "executionInfo": {
     "elapsed": 902,
     "status": "ok",
     "timestamp": 1676126149570,
     "user": {
      "displayName": "Jangrae Lee",
      "userId": "08475661575434032088"
     },
     "user_tz": -540
    },
    "id": "INv9Bo_X8JJU",
    "outputId": "1fd22f0a-9d9c-4e71-a4c9-9b726824ba75"
   },
   "outputs": [],
   "source": [
    "# 데이터 만들기\n",
    "seed = 874\n",
    "x, y = make_classification(n_features=2, \n",
    "                           n_redundant=0, \n",
    "                           weights=[0.5, 0.5],\n",
    "                           n_clusters_per_class=1, \n",
    "                           random_state=seed)\n",
    "\n",
    "# 시각화\n",
    "plt.figure(figsize=(5, 5))\n",
    "sns.scatterplot(x=x[:, 0], y=x[:, 1], hue=y)\n",
    "plt.show()"
   ]
  },
  {
   "cell_type": "markdown",
   "metadata": {
    "id": "eD4CoOMw-UeH"
   },
   "source": [
    "**2) cost 값 변경**\n",
    "\n",
    "* cost 값을 0.1, ~ 40 사이의 숫자로 변경하면서 cost에 따른 모델을 살펴 봅니다."
   ]
  },
  {
   "cell_type": "code",
   "execution_count": null,
   "metadata": {
    "colab": {
     "base_uri": "https://localhost:8080/",
     "height": 390
    },
    "executionInfo": {
     "elapsed": 6,
     "status": "ok",
     "timestamp": 1676124426395,
     "user": {
      "displayName": "Jangrae Lee",
      "userId": "08475661575434032088"
     },
     "user_tz": -540
    },
    "id": "Y-fD1MO-8NE6",
    "outputId": "a62da057-1e89-4b76-bcd4-e2ebe08e14a8"
   },
   "outputs": [],
   "source": [
    "# cost 값\n",
    "cost = 0.1\n",
    "\n",
    "# 모델링\n",
    "model = SVC(kernel='linear', C=cost)\n",
    "model.fit(x, y)\n",
    "\n",
    "# 시각화\n",
    "svm_visualize(x, y, model, f'cost={cost}')"
   ]
  },
  {
   "cell_type": "markdown",
   "metadata": {
    "id": "Hum_n8DkdzNC"
   },
   "source": [
    "# 4.선형경계로 분류할 수 없는 경우"
   ]
  },
  {
   "cell_type": "markdown",
   "metadata": {
    "id": "0OUGqGdP-dfb"
   },
   "source": [
    "**1) 데이터 만들고 시각화**"
   ]
  },
  {
   "cell_type": "code",
   "execution_count": null,
   "metadata": {
    "colab": {
     "base_uri": "https://localhost:8080/",
     "height": 374
    },
    "executionInfo": {
     "elapsed": 450,
     "status": "ok",
     "timestamp": 1676127027545,
     "user": {
      "displayName": "Jangrae Lee",
      "userId": "08475661575434032088"
     },
     "user_tz": -540
    },
    "id": "6IP5Z8Zad4bn",
    "outputId": "dcee2585-02d3-4142-ee35-4470617af4e2"
   },
   "outputs": [],
   "source": [
    "# 데이터 반들기\n",
    "x, y = make_moons(n_samples=800, noise=.1, random_state=10)\n",
    "\n",
    "# 시각화\n",
    "plt.figure(figsize=(5, 5))\n",
    "sns.scatterplot(x=x[:, 0], y=x[:, 1], hue=y)\n",
    "plt.show()"
   ]
  },
  {
   "cell_type": "markdown",
   "metadata": {
    "id": "jWb1ZdHl_EFb"
   },
   "source": [
    "**2) 선형경계로 분류**"
   ]
  },
  {
   "cell_type": "code",
   "execution_count": null,
   "metadata": {
    "colab": {
     "base_uri": "https://localhost:8080/",
     "height": 374
    },
    "executionInfo": {
     "elapsed": 1158,
     "status": "ok",
     "timestamp": 1676126256138,
     "user": {
      "displayName": "Jangrae Lee",
      "userId": "08475661575434032088"
     },
     "user_tz": -540
    },
    "id": "Y31-qjEpfDiC",
    "outputId": "88efcb5e-94e9-46a5-ad73-4bd9a67baa4d"
   },
   "outputs": [],
   "source": [
    "# 모델링\n",
    "model = SVC(kernel='linear')\n",
    "model.fit(x, y)\n",
    "\n",
    "# 시각화\n",
    "svm_visualize(x, y, model)"
   ]
  },
  {
   "cell_type": "markdown",
   "metadata": {
    "id": "-Ji8qJBQ4f4v"
   },
   "source": [
    "**3) 커널 트릭 사용: poly**"
   ]
  },
  {
   "cell_type": "code",
   "execution_count": null,
   "metadata": {
    "colab": {
     "base_uri": "https://localhost:8080/",
     "height": 374
    },
    "executionInfo": {
     "elapsed": 777,
     "status": "ok",
     "timestamp": 1676126260983,
     "user": {
      "displayName": "Jangrae Lee",
      "userId": "08475661575434032088"
     },
     "user_tz": -540
    },
    "id": "AwEviz3P4f4w",
    "outputId": "ca9f9aee-a01c-4f6d-9959-4b2d4e39b8d9"
   },
   "outputs": [],
   "source": [
    "# 모델링\n",
    "model = SVC(kernel='poly', C=1)\n",
    "model.fit(x, y)\n",
    "\n",
    "# 시각화\n",
    "svm_visualize(x, y, model)"
   ]
  },
  {
   "cell_type": "markdown",
   "metadata": {
    "id": "l3CBToe6XThV"
   },
   "source": [
    "**4) 커널 트릭 사용 : rbf**"
   ]
  },
  {
   "cell_type": "code",
   "execution_count": null,
   "metadata": {
    "colab": {
     "base_uri": "https://localhost:8080/",
     "height": 374
    },
    "executionInfo": {
     "elapsed": 1151,
     "status": "ok",
     "timestamp": 1676126278011,
     "user": {
      "displayName": "Jangrae Lee",
      "userId": "08475661575434032088"
     },
     "user_tz": -540
    },
    "id": "G2DQ7iblfune",
    "outputId": "df7f3c30-29d7-4541-b02e-27674a410a17"
   },
   "outputs": [],
   "source": [
    "# 모델링\n",
    "model = SVC(kernel='rbf', C=1)\n",
    "model.fit(x, y)\n",
    "\n",
    "# 시각화\n",
    "svm_visualize(x, y, model)"
   ]
  },
  {
   "cell_type": "markdown",
   "metadata": {
    "id": "XhyeI57jBM66"
   },
   "source": [
    "# 5. 하이퍼파라미터"
   ]
  },
  {
   "cell_type": "markdown",
   "metadata": {
    "id": "3HbmixxpBLHR"
   },
   "source": [
    "* cost\n",
    "    - 오류를 허용하지 않으려는 비용(노력!)입니다.\n",
    "    - 값이 클수록 오류를 허용하지 않기 위한 경계를 만들려고 합니다.\n",
    "* gamma \n",
    "    - 결정 경계의 곡률입니다.\n",
    "    - 값이 클수록 곡률 반경이 작아집니다."
   ]
  },
  {
   "cell_type": "markdown",
   "metadata": {
    "id": "ZtnmsHDX_Ow_"
   },
   "source": [
    "**1) cost에 따른 결정 경계**\n",
    "\n",
    "- cost에 따라 결정 경계가 어떻게 달라지는지 살펴 봅니다."
   ]
  },
  {
   "cell_type": "code",
   "execution_count": null,
   "metadata": {
    "colab": {
     "base_uri": "https://localhost:8080/",
     "height": 1000
    },
    "executionInfo": {
     "elapsed": 2715,
     "status": "ok",
     "timestamp": 1676127034519,
     "user": {
      "displayName": "Jangrae Lee",
      "userId": "08475661575434032088"
     },
     "user_tz": -540
    },
    "id": "PqAhuZQN8MCd",
    "outputId": "a990cd96-0de6-44ed-ac1f-c181c3b1feee"
   },
   "outputs": [],
   "source": [
    "# cost에 따른 결정 경계\n",
    "for cost in [0.1, .5, 2, 20]: \n",
    "    model = SVC(kernel='rbf', C=cost)\n",
    "    model.fit(x, y)\n",
    "    svm_visualize(x, y, model, f'cost={cost}')"
   ]
  },
  {
   "cell_type": "markdown",
   "metadata": {
    "id": "bm20pz8X_W1p"
   },
   "source": [
    "**2) gamma에 따른 결정 경계**\n",
    "\n",
    "- gamma에 따라 결정 경계가 어떻게 달라지는지 살펴 봅니다."
   ]
  },
  {
   "cell_type": "code",
   "execution_count": null,
   "metadata": {
    "colab": {
     "base_uri": "https://localhost:8080/",
     "height": 1000
    },
    "executionInfo": {
     "elapsed": 2687,
     "status": "ok",
     "timestamp": 1676127639466,
     "user": {
      "displayName": "Jangrae Lee",
      "userId": "08475661575434032088"
     },
     "user_tz": -540
    },
    "id": "MxXGb1t3fCOQ",
    "outputId": "00e93bd4-2d24-4bc8-e616-d112788c518f"
   },
   "outputs": [],
   "source": [
    "# gamma에 따흔 결정 경계\n",
    "for g in [.5, 1, 5, 20]: \n",
    "    model = SVC(kernel='rbf', C=2, gamma=g)\n",
    "    model.fit(x, y)\n",
    "    svm_visualize(x, y, model, f'gamma={g}')"
   ]
  }
 ],
 "metadata": {
  "colab": {
   "provenance": []
  },
  "kernelspec": {
   "display_name": "Python 3 (ipykernel)",
   "language": "python",
   "name": "python3"
  },
  "language_info": {
   "codemirror_mode": {
    "name": "ipython",
    "version": 3
   },
   "file_extension": ".py",
   "mimetype": "text/x-python",
   "name": "python",
   "nbconvert_exporter": "python",
   "pygments_lexer": "ipython3",
   "version": "3.9.13"
  }
 },
 "nbformat": 4,
 "nbformat_minor": 4
}
