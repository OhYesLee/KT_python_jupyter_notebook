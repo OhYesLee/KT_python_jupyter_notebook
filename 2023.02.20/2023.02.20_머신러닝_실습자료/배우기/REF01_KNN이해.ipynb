{
 "cells": [
  {
   "cell_type": "markdown",
   "metadata": {
    "id": "y1J78TFSRrSA"
   },
   "source": [
    "<center><img src='https://raw.githubusercontent.com/Jangrae/img/master/ml_python.png' width=600/></center>"
   ]
  },
  {
   "cell_type": "markdown",
   "metadata": {
    "id": "elUlK1gCJHGh"
   },
   "source": [
    "# 다룰 내용\n",
    "\n",
    "- Sample 데이터를 만들어 KNN에 대해 이해합니다."
   ]
  },
  {
   "cell_type": "code",
   "execution_count": null,
   "metadata": {
    "executionInfo": {
     "elapsed": 899,
     "status": "ok",
     "timestamp": 1650542192586,
     "user": {
      "displayName": "Jangrae Lee",
      "userId": "08475661575434032088"
     },
     "user_tz": -540
    },
    "id": "jB0l6oqDsG8B"
   },
   "outputs": [],
   "source": [
    "# 라이브러리 불러오기\n",
    "import numpy as np\n",
    "import pandas as pd\n",
    "import matplotlib.pyplot as plt\n",
    "import seaborn as sns\n",
    "import warnings\n",
    "\n",
    "warnings.filterwarnings(action='ignore')\n",
    "%config InlineBackend.figure_format = 'retina'"
   ]
  },
  {
   "cell_type": "markdown",
   "metadata": {
    "id": "IciCQGJy5PO-"
   },
   "source": [
    "# 1.데이터 준비\n",
    "\n",
    "- 학습용 데이터를 만들고 데이터 분포를 확인합니다."
   ]
  },
  {
   "cell_type": "code",
   "execution_count": null,
   "metadata": {
    "colab": {
     "base_uri": "https://localhost:8080/",
     "height": 498
    },
    "executionInfo": {
     "elapsed": 1302,
     "status": "ok",
     "timestamp": 1650542281743,
     "user": {
      "displayName": "Jangrae Lee",
      "userId": "08475661575434032088"
     },
     "user_tz": -540
    },
    "id": "iquZuyM0a2_R",
    "outputId": "f0cdc48f-0566-4a61-9f7d-d7ed9b666d30"
   },
   "outputs": [],
   "source": [
    "# 데이터 만들기\n",
    "np.random.seed(12)\n",
    "x = np.random.randint(10, 51, (50, 2))\n",
    "y = np.random.randint(0, 2, 50)\n",
    "x = x * [1, 100]\n",
    "\n",
    "# 데이터 분포 시각화\n",
    "plt.figure(figsize=(5, 5))\n",
    "sns.scatterplot(x=x[:, 0], y=x[:, 1], hue=y, s=50)\n",
    "plt.xlabel('x1')\n",
    "plt.ylabel('x2')\n",
    "plt.show()"
   ]
  },
  {
   "cell_type": "markdown",
   "metadata": {
    "id": "5rIYpq4Ja2_T"
   },
   "source": [
    "# 2.모델링\n",
    "\n",
    "- KNN 알고리즘으로 모델을 만들고 학습합니다.\n",
    "- 이웃 개수(n_neighbors)는 3으로 설정합니다."
   ]
  },
  {
   "cell_type": "code",
   "execution_count": null,
   "metadata": {
    "colab": {
     "base_uri": "https://localhost:8080/"
    },
    "executionInfo": {
     "elapsed": 684,
     "status": "ok",
     "timestamp": 1650542292547,
     "user": {
      "displayName": "Jangrae Lee",
      "userId": "08475661575434032088"
     },
     "user_tz": -540
    },
    "id": "iemGMcWxa2_T",
    "outputId": "0cef9b7e-7fff-4437-f8bc-2b0198933cb1"
   },
   "outputs": [],
   "source": [
    "# 불러오기\n",
    "from sklearn.neighbors import KNeighborsClassifier\n",
    "\n",
    "# 선언하기\n",
    "model = KNeighborsClassifier(n_neighbors=3)\n",
    "\n",
    "# 학습하기\n",
    "model.fit(x, y)"
   ]
  },
  {
   "cell_type": "markdown",
   "metadata": {
    "id": "FF9Byv4Ba2_V"
   },
   "source": [
    "# 3.우리별 색깔은?\n",
    "\n",
    "- 가장 가까운 3개의 이웃에게 물었습니다.\n",
    "- **\"이웃님들 우리별은 무슨 색인가요?\"**"
   ]
  },
  {
   "cell_type": "code",
   "execution_count": null,
   "metadata": {
    "colab": {
     "base_uri": "https://localhost:8080/",
     "height": 498
    },
    "executionInfo": {
     "elapsed": 955,
     "status": "ok",
     "timestamp": 1650542299846,
     "user": {
      "displayName": "Jangrae Lee",
      "userId": "08475661575434032088"
     },
     "user_tz": -540
    },
    "id": "HaP_Bjbwa2_V",
    "outputId": "adc92f4e-73c1-4ce4-ea96-cd19dbda2ab8"
   },
   "outputs": [],
   "source": [
    "# 우리별 자리\n",
    "OUR_STAR = np.array([[26.5, 3210]])\n",
    "\n",
    "# 기본 데이터\n",
    "plt.figure(figsize=(5, 5))\n",
    "sns.scatterplot(x=x[:, 0], y=x[:, 1], hue=y, s=40)\n",
    "\n",
    "# 별 표시\n",
    "star = OUR_STAR\n",
    "sns.scatterplot(x=star[:, 0], y=star[:, 1], \n",
    "                marker='*', \n",
    "                color='k', \n",
    "                s=350)\n",
    "\n",
    "plt.xlabel('x1')\n",
    "plt.ylabel('x2')\n",
    "plt.show()"
   ]
  },
  {
   "cell_type": "markdown",
   "metadata": {
    "id": "YOv1nCALa2_W"
   },
   "source": [
    "\n",
    "- **퀴즈!** 자신의 색깔을 찾지 못해 검게 변한 우리별 색깔은 무엇일까요?"
   ]
  },
  {
   "cell_type": "markdown",
   "metadata": {
    "id": "CF9VSBeKa2_X"
   },
   "source": [
    "# 4.우리별 색깔 확인\n",
    "\n",
    "- 우리가 예상한 색깔이 맞는지 확인합니다."
   ]
  },
  {
   "cell_type": "code",
   "execution_count": null,
   "metadata": {
    "colab": {
     "base_uri": "https://localhost:8080/",
     "height": 498
    },
    "executionInfo": {
     "elapsed": 1007,
     "status": "ok",
     "timestamp": 1650542387804,
     "user": {
      "displayName": "Jangrae Lee",
      "userId": "08475661575434032088"
     },
     "user_tz": -540
    },
    "id": "82fZtB3Ma2_X",
    "outputId": "72d79e0f-e4ff-4a84-9ff7-18a1229798a9"
   },
   "outputs": [],
   "source": [
    "# 기본 데이터\n",
    "plt.figure(figsize=(5, 5))\n",
    "sns.scatterplot(x=x[:, 0], y=x[:, 1], hue=y, s=40)\n",
    "\n",
    "# 별 색깔 확인\n",
    "y_pred = model.predict(star)\n",
    "star_color = 'tab:blue' if y_pred == 0 else 'tab:orange'\n",
    "\n",
    "# 별 표시\n",
    "sns.scatterplot(x=star[:, 0], y=star[:, 1], \n",
    "                marker='*', \n",
    "                color=star_color, \n",
    "                s=350)\n",
    "\n",
    "plt.xlabel('x1')\n",
    "plt.ylabel('x2')\n",
    "plt.show()"
   ]
  },
  {
   "cell_type": "markdown",
   "metadata": {
    "id": "dU2aTdsYa2_Y"
   },
   "source": [
    "- 아하!우리별은 따뜻한 **<font color='orange'>오랜지색</font>** 이었네요!"
   ]
  },
  {
   "cell_type": "markdown",
   "metadata": {
    "id": "Gipa1SwWa2_Y"
   },
   "source": [
    "# 5.우리별 이웃 확인\n",
    "\n",
    "- 고마운 마음을 전하기 위해 빨간색을 찾아준 이웃을 확인합니다."
   ]
  },
  {
   "cell_type": "code",
   "execution_count": null,
   "metadata": {
    "executionInfo": {
     "elapsed": 265,
     "status": "ok",
     "timestamp": 1650542421130,
     "user": {
      "displayName": "Jangrae Lee",
      "userId": "08475661575434032088"
     },
     "user_tz": -540
    },
    "id": "Bbg4cqLPa2_Z"
   },
   "outputs": [],
   "source": [
    "# 별 이웃 찾기\n",
    "star_neighbor=[]\n",
    "for n in model.kneighbors(star)[1].ravel():\n",
    "    star_neighbor.append(x[n].tolist())\n",
    "star_neighbor = np.array(star_neighbor)"
   ]
  },
  {
   "cell_type": "code",
   "execution_count": null,
   "metadata": {
    "colab": {
     "base_uri": "https://localhost:8080/",
     "height": 498
    },
    "executionInfo": {
     "elapsed": 1020,
     "status": "ok",
     "timestamp": 1650542437917,
     "user": {
      "displayName": "Jangrae Lee",
      "userId": "08475661575434032088"
     },
     "user_tz": -540
    },
    "id": "i-bm2lIPa2_Z",
    "outputId": "b659555d-ee73-49e9-d25a-0b94ebc4ad4d"
   },
   "outputs": [],
   "source": [
    "# 기본 데이터\n",
    "plt.figure(figsize=(5, 5))\n",
    "sns.scatterplot(x=x[:, 0], y=x[:, 1], hue=y, s=40)\n",
    "\n",
    "# 별 표시\n",
    "sns.scatterplot(x=star[:, 0], y=star[:, 1], \n",
    "                marker='*', \n",
    "                color=star_color, \n",
    "                s=350)\n",
    "\n",
    "# 이웃 표시\n",
    "plt.scatter(x=star_neighbor[:, 0], y=star_neighbor[:, 1], \n",
    "            linewidth=1,\n",
    "            facecolors='none', \n",
    "            color='r', \n",
    "            s=100)\n",
    "\n",
    "plt.xlabel('x1')\n",
    "plt.ylabel('x2')\n",
    "plt.show()"
   ]
  },
  {
   "cell_type": "markdown",
   "metadata": {
    "id": "pPcOzg1ia2_a"
   },
   "source": [
    "- 헉, 3개의 이웃이 이리도 **멀..................리** 떨어져 있었던가요???"
   ]
  },
  {
   "cell_type": "markdown",
   "metadata": {
    "id": "dhaA85c3a2_a"
   },
   "source": [
    "# 6.정규화 후 다시 학습\n",
    "\n",
    "- 진정한 이웃을 찾기 위해 정규화를 진행하고 다시 학습합니다."
   ]
  },
  {
   "cell_type": "code",
   "execution_count": null,
   "metadata": {
    "colab": {
     "base_uri": "https://localhost:8080/"
    },
    "executionInfo": {
     "elapsed": 281,
     "status": "ok",
     "timestamp": 1650542447380,
     "user": {
      "displayName": "Jangrae Lee",
      "userId": "08475661575434032088"
     },
     "user_tz": -540
    },
    "id": "UgXcJHtda2_b",
    "outputId": "546aa518-ebc1-422c-abe7-259b1fdbb13a"
   },
   "outputs": [],
   "source": [
    "# 모듈 불러오기\n",
    "from sklearn.preprocessing import MinMaxScaler\n",
    "\n",
    "# 정규화\n",
    "scaler = MinMaxScaler()\n",
    "scaler.fit(x)\n",
    "x = scaler.transform(x)\n",
    "\n",
    "# 별 위치도 정규화 반영(OUR_STAR = np.array([[26.5, 3210]))\n",
    "star = scaler.transform(OUR_STAR)\n",
    "\n",
    "# 다시 학습\n",
    "model.fit(x, y)"
   ]
  },
  {
   "cell_type": "markdown",
   "metadata": {
    "id": "9bNe_VOxa2_b"
   },
   "source": [
    "# 7.우리별 색깔은?\n",
    "\n",
    "- 다시 한 번 가장 가까운 3개의 이웃에게 우리별 색깔을 물었습니다."
   ]
  },
  {
   "cell_type": "code",
   "execution_count": null,
   "metadata": {
    "colab": {
     "base_uri": "https://localhost:8080/",
     "height": 498
    },
    "executionInfo": {
     "elapsed": 1006,
     "status": "ok",
     "timestamp": 1650542451092,
     "user": {
      "displayName": "Jangrae Lee",
      "userId": "08475661575434032088"
     },
     "user_tz": -540
    },
    "id": "H0TuqXZia2_c",
    "outputId": "e36e837c-003f-4e91-da18-ce36c4aac90f"
   },
   "outputs": [],
   "source": [
    "# 기본 데이터\n",
    "plt.figure(figsize=(5, 5))\n",
    "sns.scatterplot(x=x[:, 0], y=x[:, 1], hue=y, s=40)\n",
    "\n",
    "# 별 색깔 확인\n",
    "y_pred = model.predict(star)\n",
    "star_color = 'tab:blue' if y_pred == 0 else 'tab:orange'\n",
    "\n",
    "# 별 표시\n",
    "sns.scatterplot(x=star[:, 0], y=star[:, 1], \n",
    "                marker='*', \n",
    "                color=star_color, \n",
    "                s=350)\n",
    "\n",
    "plt.xlabel('x1')\n",
    "plt.ylabel('x2')\n",
    "plt.show()"
   ]
  },
  {
   "cell_type": "markdown",
   "metadata": {
    "id": "b0uMvJ_6a2_c"
   },
   "source": [
    "- 오홋! 우리별은 시원한 **<font color='blue'>파란색</font>** 었네요!!"
   ]
  },
  {
   "cell_type": "markdown",
   "metadata": {
    "id": "s89KaG5Ia2_d"
   },
   "source": [
    "# 8.새로운 이웃 확인\n",
    "\n",
    "- 고마운 마음을 전하기 위해 파란색을 찾아준 이웃을 확인합니다."
   ]
  },
  {
   "cell_type": "code",
   "execution_count": null,
   "metadata": {
    "id": "2tbuJGiSa2_d"
   },
   "outputs": [],
   "source": [
    "# 가장 까까운 이웃 찾기\n",
    "star_neighbor=[]\n",
    "for n in model.kneighbors(star)[1].ravel():\n",
    "    star_neighbor.append(x[n].tolist())\n",
    "star_neighbor = np.array(star_neighbor)"
   ]
  },
  {
   "cell_type": "code",
   "execution_count": null,
   "metadata": {
    "id": "aWDVGkY0a2_d",
    "outputId": "af3a85fb-de21-4069-aa90-0fd17370090b"
   },
   "outputs": [],
   "source": [
    "# 기본 데이터\n",
    "plt.figure(figsize=(5, 5))\n",
    "sns.scatterplot(x=x[:, 0], y=x[:, 1], hue=y, s=40)\n",
    "\n",
    "# 별 표시\n",
    "sns.scatterplot(x=star[:, 0], y=star[:, 1], \n",
    "                marker='*', \n",
    "                color=star_color, \n",
    "                s=350)\n",
    "\n",
    "# 이웃 표시\n",
    "plt.scatter(x=star_neighbor[:,0], \n",
    "            y=star_neighbor[:,1], \n",
    "            linewidth=1,\n",
    "            facecolors='none', \n",
    "            color='r', \n",
    "            s=100)\n",
    "\n",
    "# 원 그리기\n",
    "circle = plt.Circle((star[0, 0], star[0, 1]), 0.100, \n",
    "                    color='k', \n",
    "                    linewidth=1,\n",
    "                    linestyle='--', \n",
    "                    fill=False)\n",
    "plt.gca().add_artist(circle)\n",
    "\n",
    "plt.xlabel('x1')\n",
    "plt.ylabel('x2')\n",
    "plt.show()"
   ]
  },
  {
   "cell_type": "markdown",
   "metadata": {
    "id": "Ywo9Z2a9a2_e"
   },
   "source": [
    "- 고마운 이웃이 정말 가까이 있었군요!!"
   ]
  },
  {
   "cell_type": "markdown",
   "metadata": {
    "id": "eGj_-uhna2_e"
   },
   "source": [
    "# 9.이웃 수 늘리기\n",
    "\n",
    "- 사교 능력을 최대한 발위해 이웃 수(n_neighbors)를 5개로 늘려봅니다."
   ]
  },
  {
   "cell_type": "code",
   "execution_count": null,
   "metadata": {
    "id": "ee70pl-da2_e",
    "outputId": "bb5be59d-65ba-41fd-8e7b-b91761483f2e"
   },
   "outputs": [],
   "source": [
    "# 선언하기\n",
    "model = KNeighborsClassifier(n_neighbors=5)\n",
    "\n",
    "# 학습하기\n",
    "model.fit(x, y)"
   ]
  },
  {
   "cell_type": "markdown",
   "metadata": {
    "id": "u7vSnHKBa2_f"
   },
   "source": [
    "# 10. 우리별 색깔은?\n",
    "\n",
    "- 우리별 색깔은 여전히 파란색일까요?\n",
    "- 가장 가까운 5개 이웃에게 다시 물었습니다."
   ]
  },
  {
   "cell_type": "code",
   "execution_count": null,
   "metadata": {
    "id": "PQyXu3G6a2_f"
   },
   "outputs": [],
   "source": [
    "# 가장 까까운 이웃 찾기\n",
    "star_neighbor=[]\n",
    "for n in model.kneighbors(star)[1].ravel():\n",
    "    star_neighbor.append(x[n].tolist())\n",
    "star_neighbor = np.array(star_neighbor)"
   ]
  },
  {
   "cell_type": "code",
   "execution_count": null,
   "metadata": {
    "id": "rhQSKAwMa2_f",
    "outputId": "33fbc544-eeb5-44dd-b808-e2ecba1344a4"
   },
   "outputs": [],
   "source": [
    "# 기본 데이터\n",
    "plt.figure(figsize=(5, 5))\n",
    "sns.scatterplot(x=x[:, 0], y=x[:, 1], hue=y, s=40)\n",
    "\n",
    "# 별 색깔 확인\n",
    "y_pred = model.predict(star)\n",
    "star_color = 'tab:blue' if y_pred == 0 else 'tab:orange'\n",
    "\n",
    "# 별 표시\n",
    "sns.scatterplot(x=star[:, 0], y=star[:, 1], \n",
    "                marker='*', \n",
    "                color=star_color, \n",
    "                s=350)\n",
    "\n",
    "# 이웃 표시\n",
    "plt.scatter(x=star_neighbor[:, 0], y=star_neighbor[:, 1], \n",
    "            linewidth=1,\n",
    "            facecolors='none', \n",
    "            color='r', \n",
    "            s=100)\n",
    "\n",
    "# 원 그리기\n",
    "circle = plt.Circle((star[0, 0], star[0, 1]), 0.17, \n",
    "                    color='k', \n",
    "                    linewidth=1, \n",
    "                    linestyle='--', \n",
    "                    fill=False)\n",
    "plt.gca().add_artist(circle)\n",
    "\n",
    "plt.xlabel('x1')\n",
    "plt.ylabel('x2')\n",
    "plt.show()"
   ]
  },
  {
   "cell_type": "markdown",
   "metadata": {
    "id": "etajrqSTa2_g"
   },
   "source": [
    "- 헛! 우리별은 따뜻한 **<font color='orange'>오랜지색</font>** 이었군요!!! 엥?"
   ]
  }
 ],
 "metadata": {
  "colab": {
   "collapsed_sections": [],
   "name": "ML03_02_KNN이해.ipynb",
   "provenance": []
  },
  "kernelspec": {
   "display_name": "Python 3 (ipykernel)",
   "language": "python",
   "name": "python3"
  },
  "language_info": {
   "codemirror_mode": {
    "name": "ipython",
    "version": 3
   },
   "file_extension": ".py",
   "mimetype": "text/x-python",
   "name": "python",
   "nbconvert_exporter": "python",
   "pygments_lexer": "ipython3",
   "version": "3.9.13"
  }
 },
 "nbformat": 4,
 "nbformat_minor": 4
}
