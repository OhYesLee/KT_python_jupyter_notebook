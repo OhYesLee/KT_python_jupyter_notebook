{
 "cells": [
  {
   "cell_type": "markdown",
   "metadata": {
    "id": "T7kdgJptO50L"
   },
   "source": [
    "# 1일차 Review : 같은 문제 다시 풀어보기\n",
    "---\n",
    "- 학습은 10번만!"
   ]
  },
  {
   "cell_type": "markdown",
   "metadata": {},
   "source": [
    "1. model.summary()는 코드에서 케라스 API로 정의한 모델이 의도한 대로 정의되었는지를 확인하기 위하여 사용합니다. \n",
    "2. bias(편향값)는 예측된 값들을 전체적으로 조정하는 역할을 하게 됩니다.  이를테면, 실제값들의 평균과 예측값의 평균간 차이를 보정하기 위한 값이라고도 볼수 있습니다. "
   ]
  },
  {
   "cell_type": "code",
   "execution_count": 1,
   "metadata": {
    "id": "3-aSPBeFQViu"
   },
   "outputs": [],
   "source": [
    "from sklearn.datasets import fetch_california_housing"
   ]
  },
  {
   "cell_type": "code",
   "execution_count": 2,
   "metadata": {
    "id": "Ke9zTQOpQo3R"
   },
   "outputs": [],
   "source": [
    "california = fetch_california_housing()"
   ]
  },
  {
   "cell_type": "code",
   "execution_count": 5,
   "metadata": {
    "id": "VElJM9LJQrdf"
   },
   "outputs": [],
   "source": [
    "x = california.data\n",
    "y = california.target"
   ]
  },
  {
   "cell_type": "code",
   "execution_count": 6,
   "metadata": {
    "id": "kVvDsvptQyQ_"
   },
   "outputs": [
    {
     "data": {
      "text/plain": [
       "((20640, 8), (20640,))"
      ]
     },
     "execution_count": 6,
     "metadata": {},
     "output_type": "execute_result"
    }
   ],
   "source": [
    "x.shape, y.shape"
   ]
  },
  {
   "cell_type": "code",
   "execution_count": null,
   "metadata": {
    "id": "puqIL3FCRBs6"
   },
   "outputs": [],
   "source": [
    "#####################\n",
    "# 라이브러리 불러오기\n",
    "#####################\n",
    "\n"
   ]
  },
  {
   "cell_type": "code",
   "execution_count": null,
   "metadata": {
    "id": "broVdGpGbqrC"
   },
   "outputs": [],
   "source": [
    "########\n",
    "# 모델링\n",
    "########\n",
    "\n"
   ]
  },
  {
   "cell_type": "code",
   "execution_count": null,
   "metadata": {
    "id": "4U3tZ7PvbljS"
   },
   "outputs": [],
   "source": [
    "###########\n",
    "# 모델 학습\n",
    "###########\n",
    "\n"
   ]
  },
  {
   "cell_type": "code",
   "execution_count": null,
   "metadata": {
    "id": "prSYRU-_AlYz"
   },
   "outputs": [],
   "source": [
    "###########\n",
    "# 모델 예측\n",
    "###########\n",
    "\n"
   ]
  },
  {
   "cell_type": "markdown",
   "metadata": {
    "id": "0xVNQT9V-Iev"
   },
   "source": [
    "# 히든 레이어 추가하여 모델링!\n",
    "---\n",
    "- 조건\n",
    "    - 히든 레이어 2개를 추가하여 다시 모델링!\n",
    "    - 히든 레이어 노드 수 : 32\n",
    "    - 히든 레이어 activation = 'relu'"
   ]
  },
  {
   "cell_type": "code",
   "execution_count": null,
   "metadata": {
    "id": "y3PTU3m--xMa"
   },
   "outputs": [],
   "source": [
    "########\n",
    "# 모델링\n",
    "########\n",
    "\n"
   ]
  },
  {
   "cell_type": "code",
   "execution_count": null,
   "metadata": {
    "id": "HbvMea71-xMb"
   },
   "outputs": [],
   "source": [
    "###########\n",
    "# 모델 학습\n",
    "###########\n",
    "\n"
   ]
  },
  {
   "cell_type": "code",
   "execution_count": null,
   "metadata": {
    "id": "_BZMmR5--xMb"
   },
   "outputs": [],
   "source": [
    "###########\n",
    "# 모델 예측\n",
    "###########\n",
    "\n"
   ]
  }
 ],
 "metadata": {
  "colab": {
   "collapsed_sections": [
    "0xVNQT9V-Iev"
   ],
   "provenance": []
  },
  "kernelspec": {
   "display_name": "Python 3 (ipykernel)",
   "language": "python",
   "name": "python3"
  },
  "language_info": {
   "codemirror_mode": {
    "name": "ipython",
    "version": 3
   },
   "file_extension": ".py",
   "mimetype": "text/x-python",
   "name": "python",
   "nbconvert_exporter": "python",
   "pygments_lexer": "ipython3",
   "version": "3.9.13"
  }
 },
 "nbformat": 4,
 "nbformat_minor": 4
}
