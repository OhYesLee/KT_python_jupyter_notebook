{
 "cells": [
  {
   "cell_type": "markdown",
   "metadata": {
    "id": "UdrP_vI3QcNd"
   },
   "source": [
    "# ANN & MNIST : exercise\n",
    "---"
   ]
  },
  {
   "cell_type": "markdown",
   "metadata": {
    "id": "QEyK7WODzFZA"
   },
   "source": [
    "## 라이브러리 불러오기"
   ]
  },
  {
   "cell_type": "code",
   "execution_count": null,
   "metadata": {
    "id": "2At3z2IdQew-"
   },
   "outputs": [],
   "source": [
    "import tensorflow as tf\n",
    "from tensorflow import keras\n",
    "\n",
    "import numpy as np\n",
    "import pandas as pd\n",
    "import matplotlib.pyplot as plt\n",
    "\n",
    "import random as rd\n",
    "\n",
    "from sklearn.metrics import accuracy_score"
   ]
  },
  {
   "cell_type": "markdown",
   "metadata": {
    "id": "F7A8vUrQRpPd"
   },
   "source": [
    "## 데이터 불러오기"
   ]
  },
  {
   "cell_type": "code",
   "execution_count": null,
   "metadata": {
    "id": "gBQdcFgkRiv-"
   },
   "outputs": [],
   "source": [
    "(train_x, train_y), (test_x, test_y) = keras.datasets.mnist.load_data()"
   ]
  },
  {
   "cell_type": "code",
   "execution_count": null,
   "metadata": {
    "id": "_GKNGA5qRnf-"
   },
   "outputs": [],
   "source": [
    "train_x.shape, train_y.shape, test_x.shape, test_y.shape"
   ]
  },
  {
   "cell_type": "code",
   "execution_count": null,
   "metadata": {
    "id": "-rOBjv_HMZT9"
   },
   "outputs": [],
   "source": [
    "train_x[0]"
   ]
  },
  {
   "cell_type": "code",
   "execution_count": null,
   "metadata": {
    "id": "qW4ZeZcNRouf"
   },
   "outputs": [],
   "source": [
    "'''\n",
    "Ctrl+Enter를 이용하여\n",
    "반복 실행 해보자!\n",
    "'''\n",
    "\n",
    "# id = rd.randrange(0,10000)\n",
    "id = 0\n",
    "\n",
    "print(f'id = {id}')\n",
    "print(f'다음 그림은 숫자 {train_y[id]} 입니다.')\n",
    "\n",
    "plt.imshow(train_x[id], cmap='gray')\n",
    "plt.show()"
   ]
  },
  {
   "cell_type": "markdown",
   "metadata": {
    "id": "UcckuQyK2Hj9"
   },
   "source": [
    "## 데이터 전처리"
   ]
  },
  {
   "cell_type": "markdown",
   "metadata": {
    "id": "IrZCdbKY3UKp"
   },
   "source": [
    "* reshape"
   ]
  },
  {
   "cell_type": "code",
   "execution_count": null,
   "metadata": {
    "id": "r5cuGyf_QjQ2"
   },
   "outputs": [],
   "source": []
  },
  {
   "cell_type": "markdown",
   "metadata": {
    "id": "EWhadGmn3dWI"
   },
   "source": [
    "* min-max scaling"
   ]
  },
  {
   "cell_type": "code",
   "execution_count": null,
   "metadata": {
    "id": "6bRjerNCQl0_"
   },
   "outputs": [],
   "source": []
  },
  {
   "cell_type": "markdown",
   "metadata": {
    "id": "vAAvHQol3jKy"
   },
   "source": [
    "* target feature : One-hot Encoding"
   ]
  },
  {
   "cell_type": "code",
   "execution_count": null,
   "metadata": {
    "id": "p_NtVhofQm-K"
   },
   "outputs": [],
   "source": []
  },
  {
   "cell_type": "markdown",
   "metadata": {
    "id": "mQ_FTTj7XAtC"
   },
   "source": [
    "## 모델링 I\n",
    "\n",
    "1. Sequential, Functional 아무 것이나!\n",
    "2. 히든레이어 없이 epochs=50 으로 성능 관찰.\n",
    "3. activation, loss 설정\n",
    "4. Early Stopping"
   ]
  },
  {
   "cell_type": "code",
   "execution_count": null,
   "metadata": {
    "id": "jKqN4AY1Qt36"
   },
   "outputs": [],
   "source": [
    "########################\n",
    "# 모델링 I : .fit( ) 까지!\n",
    "########################\n"
   ]
  },
  {
   "cell_type": "code",
   "execution_count": null,
   "metadata": {
    "id": "3LZQpXA01gEE"
   },
   "outputs": [],
   "source": [
    "pred_train = model.predict(train_x)\n",
    "pred_test = model.predict(test_x)\n",
    "\n",
    "single_pred_train = pred_train.argmax(axis=1)\n",
    "single_pred_test = pred_test.argmax(axis=1)\n",
    "\n",
    "logi_train_accuracy = accuracy_score(train_y.argmax(axis=1), single_pred_train)\n",
    "logi_test_accuracy = accuracy_score(test_y.argmax(axis=1), single_pred_test)\n",
    "\n",
    "print('트레이닝 정확도 : {:.2f}%'.format(logi_train_accuracy*100))\n",
    "print('테스트 정확도 : {:.2f}%'.format(logi_test_accuracy*100))"
   ]
  },
  {
   "cell_type": "code",
   "execution_count": null,
   "metadata": {
    "id": "qpc22yPV2ojZ"
   },
   "outputs": [],
   "source": [
    "mnist_labels = ['0', '1', '2', '3', '4', '5', '6', '7', '8', '9']\n",
    "\n",
    "figure = plt.figure(figsize=(20, 10))\n",
    "\n",
    "for i, index in enumerate(np.random.choice(test_x.shape[0], size=15, replace=False)):\n",
    "    ax = figure.add_subplot(3, 5, i + 1, xticks=[], yticks=[])\n",
    "    # Display each image\n",
    "    ax.imshow(np.squeeze(test_x[index].reshape([28,-1])), cmap='gray' )\n",
    "    \n",
    "    predict_index = pred_test[index].argmax(axis=0)\n",
    "    true_index = test_y[index].argmax(axis=0)\n",
    "    # Set the title for each image\n",
    "    ax.set_title(f\"{mnist_labels[predict_index]} ({mnist_labels[true_index]})\",\n",
    "                 color=(\"green\" if predict_index == true_index else \"red\"))"
   ]
  },
  {
   "cell_type": "code",
   "execution_count": null,
   "metadata": {
    "id": "LWYzgkHh1gEM"
   },
   "outputs": [],
   "source": [
    "'''\n",
    "틀린 것만 관찰해보자!\n",
    "\n",
    "Ctrl+Enter를 이용하여\n",
    "반복 실행 해보자!\n",
    "'''\n",
    "\n",
    "true_false = (test_y.argmax(axis=1) == single_pred_test)\n",
    "f_id = np.where(true_false == False)[0]\n",
    "f_n = len(f_id)\n",
    "\n",
    "id = f_id[rd.randrange(0,f_n)]\n",
    "\n",
    "print(f'id = {id}' )\n",
    "print(f'다음 그림은 숫자 {test_y.argmax(axis=1)[id]} 입니다.')\n",
    "print(f'모델의 예측 : {single_pred_test[id]}')\n",
    "print(f'모델의 카테고리별 확률 : {np.floor(pred_test[id]*100)}')\n",
    "\n",
    "if test_y.argmax(axis=1)[id] == single_pred_test[id] :\n",
    "    print('===============')\n",
    "    print('정답입니다')\n",
    "    print('===============')\n",
    "else : \n",
    "    print('===============')\n",
    "    print('틀렸어요')\n",
    "    print('===============')\n",
    "\n",
    "plt.imshow(test_x[id].reshape([28,-1]), cmap='gray')\n",
    "plt.show()"
   ]
  },
  {
   "cell_type": "code",
   "execution_count": null,
   "metadata": {
    "id": "NFpmX8rrP0T9"
   },
   "outputs": [],
   "source": [
    "model.evaluate(test_x, test_y)"
   ]
  },
  {
   "cell_type": "markdown",
   "metadata": {
    "id": "Zf8Kd1vj4J_q"
   },
   "source": [
    "\n",
    "\n",
    "---\n",
    "\n"
   ]
  },
  {
   "cell_type": "markdown",
   "metadata": {
    "id": "X0oixpzuOken"
   },
   "source": [
    "## 모델링 II\n",
    "\n",
    "1. Sequential, Functional 아무 것이나!\n",
    "2. 히든레이어 3개 이상 쌓고, epochs=50 으로 성능 관찰.\n",
    "3. activation, loss 설정\n",
    "4. Early Stopping"
   ]
  },
  {
   "cell_type": "code",
   "execution_count": null,
   "metadata": {
    "id": "igqds2zPQ7pu"
   },
   "outputs": [],
   "source": [
    "#########################\n",
    "# 모델링 II : .fit( ) 까지!\n",
    "#########################\n"
   ]
  },
  {
   "cell_type": "code",
   "execution_count": null,
   "metadata": {
    "id": "RK1KSAYBOkep"
   },
   "outputs": [],
   "source": [
    "pred_train = model.predict(train_x)\n",
    "pred_test = model.predict(test_x)\n",
    "\n",
    "single_pred_train = pred_train.argmax(axis=1)\n",
    "single_pred_test = pred_test.argmax(axis=1)\n",
    "\n",
    "logi_train_accuracy = accuracy_score(train_y.argmax(axis=1), single_pred_train)\n",
    "logi_test_accuracy = accuracy_score(test_y.argmax(axis=1), single_pred_test)\n",
    "\n",
    "print('트레이닝 정확도 : {:.2f}%'.format(logi_train_accuracy*100))\n",
    "print('테스트 정확도 : {:.2f}%'.format(logi_test_accuracy*100))"
   ]
  },
  {
   "cell_type": "code",
   "execution_count": null,
   "metadata": {
    "id": "oaqGP_11Okep"
   },
   "outputs": [],
   "source": [
    "mnist_labels = ['0', '1', '2', '3', '4', '5', '6', '7', '8', '9']\n",
    "\n",
    "figure = plt.figure(figsize=(20, 10))\n",
    "\n",
    "for i, index in enumerate(np.random.choice(test_x.shape[0], size=15, replace=False)):\n",
    "    ax = figure.add_subplot(3, 5, i + 1, xticks=[], yticks=[])\n",
    "    # Display each image\n",
    "    ax.imshow(np.squeeze(test_x[index].reshape([28,-1])), cmap='gray' )\n",
    "    \n",
    "    predict_index = pred_test[index].argmax(axis=0)\n",
    "    true_index = test_y[index].argmax(axis=0)\n",
    "    # Set the title for each image\n",
    "    ax.set_title(f\"{mnist_labels[predict_index]} ({mnist_labels[true_index]})\",\n",
    "                 color=(\"green\" if predict_index == true_index else \"red\"))"
   ]
  },
  {
   "cell_type": "code",
   "execution_count": null,
   "metadata": {
    "id": "VMYH5ksPOkep"
   },
   "outputs": [],
   "source": [
    "'''\n",
    "틀린 것만 관찰해보자!\n",
    "\n",
    "Ctrl+Enter를 이용하여\n",
    "반복 실행 해보자!\n",
    "'''\n",
    "\n",
    "true_false = (test_y.argmax(axis=1) == single_pred_test)\n",
    "f_id = np.where(true_false == False)[0]\n",
    "f_n = len(f_id)\n",
    "\n",
    "id = f_id[rd.randrange(0,f_n)]\n",
    "\n",
    "print(f'id = {id}' )\n",
    "print(f'다음 그림은 숫자 {test_y.argmax(axis=1)[id]} 입니다.')\n",
    "print(f'모델의 예측 : {single_pred_test[id]}')\n",
    "print(f'모델의 카테고리별 확률 : {np.floor(pred_test[id]*100)}')\n",
    "\n",
    "if test_y.argmax(axis=1)[id] == single_pred_test[id] :\n",
    "    print('===============')\n",
    "    print('정답입니다')\n",
    "    print('===============')\n",
    "else : \n",
    "    print('===============')\n",
    "    print('틀렸어요')\n",
    "    print('===============')\n",
    "\n",
    "plt.imshow(test_x[id].reshape([28,-1]), cmap='gray')\n",
    "plt.show()"
   ]
  },
  {
   "cell_type": "code",
   "execution_count": null,
   "metadata": {
    "id": "Tdq81PdoO66-"
   },
   "outputs": [],
   "source": [
    "model.evaluate(test_x, test_y)"
   ]
  }
 ],
 "metadata": {
  "colab": {
   "provenance": []
  },
  "kernelspec": {
   "display_name": "Python 3 (ipykernel)",
   "language": "python",
   "name": "python3"
  },
  "language_info": {
   "codemirror_mode": {
    "name": "ipython",
    "version": 3
   },
   "file_extension": ".py",
   "mimetype": "text/x-python",
   "name": "python",
   "nbconvert_exporter": "python",
   "pygments_lexer": "ipython3",
   "version": "3.9.13"
  }
 },
 "nbformat": 4,
 "nbformat_minor": 4
}
