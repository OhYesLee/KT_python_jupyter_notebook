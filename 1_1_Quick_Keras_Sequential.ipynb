{
  "cells": [
    {
      "cell_type": "markdown",
      "metadata": {
        "id": "view-in-github",
        "colab_type": "text"
      },
      "source": [
        "<a href=\"https://colab.research.google.com/github/OhYesLee/KT_python_jupyter_notebook/blob/main/1_1_Quick_Keras_Sequential.ipynb\" target=\"_parent\"><img src=\"https://colab.research.google.com/assets/colab-badge.svg\" alt=\"Open In Colab\"/></a>"
      ]
    },
    {
      "cell_type": "markdown",
      "metadata": {
        "id": "HZc219MFFibh"
      },
      "source": [
        "# Keras로 Linear&Logistic Regression 맛보기!\n",
        "---\n",
        "#### 실습목표\n",
        "1. keras의 모델링 아이디어를 이해한다.\n",
        "2. 모든 코드를 이해한다."
      ]
    },
    {
      "cell_type": "markdown",
      "metadata": {
        "id": "dwEdLgZpFibi"
      },
      "source": [
        "## Quick Linear Regression!"
      ]
    },
    {
      "cell_type": "code",
      "source": [
        "print('test')"
      ],
      "metadata": {
        "colab": {
          "base_uri": "https://localhost:8080/"
        },
        "id": "sJbgwf_W3Jn2",
        "outputId": "92f6827f-ce6b-404e-eb08-14607ecee771"
      },
      "execution_count": 1,
      "outputs": [
        {
          "output_type": "stream",
          "name": "stdout",
          "text": [
            "test\n"
          ]
        }
      ]
    },
    {
      "cell_type": "code",
      "execution_count": null,
      "metadata": {
        "id": "Lbold6iIS8E1"
      },
      "outputs": [],
      "source": [
        "import tensorflow as tf\n",
        "from tensorflow import keras\n",
        "\n",
        "import numpy as np"
      ]
    },
    {
      "cell_type": "code",
      "execution_count": null,
      "metadata": {
        "id": "QvObzQ1MFibj",
        "outputId": "8a98b629-5fe4-414a-e7f6-fbe6710b0e10"
      },
      "outputs": [
        {
          "name": "stdout",
          "output_type": "stream",
          "text": [
            "[ 0  1  2  3  4  5  6  7  8  9 10 11 12 13 14 15 16 17 18 19]\n",
            "[-1  1  3  5  7  9 11 13 15 17 19 21 23 25 27 29 31 33 35 37]\n"
          ]
        }
      ],
      "source": [
        "x = np.array(range(20))\n",
        "y = x * 2 - 1 \n",
        "\n",
        "print(x)\n",
        "print(y)"
      ]
    },
    {
      "cell_type": "code",
      "execution_count": null,
      "metadata": {
        "id": "iUqZACd2IRcn"
      },
      "outputs": [],
      "source": [
        "# 1번 청소 : 이미 만들어진 모델이 있다면 그 모델을 없애줘\n",
        "keras.backend.clear_session()\n",
        "\n",
        "# 2번 모델 선언\n",
        "model = keras.models.Sequential()\n",
        "\n",
        "# 3번 모델 블록 조립\n",
        "model.add( keras.layers.Input(shape=(1,)) )\n",
        "model.add( keras.layers.Dense(1) )\n",
        "\n",
        "## 오리지널 Sequential API\n",
        "# model.add( keras.layers.Dense(1, input_shape=(1,)) )\n",
        "\n",
        "# 4번 컴파일 \n",
        "model.compile(loss='mse',\n",
        "              optimizer='adam')"
      ]
    },
    {
      "cell_type": "code",
      "execution_count": null,
      "metadata": {
        "id": "s1UM3mOzLTeb",
        "outputId": "08de25b9-fc47-4c95-e1e2-54b22942562e"
      },
      "outputs": [
        {
          "name": "stdout",
          "output_type": "stream",
          "text": [
            "Epoch 1/10\n",
            "1/1 [==============================] - 1s 686ms/step - loss: 1410.8970\n",
            "Epoch 2/10\n",
            "1/1 [==============================] - 0s 5ms/step - loss: 1409.9987\n",
            "Epoch 3/10\n",
            "1/1 [==============================] - 0s 4ms/step - loss: 1409.1005\n",
            "Epoch 4/10\n",
            "1/1 [==============================] - 0s 10ms/step - loss: 1408.2029\n",
            "Epoch 5/10\n",
            "1/1 [==============================] - 0s 5ms/step - loss: 1407.3054\n",
            "Epoch 6/10\n",
            "1/1 [==============================] - 0s 7ms/step - loss: 1406.4083\n",
            "Epoch 7/10\n",
            "1/1 [==============================] - 0s 5ms/step - loss: 1405.5116\n",
            "Epoch 8/10\n",
            "1/1 [==============================] - 0s 7ms/step - loss: 1404.6151\n",
            "Epoch 9/10\n",
            "1/1 [==============================] - 0s 11ms/step - loss: 1403.7190\n",
            "Epoch 10/10\n",
            "1/1 [==============================] - 0s 7ms/step - loss: 1402.8234\n"
          ]
        },
        {
          "data": {
            "text/plain": [
              "<keras.callbacks.History at 0x1c5fe16dd60>"
            ]
          },
          "execution_count": 4,
          "metadata": {},
          "output_type": "execute_result"
        }
      ],
      "source": [
        "model.fit(x, y, epochs=10, verbose=1)"
      ]
    },
    {
      "cell_type": "code",
      "execution_count": null,
      "metadata": {
        "id": "BGYwVUWCqNxy",
        "outputId": "8a0b9078-cbe4-460d-feff-ddfe551ff320"
      },
      "outputs": [
        {
          "name": "stdout",
          "output_type": "stream",
          "text": [
            "[-1  1  3  5  7  9 11 13 15 17 19 21 23 25 27 29 31 33 35 37]\n"
          ]
        }
      ],
      "source": [
        "print(y)"
      ]
    },
    {
      "cell_type": "code",
      "execution_count": null,
      "metadata": {
        "id": "FFtYxu5aqQFq",
        "outputId": "b443346b-0b42-407b-e69c-51d88e8ac78a"
      },
      "outputs": [
        {
          "name": "stdout",
          "output_type": "stream",
          "text": [
            "1/1 [==============================] - 0s 112ms/step\n"
          ]
        },
        {
          "data": {
            "text/plain": [
              "array([ 9.9989288e-03, -1.4365830e+00, -2.8831649e+00, -4.3297472e+00,\n",
              "       -5.7763290e+00, -7.2229109e+00, -8.6694927e+00, -1.0116075e+01,\n",
              "       -1.1562656e+01, -1.3009238e+01, -1.4455820e+01, -1.5902402e+01,\n",
              "       -1.7348986e+01, -1.8795567e+01, -2.0242149e+01, -2.1688730e+01,\n",
              "       -2.3135313e+01, -2.4581896e+01, -2.6028477e+01, -2.7475060e+01],\n",
              "      dtype=float32)"
            ]
          },
          "execution_count": 6,
          "metadata": {},
          "output_type": "execute_result"
        }
      ],
      "source": [
        "model.predict(x).reshape(-1)"
      ]
    },
    {
      "cell_type": "markdown",
      "metadata": {
        "id": "zvqPQxmgFibo"
      },
      "source": [
        "## Now, Your turn!"
      ]
    },
    {
      "cell_type": "code",
      "execution_count": null,
      "metadata": {
        "id": "vdb8LW335i1q"
      },
      "outputs": [],
      "source": [
        "# 라이브러리 불러오기\n",
        "import tensorflow as tf\n",
        "from tensorflow import keras\n",
        "\n",
        "import numpy as np"
      ]
    },
    {
      "cell_type": "code",
      "execution_count": null,
      "metadata": {
        "id": "wIFzEwY2PWpX",
        "outputId": "0d59ab74-fb79-43d1-88ca-553b86f83b36"
      },
      "outputs": [
        {
          "name": "stdout",
          "output_type": "stream",
          "text": [
            "[ 0  1  2  3  4  5  6  7  8  9 10 11 12 13 14 15 16 17 18 19]\n",
            "[ 10   7   4   1  -2  -5  -8 -11 -14 -17 -20 -23 -26 -29 -32 -35 -38 -41\n",
            " -44 -47]\n"
          ]
        }
      ],
      "source": [
        "x = np.array(range(20)) \n",
        "y = x * (-3) + 10\n",
        "\n",
        "print(x)\n",
        "print(y)"
      ]
    },
    {
      "cell_type": "code",
      "execution_count": null,
      "metadata": {
        "id": "iCHBbcZ527sQ",
        "outputId": "347c7222-22ca-4165-ba52-c0269cd81ffb"
      },
      "outputs": [
        {
          "data": {
            "text/plain": [
              "((20,), (20,))"
            ]
          },
          "execution_count": 11,
          "metadata": {},
          "output_type": "execute_result"
        }
      ],
      "source": [
        "x.shape,y.shape"
      ]
    },
    {
      "cell_type": "code",
      "execution_count": null,
      "metadata": {
        "id": "ZiOsqLo3Tzqj"
      },
      "outputs": [],
      "source": [
        "## Sequential API\n",
        "# 1번 청소 세션 클리어 : 이미 만들어진 모델이 있다면 그 모델을 없애줘\n",
        "keras.backend.clear_session()\n",
        "# 2번 모델 선언, 모델 발판 생성\n",
        "model = keras.models.Sequential()\n",
        "# 3번 모델 블록 조립, 모델 레이어 쌓기\n",
        "model.add( keras.layers.Input(shape=(1,)) )\n",
        "model.add( keras.layers.Dense(1))\n",
        "# 4번 컴파일 \n",
        "model.compile(loss='mse', optimizer = 'adam')"
      ]
    },
    {
      "cell_type": "code",
      "execution_count": null,
      "metadata": {
        "id": "ivKFg1NJ27sR",
        "outputId": "3e2a8563-f1ec-433c-9638-54435e353f68"
      },
      "outputs": [
        {
          "name": "stdout",
          "output_type": "stream",
          "text": [
            "Epoch 1/10\n",
            "1/1 [==============================] - 0s 461ms/step - loss: 280.5103\n",
            "Epoch 2/10\n",
            "1/1 [==============================] - 0s 5ms/step - loss: 280.1346\n",
            "Epoch 3/10\n",
            "1/1 [==============================] - 0s 4ms/step - loss: 279.7593\n",
            "Epoch 4/10\n",
            "1/1 [==============================] - 0s 6ms/step - loss: 279.3843\n",
            "Epoch 5/10\n",
            "1/1 [==============================] - 0s 8ms/step - loss: 279.0095\n",
            "Epoch 6/10\n",
            "1/1 [==============================] - 0s 4ms/step - loss: 278.6351\n",
            "Epoch 7/10\n",
            "1/1 [==============================] - 0s 7ms/step - loss: 278.2610\n",
            "Epoch 8/10\n",
            "1/1 [==============================] - 0s 6ms/step - loss: 277.8872\n",
            "Epoch 9/10\n",
            "1/1 [==============================] - 0s 12ms/step - loss: 277.5137\n",
            "Epoch 10/10\n",
            "1/1 [==============================] - 0s 4ms/step - loss: 277.1406\n"
          ]
        },
        {
          "data": {
            "text/plain": [
              "<keras.callbacks.History at 0x1c5fe4f3b20>"
            ]
          },
          "execution_count": 13,
          "metadata": {},
          "output_type": "execute_result"
        }
      ],
      "source": [
        "model.fit(x, y, epochs = 10, verbose= 1)"
      ]
    },
    {
      "cell_type": "code",
      "execution_count": null,
      "metadata": {
        "id": "6ZAgdOyT27sS"
      },
      "outputs": [],
      "source": [
        "print(y)"
      ]
    },
    {
      "cell_type": "code",
      "execution_count": null,
      "metadata": {
        "id": "7woXBi7H27sS"
      },
      "outputs": [],
      "source": []
    },
    {
      "cell_type": "code",
      "execution_count": null,
      "metadata": {
        "id": "GABNDtn127sS"
      },
      "outputs": [],
      "source": []
    },
    {
      "cell_type": "code",
      "execution_count": null,
      "metadata": {
        "id": "eL6l8owK27sS"
      },
      "outputs": [],
      "source": []
    },
    {
      "cell_type": "markdown",
      "metadata": {
        "id": "CMfaYMFCTz2d"
      },
      "source": [
        "## Quick Logistic Regression!"
      ]
    },
    {
      "cell_type": "code",
      "execution_count": null,
      "metadata": {
        "id": "OmGKbCiATz2e"
      },
      "outputs": [],
      "source": [
        "import tensorflow as tf\n",
        "from tensorflow import keras\n",
        "\n",
        "import numpy as np"
      ]
    },
    {
      "cell_type": "code",
      "execution_count": null,
      "metadata": {
        "id": "yzweU4sRTz2g"
      },
      "outputs": [],
      "source": [
        "x = np.array(range(20)) \n",
        "y = np.array([0]*10 + [1]*10)\n",
        "print(x)\n",
        "print(y)"
      ]
    },
    {
      "cell_type": "code",
      "execution_count": null,
      "metadata": {
        "id": "wiQzDaBzTz2j"
      },
      "outputs": [],
      "source": [
        "# 혹시 이미 그려둔 그래프가 있다면 날려줘!\n",
        "keras.backend.clear_session()\n",
        "\n",
        "# model에 순차적으로 레이어를 쌓아가겠다는 의도!\n",
        "model = keras.models.Sequential()\n",
        "\n",
        "# model에 인풋 값을 받는 레이어를 넣음\n",
        "model.add( keras.layers.Input(shape=(1,)) )\n",
        "# model에 Dense 레이어를 넣을거야 (최초의 레이어) : weight를 곱하고, bias를 더해주는 과정\n",
        "model.add( keras.layers.Dense(1, activation='sigmoid') )\n",
        "\n",
        "\n",
        "# 오리지널 Sequential API\n",
        "# model.add( keras.layers.Dense(1, input_shape=(1,), activation='sigmoid') )\n",
        "\n",
        "# 컴파일 해주렴\n",
        "model.compile(loss='binary_crossentropy', metrics=['accuracy'], optimizer='adam')"
      ]
    },
    {
      "cell_type": "code",
      "execution_count": null,
      "metadata": {
        "id": "b_FXYQ7fTz2l"
      },
      "outputs": [],
      "source": [
        "# 데이터를 넣어서 학습시키자!\n",
        "model.fit(x, y, epochs=10, verbose=1)\n",
        "\n",
        "# 결과 출력해줘!\n",
        "print(y)\n",
        "print(model.predict(x))"
      ]
    },
    {
      "cell_type": "markdown",
      "metadata": {
        "id": "bqJtsDjtTz2n"
      },
      "source": [
        "## Now, Your turn!"
      ]
    },
    {
      "cell_type": "code",
      "execution_count": null,
      "metadata": {
        "id": "2asYuMjL5jgc"
      },
      "outputs": [],
      "source": []
    },
    {
      "cell_type": "code",
      "execution_count": null,
      "metadata": {
        "id": "IGSN3QAPTz2o"
      },
      "outputs": [],
      "source": [
        "x = np.array(range(40)) \n",
        "y = np.array([0]*20 + [1]*20)\n",
        "print(x)\n",
        "print(y)"
      ]
    },
    {
      "cell_type": "code",
      "execution_count": null,
      "metadata": {
        "id": "Ma61XgWYUMPi"
      },
      "outputs": [],
      "source": []
    }
  ],
  "metadata": {
    "colab": {
      "provenance": [],
      "include_colab_link": true
    },
    "kernelspec": {
      "display_name": "Python 3 (ipykernel)",
      "language": "python",
      "name": "python3"
    },
    "language_info": {
      "codemirror_mode": {
        "name": "ipython",
        "version": 3
      },
      "file_extension": ".py",
      "mimetype": "text/x-python",
      "name": "python",
      "nbconvert_exporter": "python",
      "pygments_lexer": "ipython3",
      "version": "3.9.13"
    }
  },
  "nbformat": 4,
  "nbformat_minor": 0
}