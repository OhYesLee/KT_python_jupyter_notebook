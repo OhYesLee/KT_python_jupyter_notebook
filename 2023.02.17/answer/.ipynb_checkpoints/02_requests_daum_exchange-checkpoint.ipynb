{
 "cells": [
  {
   "cell_type": "markdown",
   "id": "ce44dd79",
   "metadata": {},
   "source": [
    "### Daum Exchange\n",
    "- `https://finance.daum.net`\n",
    "- 서버에서 어뷰징을 막는 경우 해결 방법"
   ]
  },
  {
   "cell_type": "code",
   "execution_count": 1,
   "id": "0c90435f",
   "metadata": {},
   "outputs": [],
   "source": [
    "import warnings\n",
    "warnings.filterwarnings('ignore')\n",
    "import pandas as pd\n",
    "import requests"
   ]
  },
  {
   "cell_type": "code",
   "execution_count": 11,
   "id": "e64bfb63",
   "metadata": {},
   "outputs": [
    {
     "data": {
      "text/html": [
       "<div>\n",
       "<style scoped>\n",
       "    .dataframe tbody tr th:only-of-type {\n",
       "        vertical-align: middle;\n",
       "    }\n",
       "\n",
       "    .dataframe tbody tr th {\n",
       "        vertical-align: top;\n",
       "    }\n",
       "\n",
       "    .dataframe thead th {\n",
       "        text-align: right;\n",
       "    }\n",
       "</style>\n",
       "<table border=\"1\" class=\"dataframe\">\n",
       "  <thead>\n",
       "    <tr style=\"text-align: right;\">\n",
       "      <th></th>\n",
       "      <th>symbolCode</th>\n",
       "      <th>date</th>\n",
       "      <th>currencyCode</th>\n",
       "      <th>currencyName</th>\n",
       "      <th>currencyUnit</th>\n",
       "      <th>country</th>\n",
       "      <th>region</th>\n",
       "      <th>name</th>\n",
       "      <th>recurrenceCount</th>\n",
       "      <th>basePrice</th>\n",
       "      <th>...</th>\n",
       "      <th>changeRate</th>\n",
       "      <th>cashBuyingPrice</th>\n",
       "      <th>cashSellingPrice</th>\n",
       "      <th>ttBuyingPrice</th>\n",
       "      <th>ttSellingPrice</th>\n",
       "      <th>tcBuyingPrice</th>\n",
       "      <th>fcSellingPrice</th>\n",
       "      <th>exchangeCommission</th>\n",
       "      <th>usDollarRate</th>\n",
       "      <th>chartImageUrl</th>\n",
       "    </tr>\n",
       "  </thead>\n",
       "  <tbody>\n",
       "    <tr>\n",
       "      <th>40</th>\n",
       "      <td>FRX.KRWQAR</td>\n",
       "      <td>2023-02-16 15:06:51</td>\n",
       "      <td>QAR</td>\n",
       "      <td>리얄</td>\n",
       "      <td>1</td>\n",
       "      <td>카타르</td>\n",
       "      <td>{'korName': '중동', 'engName': 'Middle East'}</td>\n",
       "      <td>카타르 (KRW/QAR)</td>\n",
       "      <td>521</td>\n",
       "      <td>351.84</td>\n",
       "      <td>...</td>\n",
       "      <td>0.002806</td>\n",
       "      <td>0.0</td>\n",
       "      <td>0.0</td>\n",
       "      <td>0.00</td>\n",
       "      <td>0.00</td>\n",
       "      <td>None</td>\n",
       "      <td>None</td>\n",
       "      <td>3.355</td>\n",
       "      <td>0.2741</td>\n",
       "      <td>{'day': 'https://t1.daumcdn.net/finance/chart/...</td>\n",
       "    </tr>\n",
       "    <tr>\n",
       "      <th>41</th>\n",
       "      <td>FRX.KRWTRY</td>\n",
       "      <td>2023-02-16 15:06:51</td>\n",
       "      <td>TRY</td>\n",
       "      <td>리라</td>\n",
       "      <td>1</td>\n",
       "      <td>터키</td>\n",
       "      <td>{'korName': '중동', 'engName': 'Middle East'}</td>\n",
       "      <td>터키 (KRW/TRY)</td>\n",
       "      <td>521</td>\n",
       "      <td>68.08</td>\n",
       "      <td>...</td>\n",
       "      <td>0.002783</td>\n",
       "      <td>0.0</td>\n",
       "      <td>0.0</td>\n",
       "      <td>67.34</td>\n",
       "      <td>68.82</td>\n",
       "      <td>None</td>\n",
       "      <td>None</td>\n",
       "      <td>26.400</td>\n",
       "      <td>0.0530</td>\n",
       "      <td>{'day': 'https://t1.daumcdn.net/finance/chart/...</td>\n",
       "    </tr>\n",
       "  </tbody>\n",
       "</table>\n",
       "<p>2 rows × 22 columns</p>\n",
       "</div>"
      ],
      "text/plain": [
       "    symbolCode                 date currencyCode currencyName  currencyUnit  \\\n",
       "40  FRX.KRWQAR  2023-02-16 15:06:51          QAR           리얄             1   \n",
       "41  FRX.KRWTRY  2023-02-16 15:06:51          TRY           리라             1   \n",
       "\n",
       "   country                                       region           name  \\\n",
       "40     카타르  {'korName': '중동', 'engName': 'Middle East'}  카타르 (KRW/QAR)   \n",
       "41      터키  {'korName': '중동', 'engName': 'Middle East'}   터키 (KRW/TRY)   \n",
       "\n",
       "    recurrenceCount  basePrice  ... changeRate  cashBuyingPrice  \\\n",
       "40              521     351.84  ...   0.002806              0.0   \n",
       "41              521      68.08  ...   0.002783              0.0   \n",
       "\n",
       "    cashSellingPrice  ttBuyingPrice  ttSellingPrice  tcBuyingPrice  \\\n",
       "40               0.0           0.00            0.00           None   \n",
       "41               0.0          67.34           68.82           None   \n",
       "\n",
       "    fcSellingPrice exchangeCommission usDollarRate  \\\n",
       "40            None              3.355       0.2741   \n",
       "41            None             26.400       0.0530   \n",
       "\n",
       "                                        chartImageUrl  \n",
       "40  {'day': 'https://t1.daumcdn.net/finance/chart/...  \n",
       "41  {'day': 'https://t1.daumcdn.net/finance/chart/...  \n",
       "\n",
       "[2 rows x 22 columns]"
      ]
     },
     "execution_count": 11,
     "metadata": {},
     "output_type": "execute_result"
    }
   ],
   "source": [
    "# 1. 웹서비스분석 : URL\n",
    "url = 'https://finance.daum.net/api/exchanges/summaries'\n",
    "headers = {\n",
    "    'user-agent': 'Mozilla/5.0 (Windows NT 10.0; Win64; x64) AppleWebKit/537.36 (KHTML, like Gecko) Chrome/110.0.0.0 Safari/537.36',\n",
    "    'referer': 'https://finance.daum.net/exchanges',\n",
    "}\n",
    "\n",
    "# 2. request(URL) > response : json(str)\n",
    "response = requests.get(url, headers=headers)\n",
    "\n",
    "# 3. json(str) > list, dict > DataFrame\n",
    "df = pd.DataFrame(response.json()['data'])\n",
    "df.tail(2)"
   ]
  },
  {
   "cell_type": "code",
   "execution_count": 12,
   "id": "6c1f7e5f",
   "metadata": {},
   "outputs": [
    {
     "data": {
      "text/plain": [
       "20"
      ]
     },
     "execution_count": 12,
     "metadata": {},
     "output_type": "execute_result"
    }
   ],
   "source": [
    "pd.options.display.max_columns"
   ]
  },
  {
   "cell_type": "code",
   "execution_count": 13,
   "id": "058dafee",
   "metadata": {},
   "outputs": [],
   "source": [
    "pd.options.display.max_columns = 30"
   ]
  },
  {
   "cell_type": "code",
   "execution_count": 14,
   "id": "49f7bf1b",
   "metadata": {},
   "outputs": [
    {
     "data": {
      "text/html": [
       "<div>\n",
       "<style scoped>\n",
       "    .dataframe tbody tr th:only-of-type {\n",
       "        vertical-align: middle;\n",
       "    }\n",
       "\n",
       "    .dataframe tbody tr th {\n",
       "        vertical-align: top;\n",
       "    }\n",
       "\n",
       "    .dataframe thead th {\n",
       "        text-align: right;\n",
       "    }\n",
       "</style>\n",
       "<table border=\"1\" class=\"dataframe\">\n",
       "  <thead>\n",
       "    <tr style=\"text-align: right;\">\n",
       "      <th></th>\n",
       "      <th>symbolCode</th>\n",
       "      <th>date</th>\n",
       "      <th>currencyCode</th>\n",
       "      <th>currencyName</th>\n",
       "      <th>currencyUnit</th>\n",
       "      <th>country</th>\n",
       "      <th>region</th>\n",
       "      <th>name</th>\n",
       "      <th>recurrenceCount</th>\n",
       "      <th>basePrice</th>\n",
       "      <th>change</th>\n",
       "      <th>changePrice</th>\n",
       "      <th>changeRate</th>\n",
       "      <th>cashBuyingPrice</th>\n",
       "      <th>cashSellingPrice</th>\n",
       "      <th>ttBuyingPrice</th>\n",
       "      <th>ttSellingPrice</th>\n",
       "      <th>tcBuyingPrice</th>\n",
       "      <th>fcSellingPrice</th>\n",
       "      <th>exchangeCommission</th>\n",
       "      <th>usDollarRate</th>\n",
       "      <th>chartImageUrl</th>\n",
       "    </tr>\n",
       "  </thead>\n",
       "  <tbody>\n",
       "    <tr>\n",
       "      <th>40</th>\n",
       "      <td>FRX.KRWQAR</td>\n",
       "      <td>2023-02-16 15:06:51</td>\n",
       "      <td>QAR</td>\n",
       "      <td>리얄</td>\n",
       "      <td>1</td>\n",
       "      <td>카타르</td>\n",
       "      <td>{'korName': '중동', 'engName': 'Middle East'}</td>\n",
       "      <td>카타르 (KRW/QAR)</td>\n",
       "      <td>521</td>\n",
       "      <td>351.84</td>\n",
       "      <td>FALL</td>\n",
       "      <td>0.99</td>\n",
       "      <td>0.002806</td>\n",
       "      <td>0.0</td>\n",
       "      <td>0.0</td>\n",
       "      <td>0.00</td>\n",
       "      <td>0.00</td>\n",
       "      <td>None</td>\n",
       "      <td>None</td>\n",
       "      <td>3.355</td>\n",
       "      <td>0.2741</td>\n",
       "      <td>{'day': 'https://t1.daumcdn.net/finance/chart/...</td>\n",
       "    </tr>\n",
       "    <tr>\n",
       "      <th>41</th>\n",
       "      <td>FRX.KRWTRY</td>\n",
       "      <td>2023-02-16 15:06:51</td>\n",
       "      <td>TRY</td>\n",
       "      <td>리라</td>\n",
       "      <td>1</td>\n",
       "      <td>터키</td>\n",
       "      <td>{'korName': '중동', 'engName': 'Middle East'}</td>\n",
       "      <td>터키 (KRW/TRY)</td>\n",
       "      <td>521</td>\n",
       "      <td>68.08</td>\n",
       "      <td>FALL</td>\n",
       "      <td>0.19</td>\n",
       "      <td>0.002783</td>\n",
       "      <td>0.0</td>\n",
       "      <td>0.0</td>\n",
       "      <td>67.34</td>\n",
       "      <td>68.82</td>\n",
       "      <td>None</td>\n",
       "      <td>None</td>\n",
       "      <td>26.400</td>\n",
       "      <td>0.0530</td>\n",
       "      <td>{'day': 'https://t1.daumcdn.net/finance/chart/...</td>\n",
       "    </tr>\n",
       "  </tbody>\n",
       "</table>\n",
       "</div>"
      ],
      "text/plain": [
       "    symbolCode                 date currencyCode currencyName  currencyUnit  \\\n",
       "40  FRX.KRWQAR  2023-02-16 15:06:51          QAR           리얄             1   \n",
       "41  FRX.KRWTRY  2023-02-16 15:06:51          TRY           리라             1   \n",
       "\n",
       "   country                                       region           name  \\\n",
       "40     카타르  {'korName': '중동', 'engName': 'Middle East'}  카타르 (KRW/QAR)   \n",
       "41      터키  {'korName': '중동', 'engName': 'Middle East'}   터키 (KRW/TRY)   \n",
       "\n",
       "    recurrenceCount  basePrice change  changePrice  changeRate  \\\n",
       "40              521     351.84   FALL         0.99    0.002806   \n",
       "41              521      68.08   FALL         0.19    0.002783   \n",
       "\n",
       "    cashBuyingPrice  cashSellingPrice  ttBuyingPrice  ttSellingPrice  \\\n",
       "40              0.0               0.0           0.00            0.00   \n",
       "41              0.0               0.0          67.34           68.82   \n",
       "\n",
       "   tcBuyingPrice fcSellingPrice  exchangeCommission  usDollarRate  \\\n",
       "40          None           None               3.355        0.2741   \n",
       "41          None           None              26.400        0.0530   \n",
       "\n",
       "                                        chartImageUrl  \n",
       "40  {'day': 'https://t1.daumcdn.net/finance/chart/...  \n",
       "41  {'day': 'https://t1.daumcdn.net/finance/chart/...  "
      ]
     },
     "execution_count": 14,
     "metadata": {},
     "output_type": "execute_result"
    }
   ],
   "source": [
    "df.tail(2)"
   ]
  },
  {
   "cell_type": "code",
   "execution_count": 15,
   "id": "05612f42",
   "metadata": {},
   "outputs": [
    {
     "data": {
      "text/plain": [
       "60"
      ]
     },
     "execution_count": 15,
     "metadata": {},
     "output_type": "execute_result"
    }
   ],
   "source": [
    "pd.options.display.max_rows = 1000"
   ]
  },
  {
   "cell_type": "code",
   "execution_count": null,
   "id": "0c5f313b",
   "metadata": {},
   "outputs": [],
   "source": []
  },
  {
   "cell_type": "code",
   "execution_count": null,
   "id": "f3f129ec",
   "metadata": {},
   "outputs": [],
   "source": []
  },
  {
   "cell_type": "code",
   "execution_count": null,
   "id": "2a2238b3",
   "metadata": {},
   "outputs": [],
   "source": []
  },
  {
   "cell_type": "code",
   "execution_count": null,
   "id": "bcf5c3fb",
   "metadata": {},
   "outputs": [],
   "source": []
  }
 ],
 "metadata": {
  "kernelspec": {
   "display_name": "Python 3",
   "language": "python",
   "name": "python3"
  },
  "language_info": {
   "codemirror_mode": {
    "name": "ipython",
    "version": 3
   },
   "file_extension": ".py",
   "mimetype": "text/x-python",
   "name": "python",
   "nbconvert_exporter": "python",
   "pygments_lexer": "ipython3",
   "version": "3.8.8"
  }
 },
 "nbformat": 4,
 "nbformat_minor": 5
}
