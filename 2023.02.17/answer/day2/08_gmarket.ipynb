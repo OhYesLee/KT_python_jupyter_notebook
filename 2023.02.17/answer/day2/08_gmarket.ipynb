{
 "cells": [
  {
   "cell_type": "markdown",
   "id": "eb136fd8",
   "metadata": {},
   "source": [
    "### Gmarket\n",
    "- 베스트 상품 200개 데이터 수집\n",
    "- 상품의 이미지 200개 다운로드"
   ]
  },
  {
   "cell_type": "code",
   "execution_count": 1,
   "id": "8b1c79e1",
   "metadata": {},
   "outputs": [],
   "source": [
    "import pandas as pd\n",
    "import requests\n",
    "from bs4 import BeautifulSoup"
   ]
  },
  {
   "cell_type": "markdown",
   "id": "d0aec417",
   "metadata": {},
   "source": [
    "#### 1. URL 찾기"
   ]
  },
  {
   "cell_type": "code",
   "execution_count": 2,
   "id": "2677ed34",
   "metadata": {},
   "outputs": [],
   "source": [
    "url = 'https://corners.gmarket.co.kr/bestsellers'"
   ]
  },
  {
   "cell_type": "markdown",
   "id": "ba6511ba",
   "metadata": {},
   "source": [
    "#### 2. request > response : str(html)"
   ]
  },
  {
   "cell_type": "code",
   "execution_count": 3,
   "id": "4001ce14",
   "metadata": {},
   "outputs": [
    {
     "data": {
      "text/plain": [
       "<Response [200]>"
      ]
     },
     "execution_count": 3,
     "metadata": {},
     "output_type": "execute_result"
    }
   ],
   "source": [
    "response = requests.get(url)\n",
    "response"
   ]
  },
  {
   "cell_type": "markdown",
   "id": "7ca93942",
   "metadata": {},
   "source": [
    "#### 3. bs > DataFrame"
   ]
  },
  {
   "cell_type": "code",
   "execution_count": 5,
   "id": "cf4aab14",
   "metadata": {},
   "outputs": [],
   "source": [
    "dom = BeautifulSoup(response.text, 'html.parser')"
   ]
  },
  {
   "cell_type": "code",
   "execution_count": 6,
   "id": "f4fc7ac1",
   "metadata": {},
   "outputs": [
    {
     "data": {
      "text/plain": [
       "200"
      ]
     },
     "execution_count": 6,
     "metadata": {},
     "output_type": "execute_result"
    }
   ],
   "source": [
    "elements = dom.select('#gBestWrap > div > div:nth-child(5) > div > ul > li')\n",
    "len(elements)"
   ]
  },
  {
   "cell_type": "code",
   "execution_count": 8,
   "id": "7e15abdd",
   "metadata": {},
   "outputs": [],
   "source": [
    "element = elements[0]"
   ]
  },
  {
   "cell_type": "code",
   "execution_count": 20,
   "id": "5ad5fa32",
   "metadata": {},
   "outputs": [
    {
     "data": {
      "text/plain": [
       "{'title': '[매일유업]매일 상하멸균우유/케일주스/요미요미24팩모음',\n",
       " 'link': 'http://item.gmarket.co.kr/Item?goodscode=2628342593&ver=638122426388126623',\n",
       " 'img': 'http://gdimg.gmarket.co.kr/2628342593/still/300?ver=2023021714',\n",
       " 'o_price': '정가33,800원',\n",
       " 's_price': '할인가23,700원'}"
      ]
     },
     "execution_count": 20,
     "metadata": {},
     "output_type": "execute_result"
    }
   ],
   "source": [
    "data = {\n",
    "    'title': element.select_one('.itemname').text,\n",
    "    'link': element.select_one('.itemname').get('href'),\n",
    "    'img': 'http:' + element.select_one('img').get('data-original'),\n",
    "    'o_price': element.select_one('.o-price').text,\n",
    "    's_price': element.select_one('.s-price').text.strip().split('\\n')[0],\n",
    "}\n",
    "data"
   ]
  },
  {
   "cell_type": "code",
   "execution_count": 22,
   "id": "9b1ae497",
   "metadata": {},
   "outputs": [
    {
     "data": {
      "text/html": [
       "<div>\n",
       "<style scoped>\n",
       "    .dataframe tbody tr th:only-of-type {\n",
       "        vertical-align: middle;\n",
       "    }\n",
       "\n",
       "    .dataframe tbody tr th {\n",
       "        vertical-align: top;\n",
       "    }\n",
       "\n",
       "    .dataframe thead th {\n",
       "        text-align: right;\n",
       "    }\n",
       "</style>\n",
       "<table border=\"1\" class=\"dataframe\">\n",
       "  <thead>\n",
       "    <tr style=\"text-align: right;\">\n",
       "      <th></th>\n",
       "      <th>title</th>\n",
       "      <th>link</th>\n",
       "      <th>img</th>\n",
       "      <th>o_price</th>\n",
       "      <th>s_price</th>\n",
       "    </tr>\n",
       "  </thead>\n",
       "  <tbody>\n",
       "    <tr>\n",
       "      <th>198</th>\n",
       "      <td>레인보우 중목 라인양말_10+10켤레 세트 (할인특가)</td>\n",
       "      <td>http://item.gmarket.co.kr/Item?goodscode=27936...</td>\n",
       "      <td>http://gdimg.gmarket.co.kr/2793644100/still/30...</td>\n",
       "      <td>정가43,000원</td>\n",
       "      <td>할인가12,900원</td>\n",
       "    </tr>\n",
       "    <tr>\n",
       "      <th>199</th>\n",
       "      <td>[길벗스쿨]길벗스쿨_언어천재 말놀이 세트(본책9권+꾸러미북1권+스티커북1권+말놀이 ...</td>\n",
       "      <td>http://item.gmarket.co.kr/Item?goodscode=27917...</td>\n",
       "      <td>http://gdimg.gmarket.co.kr/2791705618/still/30...</td>\n",
       "      <td>정가96,000원</td>\n",
       "      <td>할인가80,000원</td>\n",
       "    </tr>\n",
       "  </tbody>\n",
       "</table>\n",
       "</div>"
      ],
      "text/plain": [
       "                                                 title  \\\n",
       "198                     레인보우 중목 라인양말_10+10켤레 세트 (할인특가)   \n",
       "199  [길벗스쿨]길벗스쿨_언어천재 말놀이 세트(본책9권+꾸러미북1권+스티커북1권+말놀이 ...   \n",
       "\n",
       "                                                  link  \\\n",
       "198  http://item.gmarket.co.kr/Item?goodscode=27936...   \n",
       "199  http://item.gmarket.co.kr/Item?goodscode=27917...   \n",
       "\n",
       "                                                   img    o_price     s_price  \n",
       "198  http://gdimg.gmarket.co.kr/2793644100/still/30...  정가43,000원  할인가12,900원  \n",
       "199  http://gdimg.gmarket.co.kr/2791705618/still/30...  정가96,000원  할인가80,000원  "
      ]
     },
     "execution_count": 22,
     "metadata": {},
     "output_type": "execute_result"
    }
   ],
   "source": [
    "data = []\n",
    "for element in elements:\n",
    "    data.append({\n",
    "        'title': element.select_one('.itemname').text,\n",
    "        'link': element.select_one('.itemname').get('href'),\n",
    "        'img': 'http:' + element.select_one('img').get('data-original'),\n",
    "        'o_price': element.select_one('.o-price').text,\n",
    "        's_price': element.select_one('.s-price').text.strip().split('\\n')[0],\n",
    "    })\n",
    "df = pd.DataFrame(data)\n",
    "df.tail(2)"
   ]
  },
  {
   "cell_type": "code",
   "execution_count": 34,
   "id": "7ef30209",
   "metadata": {},
   "outputs": [
    {
     "data": {
      "text/html": [
       "<div>\n",
       "<style scoped>\n",
       "    .dataframe tbody tr th:only-of-type {\n",
       "        vertical-align: middle;\n",
       "    }\n",
       "\n",
       "    .dataframe tbody tr th {\n",
       "        vertical-align: top;\n",
       "    }\n",
       "\n",
       "    .dataframe thead th {\n",
       "        text-align: right;\n",
       "    }\n",
       "</style>\n",
       "<table border=\"1\" class=\"dataframe\">\n",
       "  <thead>\n",
       "    <tr style=\"text-align: right;\">\n",
       "      <th></th>\n",
       "      <th>title</th>\n",
       "      <th>link</th>\n",
       "      <th>img</th>\n",
       "      <th>o_price</th>\n",
       "      <th>s_price</th>\n",
       "    </tr>\n",
       "  </thead>\n",
       "  <tbody>\n",
       "    <tr>\n",
       "      <th>20</th>\n",
       "      <td>[압타밀]압타밀 프로푸트라 HMO 2단계 800g x 6통 세트</td>\n",
       "      <td>http://item.gmarket.co.kr/Item?goodscode=25037...</td>\n",
       "      <td>http://gdimg.gmarket.co.kr/2503772943/still/30...</td>\n",
       "      <td>할인가199,000원</td>\n",
       "      <td>할인가199,000원</td>\n",
       "    </tr>\n",
       "    <tr>\n",
       "      <th>21</th>\n",
       "      <td>[도루코]베이직 파스텔 주방가위 1+1특가(색상랜덤) + 집게증정 /우수한절삭력</td>\n",
       "      <td>http://item.gmarket.co.kr/Item?goodscode=21508...</td>\n",
       "      <td>http://gdimg.gmarket.co.kr/2150845686/still/30...</td>\n",
       "      <td>할인가7,900원</td>\n",
       "      <td>할인가7,900원</td>\n",
       "    </tr>\n",
       "    <tr>\n",
       "      <th>22</th>\n",
       "      <td>[일동후디스]후디스 아이음료 과자 모음전</td>\n",
       "      <td>http://item.gmarket.co.kr/Item?goodscode=22631...</td>\n",
       "      <td>http://gdimg.gmarket.co.kr/2263121320/still/30...</td>\n",
       "      <td>정가25,100원</td>\n",
       "      <td>할인가17,600원</td>\n",
       "    </tr>\n",
       "    <tr>\n",
       "      <th>23</th>\n",
       "      <td>도드람한돈 생 삼겹살 500g 구이용</td>\n",
       "      <td>http://item.gmarket.co.kr/Item?goodscode=14907...</td>\n",
       "      <td>http://gdimg.gmarket.co.kr/1490710179/still/30...</td>\n",
       "      <td>할인가11,800원</td>\n",
       "      <td>할인가11,800원</td>\n",
       "    </tr>\n",
       "    <tr>\n",
       "      <th>24</th>\n",
       "      <td>[구글플레이]기프트코드 5만원 / 구글 기프트카드</td>\n",
       "      <td>http://item.gmarket.co.kr/Item?goodscode=16552...</td>\n",
       "      <td>http://gdimg.gmarket.co.kr/1655242060/still/30...</td>\n",
       "      <td>정가50,000원</td>\n",
       "      <td>할인가47,500원</td>\n",
       "    </tr>\n",
       "  </tbody>\n",
       "</table>\n",
       "</div>"
      ],
      "text/plain": [
       "                                           title  \\\n",
       "20           [압타밀]압타밀 프로푸트라 HMO 2단계 800g x 6통 세트   \n",
       "21  [도루코]베이직 파스텔 주방가위 1+1특가(색상랜덤) + 집게증정 /우수한절삭력   \n",
       "22                        [일동후디스]후디스 아이음료 과자 모음전   \n",
       "23                          도드람한돈 생 삼겹살 500g 구이용   \n",
       "24                   [구글플레이]기프트코드 5만원 / 구글 기프트카드   \n",
       "\n",
       "                                                 link  \\\n",
       "20  http://item.gmarket.co.kr/Item?goodscode=25037...   \n",
       "21  http://item.gmarket.co.kr/Item?goodscode=21508...   \n",
       "22  http://item.gmarket.co.kr/Item?goodscode=22631...   \n",
       "23  http://item.gmarket.co.kr/Item?goodscode=14907...   \n",
       "24  http://item.gmarket.co.kr/Item?goodscode=16552...   \n",
       "\n",
       "                                                  img      o_price  \\\n",
       "20  http://gdimg.gmarket.co.kr/2503772943/still/30...  할인가199,000원   \n",
       "21  http://gdimg.gmarket.co.kr/2150845686/still/30...    할인가7,900원   \n",
       "22  http://gdimg.gmarket.co.kr/2263121320/still/30...    정가25,100원   \n",
       "23  http://gdimg.gmarket.co.kr/1490710179/still/30...   할인가11,800원   \n",
       "24  http://gdimg.gmarket.co.kr/1655242060/still/30...    정가50,000원   \n",
       "\n",
       "        s_price  \n",
       "20  할인가199,000원  \n",
       "21    할인가7,900원  \n",
       "22   할인가17,600원  \n",
       "23   할인가11,800원  \n",
       "24   할인가47,500원  "
      ]
     },
     "execution_count": 34,
     "metadata": {},
     "output_type": "execute_result"
    }
   ],
   "source": [
    "# update : 데이터선택 = 수정할데이터\n",
    "idx = df[df['o_price'] == ''].index\n",
    "df['o_price'].loc[idx] = df['s_price'].loc[idx]\n",
    "df[20:40].head()"
   ]
  },
  {
   "cell_type": "code",
   "execution_count": 41,
   "id": "aae9a919",
   "metadata": {},
   "outputs": [],
   "source": [
    "# regex : 정규표현식\n",
    "# 문자열 데이터를 특정 패턴으로 처리할때 사용하는 문법"
   ]
  },
  {
   "cell_type": "code",
   "execution_count": 37,
   "id": "c2d9e47a",
   "metadata": {},
   "outputs": [
    {
     "data": {
      "text/plain": [
       "'1,111,800'"
      ]
     },
     "execution_count": 37,
     "metadata": {},
     "output_type": "execute_result"
    }
   ],
   "source": [
    "import re\n",
    "price = '할인가1,111,800원'\n",
    "re.findall('[0-9,]+', price)[0]"
   ]
  },
  {
   "cell_type": "code",
   "execution_count": 40,
   "id": "a3df73da",
   "metadata": {},
   "outputs": [
    {
     "data": {
      "text/html": [
       "<div>\n",
       "<style scoped>\n",
       "    .dataframe tbody tr th:only-of-type {\n",
       "        vertical-align: middle;\n",
       "    }\n",
       "\n",
       "    .dataframe tbody tr th {\n",
       "        vertical-align: top;\n",
       "    }\n",
       "\n",
       "    .dataframe thead th {\n",
       "        text-align: right;\n",
       "    }\n",
       "</style>\n",
       "<table border=\"1\" class=\"dataframe\">\n",
       "  <thead>\n",
       "    <tr style=\"text-align: right;\">\n",
       "      <th></th>\n",
       "      <th>title</th>\n",
       "      <th>link</th>\n",
       "      <th>img</th>\n",
       "      <th>o_price</th>\n",
       "      <th>s_price</th>\n",
       "    </tr>\n",
       "  </thead>\n",
       "  <tbody>\n",
       "    <tr>\n",
       "      <th>198</th>\n",
       "      <td>레인보우 중목 라인양말_10+10켤레 세트 (할인특가)</td>\n",
       "      <td>http://item.gmarket.co.kr/Item?goodscode=27936...</td>\n",
       "      <td>http://gdimg.gmarket.co.kr/2793644100/still/30...</td>\n",
       "      <td>43,000</td>\n",
       "      <td>12,900</td>\n",
       "    </tr>\n",
       "    <tr>\n",
       "      <th>199</th>\n",
       "      <td>[길벗스쿨]길벗스쿨_언어천재 말놀이 세트(본책9권+꾸러미북1권+스티커북1권+말놀이 ...</td>\n",
       "      <td>http://item.gmarket.co.kr/Item?goodscode=27917...</td>\n",
       "      <td>http://gdimg.gmarket.co.kr/2791705618/still/30...</td>\n",
       "      <td>96,000</td>\n",
       "      <td>80,000</td>\n",
       "    </tr>\n",
       "  </tbody>\n",
       "</table>\n",
       "</div>"
      ],
      "text/plain": [
       "                                                 title  \\\n",
       "198                     레인보우 중목 라인양말_10+10켤레 세트 (할인특가)   \n",
       "199  [길벗스쿨]길벗스쿨_언어천재 말놀이 세트(본책9권+꾸러미북1권+스티커북1권+말놀이 ...   \n",
       "\n",
       "                                                  link  \\\n",
       "198  http://item.gmarket.co.kr/Item?goodscode=27936...   \n",
       "199  http://item.gmarket.co.kr/Item?goodscode=27917...   \n",
       "\n",
       "                                                   img o_price s_price  \n",
       "198  http://gdimg.gmarket.co.kr/2793644100/still/30...  43,000  12,900  \n",
       "199  http://gdimg.gmarket.co.kr/2791705618/still/30...  96,000  80,000  "
      ]
     },
     "execution_count": 40,
     "metadata": {},
     "output_type": "execute_result"
    }
   ],
   "source": [
    "df['o_price'] = df['o_price'].apply(lambda price: re.findall('[0-9,]+', price)[0])\n",
    "df['s_price'] = df['s_price'].apply(lambda price: re.findall('[0-9,]+', price)[0])\n",
    "df.tail(2)"
   ]
  },
  {
   "cell_type": "code",
   "execution_count": 42,
   "id": "ec090b3a",
   "metadata": {},
   "outputs": [
    {
     "data": {
      "text/plain": [
       "['pdj1224@gmail.com', 'pdj.1224@naver.com']"
      ]
     },
     "execution_count": 42,
     "metadata": {},
     "output_type": "execute_result"
    }
   ],
   "source": [
    "txt = '저의 이메일 주소는 pdj1224@gmail.com과 pdj.1224@naver.com입니다.'\n",
    "re.findall('[a-zA-Z0-9.]+@[a-z]+\\.[a-z]+', txt)"
   ]
  },
  {
   "cell_type": "markdown",
   "id": "3aa5186a",
   "metadata": {},
   "source": [
    "#### 4. download image"
   ]
  },
  {
   "cell_type": "code",
   "execution_count": 44,
   "id": "f1d4a3ef",
   "metadata": {},
   "outputs": [],
   "source": [
    "# 이미지 파일 저장할 디렉토리"
   ]
  },
  {
   "cell_type": "code",
   "execution_count": 51,
   "id": "79505108",
   "metadata": {},
   "outputs": [],
   "source": [
    "import os\n",
    "dir_name = 'data'\n",
    "if not os.path.exists(dir_name):\n",
    "    os.makedirs(dir_name)"
   ]
  },
  {
   "cell_type": "code",
   "execution_count": 52,
   "id": "ecbaa318",
   "metadata": {},
   "outputs": [
    {
     "name": "stdout",
     "output_type": "stream",
     "text": [
      "http://gdimg.gmarket.co.kr/2628342593/still/300?ver=2023021714\n"
     ]
    }
   ],
   "source": [
    "img_link = df.loc[0, 'img']\n",
    "print(img_link)"
   ]
  },
  {
   "cell_type": "code",
   "execution_count": 53,
   "id": "f0846ba6",
   "metadata": {},
   "outputs": [
    {
     "data": {
      "text/plain": [
       "<Response [200]>"
      ]
     },
     "execution_count": 53,
     "metadata": {},
     "output_type": "execute_result"
    }
   ],
   "source": [
    "response = requests.get(img_link)\n",
    "response"
   ]
  },
  {
   "cell_type": "code",
   "execution_count": 55,
   "id": "b2237beb",
   "metadata": {},
   "outputs": [],
   "source": [
    "with open('data/test.png', 'wb') as file:\n",
    "    file.write(response.content)"
   ]
  },
  {
   "cell_type": "code",
   "execution_count": 56,
   "id": "16e5b797",
   "metadata": {},
   "outputs": [
    {
     "name": "stdout",
     "output_type": "stream",
     "text": [
      " C 드라이브의 볼륨: 로컬 디스크\n",
      " 볼륨 일련 번호: 8A64-4954\n",
      "\n",
      " C:\\Users\\User\\web_crawling\\data 디렉터리\n",
      "\n",
      "2023-02-17  오후 03:53    <DIR>          .\n",
      "2023-02-17  오후 03:53    <DIR>          ..\n",
      "2023-02-17  오후 03:53            33,866 test.png\n",
      "               1개 파일              33,866 바이트\n",
      "               2개 디렉터리  349,829,222,400 바이트 남음\n"
     ]
    }
   ],
   "source": [
    "%ls data"
   ]
  },
  {
   "cell_type": "code",
   "execution_count": 57,
   "id": "57b33f27",
   "metadata": {},
   "outputs": [],
   "source": [
    "# pillow : 파이썬에서 이미지 전처리를 하는 패키지\n",
    "from PIL import Image as pil"
   ]
  },
  {
   "cell_type": "code",
   "execution_count": 58,
   "id": "632ced4c",
   "metadata": {},
   "outputs": [
    {
     "data": {
      "image/png": "[encoded data removed]",
      "text/plain": [
       "<PIL.JpegImagePlugin.JpegImageFile image mode=RGB size=300x300 at 0x2496D026CA0>"
      ]
     },
     "execution_count": 58,
     "metadata": {},
     "output_type": "execute_result"
    }
   ],
   "source": [
    "pil.open('data/test.png')"
   ]
  },
  {
   "cell_type": "code",
   "execution_count": 69,
   "id": "2f4e28cf",
   "metadata": {},
   "outputs": [
    {
     "name": "stdout",
     "output_type": "stream",
     "text": [
      "0 http://gdimg.gmarket.co.kr/2628342593/still/300?ver=2023021714 data/000.png\n",
      "1 http://gdimg.gmarket.co.kr/1998535842/still/300?ver=2023021714 data/001.png\n",
      "2 http://gdimg.gmarket.co.kr/2772877848/still/300?ver=2023021714 data/002.png\n",
      "3 http://gdimg.gmarket.co.kr/2767818438/still/300?ver=2023021714 data/003.png\n",
      "4 http://gdimg.gmarket.co.kr/2780877061/still/300?ver=2023021714 data/004.png\n",
      "5 http://gdimg.gmarket.co.kr/2762345389/still/300?ver=2023021714 data/005.png\n",
      "6 http://gdimg.gmarket.co.kr/182821824/still/300?ver=2023021714 data/006.png\n",
      "7 http://gdimg.gmarket.co.kr/1977052165/still/300?ver=2023021714 data/007.png\n",
      "8 http://gdimg.gmarket.co.kr/2635078880/still/300?ver=2023021714 data/008.png\n",
      "9 http://gdimg.gmarket.co.kr/2347262038/still/300?ver=2023021714 data/009.png\n",
      "10 http://gdimg.gmarket.co.kr/2090522905/still/300?ver=2023021714 data/010.png\n",
      "11 http://gdimg.gmarket.co.kr/2779014323/still/300?ver=2023021714 data/011.png\n",
      "12 http://gdimg.gmarket.co.kr/2246382810/still/300?ver=2023021714 data/012.png\n",
      "13 http://gdimg.gmarket.co.kr/1655242371/still/300?ver=2023021714 data/013.png\n",
      "14 http://gdimg.gmarket.co.kr/2150766991/still/300?ver=2023021714 data/014.png\n",
      "15 http://gdimg.gmarket.co.kr/1668263057/still/300?ver=2023021714 data/015.png\n",
      "16 http://gdimg.gmarket.co.kr/2134910484/still/300?ver=2023021714 data/016.png\n",
      "17 http://gdimg.gmarket.co.kr/2522397793/still/300?ver=2023021714 data/017.png\n",
      "18 http://gdimg.gmarket.co.kr/2791727542/still/300?ver=2023021714 data/018.png\n",
      "19 http://gdimg.gmarket.co.kr/2793603131/still/300?ver=2023021714 data/019.png\n"
     ]
    }
   ],
   "source": [
    "for idx, data in df[:20].iterrows():\n",
    "    filename = '0' * (3 - len(str(idx))) + str(idx)\n",
    "    filename = f'data/{filename}.png'\n",
    "    print(idx, data['img'], filename)\n",
    "    response = requests.get(data['img'])\n",
    "    with open(filename, 'wb') as file:\n",
    "        file.write(response.content)"
   ]
  },
  {
   "cell_type": "code",
   "execution_count": null,
   "id": "215ca9c1",
   "metadata": {},
   "outputs": [],
   "source": []
  }
 ],
 "metadata": {
  "kernelspec": {
   "display_name": "Python 3",
   "language": "python",
   "name": "python3"
  },
  "language_info": {
   "codemirror_mode": {
    "name": "ipython",
    "version": 3
   },
   "file_extension": ".py",
   "mimetype": "text/x-python",
   "name": "python",
   "nbconvert_exporter": "python",
   "pygments_lexer": "ipython3",
   "version": "3.8.8"
  },
  "toc": {
   "base_numbering": 1,
   "nav_menu": {},
   "number_sections": false,
   "sideBar": true,
   "skip_h1_title": false,
   "title_cell": "Table of Contents",
   "title_sidebar": "Contents",
   "toc_cell": false,
   "toc_position": {},
   "toc_section_display": true,
   "toc_window_display": false
  }
 },
 "nbformat": 4,
 "nbformat_minor": 5
}
