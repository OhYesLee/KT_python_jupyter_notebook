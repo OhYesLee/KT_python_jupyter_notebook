{
 "cells": [
  {
   "cell_type": "code",
   "execution_count": null,
   "id": "a3f9fd4c",
   "metadata": {},
   "outputs": [],
   "source": [
    "# summary\n",
    "\n",
    "# web : server-client : url\n",
    "# requests : 동적페이지 : URL 변화 없이 페이지의 데이터 수정 : json(str) > response.json() > DataFrame\n",
    "# requests : 정적페이지 : URL 변화 있이 페이지의 데이터 수정 : html(str) > BeautifulSoup > css-selector > DataFrame\n",
    "# selenium : 웹브라우져를 python 코드로 컨트롤해서 데이터 수집\n",
    "# requests(동적페이지,API) > requests(정적페이지) > selenium\n",
    "\n",
    "# 웹크롤링 절차\n",
    "# 1. 웹서비스분석(개발자도구), API문서 : URL\n",
    "# 2. request(URL) > response(data) : data(json(str), html(str))\n",
    "# 3. data(json(str), html(str)) > response.json(), BeautifulSoup(css-selector) > DataFrame\n",
    "\n",
    "# request 할때 401,403,500 등등의 에러가 발생하는 경우 > headers 수정해서 데이터 요청(user-agent, refere)\n",
    "# API 이용 : request token 수집후 크롤링"
   ]
  },
  {
   "cell_type": "markdown",
   "id": "democratic-utility",
   "metadata": {},
   "source": [
    "### Zigbang 원룸 매물 데이터 수집\n",
    "- 동이름 > 매물 데이터"
   ]
  },
  {
   "cell_type": "code",
   "execution_count": 2,
   "id": "9affefe3",
   "metadata": {},
   "outputs": [],
   "source": [
    "import pandas as pd\n",
    "import requests"
   ]
  },
  {
   "cell_type": "markdown",
   "id": "whole-answer",
   "metadata": {},
   "source": [
    "#### Process\n",
    "    - 동이름으로 위도 경도 구하기\n",
    "    - 위도 경도로 geohash 알아내기\n",
    "    - geohash로 매물 아이디 가져오기\n",
    "    - 매물 아이디로 매물 정보 가져오기"
   ]
  },
  {
   "cell_type": "markdown",
   "id": "b98f0c6c",
   "metadata": {},
   "source": [
    "#### 1. 동이름으로 위도 경도 구하기"
   ]
  },
  {
   "cell_type": "code",
   "execution_count": 11,
   "id": "4e8d14a3",
   "metadata": {},
   "outputs": [
    {
     "data": {
      "text/plain": [
       "(37.556785583496094, 126.9013442993164)"
      ]
     },
     "execution_count": 11,
     "metadata": {},
     "output_type": "execute_result"
    }
   ],
   "source": [
    "# 1. URL\n",
    "address = '망원동'\n",
    "url = f'https://apis.zigbang.com/v2/search?leaseYn=N&q={address}&serviceType=원룸'\n",
    "\n",
    "# 2. request > response : json(str)\n",
    "response = requests.get(url)\n",
    "\n",
    "# 3. json(str) > lat, lng\n",
    "data = response.json()['items'][0]\n",
    "lat, lng = data['lat'], data['lng']\n",
    "lat, lng"
   ]
  },
  {
   "cell_type": "markdown",
   "id": "8dfada31",
   "metadata": {},
   "source": [
    "#### 2. 위도 경도로 geohash 알아내기\n",
    "- geohash2 : pip install geohash2"
   ]
  },
  {
   "cell_type": "code",
   "execution_count": 12,
   "id": "1d270ab4",
   "metadata": {},
   "outputs": [],
   "source": [
    "import geohash2"
   ]
  },
  {
   "cell_type": "code",
   "execution_count": 15,
   "id": "28062830",
   "metadata": {},
   "outputs": [
    {
     "data": {
      "text/plain": [
       "'wydjx'"
      ]
     },
     "execution_count": 15,
     "metadata": {},
     "output_type": "execute_result"
    }
   ],
   "source": [
    "# precision : 클수록 영역이 작아짐\n",
    "geohash = geohash2.encode(lat, lng, precision=5)\n",
    "geohash"
   ]
  },
  {
   "cell_type": "markdown",
   "id": "13e8b3f9",
   "metadata": {},
   "source": [
    "#### 3. geohash로 매물 아이디 가져오기"
   ]
  },
  {
   "cell_type": "code",
   "execution_count": 17,
   "id": "2ceb8ea4",
   "metadata": {},
   "outputs": [
    {
     "data": {
      "text/plain": [
       "<Response [200]>"
      ]
     },
     "execution_count": 17,
     "metadata": {},
     "output_type": "execute_result"
    }
   ],
   "source": [
    "url = f'https://apis.zigbang.com/v2/items?deposit_gteq=0&domain=zigbang&geohash={geohash}&needHasNoFiltered=true&\\\n",
    "rent_gteq=0&sales_type_in=전세|월세&service_type_eq=원룸'\n",
    "response = requests.get(url)\n",
    "response"
   ]
  },
  {
   "cell_type": "code",
   "execution_count": 21,
   "id": "1140bb39",
   "metadata": {},
   "outputs": [
    {
     "data": {
      "text/plain": [
       "(670, [35346672, 35365643, 35070248, 35265682, 35411116])"
      ]
     },
     "execution_count": 21,
     "metadata": {},
     "output_type": "execute_result"
    }
   ],
   "source": [
    "data = response.json()['items']\n",
    "ids = [item['item_id'] for item in data]\n",
    "len(ids), ids[:5]"
   ]
  },
  {
   "cell_type": "markdown",
   "id": "85225aae",
   "metadata": {},
   "source": [
    "#### 4. 매물 아이디로 매물 정보 가져오기"
   ]
  },
  {
   "cell_type": "code",
   "execution_count": 22,
   "id": "0212d892",
   "metadata": {},
   "outputs": [
    {
     "data": {
      "text/plain": [
       "<Response [200]>"
      ]
     },
     "execution_count": 22,
     "metadata": {},
     "output_type": "execute_result"
    }
   ],
   "source": [
    "url = 'https://apis.zigbang.com/v2/items/list'\n",
    "params = {\n",
    "    'domain': 'zigbang',\n",
    "    'withCoalition': 'true',\n",
    "    'item_ids': ids[:900], # 아이템 데이터의 갯수를 999개까지 사용 가능\n",
    "}\n",
    "response = requests.post(url, params)\n",
    "response"
   ]
  },
  {
   "cell_type": "code",
   "execution_count": 26,
   "id": "c6452305",
   "metadata": {},
   "outputs": [],
   "source": [
    "pd.options.display.max_columns = 50"
   ]
  },
  {
   "cell_type": "code",
   "execution_count": 28,
   "id": "6f3c7b92",
   "metadata": {},
   "outputs": [
    {
     "data": {
      "text/html": [
       "<div>\n",
       "<style scoped>\n",
       "    .dataframe tbody tr th:only-of-type {\n",
       "        vertical-align: middle;\n",
       "    }\n",
       "\n",
       "    .dataframe tbody tr th {\n",
       "        vertical-align: top;\n",
       "    }\n",
       "\n",
       "    .dataframe thead th {\n",
       "        text-align: right;\n",
       "    }\n",
       "</style>\n",
       "<table border=\"1\" class=\"dataframe\">\n",
       "  <thead>\n",
       "    <tr style=\"text-align: right;\">\n",
       "      <th></th>\n",
       "      <th>section_type</th>\n",
       "      <th>item_id</th>\n",
       "      <th>images_thumbnail</th>\n",
       "      <th>sales_type</th>\n",
       "      <th>sales_title</th>\n",
       "      <th>deposit</th>\n",
       "      <th>rent</th>\n",
       "      <th>size_m2</th>\n",
       "      <th>공급면적</th>\n",
       "      <th>전용면적</th>\n",
       "      <th>계약면적</th>\n",
       "      <th>room_type_title</th>\n",
       "      <th>floor</th>\n",
       "      <th>floor_string</th>\n",
       "      <th>building_floor</th>\n",
       "      <th>title</th>\n",
       "      <th>is_first_movein</th>\n",
       "      <th>room_type</th>\n",
       "      <th>address</th>\n",
       "      <th>random_location</th>\n",
       "      <th>is_zzim</th>\n",
       "      <th>status</th>\n",
       "      <th>service_type</th>\n",
       "      <th>tags</th>\n",
       "      <th>address1</th>\n",
       "      <th>address2</th>\n",
       "      <th>address3</th>\n",
       "      <th>manage_cost</th>\n",
       "      <th>reg_date</th>\n",
       "      <th>is_new</th>\n",
       "      <th>contract</th>\n",
       "    </tr>\n",
       "  </thead>\n",
       "  <tbody>\n",
       "    <tr>\n",
       "      <th>669</th>\n",
       "      <td>None</td>\n",
       "      <td>35442758</td>\n",
       "      <td>https://ic.zigbang.com/ic/items/35442758/1.jpg</td>\n",
       "      <td>전세</td>\n",
       "      <td>전세</td>\n",
       "      <td>21000</td>\n",
       "      <td>0</td>\n",
       "      <td>59.93</td>\n",
       "      <td>{'m2': 59.93, 'p': '18.1'}</td>\n",
       "      <td>{'m2': 51.29, 'p': '15.5'}</td>\n",
       "      <td>None</td>\n",
       "      <td>None</td>\n",
       "      <td>2</td>\n",
       "      <td>2</td>\n",
       "      <td>2</td>\n",
       "      <td>⭐대출,보증보험OK⭐올리모델링⭐역세권⭐투룸⭐</td>\n",
       "      <td>None</td>\n",
       "      <td>04</td>\n",
       "      <td>마포구 중동</td>\n",
       "      <td>{'lat': 37.57022264132613, 'lng': 126.90537466...</td>\n",
       "      <td>False</td>\n",
       "      <td>True</td>\n",
       "      <td>빌라</td>\n",
       "      <td>[]</td>\n",
       "      <td>서울시 마포구 중동</td>\n",
       "      <td>None</td>\n",
       "      <td>None</td>\n",
       "      <td>1</td>\n",
       "      <td>2023-02-16T11:23:15+09:00</td>\n",
       "      <td>True</td>\n",
       "      <td></td>\n",
       "    </tr>\n",
       "  </tbody>\n",
       "</table>\n",
       "</div>"
      ],
      "text/plain": [
       "    section_type   item_id                                images_thumbnail  \\\n",
       "669         None  35442758  https://ic.zigbang.com/ic/items/35442758/1.jpg   \n",
       "\n",
       "    sales_type sales_title  deposit  rent  size_m2  \\\n",
       "669         전세          전세    21000     0    59.93   \n",
       "\n",
       "                           공급면적                        전용면적  계약면적  \\\n",
       "669  {'m2': 59.93, 'p': '18.1'}  {'m2': 51.29, 'p': '15.5'}  None   \n",
       "\n",
       "    room_type_title floor floor_string building_floor  \\\n",
       "669            None     2            2              2   \n",
       "\n",
       "                        title is_first_movein room_type address  \\\n",
       "669  ⭐대출,보증보험OK⭐올리모델링⭐역세권⭐투룸⭐            None        04  마포구 중동   \n",
       "\n",
       "                                       random_location  is_zzim  status  \\\n",
       "669  {'lat': 37.57022264132613, 'lng': 126.90537466...    False    True   \n",
       "\n",
       "    service_type tags    address1 address2 address3 manage_cost  \\\n",
       "669           빌라   []  서울시 마포구 중동     None     None           1   \n",
       "\n",
       "                      reg_date  is_new contract  \n",
       "669  2023-02-16T11:23:15+09:00    True           "
      ]
     },
     "execution_count": 28,
     "metadata": {},
     "output_type": "execute_result"
    }
   ],
   "source": [
    "data = response.json()['items']\n",
    "df = pd.DataFrame(data)\n",
    "df.tail(1)"
   ]
  },
  {
   "cell_type": "code",
   "execution_count": 29,
   "id": "71b52ff5",
   "metadata": {},
   "outputs": [
    {
     "data": {
      "text/plain": [
       "Index(['section_type', 'item_id', 'images_thumbnail', 'sales_type',\n",
       "       'sales_title', 'deposit', 'rent', 'size_m2', '공급면적', '전용면적', '계약면적',\n",
       "       'room_type_title', 'floor', 'floor_string', 'building_floor', 'title',\n",
       "       'is_first_movein', 'room_type', 'address', 'random_location', 'is_zzim',\n",
       "       'status', 'service_type', 'tags', 'address1', 'address2', 'address3',\n",
       "       'manage_cost', 'reg_date', 'is_new', 'contract'],\n",
       "      dtype='object')"
      ]
     },
     "execution_count": 29,
     "metadata": {},
     "output_type": "execute_result"
    }
   ],
   "source": [
    "df.columns"
   ]
  },
  {
   "cell_type": "code",
   "execution_count": 32,
   "id": "4a3ad557",
   "metadata": {},
   "outputs": [
    {
     "data": {
      "text/plain": [
       "'망원동'"
      ]
     },
     "execution_count": 32,
     "metadata": {},
     "output_type": "execute_result"
    }
   ],
   "source": [
    "address"
   ]
  },
  {
   "cell_type": "code",
   "execution_count": 36,
   "id": "605b5820",
   "metadata": {},
   "outputs": [
    {
     "data": {
      "text/html": [
       "<div>\n",
       "<style scoped>\n",
       "    .dataframe tbody tr th:only-of-type {\n",
       "        vertical-align: middle;\n",
       "    }\n",
       "\n",
       "    .dataframe tbody tr th {\n",
       "        vertical-align: top;\n",
       "    }\n",
       "\n",
       "    .dataframe thead th {\n",
       "        text-align: right;\n",
       "    }\n",
       "</style>\n",
       "<table border=\"1\" class=\"dataframe\">\n",
       "  <thead>\n",
       "    <tr style=\"text-align: right;\">\n",
       "      <th></th>\n",
       "      <th>item_id</th>\n",
       "      <th>sales_type</th>\n",
       "      <th>deposit</th>\n",
       "      <th>rent</th>\n",
       "      <th>size_m2</th>\n",
       "      <th>floor</th>\n",
       "      <th>building_floor</th>\n",
       "      <th>title</th>\n",
       "      <th>address</th>\n",
       "      <th>status</th>\n",
       "      <th>service_type</th>\n",
       "      <th>tags</th>\n",
       "      <th>address1</th>\n",
       "      <th>manage_cost</th>\n",
       "    </tr>\n",
       "  </thead>\n",
       "  <tbody>\n",
       "    <tr>\n",
       "      <th>89</th>\n",
       "      <td>35408930</td>\n",
       "      <td>전세</td>\n",
       "      <td>10390</td>\n",
       "      <td>0</td>\n",
       "      <td>54.64</td>\n",
       "      <td>3</td>\n",
       "      <td>3</td>\n",
       "      <td>🌸중기청80/버팀목🌸마포구청역5분🌸깔끔한방🌸</td>\n",
       "      <td>마포구 망원동</td>\n",
       "      <td>True</td>\n",
       "      <td>원룸</td>\n",
       "      <td>[추천]</td>\n",
       "      <td>서울시 마포구 망원동</td>\n",
       "      <td>10</td>\n",
       "    </tr>\n",
       "    <tr>\n",
       "      <th>90</th>\n",
       "      <td>35197484</td>\n",
       "      <td>월세</td>\n",
       "      <td>200</td>\n",
       "      <td>60</td>\n",
       "      <td>16.53</td>\n",
       "      <td>3</td>\n",
       "      <td>3</td>\n",
       "      <td>💖즉시입주💖나오면바로계약💖실매물💖선착순매물💖</td>\n",
       "      <td>마포구 망원동</td>\n",
       "      <td>True</td>\n",
       "      <td>원룸</td>\n",
       "      <td>[]</td>\n",
       "      <td>서울시 마포구 망원동</td>\n",
       "      <td>6</td>\n",
       "    </tr>\n",
       "  </tbody>\n",
       "</table>\n",
       "</div>"
      ],
      "text/plain": [
       "     item_id sales_type  deposit  rent  size_m2 floor building_floor  \\\n",
       "89  35408930         전세    10390     0    54.64     3              3   \n",
       "90  35197484         월세      200    60    16.53     3              3   \n",
       "\n",
       "                       title  address  status service_type  tags     address1  \\\n",
       "89  🌸중기청80/버팀목🌸마포구청역5분🌸깔끔한방🌸  마포구 망원동    True           원룸  [추천]  서울시 마포구 망원동   \n",
       "90  💖즉시입주💖나오면바로계약💖실매물💖선착순매물💖  마포구 망원동    True           원룸    []  서울시 마포구 망원동   \n",
       "\n",
       "   manage_cost  \n",
       "89          10  \n",
       "90           6  "
      ]
     },
     "execution_count": 36,
     "metadata": {},
     "output_type": "execute_result"
    }
   ],
   "source": [
    "colums = ['item_id', 'sales_type', 'deposit', 'rent', 'size_m2',\n",
    "          'floor', 'building_floor', 'title', 'address', 'status', 'service_type', 'tags', 'address1', 'manage_cost']\n",
    "df = df[colums]\n",
    "df = df[df['address'].str.contains(address)].reset_index(drop=True)\n",
    "df.tail(2)"
   ]
  },
  {
   "cell_type": "code",
   "execution_count": null,
   "id": "78267a00",
   "metadata": {},
   "outputs": [],
   "source": [
    "# pep documents\n",
    "# pep20, pep8\n",
    "# flake8 : 코드효율성 체크"
   ]
  },
  {
   "cell_type": "code",
   "execution_count": 39,
   "id": "8342af8b",
   "metadata": {},
   "outputs": [
    {
     "ename": "SyntaxError",
     "evalue": "invalid syntax (<ipython-input-39-4c11d7547b80>, line 2)",
     "output_type": "error",
     "traceback": [
      "\u001b[1;36m  File \u001b[1;32m\"<ipython-input-39-4c11d7547b80>\"\u001b[1;36m, line \u001b[1;32m2\u001b[0m\n\u001b[1;33m    1data = 1\u001b[0m\n\u001b[1;37m     ^\u001b[0m\n\u001b[1;31mSyntaxError\u001b[0m\u001b[1;31m:\u001b[0m invalid syntax\n"
     ]
    }
   ],
   "source": [
    "# 문법(에러발생O,코드실행X), 컨벤션(에러발생X,코드실행O)\n",
    "1data = 1"
   ]
  },
  {
   "cell_type": "code",
   "execution_count": 40,
   "id": "12707b2a",
   "metadata": {},
   "outputs": [],
   "source": [
    "data = 1"
   ]
  },
  {
   "cell_type": "code",
   "execution_count": 37,
   "id": "87bda36e",
   "metadata": {},
   "outputs": [
    {
     "name": "stdout",
     "output_type": "stream",
     "text": [
      "The Zen of Python, by Tim Peters\n",
      "\n",
      "Beautiful is better than ugly.\n",
      "Explicit is better than implicit.\n",
      "Simple is better than complex.\n",
      "Complex is better than complicated.\n",
      "Flat is better than nested.\n",
      "Sparse is better than dense.\n",
      "Readability counts.\n",
      "Special cases aren't special enough to break the rules.\n",
      "Although practicality beats purity.\n",
      "Errors should never pass silently.\n",
      "Unless explicitly silenced.\n",
      "In the face of ambiguity, refuse the temptation to guess.\n",
      "There should be one-- and preferably only one --obvious way to do it.\n",
      "Although that way may not be obvious at first unless you're Dutch.\n",
      "Now is better than never.\n",
      "Although never is often better than *right* now.\n",
      "If the implementation is hard to explain, it's a bad idea.\n",
      "If the implementation is easy to explain, it may be a good idea.\n",
      "Namespaces are one honking great idea -- let's do more of those!\n"
     ]
    }
   ],
   "source": [
    "import this"
   ]
  }
 ],
 "metadata": {
  "kernelspec": {
   "display_name": "Python 3",
   "language": "python",
   "name": "python3"
  },
  "language_info": {
   "codemirror_mode": {
    "name": "ipython",
    "version": 3
   },
   "file_extension": ".py",
   "mimetype": "text/x-python",
   "name": "python",
   "nbconvert_exporter": "python",
   "pygments_lexer": "ipython3",
   "version": "3.8.8"
  },
  "toc": {
   "base_numbering": 1,
   "nav_menu": {},
   "number_sections": false,
   "sideBar": true,
   "skip_h1_title": false,
   "title_cell": "Table of Contents",
   "title_sidebar": "Contents",
   "toc_cell": false,
   "toc_position": {},
   "toc_section_display": true,
   "toc_window_display": false
  }
 },
 "nbformat": 4,
 "nbformat_minor": 5
}
