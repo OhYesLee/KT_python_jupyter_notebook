{
 "cells": [
  {
   "cell_type": "markdown",
   "id": "eb136fd8",
   "metadata": {},
   "source": [
    "### Gmarket\n",
    "- 베스트 상품 200개 데이터 수집\n",
    "- 상품의 이미지 200개 다운로드"
   ]
  },
  {
   "cell_type": "markdown",
   "id": "d0aec417",
   "metadata": {},
   "source": [
    "#### 1. URL 찾기"
   ]
  },
  {
   "cell_type": "code",
   "execution_count": null,
   "id": "2677ed34",
   "metadata": {},
   "outputs": [],
   "source": []
  },
  {
   "cell_type": "markdown",
   "id": "ba6511ba",
   "metadata": {},
   "source": [
    "#### 2. request > response : str(html)"
   ]
  },
  {
   "cell_type": "code",
   "execution_count": null,
   "id": "4001ce14",
   "metadata": {},
   "outputs": [],
   "source": []
  },
  {
   "cell_type": "markdown",
   "id": "7ca93942",
   "metadata": {},
   "source": [
    "#### 3. bs > DataFrame"
   ]
  },
  {
   "cell_type": "code",
   "execution_count": null,
   "id": "cf4aab14",
   "metadata": {},
   "outputs": [],
   "source": []
  },
  {
   "cell_type": "markdown",
   "id": "3aa5186a",
   "metadata": {},
   "source": [
    "#### 4. download image"
   ]
  },
  {
   "cell_type": "code",
   "execution_count": null,
   "id": "f1d4a3ef",
   "metadata": {},
   "outputs": [],
   "source": []
  }
 ],
 "metadata": {
  "kernelspec": {
   "display_name": "Python 3 (ipykernel)",
   "language": "python",
   "name": "python3"
  },
  "language_info": {
   "codemirror_mode": {
    "name": "ipython",
    "version": 3
   },
   "file_extension": ".py",
   "mimetype": "text/x-python",
   "name": "python",
   "nbconvert_exporter": "python",
   "pygments_lexer": "ipython3",
   "version": "3.9.12"
  },
  "toc": {
   "base_numbering": 1,
   "nav_menu": {},
   "number_sections": false,
   "sideBar": true,
   "skip_h1_title": false,
   "title_cell": "Table of Contents",
   "title_sidebar": "Contents",
   "toc_cell": false,
   "toc_position": {},
   "toc_section_display": true,
   "toc_window_display": false
  }
 },
 "nbformat": 4,
 "nbformat_minor": 5
}
