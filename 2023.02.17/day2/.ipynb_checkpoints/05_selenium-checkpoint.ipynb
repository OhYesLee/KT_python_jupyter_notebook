{
 "cells": [
  {
   "cell_type": "markdown",
   "id": "03fff3b4",
   "metadata": {},
   "source": [
    "### selenium\n",
    "- `https://www.selenium.dev`\n",
    "- 자동화를 목적으로 만들어진 다양한 브라우져와 언어를 지원하는 라이브러리\n",
    "- 크롬 브라우져 설치\n",
    "    - 크롬 브라우져 드라이버 다운로드 (크롬 브라우져와 같은 버전)\n",
    "    - 다운로드한 드라이버 압축 해제\n",
    "    - chromedriver, chromedriver.exe 생성\n",
    "    - windows : 주피터 노트북 파일과 동일한 디렉토리에 chromedriver.exe 파일 업로드\n",
    "    - mac : sudo cp ~/Download/chromedirver /usr/local/bin\n",
    "    - conda selenium 에서 가져와서 터미널에 설치"
   ]
  },
  {
   "cell_type": "code",
   "execution_count": 1,
   "id": "24fd8132-e593-450e-af49-7f72dfdd3de5",
   "metadata": {},
   "outputs": [],
   "source": [
    "# chrome driver"
   ]
  },
  {
   "cell_type": "code",
   "execution_count": 2,
   "id": "a6e6bc99",
   "metadata": {},
   "outputs": [],
   "source": [
    "import pandas as pd \n",
    "from selenium import webdriver \n",
    "from selenium.webdriver.common.by import By"
   ]
  },
  {
   "cell_type": "code",
   "execution_count": 3,
   "id": "d942aec4-043b-4d67-908d-edb14f319352",
   "metadata": {},
   "outputs": [],
   "source": [
    "driver = webdriver.Chrome()"
   ]
  },
  {
   "cell_type": "code",
   "execution_count": 4,
   "id": "dfbe0755-e62b-466a-aed5-77fcc206427a",
   "metadata": {},
   "outputs": [],
   "source": [
    "driver.get('https://www.daum.net')"
   ]
  },
  {
   "cell_type": "code",
   "execution_count": 6,
   "id": "73e87c42-fced-4936-8158-e5320ca3638b",
   "metadata": {},
   "outputs": [],
   "source": [
    "driver.find_element(By.CSS_SELECTOR, '#q').send_keys('파이썬')"
   ]
  },
  {
   "cell_type": "code",
   "execution_count": 8,
   "id": "6105ceee-da9b-4470-a1a1-111fd7f954dc",
   "metadata": {},
   "outputs": [],
   "source": [
    "selector = '.inner_search > .ico_pctop.btn_search'\n",
    "driver.find_element(By.CSS_SELECTOR, selector).click()\n",
    "#daumSearch > fieldset > div > div > button.ico_pctop.btn_search"
   ]
  },
  {
   "cell_type": "code",
   "execution_count": 9,
   "id": "765e6d05-6778-437b-87a6-773abfd2c5a3",
   "metadata": {},
   "outputs": [
    {
     "data": {
      "text/plain": [
       "32"
      ]
     },
     "execution_count": 9,
     "metadata": {},
     "output_type": "execute_result"
    }
   ],
   "source": [
    "elements = driver.find_elements(By.CSS_SELECTOR,'.wsn')\n",
    "len(elements)\n",
    "# .wsn"
   ]
  },
  {
   "cell_type": "code",
   "execution_count": 14,
   "id": "114cdd92-fe94-4b9b-8a53-9094a3b235ca",
   "metadata": {},
   "outputs": [
    {
     "data": {
      "text/plain": [
       "32"
      ]
     },
     "execution_count": 14,
     "metadata": {},
     "output_type": "execute_result"
    }
   ],
   "source": [
    "selector = '#netizen_lists_top > .wsn'\n",
    "elements = driver.find_elements(By.CSS_SELECTOR,'.wsn')\n",
    "len(elements)\n",
    "# .wsn"
   ]
  },
  {
   "cell_type": "code",
   "execution_count": 15,
   "id": "7528e95f-c88d-4f53-885f-376d5041bff3",
   "metadata": {},
   "outputs": [
    {
     "data": {
      "text/plain": [
       "'파이썬 마스터'"
      ]
     },
     "execution_count": 15,
     "metadata": {},
     "output_type": "execute_result"
    }
   ],
   "source": [
    "element = elements[0]\n",
    "element.text"
   ]
  },
  {
   "cell_type": "code",
   "execution_count": 19,
   "id": "8c25a0ce-1b1b-44a7-a73d-9233cbb39700",
   "metadata": {},
   "outputs": [
    {
     "ename": "ElementNotInteractableException",
     "evalue": "Message: element not interactable\n  (Session info: chrome=110.0.5481.96)\n",
     "output_type": "error",
     "traceback": [
      "\u001b[1;31m---------------------------------------------------------------------------\u001b[0m",
      "\u001b[1;31mElementNotInteractableException\u001b[0m           Traceback (most recent call last)",
      "Cell \u001b[1;32mIn[19], line 2\u001b[0m\n\u001b[0;32m      1\u001b[0m selector \u001b[38;5;241m=\u001b[39m \u001b[38;5;124m'\u001b[39m\u001b[38;5;124m#netizen_more_btn_top\u001b[39m\u001b[38;5;124m'\u001b[39m \n\u001b[1;32m----> 2\u001b[0m \u001b[43mdriver\u001b[49m\u001b[38;5;241;43m.\u001b[39;49m\u001b[43mfind_element\u001b[49m\u001b[43m(\u001b[49m\u001b[43mBy\u001b[49m\u001b[38;5;241;43m.\u001b[39;49m\u001b[43mCSS_SELECTOR\u001b[49m\u001b[43m,\u001b[49m\u001b[43m \u001b[49m\u001b[43mselector\u001b[49m\u001b[43m)\u001b[49m\u001b[38;5;241;43m.\u001b[39;49m\u001b[43mclick\u001b[49m\u001b[43m(\u001b[49m\u001b[43m)\u001b[49m\n",
      "File \u001b[1;32m~\\anaconda3\\lib\\site-packages\\selenium\\webdriver\\remote\\webelement.py:80\u001b[0m, in \u001b[0;36mWebElement.click\u001b[1;34m(self)\u001b[0m\n\u001b[0;32m     78\u001b[0m \u001b[38;5;28;01mdef\u001b[39;00m \u001b[38;5;21mclick\u001b[39m(\u001b[38;5;28mself\u001b[39m):\n\u001b[0;32m     79\u001b[0m \u001b[38;5;250m    \u001b[39m\u001b[38;5;124;03m\"\"\"Clicks the element.\"\"\"\u001b[39;00m\n\u001b[1;32m---> 80\u001b[0m     \u001b[38;5;28;43mself\u001b[39;49m\u001b[38;5;241;43m.\u001b[39;49m\u001b[43m_execute\u001b[49m\u001b[43m(\u001b[49m\u001b[43mCommand\u001b[49m\u001b[38;5;241;43m.\u001b[39;49m\u001b[43mCLICK_ELEMENT\u001b[49m\u001b[43m)\u001b[49m\n",
      "File \u001b[1;32m~\\anaconda3\\lib\\site-packages\\selenium\\webdriver\\remote\\webelement.py:633\u001b[0m, in \u001b[0;36mWebElement._execute\u001b[1;34m(self, command, params)\u001b[0m\n\u001b[0;32m    631\u001b[0m     params \u001b[38;5;241m=\u001b[39m {}\n\u001b[0;32m    632\u001b[0m params[\u001b[38;5;124m'\u001b[39m\u001b[38;5;124mid\u001b[39m\u001b[38;5;124m'\u001b[39m] \u001b[38;5;241m=\u001b[39m \u001b[38;5;28mself\u001b[39m\u001b[38;5;241m.\u001b[39m_id\n\u001b[1;32m--> 633\u001b[0m \u001b[38;5;28;01mreturn\u001b[39;00m \u001b[38;5;28;43mself\u001b[39;49m\u001b[38;5;241;43m.\u001b[39;49m\u001b[43m_parent\u001b[49m\u001b[38;5;241;43m.\u001b[39;49m\u001b[43mexecute\u001b[49m\u001b[43m(\u001b[49m\u001b[43mcommand\u001b[49m\u001b[43m,\u001b[49m\u001b[43m \u001b[49m\u001b[43mparams\u001b[49m\u001b[43m)\u001b[49m\n",
      "File \u001b[1;32m~\\anaconda3\\lib\\site-packages\\selenium\\webdriver\\remote\\webdriver.py:321\u001b[0m, in \u001b[0;36mWebDriver.execute\u001b[1;34m(self, driver_command, params)\u001b[0m\n\u001b[0;32m    319\u001b[0m response \u001b[38;5;241m=\u001b[39m \u001b[38;5;28mself\u001b[39m\u001b[38;5;241m.\u001b[39mcommand_executor\u001b[38;5;241m.\u001b[39mexecute(driver_command, params)\n\u001b[0;32m    320\u001b[0m \u001b[38;5;28;01mif\u001b[39;00m response:\n\u001b[1;32m--> 321\u001b[0m     \u001b[38;5;28;43mself\u001b[39;49m\u001b[38;5;241;43m.\u001b[39;49m\u001b[43merror_handler\u001b[49m\u001b[38;5;241;43m.\u001b[39;49m\u001b[43mcheck_response\u001b[49m\u001b[43m(\u001b[49m\u001b[43mresponse\u001b[49m\u001b[43m)\u001b[49m\n\u001b[0;32m    322\u001b[0m     response[\u001b[38;5;124m'\u001b[39m\u001b[38;5;124mvalue\u001b[39m\u001b[38;5;124m'\u001b[39m] \u001b[38;5;241m=\u001b[39m \u001b[38;5;28mself\u001b[39m\u001b[38;5;241m.\u001b[39m_unwrap_value(\n\u001b[0;32m    323\u001b[0m         response\u001b[38;5;241m.\u001b[39mget(\u001b[38;5;124m'\u001b[39m\u001b[38;5;124mvalue\u001b[39m\u001b[38;5;124m'\u001b[39m, \u001b[38;5;28;01mNone\u001b[39;00m))\n\u001b[0;32m    324\u001b[0m     \u001b[38;5;28;01mreturn\u001b[39;00m response\n",
      "File \u001b[1;32m~\\anaconda3\\lib\\site-packages\\selenium\\webdriver\\remote\\errorhandler.py:242\u001b[0m, in \u001b[0;36mErrorHandler.check_response\u001b[1;34m(self, response)\u001b[0m\n\u001b[0;32m    240\u001b[0m         alert_text \u001b[38;5;241m=\u001b[39m value[\u001b[38;5;124m'\u001b[39m\u001b[38;5;124malert\u001b[39m\u001b[38;5;124m'\u001b[39m]\u001b[38;5;241m.\u001b[39mget(\u001b[38;5;124m'\u001b[39m\u001b[38;5;124mtext\u001b[39m\u001b[38;5;124m'\u001b[39m)\n\u001b[0;32m    241\u001b[0m     \u001b[38;5;28;01mraise\u001b[39;00m exception_class(message, screen, stacktrace, alert_text)\n\u001b[1;32m--> 242\u001b[0m \u001b[38;5;28;01mraise\u001b[39;00m exception_class(message, screen, stacktrace)\n",
      "\u001b[1;31mElementNotInteractableException\u001b[0m: Message: element not interactable\n  (Session info: chrome=110.0.5481.96)\n"
     ]
    }
   ],
   "source": [
    "selector = '#netizen_more_btn_top' \n",
    "driver.find_element(By.CSS_SELECTOR, selector).click()"
   ]
  },
  {
   "cell_type": "code",
   "execution_count": 20,
   "id": "b32b19b2-528f-4567-b7e0-639d1a3286fa",
   "metadata": {},
   "outputs": [
    {
     "data": {
      "text/plain": [
       "['파이썬 마스터',\n",
       " '파이썬 다운로드',\n",
       " '파이썬 기초',\n",
       " '파이썬 책 추천',\n",
       " '혼자 공부하는 파이썬',\n",
       " '#파이썬',\n",
       " '#코딩',\n",
       " '#강의',\n",
       " '#데이터',\n",
       " '#프로그래밍',\n",
       " '#데이터분석',\n",
       " '#라이브러리',\n",
       " '#공부',\n",
       " '#구름',\n",
       " '',\n",
       " '',\n",
       " '',\n",
       " '',\n",
       " '',\n",
       " '',\n",
       " '',\n",
       " '',\n",
       " '',\n",
       " '',\n",
       " '',\n",
       " '',\n",
       " '',\n",
       " '파이썬 마스터',\n",
       " '파이썬 다운로드',\n",
       " '파이썬 기초',\n",
       " '파이썬 책 추천',\n",
       " '혼자 공부하는 파이썬']"
      ]
     },
     "execution_count": 20,
     "metadata": {},
     "output_type": "execute_result"
    }
   ],
   "source": [
    "keywords = [element.text for element in elements] \n",
    "keywords"
   ]
  },
  {
   "cell_type": "code",
   "execution_count": 21,
   "id": "31d653dc-ab7b-4e7d-acb0-3f1f0ca70652",
   "metadata": {},
   "outputs": [],
   "source": [
    "# 자바스크립트 코드 실행\n",
    "driver.execute_script('window.scrollTo(200,300);')"
   ]
  },
  {
   "cell_type": "code",
   "execution_count": 22,
   "id": "2b789a88-f66c-4543-a69d-e78a0691ba30",
   "metadata": {},
   "outputs": [],
   "source": [
    "driver.quit()"
   ]
  },
  {
   "cell_type": "code",
   "execution_count": null,
   "id": "2010a708-a586-43b3-b344-8b384c1501f9",
   "metadata": {},
   "outputs": [],
   "source": []
  },
  {
   "cell_type": "markdown",
   "id": "c4c13a78",
   "metadata": {},
   "source": [
    "#### 텍스트 데이터 가져오기\n",
    "- TED 사이트 : `https://www.ted.com`"
   ]
  },
  {
   "cell_type": "code",
   "execution_count": 23,
   "id": "39e30c91",
   "metadata": {},
   "outputs": [],
   "source": [
    "driver = webdriver.Chrome() \n",
    "driver.get('https://www.ted.com/talks')"
   ]
  },
  {
   "cell_type": "code",
   "execution_count": 24,
   "id": "a1d86577-85f6-45a1-8ff6-05d5849090b1",
   "metadata": {},
   "outputs": [
    {
     "data": {
      "text/plain": [
       "'4200+ talks to stir your curiosity'"
      ]
     },
     "execution_count": 24,
     "metadata": {},
     "output_type": "execute_result"
    }
   ],
   "source": [
    "selector = '.talks-header__title' \n",
    "driver.find_element(By.CSS_SELECTOR, selector).text"
   ]
  },
  {
   "cell_type": "code",
   "execution_count": null,
   "id": "0f6962b9-3327-4fac-a5ec-faa71ff95bf8",
   "metadata": {},
   "outputs": [],
   "source": [
    "# xpath를 이용한 엘리먼트 선택\n",
    "# https://scrapy.org/ 스크래피 사용해보기 공부해보기\n",
    "# xpath를 이용한 엘리먼트 선택 \n",
    "# //*[@id=\"shoji\"]/div[2]/div/div[2]/header/div/div[1]\n",
    "\n",
    "# // : 최상위 엘리먼트\n",
    "# * : 모든 하위 엘리먼트\n",
    "# [@id=\"shoji\"] : 속성값으로 엘리먼트 선택\n",
    "# / : 한단계 하위 엘리먼트\n",
    "# div[2] : 태그[n번째]\n"
   ]
  },
  {
   "cell_type": "code",
   "execution_count": 25,
   "id": "88381016-65ad-437b-a8f8-449734703f0b",
   "metadata": {},
   "outputs": [
    {
     "data": {
      "text/plain": [
       "'4200+ talks to stir your curiosity'"
      ]
     },
     "execution_count": 25,
     "metadata": {},
     "output_type": "execute_result"
    }
   ],
   "source": [
    "selector = '//*[@id=\"shoji\"]/div[2]/div/div[2]/header/div/div[1]' \n",
    "driver.find_element(By.XPATH, selector).text"
   ]
  },
  {
   "cell_type": "code",
   "execution_count": 26,
   "id": "f596dcc8-48ff-48de-a08a-9b98669e774b",
   "metadata": {},
   "outputs": [],
   "source": [
    "driver.quit()"
   ]
  },
  {
   "cell_type": "markdown",
   "id": "152eda00",
   "metadata": {},
   "source": [
    "#### Headless\n",
    "- 브라우져를 화면에 띄우지 않고 메모리상에서만 올려서 크롤링하는 방법 \n",
    "- window가 지원되지 않는 환경에서 사용이 가능\n",
    "- chrome version 60.0.0.0 이상부터 지원 합니다."
   ]
  },
  {
   "cell_type": "code",
   "execution_count": 27,
   "id": "ec5daf36",
   "metadata": {},
   "outputs": [
    {
     "data": {
      "text/plain": [
       "'4200+ talks to stir your curiosity'"
      ]
     },
     "execution_count": 27,
     "metadata": {},
     "output_type": "execute_result"
    }
   ],
   "source": [
    "options = webdriver.ChromeOptions()\n",
    "options.add_argument('headless')\n",
    "driver = webdriver.Chrome(options=options) \n",
    "driver.get('https://www.ted.com/talks')\n",
    "selector = '.talks-header__title' \n",
    "driver.find_element(By.CSS_SELECTOR, selector).text"
   ]
  },
  {
   "cell_type": "code",
   "execution_count": 28,
   "id": "4feeb4d5-3986-4d4d-bfc9-e03e5fc2eacd",
   "metadata": {},
   "outputs": [],
   "source": [
    "driver.quit()"
   ]
  },
  {
   "cell_type": "code",
   "execution_count": null,
   "id": "f2e064dc-da9f-4a25-aab4-3b32edc39fa0",
   "metadata": {},
   "outputs": [],
   "source": []
  },
  {
   "cell_type": "code",
   "execution_count": null,
   "id": "89a71a78-9253-4469-b5f7-f304ae42c876",
   "metadata": {},
   "outputs": [],
   "source": []
  }
 ],
 "metadata": {
  "kernelspec": {
   "display_name": "Python 3 (ipykernel)",
   "language": "python",
   "name": "python3"
  },
  "language_info": {
   "codemirror_mode": {
    "name": "ipython",
    "version": 3
   },
   "file_extension": ".py",
   "mimetype": "text/x-python",
   "name": "python",
   "nbconvert_exporter": "python",
   "pygments_lexer": "ipython3",
   "version": "3.9.13"
  },
  "toc": {
   "base_numbering": 1,
   "nav_menu": {},
   "number_sections": false,
   "sideBar": true,
   "skip_h1_title": false,
   "title_cell": "Table of Contents",
   "title_sidebar": "Contents",
   "toc_cell": false,
   "toc_position": {},
   "toc_section_display": true,
   "toc_window_display": false
  }
 },
 "nbformat": 4,
 "nbformat_minor": 5
}
