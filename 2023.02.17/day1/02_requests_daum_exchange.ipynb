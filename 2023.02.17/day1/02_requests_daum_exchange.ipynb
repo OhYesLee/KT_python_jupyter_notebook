{
 "cells": [
  {
   "cell_type": "markdown",
   "id": "ce44dd79",
   "metadata": {},
   "source": [
    "### Daum Exchange\n",
    "- `https://finance.daum.net`\n",
    "- 서버에서 어뷰징을 막는 경우 해결 방법"
   ]
  },
  {
   "cell_type": "code",
   "execution_count": 1,
   "id": "bcf5c3fb",
   "metadata": {},
   "outputs": [],
   "source": [
    "import warnings\n",
    "warnings.filterwarnings('ignore')\n",
    "import pandas as pd\n",
    "import requests"
   ]
  },
  {
   "cell_type": "code",
   "execution_count": 8,
   "id": "6a1997e7-390e-4292-bed7-635d31516ebb",
   "metadata": {},
   "outputs": [
    {
     "data": {
      "text/html": [
       "<div>\n",
       "<style scoped>\n",
       "    .dataframe tbody tr th:only-of-type {\n",
       "        vertical-align: middle;\n",
       "    }\n",
       "\n",
       "    .dataframe tbody tr th {\n",
       "        vertical-align: top;\n",
       "    }\n",
       "\n",
       "    .dataframe thead th {\n",
       "        text-align: right;\n",
       "    }\n",
       "</style>\n",
       "<table border=\"1\" class=\"dataframe\">\n",
       "  <thead>\n",
       "    <tr style=\"text-align: right;\">\n",
       "      <th></th>\n",
       "      <th>symbolCode</th>\n",
       "      <th>date</th>\n",
       "      <th>currencyCode</th>\n",
       "      <th>currencyName</th>\n",
       "      <th>currencyUnit</th>\n",
       "      <th>country</th>\n",
       "      <th>region</th>\n",
       "      <th>name</th>\n",
       "      <th>recurrenceCount</th>\n",
       "      <th>basePrice</th>\n",
       "      <th>...</th>\n",
       "      <th>changeRate</th>\n",
       "      <th>cashBuyingPrice</th>\n",
       "      <th>cashSellingPrice</th>\n",
       "      <th>ttBuyingPrice</th>\n",
       "      <th>ttSellingPrice</th>\n",
       "      <th>tcBuyingPrice</th>\n",
       "      <th>fcSellingPrice</th>\n",
       "      <th>exchangeCommission</th>\n",
       "      <th>usDollarRate</th>\n",
       "      <th>chartImageUrl</th>\n",
       "    </tr>\n",
       "  </thead>\n",
       "  <tbody>\n",
       "    <tr>\n",
       "      <th>40</th>\n",
       "      <td>FRX.KRWQAR</td>\n",
       "      <td>2023-02-16 15:07:41</td>\n",
       "      <td>QAR</td>\n",
       "      <td>리얄</td>\n",
       "      <td>1</td>\n",
       "      <td>카타르</td>\n",
       "      <td>{'korName': '중동', 'engName': 'Middle East'}</td>\n",
       "      <td>카타르 (KRW/QAR)</td>\n",
       "      <td>522</td>\n",
       "      <td>351.79</td>\n",
       "      <td>...</td>\n",
       "      <td>0.002948</td>\n",
       "      <td>0.0</td>\n",
       "      <td>0.0</td>\n",
       "      <td>0.00</td>\n",
       "      <td>0.00</td>\n",
       "      <td>None</td>\n",
       "      <td>None</td>\n",
       "      <td>3.355</td>\n",
       "      <td>0.2742</td>\n",
       "      <td>{'day': 'https://t1.daumcdn.net/finance/chart/...</td>\n",
       "    </tr>\n",
       "    <tr>\n",
       "      <th>41</th>\n",
       "      <td>FRX.KRWTRY</td>\n",
       "      <td>2023-02-16 15:07:41</td>\n",
       "      <td>TRY</td>\n",
       "      <td>리라</td>\n",
       "      <td>1</td>\n",
       "      <td>터키</td>\n",
       "      <td>{'korName': '중동', 'engName': 'Middle East'}</td>\n",
       "      <td>터키 (KRW/TRY)</td>\n",
       "      <td>522</td>\n",
       "      <td>68.08</td>\n",
       "      <td>...</td>\n",
       "      <td>0.002783</td>\n",
       "      <td>0.0</td>\n",
       "      <td>0.0</td>\n",
       "      <td>67.34</td>\n",
       "      <td>68.82</td>\n",
       "      <td>None</td>\n",
       "      <td>None</td>\n",
       "      <td>26.400</td>\n",
       "      <td>0.0531</td>\n",
       "      <td>{'day': 'https://t1.daumcdn.net/finance/chart/...</td>\n",
       "    </tr>\n",
       "  </tbody>\n",
       "</table>\n",
       "<p>2 rows × 22 columns</p>\n",
       "</div>"
      ],
      "text/plain": [
       "    symbolCode                 date currencyCode currencyName  currencyUnit  \\\n",
       "40  FRX.KRWQAR  2023-02-16 15:07:41          QAR           리얄             1   \n",
       "41  FRX.KRWTRY  2023-02-16 15:07:41          TRY           리라             1   \n",
       "\n",
       "   country                                       region           name  \\\n",
       "40     카타르  {'korName': '중동', 'engName': 'Middle East'}  카타르 (KRW/QAR)   \n",
       "41      터키  {'korName': '중동', 'engName': 'Middle East'}   터키 (KRW/TRY)   \n",
       "\n",
       "    recurrenceCount  basePrice  ... changeRate  cashBuyingPrice  \\\n",
       "40              522     351.79  ...   0.002948              0.0   \n",
       "41              522      68.08  ...   0.002783              0.0   \n",
       "\n",
       "    cashSellingPrice  ttBuyingPrice  ttSellingPrice  tcBuyingPrice  \\\n",
       "40               0.0           0.00            0.00           None   \n",
       "41               0.0          67.34           68.82           None   \n",
       "\n",
       "    fcSellingPrice exchangeCommission usDollarRate  \\\n",
       "40            None              3.355       0.2742   \n",
       "41            None             26.400       0.0531   \n",
       "\n",
       "                                        chartImageUrl  \n",
       "40  {'day': 'https://t1.daumcdn.net/finance/chart/...  \n",
       "41  {'day': 'https://t1.daumcdn.net/finance/chart/...  \n",
       "\n",
       "[2 rows x 22 columns]"
      ]
     },
     "execution_count": 8,
     "metadata": {},
     "output_type": "execute_result"
    }
   ],
   "source": [
    "# 1. 웹서비스분석 : URL \n",
    "url = 'https://finance.daum.net/api/exchanges/summaries'\n",
    "headers = { 'user-agent': 'Mozilla/5.0 (Windows NT 10.0; Win64; x64) AppleWebKit/537.36 (KHTML, like Gecko) Chrome/110.0.0.0 Safari/537.36', \n",
    "           'referer': 'https://finance.daum.net/exchanges', }\n",
    "# 2. request(URL) > response : json(str) \n",
    "response = requests.get(url, headers=headers) \n",
    "\n",
    "# 3. json(str) > list, dict > DataFrame \n",
    "df = pd.DataFrame(response.json()['data']) \n",
    "df.tail(2)\n"
   ]
  },
  {
   "cell_type": "code",
   "execution_count": 9,
   "id": "6aeaef2a-d66d-46bc-bd01-49d03273b508",
   "metadata": {},
   "outputs": [
    {
     "data": {
      "text/plain": [
       "20"
      ]
     },
     "execution_count": 9,
     "metadata": {},
     "output_type": "execute_result"
    }
   ],
   "source": [
    "pd.options.display.max_columns"
   ]
  },
  {
   "cell_type": "code",
   "execution_count": 10,
   "id": "d5adc841-b932-45ff-8ee2-70d6a0ef3d8b",
   "metadata": {},
   "outputs": [],
   "source": [
    "pd.options.display.max_columns =30 #열의 길이를 늘렸다."
   ]
  },
  {
   "cell_type": "code",
   "execution_count": 11,
   "id": "9fc15f47-8fee-4921-b0eb-406135449999",
   "metadata": {},
   "outputs": [
    {
     "data": {
      "text/html": [
       "<div>\n",
       "<style scoped>\n",
       "    .dataframe tbody tr th:only-of-type {\n",
       "        vertical-align: middle;\n",
       "    }\n",
       "\n",
       "    .dataframe tbody tr th {\n",
       "        vertical-align: top;\n",
       "    }\n",
       "\n",
       "    .dataframe thead th {\n",
       "        text-align: right;\n",
       "    }\n",
       "</style>\n",
       "<table border=\"1\" class=\"dataframe\">\n",
       "  <thead>\n",
       "    <tr style=\"text-align: right;\">\n",
       "      <th></th>\n",
       "      <th>symbolCode</th>\n",
       "      <th>date</th>\n",
       "      <th>currencyCode</th>\n",
       "      <th>currencyName</th>\n",
       "      <th>currencyUnit</th>\n",
       "      <th>country</th>\n",
       "      <th>region</th>\n",
       "      <th>name</th>\n",
       "      <th>recurrenceCount</th>\n",
       "      <th>basePrice</th>\n",
       "      <th>change</th>\n",
       "      <th>changePrice</th>\n",
       "      <th>changeRate</th>\n",
       "      <th>cashBuyingPrice</th>\n",
       "      <th>cashSellingPrice</th>\n",
       "      <th>ttBuyingPrice</th>\n",
       "      <th>ttSellingPrice</th>\n",
       "      <th>tcBuyingPrice</th>\n",
       "      <th>fcSellingPrice</th>\n",
       "      <th>exchangeCommission</th>\n",
       "      <th>usDollarRate</th>\n",
       "      <th>chartImageUrl</th>\n",
       "    </tr>\n",
       "  </thead>\n",
       "  <tbody>\n",
       "    <tr>\n",
       "      <th>40</th>\n",
       "      <td>FRX.KRWQAR</td>\n",
       "      <td>2023-02-16 15:07:41</td>\n",
       "      <td>QAR</td>\n",
       "      <td>리얄</td>\n",
       "      <td>1</td>\n",
       "      <td>카타르</td>\n",
       "      <td>{'korName': '중동', 'engName': 'Middle East'}</td>\n",
       "      <td>카타르 (KRW/QAR)</td>\n",
       "      <td>522</td>\n",
       "      <td>351.79</td>\n",
       "      <td>FALL</td>\n",
       "      <td>1.04</td>\n",
       "      <td>0.002948</td>\n",
       "      <td>0.0</td>\n",
       "      <td>0.0</td>\n",
       "      <td>0.00</td>\n",
       "      <td>0.00</td>\n",
       "      <td>None</td>\n",
       "      <td>None</td>\n",
       "      <td>3.355</td>\n",
       "      <td>0.2742</td>\n",
       "      <td>{'day': 'https://t1.daumcdn.net/finance/chart/...</td>\n",
       "    </tr>\n",
       "    <tr>\n",
       "      <th>41</th>\n",
       "      <td>FRX.KRWTRY</td>\n",
       "      <td>2023-02-16 15:07:41</td>\n",
       "      <td>TRY</td>\n",
       "      <td>리라</td>\n",
       "      <td>1</td>\n",
       "      <td>터키</td>\n",
       "      <td>{'korName': '중동', 'engName': 'Middle East'}</td>\n",
       "      <td>터키 (KRW/TRY)</td>\n",
       "      <td>522</td>\n",
       "      <td>68.08</td>\n",
       "      <td>FALL</td>\n",
       "      <td>0.19</td>\n",
       "      <td>0.002783</td>\n",
       "      <td>0.0</td>\n",
       "      <td>0.0</td>\n",
       "      <td>67.34</td>\n",
       "      <td>68.82</td>\n",
       "      <td>None</td>\n",
       "      <td>None</td>\n",
       "      <td>26.400</td>\n",
       "      <td>0.0531</td>\n",
       "      <td>{'day': 'https://t1.daumcdn.net/finance/chart/...</td>\n",
       "    </tr>\n",
       "  </tbody>\n",
       "</table>\n",
       "</div>"
      ],
      "text/plain": [
       "    symbolCode                 date currencyCode currencyName  currencyUnit  \\\n",
       "40  FRX.KRWQAR  2023-02-16 15:07:41          QAR           리얄             1   \n",
       "41  FRX.KRWTRY  2023-02-16 15:07:41          TRY           리라             1   \n",
       "\n",
       "   country                                       region           name  \\\n",
       "40     카타르  {'korName': '중동', 'engName': 'Middle East'}  카타르 (KRW/QAR)   \n",
       "41      터키  {'korName': '중동', 'engName': 'Middle East'}   터키 (KRW/TRY)   \n",
       "\n",
       "    recurrenceCount  basePrice change  changePrice  changeRate  \\\n",
       "40              522     351.79   FALL         1.04    0.002948   \n",
       "41              522      68.08   FALL         0.19    0.002783   \n",
       "\n",
       "    cashBuyingPrice  cashSellingPrice  ttBuyingPrice  ttSellingPrice  \\\n",
       "40              0.0               0.0           0.00            0.00   \n",
       "41              0.0               0.0          67.34           68.82   \n",
       "\n",
       "   tcBuyingPrice fcSellingPrice  exchangeCommission  usDollarRate  \\\n",
       "40          None           None               3.355        0.2742   \n",
       "41          None           None              26.400        0.0531   \n",
       "\n",
       "                                        chartImageUrl  \n",
       "40  {'day': 'https://t1.daumcdn.net/finance/chart/...  \n",
       "41  {'day': 'https://t1.daumcdn.net/finance/chart/...  "
      ]
     },
     "execution_count": 11,
     "metadata": {},
     "output_type": "execute_result"
    }
   ],
   "source": [
    "df.tail(2)"
   ]
  },
  {
   "cell_type": "code",
   "execution_count": 12,
   "id": "eff4bc04-f064-4453-a78e-eada10abd975",
   "metadata": {},
   "outputs": [
    {
     "data": {
      "text/plain": [
       "60"
      ]
     },
     "execution_count": 12,
     "metadata": {},
     "output_type": "execute_result"
    }
   ],
   "source": [
    "pd.options.display.max_rows"
   ]
  },
  {
   "cell_type": "code",
   "execution_count": 14,
   "id": "88d269e9-4dea-4b96-bd67-d683b2258a19",
   "metadata": {},
   "outputs": [],
   "source": [
    "pd.options.display.max_rows = 1000 # 행의 길이를 늘렸다"
   ]
  },
  {
   "cell_type": "code",
   "execution_count": null,
   "id": "36e57e74-c6d2-4d4f-9376-19127b63ccf2",
   "metadata": {},
   "outputs": [],
   "source": []
  },
  {
   "cell_type": "code",
   "execution_count": null,
   "id": "56c9e94c-fe68-4245-aa80-c84f33d32b83",
   "metadata": {},
   "outputs": [],
   "source": []
  },
  {
   "cell_type": "code",
   "execution_count": null,
   "id": "d2486f06-7df8-4e1f-b17c-58ac7c1a1438",
   "metadata": {},
   "outputs": [],
   "source": []
  },
  {
   "cell_type": "code",
   "execution_count": 4,
   "id": "18194c73-87c3-404e-bcc7-ad57c35def84",
   "metadata": {},
   "outputs": [
    {
     "data": {
      "text/plain": [
       "'<html>\\r\\n<head><title>403 Forbidden</title></head>\\r\\n<body bgcolor=\"white\">\\r\\n<center><h1>403 Forbidden</h1></center>\\r\\n<hr><center>nginx</center>\\r\\n</body>\\r\\n</html>\\r\\n'"
      ]
     },
     "execution_count": 4,
     "metadata": {},
     "output_type": "execute_result"
    }
   ],
   "source": [
    "response.text"
   ]
  }
 ],
 "metadata": {
  "kernelspec": {
   "display_name": "Python 3 (ipykernel)",
   "language": "python",
   "name": "python3"
  },
  "language_info": {
   "codemirror_mode": {
    "name": "ipython",
    "version": 3
   },
   "file_extension": ".py",
   "mimetype": "text/x-python",
   "name": "python",
   "nbconvert_exporter": "python",
   "pygments_lexer": "ipython3",
   "version": "3.9.13"
  }
 },
 "nbformat": 4,
 "nbformat_minor": 5
}
