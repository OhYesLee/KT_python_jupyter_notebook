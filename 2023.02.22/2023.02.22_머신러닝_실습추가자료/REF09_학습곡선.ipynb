{
 "cells": [
  {
   "cell_type": "markdown",
   "metadata": {
    "id": "7dkEWjqG7JCw"
   },
   "source": [
    "<center><img src='https://raw.githubusercontent.com/Jangrae/img/master/ml_python.png' width=600/></center>"
   ]
  },
  {
   "cell_type": "markdown",
   "metadata": {
    "id": "JkmWP4w97lOA"
   },
   "source": [
    "# 다룰 내용\n",
    "\n",
    "- 학습 데이터 양이 많으면 성능이 좋아질까요?\n",
    "- 학습 데이터 양에 따른 성능(Learning Curve)을 확인해봅니다."
   ]
  },
  {
   "cell_type": "code",
   "execution_count": null,
   "metadata": {
    "executionInfo": {
     "elapsed": 376,
     "status": "ok",
     "timestamp": 1645274854988,
     "user": {
      "displayName": "Jangrae Lee",
      "photoUrl": "https://lh3.googleusercontent.com/a-/AOh14Gh1Pd8OuWJU2cv7uTt-fURrgvty7atx_Wtarmx0-A=s64",
      "userId": "08475661575434032088"
     },
     "user_tz": -540
    },
    "id": "BzJjQX4lNdJr",
    "scrolled": true
   },
   "outputs": [],
   "source": [
    "# 라이브러리 불러오기\n",
    "import numpy as np\n",
    "import pandas as pd\n",
    "import matplotlib.pyplot as plt\n",
    "import seaborn as sns\n",
    "import warnings\n",
    "\n",
    "warnings.filterwarnings(action='ignore')\n",
    "%config InlineBackend.figure_format='retina'"
   ]
  },
  {
   "cell_type": "code",
   "execution_count": null,
   "metadata": {
    "id": "1yPDiJ4NNdJs"
   },
   "outputs": [],
   "source": [
    "# 데이터 읽어오기\n",
    "path = 'https://raw.githubusercontent.com/jangrae/csv/master/airline_satisfaction.csv'\n",
    "data = pd.read_csv(path)\n",
    "\n",
    "# 10,000개만 추출\n",
    "data = data.head(10000) \n",
    "\n",
    "# 확인\n",
    "data.head()"
   ]
  },
  {
   "cell_type": "code",
   "execution_count": null,
   "metadata": {
    "id": "dnKaihUj_T8T"
   },
   "outputs": [],
   "source": [
    "# 불필요한 변수 제거\n",
    "del_cols = ['id', 'departure/arrival_time_convenient', 'gate_location', 'departure_delay_in_minutes']\n",
    "data.drop(del_cols, axis=1, inplace=True)\n",
    "\n",
    "# 결측치 제거\n",
    "data.dropna(inplace=True)\n",
    "\n",
    "# 가변수화\n",
    "dumm_cols = ['gender', 'customer_type', 'type_of_travel', 'class']\n",
    "data = pd.get_dummies(data, columns=dumm_cols, drop_first=True)\n",
    "\n",
    "# 확인\n",
    "data.head()"
   ]
  },
  {
   "cell_type": "code",
   "execution_count": null,
   "metadata": {
    "executionInfo": {
     "elapsed": 3,
     "status": "ok",
     "timestamp": 1645274584228,
     "user": {
      "displayName": "Jangrae Lee",
      "photoUrl": "https://lh3.googleusercontent.com/a-/AOh14Gh1Pd8OuWJU2cv7uTt-fURrgvty7atx_Wtarmx0-A=s64",
      "userId": "08475661575434032088"
     },
     "user_tz": -540
    },
    "id": "Ops0CDL2dEDe"
   },
   "outputs": [],
   "source": [
    "# x, y 분리\n",
    "target = 'satisfaction'\n",
    "\n",
    "x = data.drop(target, axis=1)\n",
    "y = data.loc[:, target]\n",
    "\n",
    "# 데이터 크기 확인\n",
    "x.shape"
   ]
  },
  {
   "cell_type": "markdown",
   "metadata": {
    "id": "pKC33tnjGpxQ"
   },
   "source": [
    "**1) max_depth=3**"
   ]
  },
  {
   "cell_type": "code",
   "execution_count": null,
   "metadata": {
    "executionInfo": {
     "elapsed": 354,
     "status": "ok",
     "timestamp": 1645274586838,
     "user": {
      "displayName": "Jangrae Lee",
      "photoUrl": "https://lh3.googleusercontent.com/a-/AOh14Gh1Pd8OuWJU2cv7uTt-fURrgvty7atx_Wtarmx0-A=s64",
      "userId": "08475661575434032088"
     },
     "user_tz": -540
    },
    "id": "x89m9tYs7Eer"
   },
   "outputs": [],
   "source": [
    "# 모듈 둘러오기\n",
    "from sklearn.tree import DecisionTreeClassifier\n",
    "from sklearn.model_selection import learning_curve\n",
    "\n",
    "# 모셀선언\n",
    "model = DecisionTreeClassifier(max_depth=3)\n",
    "\n",
    "# Learning Curve 수행\n",
    "tr_size, tr_scores, val_scores = learning_curve(model, \n",
    "                                                x, \n",
    "                                                y,\n",
    "                                                train_sizes=range(10, 7900, 20),\n",
    "                                                shuffle=True,\n",
    "                                                cv=5)"
   ]
  },
  {
   "cell_type": "code",
   "execution_count": null,
   "metadata": {
    "id": "9XLFW2mtqPd_"
   },
   "outputs": [],
   "source": [
    "# CV 결과 --> 평균\n",
    "val_scores_3_mean = val_scores.mean(axis=1)\n",
    "\n",
    "# 시각화\n",
    "plt.figure(figsize=(8, 5))\n",
    "plt.plot(tr_size, val_scores_3_mean)\n",
    "plt.title('Learning Curve', size=20, pad=15)\n",
    "plt.ylabel('Score')\n",
    "plt.xlabel('Training Size')\n",
    "plt.show()"
   ]
  },
  {
   "cell_type": "markdown",
   "metadata": {
    "id": "PGJDx6hsGmTW"
   },
   "source": [
    "**2) max_depth=5**"
   ]
  },
  {
   "cell_type": "code",
   "execution_count": null,
   "metadata": {
    "executionInfo": {
     "elapsed": 47868,
     "status": "ok",
     "timestamp": 1645276067000,
     "user": {
      "displayName": "Jangrae Lee",
      "photoUrl": "https://lh3.googleusercontent.com/a-/AOh14Gh1Pd8OuWJU2cv7uTt-fURrgvty7atx_Wtarmx0-A=s64",
      "userId": "08475661575434032088"
     },
     "user_tz": -540
    },
    "id": "DFFZgx9QF6TE"
   },
   "outputs": [],
   "source": [
    "# 모듈 둘러오기\n",
    "from sklearn.tree import DecisionTreeClassifier\n",
    "from sklearn.model_selection import learning_curve\n",
    "\n",
    "# 모셀선언\n",
    "model = DecisionTreeClassifier(max_depth=5)\n",
    "\n",
    "# Learning Curve 수행\n",
    "tr_size, tr_scores, val_scores = learning_curve(model, \n",
    "                                                x, \n",
    "                                                y,\n",
    "                                                train_sizes=range(10, 7900, 20),\n",
    "                                                shuffle=True,\n",
    "                                                cv=5)"
   ]
  },
  {
   "cell_type": "code",
   "execution_count": null,
   "metadata": {
    "id": "PvE8WVmaF7Zp"
   },
   "outputs": [],
   "source": [
    "# CV 결과 --> 평균\n",
    "val_scores_5_mean = val_scores.mean(axis=1)\n",
    "\n",
    "# 시각화\n",
    "plt.figure(figsize=(8, 5))\n",
    "plt.plot(tr_size, val_scores_3_mean)\n",
    "plt.plot(tr_size, val_scores_5_mean)\n",
    "plt.title('Learning Curve', size=20, pad=15)\n",
    "plt.ylabel('Score')\n",
    "plt.xlabel('Training Size')\n",
    "plt.legend(['max_depth=3', 'max_depth=5'])\n",
    "plt.show()"
   ]
  }
 ],
 "metadata": {
  "colab": {
   "authorship_tag": "ABX9TyO1DqVVRGHm0mxO3MG06QJL",
   "collapsed_sections": [],
   "name": "RX_01_LearningCurve.ipynb",
   "provenance": []
  },
  "kernelspec": {
   "display_name": "Python 3 (ipykernel)",
   "language": "python",
   "name": "python3"
  },
  "language_info": {
   "codemirror_mode": {
    "name": "ipython",
    "version": 3
   },
   "file_extension": ".py",
   "mimetype": "text/x-python",
   "name": "python",
   "nbconvert_exporter": "python",
   "pygments_lexer": "ipython3",
   "version": "3.9.13"
  }
 },
 "nbformat": 4,
 "nbformat_minor": 4
}
