{
 "cells": [
  {
   "cell_type": "markdown",
   "id": "a2843caf",
   "metadata": {
    "id": "a2843caf"
   },
   "source": [
    "## Web Crawing\n",
    "- 웹 페이지에서 데이터를 수집하는 방법에 대해서 학습"
   ]
  },
  {
   "cell_type": "markdown",
   "id": "193e82cc",
   "metadata": {
    "id": "193e82cc"
   },
   "source": [
    "### 웹크롤링 방법\n",
    "\n",
    "#### 웹페이지의 종류\n",
    "- 정적인 페이지 : 웹 브라우져에 화면이 한번 뜨면 이벤트에 의한 화면의 변경이 없는 페이지 \n",
    "- 동적인 페이지 : 웹 브라우져에 화면이 뜨고 이벤트가 발생하면 서버에서 데이터를 가져와 화면을 변경하는 페이지\n",
    "\n",
    "#### requests 이용\n",
    "- 받아오는 문자열에 따라 두가지 방법으로 구분\n",
    "    - json 문자열로 받아서 파싱하는 방법 : 주로 동적 페이지 크롤링할때 사용 \n",
    "    - html 문자열로 받아서 파싱하는 방법 : 주로 정적 페이지 크롤링할때 사용\n",
    "        \n",
    "#### selenium 이용\n",
    "- 브라우져를 직접 열어서 데이터를 받는 방법\n",
    "\n",
    "#### 크롤링 방법에 따른 속도\n",
    "- requests json > requests html > selenium"
   ]
  },
  {
   "cell_type": "markdown",
   "id": "c9c2b3eb",
   "metadata": {
    "id": "c9c2b3eb"
   },
   "source": [
    "### Crwaling Naver Stock Datas\n",
    "- 네이버 증권 사이트에서 주가 데이터 수집\n",
    "- 수집할 데이터 : 일별 kospi, kosdaq 주가, 일별 환율(exchange rate) 데이터\n",
    "- 데이터 수집 절차\n",
    "    - 웹서비스 분석 : url\n",
    "    - 서버에 데이터 요청 : request(url) > response : json(str)\n",
    "    - 서버에서 받은 데이터 파싱(데이터 형태를 변경) : json(str) > list, dict > DataFrame"
   ]
  },
  {
   "cell_type": "code",
   "execution_count": 8,
   "id": "50c5b173-e797-4be1-8b4b-68a0fe53a348",
   "metadata": {},
   "outputs": [
    {
     "name": "stdout",
     "output_type": "stream",
     "text": [
      "Requirement already satisfied: requests in c:\\users\\user\\anaconda3\\lib\\site-packages (2.28.1)\n",
      "Requirement already satisfied: charset-normalizer<3,>=2 in c:\\users\\user\\anaconda3\\lib\\site-packages (from requests) (2.0.4)\n",
      "Requirement already satisfied: certifi>=2017.4.17 in c:\\users\\user\\anaconda3\\lib\\site-packages (from requests) (2022.12.7)\n",
      "Requirement already satisfied: idna<4,>=2.5 in c:\\users\\user\\anaconda3\\lib\\site-packages (from requests) (3.3)\n",
      "Requirement already satisfied: urllib3<1.27,>=1.21.1 in c:\\users\\user\\anaconda3\\lib\\site-packages (from requests) (1.26.11)\n",
      "Note: you may need to restart the kernel to use updated packages.\n"
     ]
    }
   ],
   "source": [
    "pip install requests"
   ]
  },
  {
   "cell_type": "code",
   "execution_count": 1,
   "id": "77151645",
   "metadata": {},
   "outputs": [],
   "source": [
    "import warnings\n",
    "warnings.filterwarnings('ignore')\n",
    "import pandas as pd\n",
    "import requests\n"
   ]
  },
  {
   "cell_type": "markdown",
   "id": "e9946ce1",
   "metadata": {
    "id": "e9946ce1"
   },
   "source": [
    "#### 1. 웹서비스 분석 : url\n",
    "- pc 웹페이지가 복잡하면 mobile 웹페이지에서 수집"
   ]
  },
  {
   "cell_type": "code",
   "execution_count": 3,
   "id": "05f8fcb2",
   "metadata": {},
   "outputs": [
    {
     "data": {
      "text/plain": [
       "'https://m.stock.naver.com/api/index/KOSPI/price?pageSize={page_size}&page={page}'"
      ]
     },
     "execution_count": 3,
     "metadata": {},
     "output_type": "execute_result"
    }
   ],
   "source": [
    "page, page_size = 1,10\n",
    "url = 'https://m.stock.naver.com/api/index/KOSPI/price?pageSize={page_size}&page={page}'\n",
    "url"
   ]
  },
  {
   "cell_type": "code",
   "execution_count": 4,
   "id": "22260276-aa22-4953-b4dd-61fd2ca6c1c3",
   "metadata": {},
   "outputs": [
    {
     "data": {
      "text/plain": [
       "'https://m.stock.naver.com/api/index/KOSPI/price?pageSize=10&page=1'"
      ]
     },
     "execution_count": 4,
     "metadata": {},
     "output_type": "execute_result"
    }
   ],
   "source": [
    "page, page_size = 1, 10 \n",
    "url = f'https://m.stock.naver.com/api/index/KOSPI/price?pageSize={page_size}&page={page}'\n",
    "url"
   ]
  },
  {
   "cell_type": "markdown",
   "id": "45b9c484",
   "metadata": {
    "id": "45b9c484"
   },
   "source": [
    "#### 2. 서버에 데이터 요청 : request(url) > response : json(str)\n",
    "- response의 status code가 200이 나오는지 확인\n",
    "- 403이나 500이 나오면 request가 잘못되거나 web server에서 수집이 안되도록 설정이 된것임\n",
    "    - header 설정 또는 selenium 사용\n",
    "- 200이 나오더라도 response 안에 있는 내용을 확인 > 확인하는 방법 : response.text"
   ]
  },
  {
   "cell_type": "code",
   "execution_count": 5,
   "id": "ba8417ac",
   "metadata": {},
   "outputs": [
    {
     "data": {
      "text/plain": [
       "<Response [200]>"
      ]
     },
     "execution_count": 5,
     "metadata": {},
     "output_type": "execute_result"
    }
   ],
   "source": [
    "response = requests.get(url)\n",
    "response\n"
   ]
  },
  {
   "cell_type": "markdown",
   "id": "2ab0fb67",
   "metadata": {
    "id": "2ab0fb67"
   },
   "source": [
    "#### 3. 서버에서 받은 데이터 파싱(데이터 형태를 변경) : json(str) > list, dict > DataFrame"
   ]
  },
  {
   "cell_type": "code",
   "execution_count": 7,
   "id": "6e0851a3",
   "metadata": {},
   "outputs": [
    {
     "data": {
      "text/plain": [
       "'[{\"localTradedAt\":\"2023-02-16\",\"closePrice\":\"2,473.46\",\"compareToPreviousClosePrice\":\"45.56\",\"compareToPreviousPrice\":{\"code\":\"2\",\"text\":\"상승\",\"name\":\"RISING\"},\"fluctuationsRatio\":\"1.88\",\"openPrice\":\"2,444.06\",\"highPrice\":\"2,474.62\",\"lowPrice\":\"2,442.07\"},{\"localTradedAt\":\"2023-02-15\",\"closePrice\":\"2'"
      ]
     },
     "execution_count": 7,
     "metadata": {},
     "output_type": "execute_result"
    }
   ],
   "source": [
    "response.text[:300]\n"
   ]
  },
  {
   "cell_type": "code",
   "execution_count": 9,
   "id": "7ff75e4a-4821-44c2-8a56-716950f15211",
   "metadata": {},
   "outputs": [
    {
     "data": {
      "text/plain": [
       "requests.models.Response"
      ]
     },
     "execution_count": 9,
     "metadata": {},
     "output_type": "execute_result"
    }
   ],
   "source": [
    "type(response)"
   ]
  },
  {
   "cell_type": "code",
   "execution_count": 15,
   "id": "e5f0a3c5-eeac-4a6c-be72-630a9d1ee17b",
   "metadata": {},
   "outputs": [
    {
     "name": "stdout",
     "output_type": "stream",
     "text": [
      "<class 'list'>\n"
     ]
    },
    {
     "data": {
      "text/plain": [
       "[{'localTradedAt': '2023-02-16',\n",
       "  'closePrice': '2,473.46',\n",
       "  'compareToPreviousClosePrice': '45.56',\n",
       "  'compareToPreviousPrice': {'code': '2', 'text': '상승', 'name': 'RISING'},\n",
       "  'fluctuationsRatio': '1.88',\n",
       "  'openPrice': '2,444.06',\n",
       "  'highPrice': '2,474.62',\n",
       "  'lowPrice': '2,442.07'},\n",
       " {'localTradedAt': '2023-02-15',\n",
       "  'closePrice': '2,427.90',\n",
       "  'compareToPreviousClosePrice': '-37.74',\n",
       "  'compareToPreviousPrice': {'code': '5', 'text': '하락', 'name': 'FALLING'},\n",
       "  'fluctuationsRatio': '-1.53',\n",
       "  'openPrice': '2,473.09',\n",
       "  'highPrice': '2,473.44',\n",
       "  'lowPrice': '2,424.16'},\n",
       " {'localTradedAt': '2023-02-14',\n",
       "  'closePrice': '2,465.64',\n",
       "  'compareToPreviousClosePrice': '12.94',\n",
       "  'compareToPreviousPrice': {'code': '2', 'text': '상승', 'name': 'RISING'},\n",
       "  'fluctuationsRatio': '0.53',\n",
       "  'openPrice': '2,471.33',\n",
       "  'highPrice': '2,480.34',\n",
       "  'lowPrice': '2,459.83'},\n",
       " {'localTradedAt': '2023-02-13',\n",
       "  'closePrice': '2,452.70',\n",
       "  'compareToPreviousClosePrice': '-17.03',\n",
       "  'compareToPreviousPrice': {'code': '5', 'text': '하락', 'name': 'FALLING'},\n",
       "  'fluctuationsRatio': '-0.69',\n",
       "  'openPrice': '2,461.96',\n",
       "  'highPrice': '2,462.58',\n",
       "  'lowPrice': '2,440.86'},\n",
       " {'localTradedAt': '2023-02-10',\n",
       "  'closePrice': '2,469.73',\n",
       "  'compareToPreviousClosePrice': '-11.79',\n",
       "  'compareToPreviousPrice': {'code': '5', 'text': '하락', 'name': 'FALLING'},\n",
       "  'fluctuationsRatio': '-0.48',\n",
       "  'openPrice': '2,470.65',\n",
       "  'highPrice': '2,473.80',\n",
       "  'lowPrice': '2,454.74'},\n",
       " {'localTradedAt': '2023-02-09',\n",
       "  'closePrice': '2,481.52',\n",
       "  'compareToPreviousClosePrice': '-2.12',\n",
       "  'compareToPreviousPrice': {'code': '5', 'text': '하락', 'name': 'FALLING'},\n",
       "  'fluctuationsRatio': '-0.09',\n",
       "  'openPrice': '2,470.66',\n",
       "  'highPrice': '2,487.14',\n",
       "  'lowPrice': '2,466.61'},\n",
       " {'localTradedAt': '2023-02-08',\n",
       "  'closePrice': '2,483.64',\n",
       "  'compareToPreviousClosePrice': '31.93',\n",
       "  'compareToPreviousPrice': {'code': '2', 'text': '상승', 'name': 'RISING'},\n",
       "  'fluctuationsRatio': '1.30',\n",
       "  'openPrice': '2,469.42',\n",
       "  'highPrice': '2,487.35',\n",
       "  'lowPrice': '2,465.96'},\n",
       " {'localTradedAt': '2023-02-07',\n",
       "  'closePrice': '2,451.71',\n",
       "  'compareToPreviousClosePrice': '13.52',\n",
       "  'compareToPreviousPrice': {'code': '2', 'text': '상승', 'name': 'RISING'},\n",
       "  'fluctuationsRatio': '0.55',\n",
       "  'openPrice': '2,440.14',\n",
       "  'highPrice': '2,456.17',\n",
       "  'lowPrice': '2,432.40'},\n",
       " {'localTradedAt': '2023-02-06',\n",
       "  'closePrice': '2,438.19',\n",
       "  'compareToPreviousClosePrice': '-42.21',\n",
       "  'compareToPreviousPrice': {'code': '5', 'text': '하락', 'name': 'FALLING'},\n",
       "  'fluctuationsRatio': '-1.70',\n",
       "  'openPrice': '2,461.82',\n",
       "  'highPrice': '2,469.42',\n",
       "  'lowPrice': '2,438.04'},\n",
       " {'localTradedAt': '2023-02-03',\n",
       "  'closePrice': '2,480.40',\n",
       "  'compareToPreviousClosePrice': '11.52',\n",
       "  'compareToPreviousPrice': {'code': '2', 'text': '상승', 'name': 'RISING'},\n",
       "  'fluctuationsRatio': '0.47',\n",
       "  'openPrice': '2,466.54',\n",
       "  'highPrice': '2,485.08',\n",
       "  'lowPrice': '2,460.21'}]"
      ]
     },
     "execution_count": 15,
     "metadata": {},
     "output_type": "execute_result"
    }
   ],
   "source": [
    "data = response.json()\n",
    "print(type(data))\n",
    "data"
   ]
  },
  {
   "cell_type": "code",
   "execution_count": 18,
   "id": "17fba807-324a-443e-9b83-3e1434098ef2",
   "metadata": {},
   "outputs": [
    {
     "data": {
      "text/html": [
       "<div>\n",
       "<style scoped>\n",
       "    .dataframe tbody tr th:only-of-type {\n",
       "        vertical-align: middle;\n",
       "    }\n",
       "\n",
       "    .dataframe tbody tr th {\n",
       "        vertical-align: top;\n",
       "    }\n",
       "\n",
       "    .dataframe thead th {\n",
       "        text-align: right;\n",
       "    }\n",
       "</style>\n",
       "<table border=\"1\" class=\"dataframe\">\n",
       "  <thead>\n",
       "    <tr style=\"text-align: right;\">\n",
       "      <th></th>\n",
       "      <th>localTradedAt</th>\n",
       "      <th>closePrice</th>\n",
       "    </tr>\n",
       "  </thead>\n",
       "  <tbody>\n",
       "    <tr>\n",
       "      <th>0</th>\n",
       "      <td>2023-02-16</td>\n",
       "      <td>2,473.46</td>\n",
       "    </tr>\n",
       "    <tr>\n",
       "      <th>1</th>\n",
       "      <td>2023-02-15</td>\n",
       "      <td>2,427.90</td>\n",
       "    </tr>\n",
       "    <tr>\n",
       "      <th>2</th>\n",
       "      <td>2023-02-14</td>\n",
       "      <td>2,465.64</td>\n",
       "    </tr>\n",
       "    <tr>\n",
       "      <th>3</th>\n",
       "      <td>2023-02-13</td>\n",
       "      <td>2,452.70</td>\n",
       "    </tr>\n",
       "    <tr>\n",
       "      <th>4</th>\n",
       "      <td>2023-02-10</td>\n",
       "      <td>2,469.73</td>\n",
       "    </tr>\n",
       "    <tr>\n",
       "      <th>5</th>\n",
       "      <td>2023-02-09</td>\n",
       "      <td>2,481.52</td>\n",
       "    </tr>\n",
       "    <tr>\n",
       "      <th>6</th>\n",
       "      <td>2023-02-08</td>\n",
       "      <td>2,483.64</td>\n",
       "    </tr>\n",
       "    <tr>\n",
       "      <th>7</th>\n",
       "      <td>2023-02-07</td>\n",
       "      <td>2,451.71</td>\n",
       "    </tr>\n",
       "    <tr>\n",
       "      <th>8</th>\n",
       "      <td>2023-02-06</td>\n",
       "      <td>2,438.19</td>\n",
       "    </tr>\n",
       "    <tr>\n",
       "      <th>9</th>\n",
       "      <td>2023-02-03</td>\n",
       "      <td>2,480.40</td>\n",
       "    </tr>\n",
       "  </tbody>\n",
       "</table>\n",
       "</div>"
      ],
      "text/plain": [
       "  localTradedAt closePrice\n",
       "0    2023-02-16   2,473.46\n",
       "1    2023-02-15   2,427.90\n",
       "2    2023-02-14   2,465.64\n",
       "3    2023-02-13   2,452.70\n",
       "4    2023-02-10   2,469.73\n",
       "5    2023-02-09   2,481.52\n",
       "6    2023-02-08   2,483.64\n",
       "7    2023-02-07   2,451.71\n",
       "8    2023-02-06   2,438.19\n",
       "9    2023-02-03   2,480.40"
      ]
     },
     "execution_count": 18,
     "metadata": {},
     "output_type": "execute_result"
    }
   ],
   "source": [
    "df = pd.DataFrame(data)[['localTradedAt','closePrice']]\n",
    "df"
   ]
  },
  {
   "cell_type": "markdown",
   "id": "a5806ae9",
   "metadata": {
    "id": "a5806ae9"
   },
   "source": [
    "#### 4. 함수로 만들기"
   ]
  },
  {
   "cell_type": "code",
   "execution_count": null,
   "id": "fcc4a262",
   "metadata": {},
   "outputs": [],
   "source": [
    "def stock_price(code, page, page_size): ''' This function is crawling stock price from naver. params: code : str : KOSPI, KOSDAQ page : int page_size : int return: type : DataFrame ''' # 1. URL url = f'https://m.stock.naver.com/api/index/{code}/price?pageSize={page_size}&page={page}' # 2. request(URL) > response : json(str) response = requests.get(url) # 3. json(str) > list, dict > DataFrame data = response.json() return pd.DataFrame(data)[['localTradedAt', 'closePrice']]"
   ]
  },
  {
   "cell_type": "code",
   "execution_count": 69,
   "id": "a7b98b22-7248-4650-a9c6-f09fa742ea86",
   "metadata": {},
   "outputs": [],
   "source": [
    "# def stock_price(code, page=1, page_size=20): \n",
    "def stock_price(code, page=1, page_size=10): \n",
    "    ''' This function is crawling stock price from naver. \n",
    "    params: \n",
    "        code : str : KOSPI, KOSDAQ \n",
    "        page : int \n",
    "        page_size : int \n",
    "    return: type : DataFrame \n",
    "    ''' \n",
    "    # 1. URL \n",
    "    url = f'https://m.stock.naver.com/api/index/{code}/price?pageSize={page_size}&page={page}'\n",
    "    # 2. request(URL) > response : json(str) \n",
    "    response = requests.get(url)\n",
    "    # 3. json(str) > list, dict > DataFrame\n",
    "    data = response.json() \n",
    "    return pd.DataFrame(data)[['localTradedAt', 'closePrice']]"
   ]
  },
  {
   "cell_type": "code",
   "execution_count": 70,
   "id": "1884b48b-3e5b-4610-a10f-1c7a82d53cac",
   "metadata": {},
   "outputs": [
    {
     "data": {
      "text/html": [
       "<div>\n",
       "<style scoped>\n",
       "    .dataframe tbody tr th:only-of-type {\n",
       "        vertical-align: middle;\n",
       "    }\n",
       "\n",
       "    .dataframe tbody tr th {\n",
       "        vertical-align: top;\n",
       "    }\n",
       "\n",
       "    .dataframe thead th {\n",
       "        text-align: right;\n",
       "    }\n",
       "</style>\n",
       "<table border=\"1\" class=\"dataframe\">\n",
       "  <thead>\n",
       "    <tr style=\"text-align: right;\">\n",
       "      <th></th>\n",
       "      <th>localTradedAt</th>\n",
       "      <th>closePrice</th>\n",
       "    </tr>\n",
       "  </thead>\n",
       "  <tbody>\n",
       "    <tr>\n",
       "      <th>18</th>\n",
       "      <td>2023-01-19</td>\n",
       "      <td>712.89</td>\n",
       "    </tr>\n",
       "    <tr>\n",
       "      <th>19</th>\n",
       "      <td>2023-01-18</td>\n",
       "      <td>711.75</td>\n",
       "    </tr>\n",
       "  </tbody>\n",
       "</table>\n",
       "</div>"
      ],
      "text/plain": [
       "   localTradedAt closePrice\n",
       "18    2023-01-19     712.89\n",
       "19    2023-01-18     711.75"
      ]
     },
     "execution_count": 70,
     "metadata": {},
     "output_type": "execute_result"
    }
   ],
   "source": [
    "df = stock_price('KOSDAQ',1,20)\n",
    "df.tail(2)\n",
    "# 네이버는 60개 까지만 가져올 수 있다."
   ]
  },
  {
   "cell_type": "markdown",
   "id": "24987ea2-aea4-415b-9777-49f6891c4bb4",
   "metadata": {},
   "source": [
    "## https://financedata.github.io/posts/finance-data-reader-users-guide.html\n",
    "* 사용해보자"
   ]
  },
  {
   "cell_type": "code",
   "execution_count": 71,
   "id": "4b0a2974-89ca-41d3-b7f4-6e38778625e7",
   "metadata": {},
   "outputs": [],
   "source": [
    "# shift + tap 공식문서 확인가능하다"
   ]
  },
  {
   "cell_type": "code",
   "execution_count": 72,
   "id": "7fe7c4db-28e8-47c6-89cf-5a72f8216156",
   "metadata": {},
   "outputs": [
    {
     "name": "stdout",
     "output_type": "stream",
     "text": [
      "Help on built-in function print in module builtins:\n",
      "\n",
      "print(...)\n",
      "    print(value, ..., sep=' ', end='\\n', file=sys.stdout, flush=False)\n",
      "    \n",
      "    Prints the values to a stream, or to sys.stdout by default.\n",
      "    Optional keyword arguments:\n",
      "    file:  a file-like object (stream); defaults to the current sys.stdout.\n",
      "    sep:   string inserted between values, default a space.\n",
      "    end:   string appended after the last value, default a newline.\n",
      "    flush: whether to forcibly flush the stream.\n",
      "\n"
     ]
    }
   ],
   "source": [
    "help(print)"
   ]
  },
  {
   "cell_type": "code",
   "execution_count": 73,
   "id": "f144ce52-41ac-4ef8-b384-5c8c07f7b3f4",
   "metadata": {},
   "outputs": [
    {
     "name": "stdout",
     "output_type": "stream",
     "text": [
      "A,B\tC\n"
     ]
    }
   ],
   "source": [
    "print('A','B',sep=',',end='\\t')\n",
    "print('C')"
   ]
  },
  {
   "cell_type": "code",
   "execution_count": 74,
   "id": "1e678219-1cc4-4670-b338-f6bd03e0edfa",
   "metadata": {},
   "outputs": [
    {
     "data": {
      "text/plain": [
       "requests.models.Response"
      ]
     },
     "execution_count": 74,
     "metadata": {},
     "output_type": "execute_result"
    }
   ],
   "source": [
    "type(response) # response.json()"
   ]
  },
  {
   "cell_type": "code",
   "execution_count": 75,
   "id": "815ef3ff-6176-437a-b540-01ecb20c8b77",
   "metadata": {},
   "outputs": [
    {
     "data": {
      "text/plain": [
       "['__attrs__',\n",
       " '__bool__',\n",
       " '__class__',\n",
       " '__delattr__',\n",
       " '__dict__',\n",
       " '__dir__',\n",
       " '__doc__',\n",
       " '__enter__',\n",
       " '__eq__',\n",
       " '__exit__',\n",
       " '__format__',\n",
       " '__ge__',\n",
       " '__getattribute__',\n",
       " '__getstate__',\n",
       " '__gt__',\n",
       " '__hash__',\n",
       " '__init__',\n",
       " '__init_subclass__',\n",
       " '__iter__',\n",
       " '__le__',\n",
       " '__lt__',\n",
       " '__module__',\n",
       " '__ne__',\n",
       " '__new__',\n",
       " '__nonzero__',\n",
       " '__reduce__',\n",
       " '__reduce_ex__',\n",
       " '__repr__',\n",
       " '__setattr__',\n",
       " '__setstate__',\n",
       " '__sizeof__',\n",
       " '__str__',\n",
       " '__subclasshook__',\n",
       " '__weakref__',\n",
       " '_content',\n",
       " '_content_consumed',\n",
       " '_next',\n",
       " 'apparent_encoding',\n",
       " 'close',\n",
       " 'connection',\n",
       " 'content',\n",
       " 'cookies',\n",
       " 'elapsed',\n",
       " 'encoding',\n",
       " 'headers',\n",
       " 'history',\n",
       " 'is_permanent_redirect',\n",
       " 'is_redirect',\n",
       " 'iter_content',\n",
       " 'iter_lines',\n",
       " 'json',\n",
       " 'links',\n",
       " 'next',\n",
       " 'ok',\n",
       " 'raise_for_status',\n",
       " 'raw',\n",
       " 'reason',\n",
       " 'request',\n",
       " 'status_code',\n",
       " 'text',\n",
       " 'url']"
      ]
     },
     "execution_count": 75,
     "metadata": {},
     "output_type": "execute_result"
    }
   ],
   "source": [
    "dir(response)"
   ]
  },
  {
   "cell_type": "code",
   "execution_count": 76,
   "id": "4e7d9ab5-69eb-48a1-967f-911c6a823d79",
   "metadata": {},
   "outputs": [],
   "source": [
    "# [var for var in dir(response)]"
   ]
  },
  {
   "cell_type": "markdown",
   "id": "30b5340b",
   "metadata": {
    "id": "30b5340b"
   },
   "source": [
    "#### 5. 원달러 환율 데이터 수집 : 실습"
   ]
  },
  {
   "cell_type": "code",
   "execution_count": 77,
   "id": "be84095d-6c2a-44d6-a78a-33f2e0067d0a",
   "metadata": {},
   "outputs": [],
   "source": [
    "# def stock_price(code=\"KOSPI\", page=1, page_size=20): \"\"\"This function is crawling stock price from naver Args: code (_str_): KOSPI or KOSDAQ page (_int_): int page_size (_int_): int Return: type : DataFrame \"\"\" # 1. URL url = f\"https://m.stock.naver.com/api/index/{code}/price?pageSize={page_size}&page={page}\" # 2. requests(URL) > response : json(str) response = requests.get(url) # 3. json(str) > list, dict > DataFrame data = response.json() return pd.DataFrame(data)[[\"localTradedAt\", \"closePrice\"]]"
   ]
  },
  {
   "cell_type": "code",
   "execution_count": 78,
   "id": "46ee645e",
   "metadata": {},
   "outputs": [],
   "source": [
    "# def exchange_rate():\n",
    "#     # 1. URL \n",
    "#     url = f'https://m.stock.naver.com/front-api/v1/marketIndex/prices?page={page}&category=exchange&reutersCode={code}'\n",
    "#     # 2. request(URL) > response(json(str)) \n",
    "#     response = requests.get(url) \n",
    "#     # 3. json(str) > list, dict > DataFrame \n",
    "#     return response.text"
   ]
  },
  {
   "cell_type": "code",
   "execution_count": 79,
   "id": "934522f6-0d88-4cb8-b390-a1f1b16c2160",
   "metadata": {},
   "outputs": [],
   "source": [
    "def exchange_rate(code='FX_USDKRW', page=1): \n",
    "    # 1. URL \n",
    "    url = f'https://m.stock.naver.com/front-api/v1/marketIndex/prices?page={page}&category=exchange&reutersCode={code}' \n",
    "    # 2. request(URL) > response(json(str)) \n",
    "    response = requests.get(url) \n",
    "    # 3. json(str) > list, dict > DataFrame \n",
    "    data = response.json()['result']\n",
    "    return pd.DataFrame(data)[['localTradedAt','closePrice']]"
   ]
  },
  {
   "cell_type": "code",
   "execution_count": null,
   "id": "f1ede1f2-3532-4f3b-b349-4f905e260396",
   "metadata": {},
   "outputs": [],
   "source": [
    "def exchange_rate(code='FX_USDKRW', page=1): \n",
    "    # 1. URL \n",
    "    url = f'https://m.stock.naver.com/front-api/v1/marketIndex/prices?page={page}&category=exchange&reutersCode={code}' \n",
    "    # 2. request(URL) > response(json(str)) \n",
    "    response = requests.get(url) \n",
    "    # 3. json(str) > list, dict > DataFrame \n",
    "    data = response.json()['result'] \n",
    "    return pd.DataFrame(data)[['localTradedAt', 'closePrice']]"
   ]
  },
  {
   "cell_type": "code",
   "execution_count": 80,
   "id": "c95e7cbd-7a81-4fa6-a92e-aedb26e57fee",
   "metadata": {},
   "outputs": [
    {
     "data": {
      "text/html": [
       "<div>\n",
       "<style scoped>\n",
       "    .dataframe tbody tr th:only-of-type {\n",
       "        vertical-align: middle;\n",
       "    }\n",
       "\n",
       "    .dataframe tbody tr th {\n",
       "        vertical-align: top;\n",
       "    }\n",
       "\n",
       "    .dataframe thead th {\n",
       "        text-align: right;\n",
       "    }\n",
       "</style>\n",
       "<table border=\"1\" class=\"dataframe\">\n",
       "  <thead>\n",
       "    <tr style=\"text-align: right;\">\n",
       "      <th></th>\n",
       "      <th>localTradedAt</th>\n",
       "      <th>closePrice</th>\n",
       "    </tr>\n",
       "  </thead>\n",
       "  <tbody>\n",
       "    <tr>\n",
       "      <th>0</th>\n",
       "      <td>2023-02-16</td>\n",
       "      <td>1,282.40</td>\n",
       "    </tr>\n",
       "    <tr>\n",
       "      <th>1</th>\n",
       "      <td>2023-02-15</td>\n",
       "      <td>1,289.00</td>\n",
       "    </tr>\n",
       "    <tr>\n",
       "      <th>2</th>\n",
       "      <td>2023-02-14</td>\n",
       "      <td>1,270.00</td>\n",
       "    </tr>\n",
       "    <tr>\n",
       "      <th>3</th>\n",
       "      <td>2023-02-13</td>\n",
       "      <td>1,279.00</td>\n",
       "    </tr>\n",
       "    <tr>\n",
       "      <th>4</th>\n",
       "      <td>2023-02-10</td>\n",
       "      <td>1,270.50</td>\n",
       "    </tr>\n",
       "    <tr>\n",
       "      <th>5</th>\n",
       "      <td>2023-02-09</td>\n",
       "      <td>1,259.00</td>\n",
       "    </tr>\n",
       "    <tr>\n",
       "      <th>6</th>\n",
       "      <td>2023-02-08</td>\n",
       "      <td>1,260.00</td>\n",
       "    </tr>\n",
       "    <tr>\n",
       "      <th>7</th>\n",
       "      <td>2023-02-07</td>\n",
       "      <td>1,262.00</td>\n",
       "    </tr>\n",
       "    <tr>\n",
       "      <th>8</th>\n",
       "      <td>2023-02-06</td>\n",
       "      <td>1,258.00</td>\n",
       "    </tr>\n",
       "    <tr>\n",
       "      <th>9</th>\n",
       "      <td>2023-02-03</td>\n",
       "      <td>1,251.00</td>\n",
       "    </tr>\n",
       "  </tbody>\n",
       "</table>\n",
       "</div>"
      ],
      "text/plain": [
       "  localTradedAt closePrice\n",
       "0    2023-02-16   1,282.40\n",
       "1    2023-02-15   1,289.00\n",
       "2    2023-02-14   1,270.00\n",
       "3    2023-02-13   1,279.00\n",
       "4    2023-02-10   1,270.50\n",
       "5    2023-02-09   1,259.00\n",
       "6    2023-02-08   1,260.00\n",
       "7    2023-02-07   1,262.00\n",
       "8    2023-02-06   1,258.00\n",
       "9    2023-02-03   1,251.00"
      ]
     },
     "execution_count": 80,
     "metadata": {},
     "output_type": "execute_result"
    }
   ],
   "source": [
    "exchange_rate()"
   ]
  },
  {
   "cell_type": "code",
   "execution_count": 101,
   "id": "dbeef7a1-9a5f-4994-b168-645ed197815c",
   "metadata": {},
   "outputs": [
    {
     "data": {
      "text/html": [
       "<div>\n",
       "<style scoped>\n",
       "    .dataframe tbody tr th:only-of-type {\n",
       "        vertical-align: middle;\n",
       "    }\n",
       "\n",
       "    .dataframe tbody tr th {\n",
       "        vertical-align: top;\n",
       "    }\n",
       "\n",
       "    .dataframe thead th {\n",
       "        text-align: right;\n",
       "    }\n",
       "</style>\n",
       "<table border=\"1\" class=\"dataframe\">\n",
       "  <thead>\n",
       "    <tr style=\"text-align: right;\">\n",
       "      <th></th>\n",
       "      <th>localTradedAt</th>\n",
       "      <th>closePrice</th>\n",
       "    </tr>\n",
       "  </thead>\n",
       "  <tbody>\n",
       "    <tr>\n",
       "      <th>18</th>\n",
       "      <td>2023-01-19</td>\n",
       "      <td>1,237.00</td>\n",
       "    </tr>\n",
       "    <tr>\n",
       "      <th>19</th>\n",
       "      <td>2023-01-18</td>\n",
       "      <td>1,230.00</td>\n",
       "    </tr>\n",
       "  </tbody>\n",
       "</table>\n",
       "</div>"
      ],
      "text/plain": [
       "   localTradedAt closePrice\n",
       "18    2023-01-19   1,237.00\n",
       "19    2023-01-18   1,230.00"
      ]
     },
     "execution_count": 101,
     "metadata": {},
     "output_type": "execute_result"
    }
   ],
   "source": [
    "usd_1 = exchange_rate(page=1) \n",
    "usd_2 = exchange_rate(page=2) \n",
    "usd_df = pd.concat([usd_1, usd_2], ignore_index=True) \n",
    "usd_df.tail(2)"
   ]
  },
  {
   "cell_type": "code",
   "execution_count": 102,
   "id": "19499aee-ccd8-4f7c-8843-74d8248ee564",
   "metadata": {},
   "outputs": [],
   "source": [
    "# kospi_df = stock_price() \n",
    "# kospi_df.tail(2)"
   ]
  },
  {
   "cell_type": "code",
   "execution_count": 103,
   "id": "db7fb370-1fbb-43e6-9890-df48ee67ae01",
   "metadata": {},
   "outputs": [
    {
     "data": {
      "text/html": [
       "<div>\n",
       "<style scoped>\n",
       "    .dataframe tbody tr th:only-of-type {\n",
       "        vertical-align: middle;\n",
       "    }\n",
       "\n",
       "    .dataframe tbody tr th {\n",
       "        vertical-align: top;\n",
       "    }\n",
       "\n",
       "    .dataframe thead th {\n",
       "        text-align: right;\n",
       "    }\n",
       "</style>\n",
       "<table border=\"1\" class=\"dataframe\">\n",
       "  <thead>\n",
       "    <tr style=\"text-align: right;\">\n",
       "      <th></th>\n",
       "      <th>localTradedAt</th>\n",
       "      <th>closePrice</th>\n",
       "    </tr>\n",
       "  </thead>\n",
       "  <tbody>\n",
       "    <tr>\n",
       "      <th>8</th>\n",
       "      <td>2023-02-06</td>\n",
       "      <td>2,438.19</td>\n",
       "    </tr>\n",
       "    <tr>\n",
       "      <th>9</th>\n",
       "      <td>2023-02-03</td>\n",
       "      <td>2,480.40</td>\n",
       "    </tr>\n",
       "  </tbody>\n",
       "</table>\n",
       "</div>"
      ],
      "text/plain": [
       "  localTradedAt closePrice\n",
       "8    2023-02-06   2,438.19\n",
       "9    2023-02-03   2,480.40"
      ]
     },
     "execution_count": 103,
     "metadata": {},
     "output_type": "execute_result"
    }
   ],
   "source": [
    "kospi_df = stock_price(code='KOSPI') \n",
    "kospi_df.tail(2)"
   ]
  },
  {
   "cell_type": "code",
   "execution_count": 104,
   "id": "a14a2943-df83-4742-b0d7-ea0ed10e86ce",
   "metadata": {},
   "outputs": [
    {
     "data": {
      "text/html": [
       "<div>\n",
       "<style scoped>\n",
       "    .dataframe tbody tr th:only-of-type {\n",
       "        vertical-align: middle;\n",
       "    }\n",
       "\n",
       "    .dataframe tbody tr th {\n",
       "        vertical-align: top;\n",
       "    }\n",
       "\n",
       "    .dataframe thead th {\n",
       "        text-align: right;\n",
       "    }\n",
       "</style>\n",
       "<table border=\"1\" class=\"dataframe\">\n",
       "  <thead>\n",
       "    <tr style=\"text-align: right;\">\n",
       "      <th></th>\n",
       "      <th>localTradedAt</th>\n",
       "      <th>closePrice</th>\n",
       "    </tr>\n",
       "  </thead>\n",
       "  <tbody>\n",
       "    <tr>\n",
       "      <th>8</th>\n",
       "      <td>2023-02-06</td>\n",
       "      <td>761.33</td>\n",
       "    </tr>\n",
       "    <tr>\n",
       "      <th>9</th>\n",
       "      <td>2023-02-03</td>\n",
       "      <td>766.79</td>\n",
       "    </tr>\n",
       "  </tbody>\n",
       "</table>\n",
       "</div>"
      ],
      "text/plain": [
       "  localTradedAt closePrice\n",
       "8    2023-02-06     761.33\n",
       "9    2023-02-03     766.79"
      ]
     },
     "execution_count": 104,
     "metadata": {},
     "output_type": "execute_result"
    }
   ],
   "source": [
    "kosdaq_df = stock_price(code='KOSDAQ') \n",
    "kosdaq_df.tail(2)"
   ]
  },
  {
   "cell_type": "code",
   "execution_count": 105,
   "id": "bb40d49d-8dd2-4dd1-96c1-f57b63c1a796",
   "metadata": {},
   "outputs": [
    {
     "data": {
      "text/plain": [
       "0     1,282.60\n",
       "1     1,289.00\n",
       "2     1,270.00\n",
       "3     1,279.00\n",
       "4     1,270.50\n",
       "5     1,259.00\n",
       "6     1,260.00\n",
       "7     1,262.00\n",
       "8     1,258.00\n",
       "9     1,251.00\n",
       "10    1,227.00\n",
       "11    1,231.50\n",
       "12    1,236.00\n",
       "13    1,230.00\n",
       "14    1,235.00\n",
       "15    1,234.50\n",
       "16    1,236.50\n",
       "17    1,240.00\n",
       "18    1,237.00\n",
       "19    1,230.00\n",
       "Name: closePrice, dtype: object"
      ]
     },
     "execution_count": 105,
     "metadata": {},
     "output_type": "execute_result"
    }
   ],
   "source": [
    "usd_df['closePrice']"
   ]
  },
  {
   "cell_type": "code",
   "execution_count": 106,
   "id": "7094ead6-8c6f-4cce-b0fe-13c8b13b7d80",
   "metadata": {},
   "outputs": [
    {
     "data": {
      "text/html": [
       "<div>\n",
       "<style scoped>\n",
       "    .dataframe tbody tr th:only-of-type {\n",
       "        vertical-align: middle;\n",
       "    }\n",
       "\n",
       "    .dataframe tbody tr th {\n",
       "        vertical-align: top;\n",
       "    }\n",
       "\n",
       "    .dataframe thead th {\n",
       "        text-align: right;\n",
       "    }\n",
       "</style>\n",
       "<table border=\"1\" class=\"dataframe\">\n",
       "  <thead>\n",
       "    <tr style=\"text-align: right;\">\n",
       "      <th></th>\n",
       "      <th>localTradedAt</th>\n",
       "      <th>closePrice</th>\n",
       "      <th>usd</th>\n",
       "    </tr>\n",
       "  </thead>\n",
       "  <tbody>\n",
       "    <tr>\n",
       "      <th>18</th>\n",
       "      <td>2023-01-19</td>\n",
       "      <td>1,237.00</td>\n",
       "      <td>1237.0</td>\n",
       "    </tr>\n",
       "    <tr>\n",
       "      <th>19</th>\n",
       "      <td>2023-01-18</td>\n",
       "      <td>1,230.00</td>\n",
       "      <td>1230.0</td>\n",
       "    </tr>\n",
       "  </tbody>\n",
       "</table>\n",
       "</div>"
      ],
      "text/plain": [
       "   localTradedAt closePrice     usd\n",
       "18    2023-01-19   1,237.00  1237.0\n",
       "19    2023-01-18   1,230.00  1230.0"
      ]
     },
     "execution_count": 106,
     "metadata": {},
     "output_type": "execute_result"
    }
   ],
   "source": [
    "# 데이터 전처리 : 데이터 타입 변경 \n",
    "usd_1 = exchange_rate(page=1) \n",
    "usd_2 = exchange_rate(page=2) \n",
    "usd_df = pd.concat([usd_1, usd_2], ignore_index=True) \n",
    "usd_df['usd'] = usd_df['closePrice'].apply(lambda data: float(data.replace(',', ''))) \n",
    "usd_df.tail(2)"
   ]
  },
  {
   "cell_type": "code",
   "execution_count": 107,
   "id": "957326ad-8101-4222-a846-acfa4cb0b489",
   "metadata": {},
   "outputs": [
    {
     "data": {
      "text/plain": [
       "0     1282.6\n",
       "1     1289.0\n",
       "2     1270.0\n",
       "3     1279.0\n",
       "4     1270.5\n",
       "5     1259.0\n",
       "6     1260.0\n",
       "7     1262.0\n",
       "8     1258.0\n",
       "9     1251.0\n",
       "10    1227.0\n",
       "11    1231.5\n",
       "12    1236.0\n",
       "13    1230.0\n",
       "14    1235.0\n",
       "15    1234.5\n",
       "16    1236.5\n",
       "17    1240.0\n",
       "18    1237.0\n",
       "19    1230.0\n",
       "Name: usd, dtype: float64"
      ]
     },
     "execution_count": 107,
     "metadata": {},
     "output_type": "execute_result"
    }
   ],
   "source": [
    "usd_df['usd']"
   ]
  },
  {
   "cell_type": "code",
   "execution_count": 108,
   "id": "b9d4a1a5-e741-4633-8a3b-83de8212b344",
   "metadata": {},
   "outputs": [],
   "source": [
    "# kospi_df['kospi'] = kospi_df['closePrice'].apply(lambda data: float(data.replace(',', ''))) \n",
    "# kosdaq_df['kosdaq'] = kosdaq_df['closePrice'].apply(lambda data: float(data.replace(',', '')))"
   ]
  },
  {
   "cell_type": "code",
   "execution_count": 109,
   "id": "42f83e0a-500c-408c-90b4-a3561d0acbc3",
   "metadata": {},
   "outputs": [
    {
     "ename": "TypeError",
     "evalue": "stock_price() missing 1 required positional argument: 'code'",
     "output_type": "error",
     "traceback": [
      "\u001b[1;31m---------------------------------------------------------------------------\u001b[0m",
      "\u001b[1;31mTypeError\u001b[0m                                 Traceback (most recent call last)",
      "Cell \u001b[1;32mIn[109], line 1\u001b[0m\n\u001b[1;32m----> 1\u001b[0m kospi_df, kosdaq_df \u001b[38;5;241m=\u001b[39m \u001b[43mstock_price\u001b[49m\u001b[43m(\u001b[49m\u001b[43m)\u001b[49m, stock_price(code\u001b[38;5;241m=\u001b[39m\u001b[38;5;124m'\u001b[39m\u001b[38;5;124mKOSDAQ\u001b[39m\u001b[38;5;124m'\u001b[39m) \n\u001b[0;32m      2\u001b[0m kospi_df[\u001b[38;5;124m'\u001b[39m\u001b[38;5;124mkospi\u001b[39m\u001b[38;5;124m'\u001b[39m] \u001b[38;5;241m=\u001b[39m kospi_df[\u001b[38;5;124m'\u001b[39m\u001b[38;5;124mclosePrice\u001b[39m\u001b[38;5;124m'\u001b[39m]\u001b[38;5;241m.\u001b[39mapply(\u001b[38;5;28;01mlambda\u001b[39;00m data: \u001b[38;5;28mfloat\u001b[39m(data\u001b[38;5;241m.\u001b[39mreplace(\u001b[38;5;124m'\u001b[39m\u001b[38;5;124m,\u001b[39m\u001b[38;5;124m'\u001b[39m, \u001b[38;5;124m'\u001b[39m\u001b[38;5;124m'\u001b[39m))) \n\u001b[0;32m      3\u001b[0m kosdaq_df[\u001b[38;5;124m'\u001b[39m\u001b[38;5;124mkosdaq\u001b[39m\u001b[38;5;124m'\u001b[39m] \u001b[38;5;241m=\u001b[39m kosdaq_df[\u001b[38;5;124m'\u001b[39m\u001b[38;5;124mclosePrice\u001b[39m\u001b[38;5;124m'\u001b[39m]\u001b[38;5;241m.\u001b[39mapply(\u001b[38;5;28;01mlambda\u001b[39;00m data: \u001b[38;5;28mfloat\u001b[39m(data\u001b[38;5;241m.\u001b[39mreplace(\u001b[38;5;124m'\u001b[39m\u001b[38;5;124m,\u001b[39m\u001b[38;5;124m'\u001b[39m, \u001b[38;5;124m'\u001b[39m\u001b[38;5;124m'\u001b[39m)))\n",
      "\u001b[1;31mTypeError\u001b[0m: stock_price() missing 1 required positional argument: 'code'"
     ]
    }
   ],
   "source": [
    "kospi_df, kosdaq_df = stock_price(), stock_price(code='KOSDAQ') \n",
    "kospi_df['kospi'] = kospi_df['closePrice'].apply(lambda data: float(data.replace(',', ''))) \n",
    "kosdaq_df['kosdaq'] = kosdaq_df['closePrice'].apply(lambda data: float(data.replace(',', '')))"
   ]
  },
  {
   "cell_type": "code",
   "execution_count": 110,
   "id": "fbaffd5c-5d48-4201-88dd-440913790b69",
   "metadata": {},
   "outputs": [
    {
     "data": {
      "text/html": [
       "<div>\n",
       "<style scoped>\n",
       "    .dataframe tbody tr th:only-of-type {\n",
       "        vertical-align: middle;\n",
       "    }\n",
       "\n",
       "    .dataframe tbody tr th {\n",
       "        vertical-align: top;\n",
       "    }\n",
       "\n",
       "    .dataframe thead th {\n",
       "        text-align: right;\n",
       "    }\n",
       "</style>\n",
       "<table border=\"1\" class=\"dataframe\">\n",
       "  <thead>\n",
       "    <tr style=\"text-align: right;\">\n",
       "      <th></th>\n",
       "      <th>localTradedAt</th>\n",
       "      <th>closePrice</th>\n",
       "    </tr>\n",
       "  </thead>\n",
       "  <tbody>\n",
       "    <tr>\n",
       "      <th>0</th>\n",
       "      <td>2023-02-16</td>\n",
       "      <td>2,470.27</td>\n",
       "    </tr>\n",
       "    <tr>\n",
       "      <th>1</th>\n",
       "      <td>2023-02-15</td>\n",
       "      <td>2,427.90</td>\n",
       "    </tr>\n",
       "    <tr>\n",
       "      <th>2</th>\n",
       "      <td>2023-02-14</td>\n",
       "      <td>2,465.64</td>\n",
       "    </tr>\n",
       "    <tr>\n",
       "      <th>3</th>\n",
       "      <td>2023-02-13</td>\n",
       "      <td>2,452.70</td>\n",
       "    </tr>\n",
       "    <tr>\n",
       "      <th>4</th>\n",
       "      <td>2023-02-10</td>\n",
       "      <td>2,469.73</td>\n",
       "    </tr>\n",
       "    <tr>\n",
       "      <th>5</th>\n",
       "      <td>2023-02-09</td>\n",
       "      <td>2,481.52</td>\n",
       "    </tr>\n",
       "    <tr>\n",
       "      <th>6</th>\n",
       "      <td>2023-02-08</td>\n",
       "      <td>2,483.64</td>\n",
       "    </tr>\n",
       "    <tr>\n",
       "      <th>7</th>\n",
       "      <td>2023-02-07</td>\n",
       "      <td>2,451.71</td>\n",
       "    </tr>\n",
       "    <tr>\n",
       "      <th>8</th>\n",
       "      <td>2023-02-06</td>\n",
       "      <td>2,438.19</td>\n",
       "    </tr>\n",
       "    <tr>\n",
       "      <th>9</th>\n",
       "      <td>2023-02-03</td>\n",
       "      <td>2,480.40</td>\n",
       "    </tr>\n",
       "  </tbody>\n",
       "</table>\n",
       "</div>"
      ],
      "text/plain": [
       "  localTradedAt closePrice\n",
       "0    2023-02-16   2,470.27\n",
       "1    2023-02-15   2,427.90\n",
       "2    2023-02-14   2,465.64\n",
       "3    2023-02-13   2,452.70\n",
       "4    2023-02-10   2,469.73\n",
       "5    2023-02-09   2,481.52\n",
       "6    2023-02-08   2,483.64\n",
       "7    2023-02-07   2,451.71\n",
       "8    2023-02-06   2,438.19\n",
       "9    2023-02-03   2,480.40"
      ]
     },
     "execution_count": 110,
     "metadata": {},
     "output_type": "execute_result"
    }
   ],
   "source": [
    "kospi_df"
   ]
  },
  {
   "cell_type": "code",
   "execution_count": null,
   "id": "816a667c-ffba-4058-b1e9-0d8f28ed0051",
   "metadata": {},
   "outputs": [],
   "source": []
  },
  {
   "cell_type": "code",
   "execution_count": 111,
   "id": "e1bcf5d8-8a3b-43fa-a01e-120303808668",
   "metadata": {},
   "outputs": [
    {
     "ename": "TypeError",
     "evalue": "stock_price() missing 1 required positional argument: 'code'",
     "output_type": "error",
     "traceback": [
      "\u001b[1;31m---------------------------------------------------------------------------\u001b[0m",
      "\u001b[1;31mTypeError\u001b[0m                                 Traceback (most recent call last)",
      "Cell \u001b[1;32mIn[111], line 1\u001b[0m\n\u001b[1;32m----> 1\u001b[0m kospi_df, kosdaq_df \u001b[38;5;241m=\u001b[39m \u001b[43mstock_price\u001b[49m\u001b[43m(\u001b[49m\u001b[43m)\u001b[49m, stock_price(code\u001b[38;5;241m=\u001b[39m\u001b[38;5;124m'\u001b[39m\u001b[38;5;124mKOSDAQ\u001b[39m\u001b[38;5;124m'\u001b[39m) \n\u001b[0;32m      2\u001b[0m kospi_df[\u001b[38;5;124m'\u001b[39m\u001b[38;5;124mkospi\u001b[39m\u001b[38;5;124m'\u001b[39m] \u001b[38;5;241m=\u001b[39m kospi_df[\u001b[38;5;124m'\u001b[39m\u001b[38;5;124mclosePrice\u001b[39m\u001b[38;5;124m'\u001b[39m]\u001b[38;5;241m.\u001b[39mapply(\u001b[38;5;28;01mlambda\u001b[39;00m data: \u001b[38;5;28mfloat\u001b[39m(data\u001b[38;5;241m.\u001b[39mreplace(\u001b[38;5;124m'\u001b[39m\u001b[38;5;124m,\u001b[39m\u001b[38;5;124m'\u001b[39m, \u001b[38;5;124m'\u001b[39m\u001b[38;5;124m'\u001b[39m))) \n\u001b[0;32m      3\u001b[0m kosdaq_df[\u001b[38;5;124m'\u001b[39m\u001b[38;5;124mkosdaq\u001b[39m\u001b[38;5;124m'\u001b[39m] \u001b[38;5;241m=\u001b[39m kosdaq_df[\u001b[38;5;124m'\u001b[39m\u001b[38;5;124mclosePrice\u001b[39m\u001b[38;5;124m'\u001b[39m]\u001b[38;5;241m.\u001b[39mapply(\u001b[38;5;28;01mlambda\u001b[39;00m data: \u001b[38;5;28mfloat\u001b[39m(data\u001b[38;5;241m.\u001b[39mreplace(\u001b[38;5;124m'\u001b[39m\u001b[38;5;124m,\u001b[39m\u001b[38;5;124m'\u001b[39m, \u001b[38;5;124m'\u001b[39m\u001b[38;5;124m'\u001b[39m)))\n",
      "\u001b[1;31mTypeError\u001b[0m: stock_price() missing 1 required positional argument: 'code'"
     ]
    }
   ],
   "source": [
    "kospi_df, kosdaq_df = stock_price(), stock_price(code='KOSDAQ') \n",
    "kospi_df['kospi'] = kospi_df['closePrice'].apply(lambda data: float(data.replace(',', ''))) \n",
    "kosdaq_df['kosdaq'] = kosdaq_df['closePrice'].apply(lambda data: float(data.replace(',', '')))"
   ]
  },
  {
   "cell_type": "code",
   "execution_count": 112,
   "id": "f5e9da6b-b111-4f2a-9288-2ad50e12fbe1",
   "metadata": {},
   "outputs": [
    {
     "ename": "KeyError",
     "evalue": "'kospi'",
     "output_type": "error",
     "traceback": [
      "\u001b[1;31m---------------------------------------------------------------------------\u001b[0m",
      "\u001b[1;31mKeyError\u001b[0m                                  Traceback (most recent call last)",
      "File \u001b[1;32m~\\anaconda3\\lib\\site-packages\\pandas\\core\\indexes\\base.py:3629\u001b[0m, in \u001b[0;36mIndex.get_loc\u001b[1;34m(self, key, method, tolerance)\u001b[0m\n\u001b[0;32m   3628\u001b[0m \u001b[38;5;28;01mtry\u001b[39;00m:\n\u001b[1;32m-> 3629\u001b[0m     \u001b[38;5;28;01mreturn\u001b[39;00m \u001b[38;5;28;43mself\u001b[39;49m\u001b[38;5;241;43m.\u001b[39;49m\u001b[43m_engine\u001b[49m\u001b[38;5;241;43m.\u001b[39;49m\u001b[43mget_loc\u001b[49m\u001b[43m(\u001b[49m\u001b[43mcasted_key\u001b[49m\u001b[43m)\u001b[49m\n\u001b[0;32m   3630\u001b[0m \u001b[38;5;28;01mexcept\u001b[39;00m \u001b[38;5;167;01mKeyError\u001b[39;00m \u001b[38;5;28;01mas\u001b[39;00m err:\n",
      "File \u001b[1;32m~\\anaconda3\\lib\\site-packages\\pandas\\_libs\\index.pyx:136\u001b[0m, in \u001b[0;36mpandas._libs.index.IndexEngine.get_loc\u001b[1;34m()\u001b[0m\n",
      "File \u001b[1;32m~\\anaconda3\\lib\\site-packages\\pandas\\_libs\\index.pyx:163\u001b[0m, in \u001b[0;36mpandas._libs.index.IndexEngine.get_loc\u001b[1;34m()\u001b[0m\n",
      "File \u001b[1;32mpandas\\_libs\\hashtable_class_helper.pxi:5198\u001b[0m, in \u001b[0;36mpandas._libs.hashtable.PyObjectHashTable.get_item\u001b[1;34m()\u001b[0m\n",
      "File \u001b[1;32mpandas\\_libs\\hashtable_class_helper.pxi:5206\u001b[0m, in \u001b[0;36mpandas._libs.hashtable.PyObjectHashTable.get_item\u001b[1;34m()\u001b[0m\n",
      "\u001b[1;31mKeyError\u001b[0m: 'kospi'",
      "\nThe above exception was the direct cause of the following exception:\n",
      "\u001b[1;31mKeyError\u001b[0m                                  Traceback (most recent call last)",
      "Cell \u001b[1;32mIn[112], line 2\u001b[0m\n\u001b[0;32m      1\u001b[0m df \u001b[38;5;241m=\u001b[39m usd_df\u001b[38;5;241m.\u001b[39mcopy() \n\u001b[1;32m----> 2\u001b[0m df[\u001b[38;5;124m'\u001b[39m\u001b[38;5;124mkospi\u001b[39m\u001b[38;5;124m'\u001b[39m] \u001b[38;5;241m=\u001b[39m \u001b[43mkospi_df\u001b[49m\u001b[43m[\u001b[49m\u001b[38;5;124;43m'\u001b[39;49m\u001b[38;5;124;43mkospi\u001b[39;49m\u001b[38;5;124;43m'\u001b[39;49m\u001b[43m]\u001b[49m \n\u001b[0;32m      3\u001b[0m df[\u001b[38;5;124m'\u001b[39m\u001b[38;5;124mkosdaq\u001b[39m\u001b[38;5;124m'\u001b[39m] \u001b[38;5;241m=\u001b[39m kosdaq_df[\u001b[38;5;124m'\u001b[39m\u001b[38;5;124mkosdaq\u001b[39m\u001b[38;5;124m'\u001b[39m] \n\u001b[0;32m      4\u001b[0m df \u001b[38;5;241m=\u001b[39m df\u001b[38;5;241m.\u001b[39mdrop(columns\u001b[38;5;241m=\u001b[39m[\u001b[38;5;124m'\u001b[39m\u001b[38;5;124mclosePrice\u001b[39m\u001b[38;5;124m'\u001b[39m]) \n",
      "File \u001b[1;32m~\\anaconda3\\lib\\site-packages\\pandas\\core\\frame.py:3505\u001b[0m, in \u001b[0;36mDataFrame.__getitem__\u001b[1;34m(self, key)\u001b[0m\n\u001b[0;32m   3503\u001b[0m \u001b[38;5;28;01mif\u001b[39;00m \u001b[38;5;28mself\u001b[39m\u001b[38;5;241m.\u001b[39mcolumns\u001b[38;5;241m.\u001b[39mnlevels \u001b[38;5;241m>\u001b[39m \u001b[38;5;241m1\u001b[39m:\n\u001b[0;32m   3504\u001b[0m     \u001b[38;5;28;01mreturn\u001b[39;00m \u001b[38;5;28mself\u001b[39m\u001b[38;5;241m.\u001b[39m_getitem_multilevel(key)\n\u001b[1;32m-> 3505\u001b[0m indexer \u001b[38;5;241m=\u001b[39m \u001b[38;5;28;43mself\u001b[39;49m\u001b[38;5;241;43m.\u001b[39;49m\u001b[43mcolumns\u001b[49m\u001b[38;5;241;43m.\u001b[39;49m\u001b[43mget_loc\u001b[49m\u001b[43m(\u001b[49m\u001b[43mkey\u001b[49m\u001b[43m)\u001b[49m\n\u001b[0;32m   3506\u001b[0m \u001b[38;5;28;01mif\u001b[39;00m is_integer(indexer):\n\u001b[0;32m   3507\u001b[0m     indexer \u001b[38;5;241m=\u001b[39m [indexer]\n",
      "File \u001b[1;32m~\\anaconda3\\lib\\site-packages\\pandas\\core\\indexes\\base.py:3631\u001b[0m, in \u001b[0;36mIndex.get_loc\u001b[1;34m(self, key, method, tolerance)\u001b[0m\n\u001b[0;32m   3629\u001b[0m     \u001b[38;5;28;01mreturn\u001b[39;00m \u001b[38;5;28mself\u001b[39m\u001b[38;5;241m.\u001b[39m_engine\u001b[38;5;241m.\u001b[39mget_loc(casted_key)\n\u001b[0;32m   3630\u001b[0m \u001b[38;5;28;01mexcept\u001b[39;00m \u001b[38;5;167;01mKeyError\u001b[39;00m \u001b[38;5;28;01mas\u001b[39;00m err:\n\u001b[1;32m-> 3631\u001b[0m     \u001b[38;5;28;01mraise\u001b[39;00m \u001b[38;5;167;01mKeyError\u001b[39;00m(key) \u001b[38;5;28;01mfrom\u001b[39;00m \u001b[38;5;21;01merr\u001b[39;00m\n\u001b[0;32m   3632\u001b[0m \u001b[38;5;28;01mexcept\u001b[39;00m \u001b[38;5;167;01mTypeError\u001b[39;00m:\n\u001b[0;32m   3633\u001b[0m     \u001b[38;5;66;03m# If we have a listlike key, _check_indexing_error will raise\u001b[39;00m\n\u001b[0;32m   3634\u001b[0m     \u001b[38;5;66;03m#  InvalidIndexError. Otherwise we fall through and re-raise\u001b[39;00m\n\u001b[0;32m   3635\u001b[0m     \u001b[38;5;66;03m#  the TypeError.\u001b[39;00m\n\u001b[0;32m   3636\u001b[0m     \u001b[38;5;28mself\u001b[39m\u001b[38;5;241m.\u001b[39m_check_indexing_error(key)\n",
      "\u001b[1;31mKeyError\u001b[0m: 'kospi'"
     ]
    }
   ],
   "source": [
    "df = usd_df.copy() \n",
    "df['kospi'] = kospi_df['kospi'] \n",
    "df['kosdaq'] = kosdaq_df['kosdaq'] \n",
    "df = df.drop(columns=['closePrice']) \n",
    "df.tail(2)"
   ]
  },
  {
   "cell_type": "code",
   "execution_count": null,
   "id": "e6252b26-fbc8-4d7e-af9d-9ab27b7dd56f",
   "metadata": {},
   "outputs": [],
   "source": []
  },
  {
   "cell_type": "code",
   "execution_count": null,
   "id": "0177411a-c6b8-4339-9c9e-4adef66c1f83",
   "metadata": {},
   "outputs": [],
   "source": []
  },
  {
   "cell_type": "code",
   "execution_count": 99,
   "id": "7aa569d1-d35c-4c36-851a-9cd9e6752525",
   "metadata": {},
   "outputs": [],
   "source": [
    "# lambda : 파라미터와 리턴으로 이루어진 함수를 간단하게 작성하는 방법 \n",
    "\n",
    "# 함수 3개 선언 > 저장공간 3칸 사용\n",
    "def plus(n1, n2): \n",
    "    return n1 + n2 \n",
    "def minus(n1, n2): \n",
    "    return n1 - n2 \n",
    "def calc(func, n1, n2): \n",
    "    return func(n1, n2)"
   ]
  },
  {
   "cell_type": "code",
   "execution_count": 100,
   "id": "35d5fe77-08b2-4c7b-b2e5-ab3b982be5b2",
   "metadata": {},
   "outputs": [
    {
     "data": {
      "text/plain": [
       "3"
      ]
     },
     "execution_count": 100,
     "metadata": {},
     "output_type": "execute_result"
    }
   ],
   "source": [
    "calc(plus,1,2)"
   ]
  },
  {
   "cell_type": "code",
   "execution_count": 113,
   "id": "c72902ca-9162-45e8-94e2-226be362af1e",
   "metadata": {},
   "outputs": [
    {
     "data": {
      "text/plain": [
       "3"
      ]
     },
     "execution_count": 113,
     "metadata": {},
     "output_type": "execute_result"
    }
   ],
   "source": [
    "plus_lambda = lambda n1,n2 : n1 + n2\n",
    "plus_lambda(1,2)"
   ]
  },
  {
   "cell_type": "code",
   "execution_count": 115,
   "id": "d2854171-94bc-4bab-828d-9083880be427",
   "metadata": {},
   "outputs": [
    {
     "data": {
      "text/plain": [
       "(3, -1)"
      ]
     },
     "execution_count": 115,
     "metadata": {},
     "output_type": "execute_result"
    }
   ],
   "source": [
    "def calc(func, n1, n2): \n",
    "    return func(n1, n2) \n",
    "\n",
    "calc(lambda n1, n2: n1 + n2, 1, 2), calc(lambda n1, n2: n1 - n2, 1, 2)"
   ]
  },
  {
   "cell_type": "code",
   "execution_count": 119,
   "id": "90defcc8-f7c5-4e32-a1a1-3df42bb68798",
   "metadata": {},
   "outputs": [
    {
     "name": "stdout",
     "output_type": "stream",
     "text": [
      "[1, 2, 3] [1, 2, 3]\n",
      "[1, 4, 3] [1, 4, 3] [1, 2, 3]\n"
     ]
    }
   ],
   "source": [
    "# 얕은복사, 깊은복사\n",
    "\n",
    "data1 = [1,2,3]\n",
    "data2 = data1 # 얕은 복사 : 주소 복사  =>같은 저장공간을 가지고 있기 때문에 변한다.\n",
    "data3 = data1.copy() # 깊은 복사 : 데이터 복사\n",
    "print(data1,data2)\n",
    "data1[1]= 4\n",
    "print(data1,data2,data3)"
   ]
  },
  {
   "cell_type": "code",
   "execution_count": 120,
   "id": "c87e1a78-5bbd-4f42-9ce1-8211654517c3",
   "metadata": {},
   "outputs": [
    {
     "data": {
      "text/plain": [
       "(2460999468800, 2460999468800, 2460999691072)"
      ]
     },
     "execution_count": 120,
     "metadata": {},
     "output_type": "execute_result"
    }
   ],
   "source": [
    "id(data1),id(data2),id(data3)"
   ]
  },
  {
   "cell_type": "code",
   "execution_count": null,
   "id": "08c1eb0f-6247-44ba-9b30-9ceeda8e9097",
   "metadata": {},
   "outputs": [],
   "source": []
  },
  {
   "cell_type": "markdown",
   "id": "13e21944",
   "metadata": {
    "id": "13e21944"
   },
   "source": [
    "#### 6. 시각화"
   ]
  },
  {
   "cell_type": "code",
   "execution_count": 121,
   "id": "3dd29f18",
   "metadata": {},
   "outputs": [],
   "source": [
    "\n",
    "import matplotlib.pyplot as plt \n",
    "import seaborn as sns"
   ]
  },
  {
   "cell_type": "code",
   "execution_count": 122,
   "id": "bfc47947-51ae-45db-9afd-efd064c2d412",
   "metadata": {},
   "outputs": [
    {
     "data": {
      "text/html": [
       "<div>\n",
       "<style scoped>\n",
       "    .dataframe tbody tr th:only-of-type {\n",
       "        vertical-align: middle;\n",
       "    }\n",
       "\n",
       "    .dataframe tbody tr th {\n",
       "        vertical-align: top;\n",
       "    }\n",
       "\n",
       "    .dataframe thead th {\n",
       "        text-align: right;\n",
       "    }\n",
       "</style>\n",
       "<table border=\"1\" class=\"dataframe\">\n",
       "  <thead>\n",
       "    <tr style=\"text-align: right;\">\n",
       "      <th></th>\n",
       "      <th>localTradedAt</th>\n",
       "      <th>closePrice</th>\n",
       "      <th>usd</th>\n",
       "    </tr>\n",
       "  </thead>\n",
       "  <tbody>\n",
       "    <tr>\n",
       "      <th>18</th>\n",
       "      <td>2023-01-19</td>\n",
       "      <td>1,237.00</td>\n",
       "      <td>1237.0</td>\n",
       "    </tr>\n",
       "    <tr>\n",
       "      <th>19</th>\n",
       "      <td>2023-01-18</td>\n",
       "      <td>1,230.00</td>\n",
       "      <td>1230.0</td>\n",
       "    </tr>\n",
       "  </tbody>\n",
       "</table>\n",
       "</div>"
      ],
      "text/plain": [
       "   localTradedAt closePrice     usd\n",
       "18    2023-01-19   1,237.00  1237.0\n",
       "19    2023-01-18   1,230.00  1230.0"
      ]
     },
     "execution_count": 122,
     "metadata": {},
     "output_type": "execute_result"
    }
   ],
   "source": [
    "df.tail(2)"
   ]
  },
  {
   "cell_type": "code",
   "execution_count": 129,
   "id": "7171baf5-ce2d-462f-9590-9a720184545a",
   "metadata": {},
   "outputs": [
    {
     "data": {
      "image/png": "[encoded data removed]",
      "text/plain": [
       "<Figure size 2000x500 with 1 Axes>"
      ]
     },
     "metadata": {},
     "output_type": "display_data"
    }
   ],
   "source": [
    "\n",
    "plt.figure(figsize=(20,5))\n",
    "plt.plot(df['localTradedAt'],df['usd'])\n",
    "# plt.plot(df['localTradedAt'],df['kosdap'])\n",
    "# plt.plot(df['localTradedAt'],df['usd'])\n",
    "# plt.xticks(rotation = 각도) \n",
    "plt.show()"
   ]
  },
  {
   "cell_type": "code",
   "execution_count": 131,
   "id": "52d14889-47a8-476f-93b0-0e93d26c7a0b",
   "metadata": {},
   "outputs": [],
   "source": [
    "# plt.figure(figsize=(20, 5)) \n",
    "# plt.plot(df['localTradedAt'], df['usd'], label='usd') \n",
    "# plt.plot(df['localTradedAt'], df['kospi'], label='kospi') \n",
    "# plt.plot(df['localTradedAt'], df['kosdaq'], label='kosdaq') \n",
    "# plt.xticks\n",
    "# plt.legend() \n",
    "# plt.show()"
   ]
  },
  {
   "cell_type": "code",
   "execution_count": null,
   "id": "31154b0f-4408-4708-9534-c13c4cc941f9",
   "metadata": {},
   "outputs": [],
   "source": [
    "# plt.figure(figsize=(20, 5)) \n",
    "# plt.plot(df['localTradedAt'], df['usd'], label='usd') \n",
    "# plt.plot(df['localTradedAt'], df['kospi'], label='kospi') \n",
    "# plt.plot(df['localTradedAt'], df['kosdaq'], label='kosdaq') \n",
    "# plt.xticks(df['localTradedAt'][::2]) \n",
    "# plt.legend() \n",
    "# plt.show()"
   ]
  },
  {
   "cell_type": "code",
   "execution_count": 134,
   "id": "43157307-b0b7-42ff-bed4-80a449d96c97",
   "metadata": {},
   "outputs": [
    {
     "data": {
      "text/plain": [
       "0     2023-02-16\n",
       "2     2023-02-14\n",
       "4     2023-02-10\n",
       "6     2023-02-08\n",
       "8     2023-02-06\n",
       "10    2023-02-02\n",
       "12    2023-01-31\n",
       "14    2023-01-27\n",
       "16    2023-01-25\n",
       "18    2023-01-19\n",
       "Name: localTradedAt, dtype: object"
      ]
     },
     "execution_count": 134,
     "metadata": {},
     "output_type": "execute_result"
    }
   ],
   "source": [
    "# xticks_count =10\n",
    "df['localTradedAt'][::2]"
   ]
  },
  {
   "cell_type": "code",
   "execution_count": null,
   "id": "11905c79-543b-476a-a8f5-6fd7eebb6468",
   "metadata": {},
   "outputs": [],
   "source": []
  },
  {
   "cell_type": "code",
   "execution_count": null,
   "id": "644b8ab4-3012-448e-9812-97b9bd2a177d",
   "metadata": {},
   "outputs": [],
   "source": []
  },
  {
   "cell_type": "code",
   "execution_count": null,
   "id": "c5322d17-788f-4cdc-9e48-68238f226743",
   "metadata": {},
   "outputs": [],
   "source": []
  },
  {
   "cell_type": "code",
   "execution_count": null,
   "id": "0059dabd-90aa-454a-98ca-d60c8aca1149",
   "metadata": {},
   "outputs": [],
   "source": []
  },
  {
   "cell_type": "code",
   "execution_count": null,
   "id": "8e6abf60-a270-4b3e-8332-41750c690644",
   "metadata": {},
   "outputs": [],
   "source": []
  },
  {
   "cell_type": "code",
   "execution_count": null,
   "id": "3dff98e4-3afa-4122-af59-fdef54665304",
   "metadata": {},
   "outputs": [],
   "source": []
  },
  {
   "cell_type": "code",
   "execution_count": null,
   "id": "42ed6dbc-99d6-41e9-9cba-064c8a87daa3",
   "metadata": {},
   "outputs": [],
   "source": []
  },
  {
   "cell_type": "code",
   "execution_count": null,
   "id": "26e2fb65-2cc2-4b30-b61c-292eebc3b999",
   "metadata": {},
   "outputs": [],
   "source": []
  },
  {
   "cell_type": "markdown",
   "id": "c1c52868",
   "metadata": {
    "id": "c1c52868"
   },
   "source": [
    "#### 7. 데이터 스케일링\n",
    "- min max scaling\n",
    "\n",
    "\n",
    "- $z = \\frac{x_i - min(x)}{max(x) - min(x)} (0 \\leqq z \\leqq 1)$\n",
    "\n",
    "\n",
    "- latex syntax : `https://jjycjnmath.tistory.com/117`"
   ]
  },
  {
   "cell_type": "code",
   "execution_count": null,
   "id": "f7ba6e27",
   "metadata": {},
   "outputs": [],
   "source": [
    "# plt.figure(figsize=(20, 5))\n",
    "# plt.plot(df['localTradedAt'], minmax_scale(df['usd']), label='usd') \n",
    "# plt.plot(df['localTradedAt'], minmax_scale(df['kospi']), label='kospi')\n",
    "# plt.plot(df['localTradedAt'], minmax_scale(df['kosdaq']), label='kosdaq') \n",
    "# plt.xticks(df['localTradedAt'][::2])\n",
    "# plt.legend() \n",
    "# plt.show()"
   ]
  },
  {
   "cell_type": "markdown",
   "id": "3d862521",
   "metadata": {
    "id": "3d862521"
   },
   "source": [
    "#### 8. 상관관계 분석\n",
    "- 피어슨 상관계수(Pearson Correlation Coefficient)\n",
    "- 두 데이터 집합의 상관도를 분석할때 사용되는 지표\n",
    "- 상관계수의 해석\n",
    "    - -1에 가까울수록 서로 반대방향으로 움직임\n",
    "    - 1에 가까울수록 서로 같은방향으로 움직임\n",
    "    - 0에 가까울수록 두 데이터는 관계가 없음"
   ]
  },
  {
   "cell_type": "code",
   "execution_count": 135,
   "id": "4e51967a",
   "metadata": {},
   "outputs": [
    {
     "data": {
      "text/html": [
       "<div>\n",
       "<style scoped>\n",
       "    .dataframe tbody tr th:only-of-type {\n",
       "        vertical-align: middle;\n",
       "    }\n",
       "\n",
       "    .dataframe tbody tr th {\n",
       "        vertical-align: top;\n",
       "    }\n",
       "\n",
       "    .dataframe thead th {\n",
       "        text-align: right;\n",
       "    }\n",
       "</style>\n",
       "<table border=\"1\" class=\"dataframe\">\n",
       "  <thead>\n",
       "    <tr style=\"text-align: right;\">\n",
       "      <th></th>\n",
       "      <th>usd</th>\n",
       "    </tr>\n",
       "  </thead>\n",
       "  <tbody>\n",
       "    <tr>\n",
       "      <th>usd</th>\n",
       "      <td>1.0</td>\n",
       "    </tr>\n",
       "  </tbody>\n",
       "</table>\n",
       "</div>"
      ],
      "text/plain": [
       "     usd\n",
       "usd  1.0"
      ]
     },
     "execution_count": 135,
     "metadata": {},
     "output_type": "execute_result"
    }
   ],
   "source": [
    "df.corr()"
   ]
  },
  {
   "cell_type": "code",
   "execution_count": null,
   "id": "d048a854-af58-4d61-bb0a-3e5cf620b1d9",
   "metadata": {},
   "outputs": [],
   "source": []
  },
  {
   "cell_type": "code",
   "execution_count": null,
   "id": "7d300604-69a1-4610-ba41-c9a1d1ce3701",
   "metadata": {},
   "outputs": [],
   "source": []
  },
  {
   "cell_type": "code",
   "execution_count": null,
   "id": "f0f48009-8216-4f48-b321-c3e48b1c8c57",
   "metadata": {},
   "outputs": [],
   "source": []
  },
  {
   "cell_type": "code",
   "execution_count": null,
   "id": "22192230-b836-45f5-a5f8-34c4122d4139",
   "metadata": {},
   "outputs": [],
   "source": []
  },
  {
   "cell_type": "code",
   "execution_count": null,
   "id": "b8148182-f7d2-43c3-a4cc-046fdac7e6b4",
   "metadata": {},
   "outputs": [],
   "source": []
  }
 ],
 "metadata": {
  "colab": {
   "name": "01_requests_naver_stock.ipynb",
   "provenance": []
  },
  "kernelspec": {
   "display_name": "Python 3 (ipykernel)",
   "language": "python",
   "name": "python3"
  },
  "language_info": {
   "codemirror_mode": {
    "name": "ipython",
    "version": 3
   },
   "file_extension": ".py",
   "mimetype": "text/x-python",
   "name": "python",
   "nbconvert_exporter": "python",
   "pygments_lexer": "ipython3",
   "version": "3.9.13"
  },
  "toc": {
   "base_numbering": 1,
   "nav_menu": {},
   "number_sections": false,
   "sideBar": true,
   "skip_h1_title": false,
   "title_cell": "Table of Contents",
   "title_sidebar": "Contents",
   "toc_cell": false,
   "toc_position": {},
   "toc_section_display": true,
   "toc_window_display": false
  }
 },
 "nbformat": 4,
 "nbformat_minor": 5
}
