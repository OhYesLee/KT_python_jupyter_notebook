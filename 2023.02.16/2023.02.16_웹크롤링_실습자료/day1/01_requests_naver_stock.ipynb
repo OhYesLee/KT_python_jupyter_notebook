{
 "cells": [
  {
   "cell_type": "markdown",
   "id": "a2843caf",
   "metadata": {
    "id": "a2843caf"
   },
   "source": [
    "## Web Crawing\n",
    "- 웹 페이지에서 데이터를 수집하는 방법에 대해서 학습"
   ]
  },
  {
   "cell_type": "markdown",
   "id": "193e82cc",
   "metadata": {
    "id": "193e82cc"
   },
   "source": [
    "### 웹크롤링 방법\n",
    "\n",
    "#### 웹페이지의 종류\n",
    "- 정적인 페이지 : 웹 브라우져에 화면이 한번 뜨면 이벤트에 의한 화면의 변경이 없는 페이지 \n",
    "- 동적인 페이지 : 웹 브라우져에 화면이 뜨고 이벤트가 발생하면 서버에서 데이터를 가져와 화면을 변경하는 페이지\n",
    "\n",
    "#### requests 이용\n",
    "- 받아오는 문자열에 따라 두가지 방법으로 구분\n",
    "    - json 문자열로 받아서 파싱하는 방법 : 주로 동적 페이지 크롤링할때 사용 \n",
    "    - html 문자열로 받아서 파싱하는 방법 : 주로 정적 페이지 크롤링할때 사용\n",
    "        \n",
    "#### selenium 이용\n",
    "- 브라우져를 직접 열어서 데이터를 받는 방법\n",
    "\n",
    "#### 크롤링 방법에 따른 속도\n",
    "- requests json > requests html > selenium"
   ]
  },
  {
   "cell_type": "markdown",
   "id": "c9c2b3eb",
   "metadata": {
    "id": "c9c2b3eb"
   },
   "source": [
    "### Crwaling Naver Stock Datas\n",
    "- 네이버 증권 사이트에서 주가 데이터 수집\n",
    "- 수집할 데이터 : 일별 kospi, kosdaq 주가, 일별 환율(exchange rate) 데이터\n",
    "- 데이터 수집 절차\n",
    "    - 웹서비스 분석 : url\n",
    "    - 서버에 데이터 요청 : request(url) > response : json(str)\n",
    "    - 서버에서 받은 데이터 파싱(데이터 형태를 변경) : json(str) > list, dict > DataFrame"
   ]
  },
  {
   "cell_type": "code",
   "execution_count": null,
   "id": "77151645",
   "metadata": {},
   "outputs": [],
   "source": []
  },
  {
   "cell_type": "markdown",
   "id": "e9946ce1",
   "metadata": {
    "id": "e9946ce1"
   },
   "source": [
    "#### 1. 웹서비스 분석 : url\n",
    "- pc 웹페이지가 복잡하면 mobile 웹페이지에서 수집"
   ]
  },
  {
   "cell_type": "code",
   "execution_count": null,
   "id": "05f8fcb2",
   "metadata": {},
   "outputs": [],
   "source": []
  },
  {
   "cell_type": "markdown",
   "id": "45b9c484",
   "metadata": {
    "id": "45b9c484"
   },
   "source": [
    "#### 2. 서버에 데이터 요청 : request(url) > response : json(str)\n",
    "- response의 status code가 200이 나오는지 확인\n",
    "- 403이나 500이 나오면 request가 잘못되거나 web server에서 수집이 안되도록 설정이 된것임\n",
    "    - header 설정 또는 selenium 사용\n",
    "- 200이 나오더라도 response 안에 있는 내용을 확인 > 확인하는 방법 : response.text"
   ]
  },
  {
   "cell_type": "code",
   "execution_count": null,
   "id": "ba8417ac",
   "metadata": {},
   "outputs": [],
   "source": []
  },
  {
   "cell_type": "markdown",
   "id": "2ab0fb67",
   "metadata": {
    "id": "2ab0fb67"
   },
   "source": [
    "#### 3. 서버에서 받은 데이터 파싱(데이터 형태를 변경) : json(str) > list, dict > DataFrame"
   ]
  },
  {
   "cell_type": "code",
   "execution_count": null,
   "id": "6e0851a3",
   "metadata": {},
   "outputs": [],
   "source": []
  },
  {
   "cell_type": "markdown",
   "id": "a5806ae9",
   "metadata": {
    "id": "a5806ae9"
   },
   "source": [
    "#### 4. 함수로 만들기"
   ]
  },
  {
   "cell_type": "code",
   "execution_count": null,
   "id": "fcc4a262",
   "metadata": {},
   "outputs": [],
   "source": []
  },
  {
   "cell_type": "markdown",
   "id": "30b5340b",
   "metadata": {
    "id": "30b5340b"
   },
   "source": [
    "#### 5. 원달러 환율 데이터 수집 : 실습"
   ]
  },
  {
   "cell_type": "code",
   "execution_count": null,
   "id": "46ee645e",
   "metadata": {},
   "outputs": [],
   "source": []
  },
  {
   "cell_type": "markdown",
   "id": "13e21944",
   "metadata": {
    "id": "13e21944"
   },
   "source": [
    "#### 6. 시각화"
   ]
  },
  {
   "cell_type": "code",
   "execution_count": null,
   "id": "3dd29f18",
   "metadata": {},
   "outputs": [],
   "source": []
  },
  {
   "cell_type": "markdown",
   "id": "c1c52868",
   "metadata": {
    "id": "c1c52868"
   },
   "source": [
    "#### 7. 데이터 스케일링\n",
    "- min max scaling\n",
    "\n",
    "\n",
    "- $z = \\frac{x_i - min(x)}{max(x) - min(x)} (0 \\leqq z \\leqq 1)$\n",
    "\n",
    "\n",
    "- latex syntax : `https://jjycjnmath.tistory.com/117`"
   ]
  },
  {
   "cell_type": "code",
   "execution_count": null,
   "id": "f7ba6e27",
   "metadata": {},
   "outputs": [],
   "source": []
  },
  {
   "cell_type": "markdown",
   "id": "3d862521",
   "metadata": {
    "id": "3d862521"
   },
   "source": [
    "#### 8. 상관관계 분석\n",
    "- 피어슨 상관계수(Pearson Correlation Coefficient)\n",
    "- 두 데이터 집합의 상관도를 분석할때 사용되는 지표\n",
    "- 상관계수의 해석\n",
    "    - -1에 가까울수록 서로 반대방향으로 움직임\n",
    "    - 1에 가까울수록 서로 같은방향으로 움직임\n",
    "    - 0에 가까울수록 두 데이터는 관계가 없음"
   ]
  },
  {
   "cell_type": "code",
   "execution_count": null,
   "id": "4e51967a",
   "metadata": {},
   "outputs": [],
   "source": []
  }
 ],
 "metadata": {
  "colab": {
   "name": "01_requests_naver_stock.ipynb",
   "provenance": []
  },
  "kernelspec": {
   "display_name": "Python 3 (ipykernel)",
   "language": "python",
   "name": "python3"
  },
  "language_info": {
   "codemirror_mode": {
    "name": "ipython",
    "version": 3
   },
   "file_extension": ".py",
   "mimetype": "text/x-python",
   "name": "python",
   "nbconvert_exporter": "python",
   "pygments_lexer": "ipython3",
   "version": "3.9.12"
  },
  "toc": {
   "base_numbering": 1,
   "nav_menu": {},
   "number_sections": false,
   "sideBar": true,
   "skip_h1_title": false,
   "title_cell": "Table of Contents",
   "title_sidebar": "Contents",
   "toc_cell": false,
   "toc_position": {},
   "toc_section_display": true,
   "toc_window_display": false
  }
 },
 "nbformat": 4,
 "nbformat_minor": 5
}
