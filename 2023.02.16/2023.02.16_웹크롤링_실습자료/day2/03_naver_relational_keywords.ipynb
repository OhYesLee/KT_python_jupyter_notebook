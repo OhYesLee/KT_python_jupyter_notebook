{
 "cells": [
  {
   "cell_type": "markdown",
   "id": "2f46af77",
   "metadata": {},
   "source": [
    "### 네이버 연관 검색어 수집\n",
    "- 정적(static) 웹페이지 데이터 수집 \n",
    "- BeautifulSoup을 이용하여 HTML 문자열 데이터 parsing"
   ]
  },
  {
   "cell_type": "markdown",
   "id": "16030538",
   "metadata": {},
   "source": [
    "#### 1. 웹페이지 분석 : URL"
   ]
  },
  {
   "cell_type": "code",
   "execution_count": null,
   "id": "c1581d54",
   "metadata": {},
   "outputs": [],
   "source": []
  },
  {
   "cell_type": "markdown",
   "id": "56e6ea93",
   "metadata": {},
   "source": [
    "#### 2. request(URL) > response : str(html)"
   ]
  },
  {
   "cell_type": "code",
   "execution_count": null,
   "id": "ceda1c7b",
   "metadata": {},
   "outputs": [],
   "source": []
  },
  {
   "cell_type": "markdown",
   "id": "1e2acb8e",
   "metadata": {},
   "source": [
    "#### 3. str(html) > bs object"
   ]
  },
  {
   "cell_type": "code",
   "execution_count": null,
   "id": "8736bc68",
   "metadata": {},
   "outputs": [],
   "source": []
  },
  {
   "cell_type": "markdown",
   "id": "252cf193",
   "metadata": {},
   "source": [
    "#### 4. bs object > .select(css-selector), .select_one(css-selector) > str(text)"
   ]
  },
  {
   "cell_type": "code",
   "execution_count": null,
   "id": "525c3274",
   "metadata": {},
   "outputs": [],
   "source": []
  },
  {
   "cell_type": "markdown",
   "id": "1e9ebdd4",
   "metadata": {},
   "source": [
    "#### 5. str(text) > DataFrame"
   ]
  },
  {
   "cell_type": "code",
   "execution_count": null,
   "id": "62e1ef05",
   "metadata": {},
   "outputs": [],
   "source": []
  }
 ],
 "metadata": {
  "kernelspec": {
   "display_name": "Python 3 (ipykernel)",
   "language": "python",
   "name": "python3"
  },
  "language_info": {
   "codemirror_mode": {
    "name": "ipython",
    "version": 3
   },
   "file_extension": ".py",
   "mimetype": "text/x-python",
   "name": "python",
   "nbconvert_exporter": "python",
   "pygments_lexer": "ipython3",
   "version": "3.9.12"
  },
  "toc": {
   "base_numbering": 1,
   "nav_menu": {},
   "number_sections": false,
   "sideBar": true,
   "skip_h1_title": false,
   "title_cell": "Table of Contents",
   "title_sidebar": "Contents",
   "toc_cell": false,
   "toc_position": {},
   "toc_section_display": true,
   "toc_window_display": false
  }
 },
 "nbformat": 4,
 "nbformat_minor": 5
}
