{
 "cells": [
  {
   "cell_type": "markdown",
   "metadata": {
    "slideshow": {
     "slide_type": "slide"
    }
   },
   "source": [
    "# CSS Selector\n",
    "\n",
    "CSS 셀렉터는 CSS 스타일을 적용시킬 HTML 엘리먼트를 찾기 위한 방법 입니다."
   ]
  },
  {
   "cell_type": "markdown",
   "metadata": {
    "slideshow": {
     "slide_type": "slide"
    }
   },
   "source": [
    "## 1. Element Selector\n",
    "\n",
    "- 엘리먼트를 이용하여 선택할때 사용\n",
    "- css selector로 `div`를 사용하면 가장 위에 있는 dss1이 선택\n",
    "```\n",
    "<div>dss1</div>\n",
    "<p>dss2</p>\n",
    "<span>dss3</span>\n",
    "```"
   ]
  },
  {
   "cell_type": "markdown",
   "metadata": {
    "slideshow": {
     "slide_type": "slide"
    }
   },
   "source": [
    "## 2. ID Selector\n",
    "\n",
    "- 아이디를 이용하여 선택할때 사용\n",
    "- 아이디를 셀렉할때는 `#(아이디 이름)`으로 선택\n",
    "- css selector로 `#ds2`를 사용하면 dss2가 선택\n",
    "- 여러개를 셀렉할때는 ,로 구분\n",
    "- css selector로 `#ds2, #ds3`를 사용하면 dss2와 dss3가 선택\n",
    "```\n",
    "<p id=\"ds1\">dss1</p>\n",
    "<p id=\"ds2\">dss2</p>\n",
    "<p id=\"ds3\">dss3</p>\n",
    "```"
   ]
  },
  {
   "cell_type": "markdown",
   "metadata": {
    "slideshow": {
     "slide_type": "slide"
    }
   },
   "source": [
    "## 3. Class Selector\n",
    "\n",
    "- 클래스를 이용하여 선택할때 사용\n",
    "- 클래스를 셀렉할때는 `.(클래스 이름)`으로 선택\n",
    "- 엘리멘트를 그룹핑하여 스타일을 적용할때 사용\n",
    "- css selector로 `.ds2`를 사용하면 dss2, dss3가 선택\n",
    "```\n",
    "<p class=\"ds1\">dss1</p>\n",
    "<p class=\"ds2\">dss2</p>\n",
    "<p class=\"ds2\">dss3</p>\n",
    "```"
   ]
  },
  {
   "cell_type": "markdown",
   "metadata": {
    "slideshow": {
     "slide_type": "slide"
    }
   },
   "source": [
    "## 4. not Selector\n",
    "\n",
    "- 셀렉터로 엘리먼트를 하나만 제거하고 싶을때 사용\n",
    "- not을 사용하여 셀렉트 할때에는 `:not(선택에서 제거하고 싶은 셀렉터)`으로 선택\n",
    "- 아래의 HTML에서 `.ds:not(.ds2)`으로 셀렉트 하면 class가 ds2인 클래스를 제외 하고 나머지 ds1, ds3, ds4, ds5가 선택\n",
    "```\n",
    "<p class=\"ds ds1\">ds1</p>\n",
    "<p class=\"ds ds2\">ds2</p>\n",
    "<p class=\"ds ds3\">ds3</p>\n",
    "<p class=\"ds ds4\">ds4</p>\n",
    "<p class=\"ds ds5\">ds5</p>\n",
    "```"
   ]
  },
  {
   "cell_type": "markdown",
   "metadata": {
    "slideshow": {
     "slide_type": "slide"
    }
   },
   "source": [
    "## 5. first-child Selector\n",
    "\n",
    "- 엘리먼트로 감싸져있는 가장 처음 엘리먼트가 설정한 셀렉터와 일치하면 선택\n",
    "- `.ds:first-child`로 설정하면 ds1과 ds3가 선택\n",
    "```\n",
    "<body>\n",
    "    <p class=\"ds\" id=\"ds1\">ds1</p>\n",
    "    <p class=\"sc\" id=\"ds2\">ds2</p>\n",
    "\n",
    "    <div class=\"ds\">\n",
    "        <p class=\"ds ds1\">ds3</p>\n",
    "        <p class=\"ds ds2\">ds4</p>\n",
    "        <p class=\"ds ds3\">ds5</p>\n",
    "        <p class=\"ds ds4\">ds6</p>\n",
    "        <p class=\"ds ds5\">ds7</p>\n",
    "    </div>\n",
    "</body>\n",
    "```\n",
    "\n",
    "- `div.ds` 엘리먼트의 가장 처음 `.ds`를 선택하고 싶으면 `div.ds > .ds:first-child`로 셀렉터를 작성"
   ]
  },
  {
   "cell_type": "markdown",
   "metadata": {
    "slideshow": {
     "slide_type": "slide"
    }
   },
   "source": [
    "## 6. last-child Selector\n",
    "\n",
    "- 엘리먼트로 감싸져있는 가장 마지막 엘리먼트가 설정한 셀렉터와 일치하면 선택\n",
    "- `.ds:last-child`로 `div.ds`가 선택되어 ds3~ds7이 선택\n",
    "```\n",
    "<body>\n",
    "    <p class=\"ds\" id=\"ds1\">ds1</p>\n",
    "    <p class=\"sc\" id=\"ds2\">ds2</p>\n",
    "\n",
    "    <div class=\"ds\">\n",
    "        <p class=\"ds ds1\">ds3</p>\n",
    "        <p class=\"ds ds2\">ds4</p>\n",
    "        <p class=\"ds ds3\">ds5</p>\n",
    "        <p class=\"ds ds4\">ds6</p>\n",
    "        <p class=\"ds ds5\">ds7</p>\n",
    "    </div>\n",
    "</body>\n",
    "```"
   ]
  },
  {
   "cell_type": "markdown",
   "metadata": {
    "slideshow": {
     "slide_type": "slide"
    }
   },
   "source": [
    "## 7. nth-child Selector\n",
    "\n",
    "- 엘리먼트로 감싸져있는 n번째 엘리먼트가 설정한 셀렉터와 일치하면 선택\n",
    "- `.ds:nth-child(3), .ds:nth-child(4)`로 설정하면 ds4, ds5가 선택\n",
    "- `nth-child`의 ()안의 숫자는 가장 첫번째가 0이 아니라 1로 시작\n",
    "```\n",
    "<div class=\"wrap\">\n",
    "    <span class=\"ds\">ds2</span>\n",
    "    <p class=\"ds ds1\">ds3</p>\n",
    "    <p class=\"ds ds2\">ds4</p>\n",
    "    <p class=\"ds ds3\">ds5</p>\n",
    "    <p class=\"ds ds4\">ds6</p>\n",
    "    <p class=\"ds ds5\">ds7</p>\n",
    "</div>\n",
    "```"
   ]
  },
  {
   "cell_type": "markdown",
   "metadata": {
    "slideshow": {
     "slide_type": "slide"
    }
   },
   "source": [
    "## 8. 모든 하위 depth(공백) Selector\n",
    "\n",
    "- 공백문자로 하위 엘리먼트를 셀렉트 했을때, 모든 하위 엘리먼트를 선택\n",
    "- `.contants h1`를 선택하면 inner_1, inner_2가 선택\n",
    "```\n",
    "<div class=\"contants\">\n",
    "    <h1>inner_1</h1>\n",
    "    <div class=\"txt\">\n",
    "        <h1>inner_2</h1>\n",
    "    </div>\n",
    "</div>\n",
    "```"
   ]
  },
  {
   "cell_type": "markdown",
   "metadata": {
    "slideshow": {
     "slide_type": "slide"
    }
   },
   "source": [
    "## 9. 바로 아래 depth(>) Selector\n",
    "\n",
    "- `>`문자로 하위 엘리먼트를 셀렉트 했을때, 바로 아래 엘리먼트를 선택\n",
    "- `.contants > h1`를 선택하면 inner_1이 선택\n",
    "```\n",
    "<div class=\"contants\">\n",
    "    <h1>inner_1</h1>\n",
    "    <div class=\"txt\">\n",
    "        <h1>inner_2</h1>\n",
    "    </div>\n",
    "</div>\n",
    "```"
   ]
  }
 ],
 "metadata": {
  "kernelspec": {
   "display_name": "Python 3 (ipykernel)",
   "language": "python",
   "name": "python3"
  },
  "language_info": {
   "codemirror_mode": {
    "name": "ipython",
    "version": 3
   },
   "file_extension": ".py",
   "mimetype": "text/x-python",
   "name": "python",
   "nbconvert_exporter": "python",
   "pygments_lexer": "ipython3",
   "version": "3.9.12"
  },
  "toc": {
   "base_numbering": 1,
   "nav_menu": {},
   "number_sections": false,
   "sideBar": true,
   "skip_h1_title": false,
   "title_cell": "Table of Contents",
   "title_sidebar": "Contents",
   "toc_cell": false,
   "toc_position": {},
   "toc_section_display": true,
   "toc_window_display": false
  },
  "varInspector": {
   "cols": {
    "lenName": 16,
    "lenType": 16,
    "lenVar": 40
   },
   "kernels_config": {
    "python": {
     "delete_cmd_postfix": "",
     "delete_cmd_prefix": "del ",
     "library": "var_list.py",
     "varRefreshCmd": "print(var_dic_list())"
    },
    "r": {
     "delete_cmd_postfix": ") ",
     "delete_cmd_prefix": "rm(",
     "library": "var_list.r",
     "varRefreshCmd": "cat(var_dic_list()) "
    }
   },
   "types_to_exclude": [
    "module",
    "function",
    "builtin_function_or_method",
    "instance",
    "_Feature"
   ],
   "window_display": false
  }
 },
 "nbformat": 4,
 "nbformat_minor": 2
}
