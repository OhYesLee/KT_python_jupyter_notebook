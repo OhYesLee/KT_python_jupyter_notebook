{
 "cells": [
  {
   "cell_type": "code",
   "execution_count": 1,
   "id": "79e5cdee-99b2-4b5c-a69b-0785ff633281",
   "metadata": {},
   "outputs": [],
   "source": [
    "import numpy as np\n",
    "import pandas as pd"
   ]
  },
  {
   "cell_type": "code",
   "execution_count": 2,
   "id": "2fe0f017-234f-4dd6-b321-9a5f461da46a",
   "metadata": {},
   "outputs": [],
   "source": [
    "path = 'https://raw.githubusercontent.com/DA4BAM/dataset/master/Attrition_simple2.CSV'\n",
    "data = pd.read_csv(path)  "
   ]
  },
  {
   "cell_type": "code",
   "execution_count": 1,
   "id": "e639d9b2-d309-4ec4-b282-c154309ef10a",
   "metadata": {},
   "outputs": [],
   "source": [
    "# rename() 함수로 열 이름 변경\n",
    "data.rename(columns={'DistanceFromHome' : 'Distance', \n",
    "                    'EmployeeNumber' : 'EmpNo',\n",
    "                    'JobSatisfaction' : 'JobSat',\n",
    "                    'MonthlyIncome' : 'M_Income',\n",
    "                    'PercentSalaryHike' : 'PctSalHike',\n",
    "                    'TotalWorkingYears' : 'TotWY'}, inplace=True)\n",
    "\n",
    "# 확인\n",
    "data.head(10)"
   ]
  },
  {
   "cell_type": "markdown",
   "id": "475b8e38-c109-4bc3-9b73-ead14e45ad2f",
   "metadata": {},
   "source": [
    "간편한 코드 작성을 위해 열 이름은 바꿔놓았습니다. 데이터는 수업에서 다뤘던 이직률 데이터입니다."
   ]
  },
  {
   "cell_type": "markdown",
   "id": "ff7cc5e3-7b66-4012-b074-324d23889494",
   "metadata": {},
   "source": [
    "같이 데이터프레임 조회, 변경 부셔보아요~~!"
   ]
  },
  {
   "cell_type": "markdown",
   "id": "39895380-d0dd-42ce-a5ac-272bf1aba3b6",
   "metadata": {},
   "source": [
    "1. 집에서 거리가 10 이상인 직원들의 근속년수(TotWY)를 나타내세요"
   ]
  },
  {
   "cell_type": "code",
   "execution_count": null,
   "id": "08d82f5c-9bb5-4873-9941-cf1b306818d8",
   "metadata": {},
   "outputs": [],
   "source": []
  },
  {
   "cell_type": "markdown",
   "id": "f1ef780a-2d12-4320-b241-f2c6786adb62",
   "metadata": {},
   "source": [
    "2. 나이가 35세 이상이고 Single인 직원들을 조회하세요."
   ]
  },
  {
   "cell_type": "code",
   "execution_count": null,
   "id": "263e625f-f636-45dc-aaa3-bd3cacedeac1",
   "metadata": {},
   "outputs": [],
   "source": []
  },
  {
   "cell_type": "markdown",
   "id": "b6eece85-aceb-4189-858b-c89ca24eacc8",
   "metadata": {},
   "source": [
    "3. 직업만족도가 3 이상인 직원들의 월급 평균을 구하세요."
   ]
  },
  {
   "cell_type": "code",
   "execution_count": null,
   "id": "a42f0d75-3b24-42ad-a02c-01454fbd7a52",
   "metadata": {},
   "outputs": [],
   "source": []
  },
  {
   "cell_type": "markdown",
   "id": "1216d050-800f-4483-b932-eaf71b1bb00f",
   "metadata": {},
   "source": [
    "4. 근속연수(TotWY)가 오래 된 기준으로 정렬하세요."
   ]
  },
  {
   "cell_type": "code",
   "execution_count": null,
   "id": "bd1c647f-2b7e-49b3-9d57-8ae7ba33c3d0",
   "metadata": {},
   "outputs": [],
   "source": []
  },
  {
   "cell_type": "markdown",
   "id": "d28c3d70-50f4-4577-a877-72089b7e1535",
   "metadata": {},
   "source": [
    "5. Single 또는 Divorced이면서 야근(OverTime)은 하지 않는 직원을 근속연수로 정렬하세요. (내림차순)"
   ]
  },
  {
   "cell_type": "code",
   "execution_count": null,
   "id": "c2ad2334-3f54-403f-9c19-6ead648505af",
   "metadata": {},
   "outputs": [],
   "source": []
  },
  {
   "cell_type": "markdown",
   "id": "7020fa5c-601b-4e6b-b4d5-8bac69a49e47",
   "metadata": {},
   "source": [
    "6. 당신은 친구에게 소개팅을 연결해 줄 회사의 동료를 찾고 있습니다. "
   ]
  },
  {
   "cell_type": "markdown",
   "id": "0a5daab5-fb10-4f50-b606-53c29e29807a",
   "metadata": {},
   "source": [
    "나이는 30~35세, 돌싱이 아닌 싱글 이성, 회사에서 10보다 가까운 곳에 사는 사람을 원합니다."
   ]
  },
  {
   "cell_type": "markdown",
   "id": "3dbeecbf-93f1-4a32-9b12-1e2a849f2a16",
   "metadata": {},
   "source": [
    "  또, 저녁이 있는 삶을 함께하기 위해 야근은 하지 않는 사람을 선호합니다."
   ]
  },
  {
   "cell_type": "markdown",
   "id": "bc69b643-b513-4300-8f42-c84a6eeb9d4f",
   "metadata": {},
   "source": [
    "조건을 만족하는 직원 리스트를 만들어보세요."
   ]
  },
  {
   "cell_type": "code",
   "execution_count": null,
   "id": "03f70018-d095-4131-b121-8f42b4108240",
   "metadata": {},
   "outputs": [],
   "source": []
  },
  {
   "cell_type": "code",
   "execution_count": null,
   "id": "9e020cdd-553b-4bde-af82-3ac542440560",
   "metadata": {},
   "outputs": [],
   "source": []
  },
  {
   "cell_type": "markdown",
   "id": "ad13c5f7-fb74-45b8-812a-ec6fcb36a5fa",
   "metadata": {},
   "source": [
    "7. 당신은 이 회사의 개발자입니다.\n",
    "\n",
    "일을 하다 잠깐 생각해 보니 나는 야근도 밥 먹듯 하면서 일하는데,\n",
    "정작 연봉 상승률은 매일 놀고 먹는 팀장이 더 높은 것 같습니다."
   ]
  },
  {
   "cell_type": "markdown",
   "id": "1ad9b58b-dcfe-4ffd-9371-a242bf74823b",
   "metadata": {},
   "source": [
    "내 연봉을 올리려면 어떻게 해야 할 지 고민하던 중, 다양한 요인들로 분석해보기로 결정했습니다."
   ]
  },
  {
   "cell_type": "markdown",
   "id": "d058adcd-3a37-4d04-b3d8-356cfb639fd0",
   "metadata": {},
   "source": [
    "직업 만족도, 결혼 상태, 월급, 야근 여부, 전체 근속연수를 연봉상승률과 데이터 타입에 따라 적절하게 분석해보세요.\n",
    "\n"
   ]
  },
  {
   "cell_type": "markdown",
   "id": "6015c98a-460c-4230-b4e4-af5a5fc1462f",
   "metadata": {},
   "source": [
    "가장 강한 상관관계를 보이는 요인은 어떤 것인지 확인해보세요."
   ]
  },
  {
   "cell_type": "code",
   "execution_count": null,
   "id": "b9841710-4ea1-482b-9380-19ff7dc22e3a",
   "metadata": {},
   "outputs": [],
   "source": [
    "import pandas as pd\n",
    "import numpy as np\n",
    "\n",
    "import matplotlib.pyplot as plt\n",
    "import seaborn as sns\n",
    "\n",
    "import scipy.stats as spst"
   ]
  },
  {
   "cell_type": "code",
   "execution_count": null,
   "id": "900dbe09-c88d-43f8-92a8-1bf5b17c569c",
   "metadata": {},
   "outputs": [],
   "source": []
  }
 ],
 "metadata": {
  "kernelspec": {
   "display_name": "Python 3 (ipykernel)",
   "language": "python",
   "name": "python3"
  },
  "language_info": {
   "codemirror_mode": {
    "name": "ipython",
    "version": 3
   },
   "file_extension": ".py",
   "mimetype": "text/x-python",
   "name": "python",
   "nbconvert_exporter": "python",
   "pygments_lexer": "ipython3",
   "version": "3.9.13"
  }
 },
 "nbformat": 4,
 "nbformat_minor": 5
}
