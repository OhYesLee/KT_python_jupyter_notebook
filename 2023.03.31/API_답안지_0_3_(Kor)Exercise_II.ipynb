{
  "nbformat": 4,
  "nbformat_minor": 0,
  "metadata": {
    "colab": {
      "provenance": []
    },
    "kernelspec": {
      "name": "python3",
      "display_name": "Python 3"
    },
    "accelerator": "GPU"
  },
  "cells": [
    {
      "cell_type": "markdown",
      "metadata": {
        "id": "PkvvOR8sQPkz"
      },
      "source": [
        "# Sentiment Classification & Embedding II\n",
        "\n",
        "* Embedding Layer\n",
        "* Sequence Model"
      ]
    },
    {
      "cell_type": "markdown",
      "metadata": {
        "nbpresent": {
          "id": "56bb3cba-260c-4ebe-9ed6-b995b4c72aa3"
        },
        "id": "KOVIdeDodOxF"
      },
      "source": [
        "# 01. What data we use?"
      ]
    },
    {
      "cell_type": "code",
      "metadata": {
        "id": "rHi6RQrwD65x"
      },
      "source": [
        "import numpy as np\n",
        "import pandas as pd"
      ],
      "execution_count": null,
      "outputs": []
    },
    {
      "cell_type": "code",
      "metadata": {
        "id": "wHWdZRQQ4jXL"
      },
      "source": [
        "url = 'https://raw.githubusercontent.com/bab2min/corpus/master/sentiment/steam.txt'\n",
        "data= pd.read_table(url, names=['label', 'reviews'])"
      ],
      "execution_count": null,
      "outputs": []
    },
    {
      "cell_type": "code",
      "metadata": {
        "id": "LjTP1mpB4obS",
        "colab": {
          "base_uri": "https://localhost:8080/",
          "height": 206
        },
        "outputId": "7b1461c1-af5e-4251-988d-9fc205625215"
      },
      "source": [
        "data.head()"
      ],
      "execution_count": null,
      "outputs": [
        {
          "output_type": "execute_result",
          "data": {
            "text/plain": [
              "   label                               reviews\n",
              "0      0                             노래가 너무 적음\n",
              "1      0       돌겠네 진짜. 황숙아, 어크 공장 그만 돌려라. 죽는다.\n",
              "2      1      막노동 체험판 막노동 하는사람인데 장비를 내가 사야돼 뭐지\n",
              "3      1  차악!차악!!차악!!! 정말 이래서 왕국을 되찾을 수 있는거야??\n",
              "4      1   시간 때우기에 좋음.. 도전과제는 50시간이면 다 깰 수 있어요"
            ],
            "text/html": [
              "\n",
              "  <div id=\"df-a9ff1bea-92ac-4f40-bfbb-aacdd4bf6a56\">\n",
              "    <div class=\"colab-df-container\">\n",
              "      <div>\n",
              "<style scoped>\n",
              "    .dataframe tbody tr th:only-of-type {\n",
              "        vertical-align: middle;\n",
              "    }\n",
              "\n",
              "    .dataframe tbody tr th {\n",
              "        vertical-align: top;\n",
              "    }\n",
              "\n",
              "    .dataframe thead th {\n",
              "        text-align: right;\n",
              "    }\n",
              "</style>\n",
              "<table border=\"1\" class=\"dataframe\">\n",
              "  <thead>\n",
              "    <tr style=\"text-align: right;\">\n",
              "      <th></th>\n",
              "      <th>label</th>\n",
              "      <th>reviews</th>\n",
              "    </tr>\n",
              "  </thead>\n",
              "  <tbody>\n",
              "    <tr>\n",
              "      <th>0</th>\n",
              "      <td>0</td>\n",
              "      <td>노래가 너무 적음</td>\n",
              "    </tr>\n",
              "    <tr>\n",
              "      <th>1</th>\n",
              "      <td>0</td>\n",
              "      <td>돌겠네 진짜. 황숙아, 어크 공장 그만 돌려라. 죽는다.</td>\n",
              "    </tr>\n",
              "    <tr>\n",
              "      <th>2</th>\n",
              "      <td>1</td>\n",
              "      <td>막노동 체험판 막노동 하는사람인데 장비를 내가 사야돼 뭐지</td>\n",
              "    </tr>\n",
              "    <tr>\n",
              "      <th>3</th>\n",
              "      <td>1</td>\n",
              "      <td>차악!차악!!차악!!! 정말 이래서 왕국을 되찾을 수 있는거야??</td>\n",
              "    </tr>\n",
              "    <tr>\n",
              "      <th>4</th>\n",
              "      <td>1</td>\n",
              "      <td>시간 때우기에 좋음.. 도전과제는 50시간이면 다 깰 수 있어요</td>\n",
              "    </tr>\n",
              "  </tbody>\n",
              "</table>\n",
              "</div>\n",
              "      <button class=\"colab-df-convert\" onclick=\"convertToInteractive('df-a9ff1bea-92ac-4f40-bfbb-aacdd4bf6a56')\"\n",
              "              title=\"Convert this dataframe to an interactive table.\"\n",
              "              style=\"display:none;\">\n",
              "        \n",
              "  <svg xmlns=\"http://www.w3.org/2000/svg\" height=\"24px\"viewBox=\"0 0 24 24\"\n",
              "       width=\"24px\">\n",
              "    <path d=\"M0 0h24v24H0V0z\" fill=\"none\"/>\n",
              "    <path d=\"M18.56 5.44l.94 2.06.94-2.06 2.06-.94-2.06-.94-.94-2.06-.94 2.06-2.06.94zm-11 1L8.5 8.5l.94-2.06 2.06-.94-2.06-.94L8.5 2.5l-.94 2.06-2.06.94zm10 10l.94 2.06.94-2.06 2.06-.94-2.06-.94-.94-2.06-.94 2.06-2.06.94z\"/><path d=\"M17.41 7.96l-1.37-1.37c-.4-.4-.92-.59-1.43-.59-.52 0-1.04.2-1.43.59L10.3 9.45l-7.72 7.72c-.78.78-.78 2.05 0 2.83L4 21.41c.39.39.9.59 1.41.59.51 0 1.02-.2 1.41-.59l7.78-7.78 2.81-2.81c.8-.78.8-2.07 0-2.86zM5.41 20L4 18.59l7.72-7.72 1.47 1.35L5.41 20z\"/>\n",
              "  </svg>\n",
              "      </button>\n",
              "      \n",
              "  <style>\n",
              "    .colab-df-container {\n",
              "      display:flex;\n",
              "      flex-wrap:wrap;\n",
              "      gap: 12px;\n",
              "    }\n",
              "\n",
              "    .colab-df-convert {\n",
              "      background-color: #E8F0FE;\n",
              "      border: none;\n",
              "      border-radius: 50%;\n",
              "      cursor: pointer;\n",
              "      display: none;\n",
              "      fill: #1967D2;\n",
              "      height: 32px;\n",
              "      padding: 0 0 0 0;\n",
              "      width: 32px;\n",
              "    }\n",
              "\n",
              "    .colab-df-convert:hover {\n",
              "      background-color: #E2EBFA;\n",
              "      box-shadow: 0px 1px 2px rgba(60, 64, 67, 0.3), 0px 1px 3px 1px rgba(60, 64, 67, 0.15);\n",
              "      fill: #174EA6;\n",
              "    }\n",
              "\n",
              "    [theme=dark] .colab-df-convert {\n",
              "      background-color: #3B4455;\n",
              "      fill: #D2E3FC;\n",
              "    }\n",
              "\n",
              "    [theme=dark] .colab-df-convert:hover {\n",
              "      background-color: #434B5C;\n",
              "      box-shadow: 0px 1px 3px 1px rgba(0, 0, 0, 0.15);\n",
              "      filter: drop-shadow(0px 1px 2px rgba(0, 0, 0, 0.3));\n",
              "      fill: #FFFFFF;\n",
              "    }\n",
              "  </style>\n",
              "\n",
              "      <script>\n",
              "        const buttonEl =\n",
              "          document.querySelector('#df-a9ff1bea-92ac-4f40-bfbb-aacdd4bf6a56 button.colab-df-convert');\n",
              "        buttonEl.style.display =\n",
              "          google.colab.kernel.accessAllowed ? 'block' : 'none';\n",
              "\n",
              "        async function convertToInteractive(key) {\n",
              "          const element = document.querySelector('#df-a9ff1bea-92ac-4f40-bfbb-aacdd4bf6a56');\n",
              "          const dataTable =\n",
              "            await google.colab.kernel.invokeFunction('convertToInteractive',\n",
              "                                                     [key], {});\n",
              "          if (!dataTable) return;\n",
              "\n",
              "          const docLinkHtml = 'Like what you see? Visit the ' +\n",
              "            '<a target=\"_blank\" href=https://colab.research.google.com/notebooks/data_table.ipynb>data table notebook</a>'\n",
              "            + ' to learn more about interactive tables.';\n",
              "          element.innerHTML = '';\n",
              "          dataTable['output_type'] = 'display_data';\n",
              "          await google.colab.output.renderOutput(dataTable, element);\n",
              "          const docLink = document.createElement('div');\n",
              "          docLink.innerHTML = docLinkHtml;\n",
              "          element.appendChild(docLink);\n",
              "        }\n",
              "      </script>\n",
              "    </div>\n",
              "  </div>\n",
              "  "
            ]
          },
          "metadata": {},
          "execution_count": 3
        }
      ]
    },
    {
      "cell_type": "code",
      "metadata": {
        "id": "7DoV8hQht5Ih"
      },
      "source": [
        "from sklearn.model_selection import train_test_split\n",
        "\n",
        "train_data, test_data = train_test_split(data, test_size=0.2, random_state=2021)\n",
        "train_data.reset_index(drop=True, inplace=True)\n",
        "test_data.reset_index(drop=True, inplace=True)"
      ],
      "execution_count": null,
      "outputs": []
    },
    {
      "cell_type": "code",
      "metadata": {
        "id": "73GDsr4IEaqz",
        "colab": {
          "base_uri": "https://localhost:8080/"
        },
        "outputId": "45577715-4623-48ed-d61c-6fb722664bc2"
      },
      "source": [
        "train_data.shape, test_data.shape"
      ],
      "execution_count": null,
      "outputs": [
        {
          "output_type": "execute_result",
          "data": {
            "text/plain": [
              "((80000, 2), (20000, 2))"
            ]
          },
          "metadata": {},
          "execution_count": 5
        }
      ]
    },
    {
      "cell_type": "code",
      "metadata": {
        "id": "PX8chMSguW8j",
        "colab": {
          "base_uri": "https://localhost:8080/",
          "height": 206
        },
        "outputId": "eeccfcf9-0343-48b5-f4e7-848c8cbcb85b"
      },
      "source": [
        "test_data.head()"
      ],
      "execution_count": null,
      "outputs": [
        {
          "output_type": "execute_result",
          "data": {
            "text/plain": [
              "   label                                            reviews\n",
              "0      0  절대로 사지마세요 님들아이거 사서 열심히 설치해서 해봤는데 멀티밖에 안되는 게임이 ...\n",
              "1      1                                      조금 해봤는데 재미있네요\n",
              "2      1    제작자가 행동 하나하나를 다 꿰뚫고있음 뭔 병신짓을 해도 다 받아줘서 좋음 10/10\n",
              "3      1    길이길이 남을 대작 게임.설명하려 들고 싶지 않을 정도로 완벽 그자체. 꼭 해보세요!\n",
              "4      0  한글문제인건지 실행은되나 리그 시작 자체가 안됨. 돈받고 파는거면 적어도 어떤 환경..."
            ],
            "text/html": [
              "\n",
              "  <div id=\"df-730ad8b1-20d7-4fac-9b58-c4bf8f76e415\">\n",
              "    <div class=\"colab-df-container\">\n",
              "      <div>\n",
              "<style scoped>\n",
              "    .dataframe tbody tr th:only-of-type {\n",
              "        vertical-align: middle;\n",
              "    }\n",
              "\n",
              "    .dataframe tbody tr th {\n",
              "        vertical-align: top;\n",
              "    }\n",
              "\n",
              "    .dataframe thead th {\n",
              "        text-align: right;\n",
              "    }\n",
              "</style>\n",
              "<table border=\"1\" class=\"dataframe\">\n",
              "  <thead>\n",
              "    <tr style=\"text-align: right;\">\n",
              "      <th></th>\n",
              "      <th>label</th>\n",
              "      <th>reviews</th>\n",
              "    </tr>\n",
              "  </thead>\n",
              "  <tbody>\n",
              "    <tr>\n",
              "      <th>0</th>\n",
              "      <td>0</td>\n",
              "      <td>절대로 사지마세요 님들아이거 사서 열심히 설치해서 해봤는데 멀티밖에 안되는 게임이 ...</td>\n",
              "    </tr>\n",
              "    <tr>\n",
              "      <th>1</th>\n",
              "      <td>1</td>\n",
              "      <td>조금 해봤는데 재미있네요</td>\n",
              "    </tr>\n",
              "    <tr>\n",
              "      <th>2</th>\n",
              "      <td>1</td>\n",
              "      <td>제작자가 행동 하나하나를 다 꿰뚫고있음 뭔 병신짓을 해도 다 받아줘서 좋음 10/10</td>\n",
              "    </tr>\n",
              "    <tr>\n",
              "      <th>3</th>\n",
              "      <td>1</td>\n",
              "      <td>길이길이 남을 대작 게임.설명하려 들고 싶지 않을 정도로 완벽 그자체. 꼭 해보세요!</td>\n",
              "    </tr>\n",
              "    <tr>\n",
              "      <th>4</th>\n",
              "      <td>0</td>\n",
              "      <td>한글문제인건지 실행은되나 리그 시작 자체가 안됨. 돈받고 파는거면 적어도 어떤 환경...</td>\n",
              "    </tr>\n",
              "  </tbody>\n",
              "</table>\n",
              "</div>\n",
              "      <button class=\"colab-df-convert\" onclick=\"convertToInteractive('df-730ad8b1-20d7-4fac-9b58-c4bf8f76e415')\"\n",
              "              title=\"Convert this dataframe to an interactive table.\"\n",
              "              style=\"display:none;\">\n",
              "        \n",
              "  <svg xmlns=\"http://www.w3.org/2000/svg\" height=\"24px\"viewBox=\"0 0 24 24\"\n",
              "       width=\"24px\">\n",
              "    <path d=\"M0 0h24v24H0V0z\" fill=\"none\"/>\n",
              "    <path d=\"M18.56 5.44l.94 2.06.94-2.06 2.06-.94-2.06-.94-.94-2.06-.94 2.06-2.06.94zm-11 1L8.5 8.5l.94-2.06 2.06-.94-2.06-.94L8.5 2.5l-.94 2.06-2.06.94zm10 10l.94 2.06.94-2.06 2.06-.94-2.06-.94-.94-2.06-.94 2.06-2.06.94z\"/><path d=\"M17.41 7.96l-1.37-1.37c-.4-.4-.92-.59-1.43-.59-.52 0-1.04.2-1.43.59L10.3 9.45l-7.72 7.72c-.78.78-.78 2.05 0 2.83L4 21.41c.39.39.9.59 1.41.59.51 0 1.02-.2 1.41-.59l7.78-7.78 2.81-2.81c.8-.78.8-2.07 0-2.86zM5.41 20L4 18.59l7.72-7.72 1.47 1.35L5.41 20z\"/>\n",
              "  </svg>\n",
              "      </button>\n",
              "      \n",
              "  <style>\n",
              "    .colab-df-container {\n",
              "      display:flex;\n",
              "      flex-wrap:wrap;\n",
              "      gap: 12px;\n",
              "    }\n",
              "\n",
              "    .colab-df-convert {\n",
              "      background-color: #E8F0FE;\n",
              "      border: none;\n",
              "      border-radius: 50%;\n",
              "      cursor: pointer;\n",
              "      display: none;\n",
              "      fill: #1967D2;\n",
              "      height: 32px;\n",
              "      padding: 0 0 0 0;\n",
              "      width: 32px;\n",
              "    }\n",
              "\n",
              "    .colab-df-convert:hover {\n",
              "      background-color: #E2EBFA;\n",
              "      box-shadow: 0px 1px 2px rgba(60, 64, 67, 0.3), 0px 1px 3px 1px rgba(60, 64, 67, 0.15);\n",
              "      fill: #174EA6;\n",
              "    }\n",
              "\n",
              "    [theme=dark] .colab-df-convert {\n",
              "      background-color: #3B4455;\n",
              "      fill: #D2E3FC;\n",
              "    }\n",
              "\n",
              "    [theme=dark] .colab-df-convert:hover {\n",
              "      background-color: #434B5C;\n",
              "      box-shadow: 0px 1px 3px 1px rgba(0, 0, 0, 0.15);\n",
              "      filter: drop-shadow(0px 1px 2px rgba(0, 0, 0, 0.3));\n",
              "      fill: #FFFFFF;\n",
              "    }\n",
              "  </style>\n",
              "\n",
              "      <script>\n",
              "        const buttonEl =\n",
              "          document.querySelector('#df-730ad8b1-20d7-4fac-9b58-c4bf8f76e415 button.colab-df-convert');\n",
              "        buttonEl.style.display =\n",
              "          google.colab.kernel.accessAllowed ? 'block' : 'none';\n",
              "\n",
              "        async function convertToInteractive(key) {\n",
              "          const element = document.querySelector('#df-730ad8b1-20d7-4fac-9b58-c4bf8f76e415');\n",
              "          const dataTable =\n",
              "            await google.colab.kernel.invokeFunction('convertToInteractive',\n",
              "                                                     [key], {});\n",
              "          if (!dataTable) return;\n",
              "\n",
              "          const docLinkHtml = 'Like what you see? Visit the ' +\n",
              "            '<a target=\"_blank\" href=https://colab.research.google.com/notebooks/data_table.ipynb>data table notebook</a>'\n",
              "            + ' to learn more about interactive tables.';\n",
              "          element.innerHTML = '';\n",
              "          dataTable['output_type'] = 'display_data';\n",
              "          await google.colab.output.renderOutput(dataTable, element);\n",
              "          const docLink = document.createElement('div');\n",
              "          docLink.innerHTML = docLinkHtml;\n",
              "          element.appendChild(docLink);\n",
              "        }\n",
              "      </script>\n",
              "    </div>\n",
              "  </div>\n",
              "  "
            ]
          },
          "metadata": {},
          "execution_count": 6
        }
      ]
    },
    {
      "cell_type": "markdown",
      "metadata": {
        "id": "oueJjqNfjGfi"
      },
      "source": [
        "# Q1. Tokenizing & Text to Sequences\n",
        "\n",
        "* 상위 40000개 단어만 사용한다."
      ]
    },
    {
      "cell_type": "code",
      "metadata": {
        "id": "1REMC-qjjas_"
      },
      "source": [
        "## 위의 한국어 전처리를 했다면 사용하지 않는다.\n",
        "x_train = train_data['reviews'].astype('str').tolist()\n",
        "x_test = test_data['reviews'].astype('str').tolist()"
      ],
      "execution_count": null,
      "outputs": []
    },
    {
      "cell_type": "code",
      "metadata": {
        "id": "nRkKycCFlmHA"
      },
      "source": [
        "y_train = train_data['label'].values\n",
        "y_test = test_data['label'].values"
      ],
      "execution_count": null,
      "outputs": []
    },
    {
      "cell_type": "code",
      "metadata": {
        "id": "m5DPNQ1kjKuG"
      },
      "source": [
        "### Tokenizer here\n",
        "from tensorflow.keras.preprocessing.text import Tokenizer\n",
        "max_words = 40000  # 상위 40,000개의 단어만 보존\n",
        "tokenizer = Tokenizer(num_words=max_words, lower=False)  # lower (대문자->소문자) 옵션은 한국어를 할땐 끄자."
      ],
      "execution_count": null,
      "outputs": []
    },
    {
      "cell_type": "code",
      "metadata": {
        "id": "nKGPOSvbjNLS",
        "colab": {
          "base_uri": "https://localhost:8080/"
        },
        "outputId": "e20498dc-2669-491e-b8a2-05cebb2b3858"
      },
      "source": [
        "# Text --> Sequence\n",
        "%%time\n",
        "tokenizer.fit_on_texts(x_train)\n",
        "x_train = tokenizer.texts_to_sequences(x_train)\n",
        "x_test = tokenizer.texts_to_sequences(x_test)"
      ],
      "execution_count": null,
      "outputs": [
        {
          "output_type": "stream",
          "name": "stdout",
          "text": [
            "CPU times: user 3.38 s, sys: 78.2 ms, total: 3.45 s\n",
            "Wall time: 3.45 s\n"
          ]
        }
      ]
    },
    {
      "cell_type": "markdown",
      "metadata": {
        "id": "5sGGahB4j29U"
      },
      "source": [
        "# Padding Sequence\n",
        "\n",
        "* 문장의 최대 길이는 40으로 한다."
      ]
    },
    {
      "cell_type": "code",
      "metadata": {
        "id": "qOArslkFmFVp"
      },
      "source": [
        "from tensorflow.keras.preprocessing.sequence import pad_sequences"
      ],
      "execution_count": null,
      "outputs": []
    },
    {
      "cell_type": "code",
      "source": [
        "max_words = max_words ## 위에서 40,000으로 설정함\n",
        "embedding_dim = 128 ## 단어 embedding 지원. 단어 하나당 몇 개의 특징값을 학습할 것인가\n",
        "max_len = 40 ## 문장 최대 길이"
      ],
      "metadata": {
        "id": "sFl1sHuo1WIE"
      },
      "execution_count": null,
      "outputs": []
    },
    {
      "cell_type": "code",
      "metadata": {
        "id": "0P-rnELOmKkw"
      },
      "source": [
        "#### Pad Sequences here\n",
        "x_train = pad_sequences(x_train, maxlen = max_len)\n",
        "x_test = pad_sequences(x_test, maxlen = max_len)"
      ],
      "execution_count": null,
      "outputs": []
    },
    {
      "cell_type": "code",
      "source": [
        "x_train[:3]"
      ],
      "metadata": {
        "colab": {
          "base_uri": "https://localhost:8080/"
        },
        "id": "h6FokOtk1rGC",
        "outputId": "d5a532ae-1614-46a1-a5ef-79b9c68eb637"
      },
      "execution_count": null,
      "outputs": [
        {
          "output_type": "execute_result",
          "data": {
            "text/plain": [
              "array([[    0,     0,     0,     0,     0,     0,     0,     0,     0,\n",
              "            0,     0,     0,     0,     0,     0,     0,     0,     0,\n",
              "            0,     0,     0,     0,     0,     0,     0,     0,     0,\n",
              "            0,     0,     0,     0,     0,     0,     0,     0,     0,\n",
              "          199, 19864,   652,   307],\n",
              "       [    0,     0,     0,     0,     0,     0,     0,     0,     0,\n",
              "            0,     0,     0,     0,     0,     0,     0,     0,     0,\n",
              "            0,     0,     0,     0,     0,     0,     0,     0,     0,\n",
              "            0,     0,     0,     0,     0,     0,     0,     0,     0,\n",
              "            0,     0,     0, 34423],\n",
              "       [    0,     0,     0,     0,     0,     0,     0,     0,     0,\n",
              "            0,     0,     0,     0,     0,     0,     0,     0,     0,\n",
              "            0,     0,     0,     0,     0,     0,     0,     0,     0,\n",
              "            0,     0,     0,     0,     0,     0,     0,     0,     0,\n",
              "            0,  1313,  3381,    75]], dtype=int32)"
            ]
          },
          "metadata": {},
          "execution_count": 14
        }
      ]
    },
    {
      "cell_type": "code",
      "metadata": {
        "id": "Hv9ahUmPnC66"
      },
      "source": [
        "x_train = np.array(x_train)\n",
        "x_test = np.array(x_test)"
      ],
      "execution_count": null,
      "outputs": []
    },
    {
      "cell_type": "markdown",
      "metadata": {
        "id": "i2HES0lGn2tj"
      },
      "source": [
        "# 0으로 가득찬 데이터에 대한 추가 전처리"
      ]
    },
    {
      "cell_type": "code",
      "metadata": {
        "id": "bjlJhxOMnKcc"
      },
      "source": [
        "not0train_idx = x_train.sum(1) > 0\n",
        "not0test_idx = x_test.sum(1) > 0\n",
        "\n",
        "# train_data.iloc[:10]\n",
        "# x_train[:10].sum(1)\n",
        "# x_train[:10].sum(1) > 0\n",
        "# train_data\n",
        "# train_data.loc[not0train_idx]"
      ],
      "execution_count": null,
      "outputs": []
    },
    {
      "cell_type": "code",
      "metadata": {
        "id": "iOnCc6j2neKX"
      },
      "source": [
        "train_data = train_data.loc[not0train_idx].reset_index(drop=True)\n",
        "test_data = test_data.loc[not0test_idx].reset_index(drop=True)"
      ],
      "execution_count": null,
      "outputs": []
    },
    {
      "cell_type": "code",
      "metadata": {
        "id": "UkrohBHDmdLw"
      },
      "source": [
        "x_train = x_train[not0train_idx]\n",
        "y_train = y_train[not0train_idx]\n",
        "\n",
        "x_test = x_test[not0test_idx]\n",
        "y_test = y_test[not0test_idx]"
      ],
      "execution_count": null,
      "outputs": []
    },
    {
      "cell_type": "code",
      "source": [
        "x_train.shape"
      ],
      "metadata": {
        "colab": {
          "base_uri": "https://localhost:8080/"
        },
        "id": "l_Hx5aW-AU2o",
        "outputId": "a9ec7733-e428-492a-fd43-2e53035efe71"
      },
      "execution_count": null,
      "outputs": [
        {
          "output_type": "execute_result",
          "data": {
            "text/plain": [
              "(76916, 40)"
            ]
          },
          "metadata": {},
          "execution_count": 19
        }
      ]
    },
    {
      "cell_type": "markdown",
      "metadata": {
        "id": "adL9N5mMoGgj"
      },
      "source": [
        "# 모델링\n",
        "\n",
        "**모델 구조**\n",
        "1. 임베딩 레이어 : 임베딩차원은 128\n",
        "2. Conv1D 블록 : 필터수 64개, 윈도우 사이즈 5\n",
        "3. Bidirectional layer :\n",
        "    * 정방향 : LSTM, 히든스테이트 32 \n",
        "    * 역방향 : LSTM, 히든스테이트 32\n",
        "4. Bidirectional layer :\n",
        "    * 정방향 : GRU, 히든스테이트 32\n",
        "    * 역방향 : RNN, 히든스테이트 16\n",
        "5. Conv1D 블록 : 필터수 32개, 윈도우 사이즈 5\n",
        "6. MaxPool1D 블록 : 필터사이즈2\n",
        "7. 플래튼\n",
        "8. FC Layer : 노드 1024개\n",
        "9. 시그모이드 레이어"
      ]
    },
    {
      "cell_type": "code",
      "source": [
        "import tensorflow as tf\n",
        "from tensorflow import keras\n",
        "from tensorflow.keras.backend import clear_session\n",
        "from tensorflow.keras.models import Model\n",
        "from tensorflow.keras.layers import Input, Embedding, Dense, Conv1D, Bidirectional, LSTM, GRU, RNN, MaxPool1D, Flatten"
      ],
      "metadata": {
        "id": "S8vyyZ_c3lKh"
      },
      "execution_count": null,
      "outputs": []
    },
    {
      "cell_type": "code",
      "metadata": {
        "id": "DQtdswD5w9MI",
        "colab": {
          "base_uri": "https://localhost:8080/"
        },
        "outputId": "8808de51-8aa9-4458-da1a-9ec9ee1b1713"
      },
      "source": [
        "#####################\n",
        "# 1. 세션 초기화\n",
        "clear_session()\n",
        "\n",
        "# 2. 모델 사슬처럼 엮기\n",
        "il = Input(shape=(40,))\n",
        "\n",
        "# 1. 임베딩 레이어 : 임베딩차원은 128\n",
        "el = Embedding(max_words,\n",
        "               embedding_dim,\n",
        "               input_length=max_len)(il)\n",
        "\n",
        "# 2. Conv1D 블록 : 필터수 64개, 윈도우 사이즈 5\n",
        "hl1 = Conv1D(filters=64,\n",
        "             kernel_size=5,\n",
        "             activation='swish')(el)\n",
        "# 3. Bidirectional layer :\n",
        "#     * 정방향 : LSTM, 히든스테이트 32 \n",
        "#     * 역방향 : LSTM, 히든스테이트 32\n",
        "lstm32 = LSTM(32, return_sequences=True)\n",
        "hl2 = Bidirectional(lstm32)(hl1)\n",
        "# 4. Bidirectional layer :\n",
        "#     * 정방향 : GRU, 히든스테이트 32\n",
        "#     * 역방향 : RNN, 히든스테이트 16\n",
        "forward_gru32 = GRU(32, return_sequences=True)\n",
        "backward_lstm16 = LSTM(16, return_sequences=True, go_backwards=True)\n",
        "hl3 = Bidirectional(forward_gru32, backward_layer=backward_lstm16)(hl2)\n",
        "# 5. Conv1D 블록 : 필터수 32개, 윈도우 사이즈 5\n",
        "hl4 = Conv1D(filters=32,\n",
        "             kernel_size=5,\n",
        "             activation='swish')(hl3)\n",
        "# 6. MaxPool1D 블록 : 필터사이즈2\n",
        "hl5 = MaxPool1D(pool_size=2)(hl4)\n",
        "# 7. 플래튼\n",
        "hl6 = Flatten()(hl5)\n",
        "# 8. FC Layer : 노드 1024개\n",
        "hl7 = Dense(1024, activation='relu')(hl6)\n",
        "# 9. 시그모이드 레이어\n",
        "ol = Dense(1, activation='sigmoid')(hl7)\n",
        "\n",
        "# 3. 모델 처음과 끝 지정\n",
        "model = Model(il, ol)\n",
        "\n",
        "# 4. 컴파일\n",
        "model.compile(loss='binary_crossentropy',\n",
        "              optimizer='adam',\n",
        "              metrics='accuracy')\n",
        "\n",
        "# 요약\n",
        "model.summary()"
      ],
      "execution_count": null,
      "outputs": [
        {
          "output_type": "stream",
          "name": "stdout",
          "text": [
            "Model: \"model\"\n",
            "_________________________________________________________________\n",
            " Layer (type)                Output Shape              Param #   \n",
            "=================================================================\n",
            " input_1 (InputLayer)        [(None, 40)]              0         \n",
            "                                                                 \n",
            " embedding (Embedding)       (None, 40, 128)           5120000   \n",
            "                                                                 \n",
            " conv1d (Conv1D)             (None, 36, 64)            41024     \n",
            "                                                                 \n",
            " bidirectional (Bidirectiona  (None, 36, 64)           24832     \n",
            " l)                                                              \n",
            "                                                                 \n",
            " bidirectional_1 (Bidirectio  (None, 36, 48)           14592     \n",
            " nal)                                                            \n",
            "                                                                 \n",
            " conv1d_1 (Conv1D)           (None, 32, 32)            7712      \n",
            "                                                                 \n",
            " max_pooling1d (MaxPooling1D  (None, 16, 32)           0         \n",
            " )                                                               \n",
            "                                                                 \n",
            " flatten (Flatten)           (None, 512)               0         \n",
            "                                                                 \n",
            " dense (Dense)               (None, 1024)              525312    \n",
            "                                                                 \n",
            " dense_1 (Dense)             (None, 1)                 1025      \n",
            "                                                                 \n",
            "=================================================================\n",
            "Total params: 5,734,497\n",
            "Trainable params: 5,734,497\n",
            "Non-trainable params: 0\n",
            "_________________________________________________________________\n"
          ]
        }
      ]
    },
    {
      "cell_type": "markdown",
      "source": [
        "* Using pre-trained word Embedding  \n",
        "* 남이 사용한 임베딩을 가져와 임베딩하기\n",
        "* GloVe, Word2Vec 등..."
      ],
      "metadata": {
        "id": "fKCYQ64YIhrl"
      }
    },
    {
      "cell_type": "markdown",
      "metadata": {
        "id": "bWFMADk8zF6I"
      },
      "source": [
        "# EarlyStopping을 이용한 학습.\n",
        "\n",
        "1. 20%는 벨리데이션 셋.\n",
        "2. 4epochs전과 비교하여 early stopping할 것."
      ]
    },
    {
      "cell_type": "code",
      "source": [
        "from tensorflow.keras.callbacks import EarlyStopping"
      ],
      "metadata": {
        "id": "E3JY2jVS9FMY"
      },
      "execution_count": null,
      "outputs": []
    },
    {
      "cell_type": "code",
      "metadata": {
        "id": "2Fz2nd66qN-0"
      },
      "source": [
        "#####################\n",
        "es = EarlyStopping(monitor='val_loss',\n",
        "                   min_delta=0,\n",
        "                   patience=4,\n",
        "                   verbose=1,\n",
        "                   restore_best_weights=True)"
      ],
      "execution_count": null,
      "outputs": []
    },
    {
      "cell_type": "code",
      "metadata": {
        "id": "pBvUETNgqQgm",
        "colab": {
          "base_uri": "https://localhost:8080/"
        },
        "outputId": "65166101-82b8-4d24-aaac-d63903a4346d"
      },
      "source": [
        "#####################\n",
        "model.fit(x_train, y_train, epochs=30, verbose=1, callbacks=[es], validation_split=0.2)"
      ],
      "execution_count": null,
      "outputs": [
        {
          "output_type": "stream",
          "name": "stdout",
          "text": [
            "Epoch 1/30\n",
            "1923/1923 [==============================] - 61s 27ms/step - loss: 0.5181 - accuracy: 0.7391 - val_loss: 0.4712 - val_accuracy: 0.7757\n",
            "Epoch 2/30\n",
            "1923/1923 [==============================] - 33s 17ms/step - loss: 0.3264 - accuracy: 0.8619 - val_loss: 0.5127 - val_accuracy: 0.7588\n",
            "Epoch 3/30\n",
            "1923/1923 [==============================] - 31s 16ms/step - loss: 0.1590 - accuracy: 0.9368 - val_loss: 0.7613 - val_accuracy: 0.7430\n",
            "Epoch 4/30\n",
            "1923/1923 [==============================] - 31s 16ms/step - loss: 0.0897 - accuracy: 0.9637 - val_loss: 1.2012 - val_accuracy: 0.7351\n",
            "Epoch 5/30\n",
            "1922/1923 [============================>.] - ETA: 0s - loss: 0.0656 - accuracy: 0.9723Restoring model weights from the end of the best epoch: 1.\n",
            "1923/1923 [==============================] - 29s 15ms/step - loss: 0.0656 - accuracy: 0.9723 - val_loss: 1.2717 - val_accuracy: 0.7298\n",
            "Epoch 5: early stopping\n"
          ]
        },
        {
          "output_type": "execute_result",
          "data": {
            "text/plain": [
              "<keras.callbacks.History at 0x7fe880041820>"
            ]
          },
          "metadata": {},
          "execution_count": 27
        }
      ]
    },
    {
      "cell_type": "code",
      "metadata": {
        "id": "lUWAir6nq886"
      },
      "source": [
        "review_idx = 128\n",
        "\n",
        "temp = test_data.loc[review_idx]\n",
        "docu = temp['reviews']\n",
        "label = 'positive' if temp['label'] ==1 else 'Negative'\n",
        "\n",
        "print(f\"문서 번호 {review_idx}\")\n",
        "print(label, \" : \", docu)\n",
        "y_pred = model.predict(x_test[review_idx:review_idx+1])\n",
        "label_pred = 'positive' if y_pred[0,0] >=0.5 else 'Negative'\n",
        "print(f\"모델의 예측 : {label_pred},   prob = {y_pred[0,0]*100:.2f}%\")"
      ],
      "execution_count": null,
      "outputs": []
    }
  ]
}