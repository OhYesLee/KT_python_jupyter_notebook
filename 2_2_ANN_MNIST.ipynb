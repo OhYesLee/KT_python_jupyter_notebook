{
  "nbformat": 4,
  "nbformat_minor": 0,
  "metadata": {
    "colab": {
      "provenance": [],
      "include_colab_link": true
    },
    "kernelspec": {
      "name": "python3",
      "display_name": "Python 3"
    }
  },
  "cells": [
    {
      "cell_type": "markdown",
      "metadata": {
        "id": "view-in-github",
        "colab_type": "text"
      },
      "source": [
        "<a href=\"https://colab.research.google.com/github/OhYesLee/KT_python_jupyter_notebook/blob/main/2_2_ANN_MNIST.ipynb\" target=\"_parent\"><img src=\"https://colab.research.google.com/assets/colab-badge.svg\" alt=\"Open In Colab\"/></a>"
      ]
    },
    {
      "cell_type": "markdown",
      "metadata": {
        "id": "UdrP_vI3QcNd"
      },
      "source": [
        "# ANN & MNIST\n",
        "---"
      ]
    },
    {
      "cell_type": "markdown",
      "source": [
        "## 라이브러리 불러오기"
      ],
      "metadata": {
        "id": "QEyK7WODzFZA"
      }
    },
    {
      "cell_type": "code",
      "metadata": {
        "id": "2At3z2IdQew-"
      },
      "source": [
        "import tensorflow as tf\n",
        "from tensorflow import keras\n",
        "\n",
        "import numpy as np\n",
        "import pandas as pd\n",
        "import matplotlib.pyplot as plt\n",
        "\n",
        "import random as rd\n",
        "\n",
        "from sklearn.metrics import accuracy_score"
      ],
      "execution_count": 1,
      "outputs": []
    },
    {
      "cell_type": "markdown",
      "metadata": {
        "id": "F7A8vUrQRpPd"
      },
      "source": [
        "## 데이터 불러오기"
      ]
    },
    {
      "cell_type": "code",
      "metadata": {
        "id": "gBQdcFgkRiv-",
        "colab": {
          "base_uri": "https://localhost:8080/"
        },
        "outputId": "d770a9f3-2df3-4dbe-9e0e-48c655ed9a14"
      },
      "source": [
        "(train_x, train_y), (test_x, test_y) = keras.datasets.mnist.load_data()"
      ],
      "execution_count": 2,
      "outputs": [
        {
          "output_type": "stream",
          "name": "stdout",
          "text": [
            "Downloading data from https://storage.googleapis.com/tensorflow/tf-keras-datasets/mnist.npz\n",
            "11490434/11490434 [==============================] - 0s 0us/step\n"
          ]
        }
      ]
    },
    {
      "cell_type": "code",
      "metadata": {
        "id": "_GKNGA5qRnf-",
        "colab": {
          "base_uri": "https://localhost:8080/"
        },
        "outputId": "5a71c38c-b131-4f18-cf4d-01b4c6fa1275"
      },
      "source": [
        "train_x.shape, train_y.shape, test_x.shape, test_y.shape"
      ],
      "execution_count": 3,
      "outputs": [
        {
          "output_type": "execute_result",
          "data": {
            "text/plain": [
              "((60000, 28, 28), (60000,), (10000, 28, 28), (10000,))"
            ]
          },
          "metadata": {},
          "execution_count": 3
        }
      ]
    },
    {
      "cell_type": "code",
      "metadata": {
        "id": "-rOBjv_HMZT9",
        "colab": {
          "base_uri": "https://localhost:8080/"
        },
        "outputId": "e399d9a4-7ba1-4a33-97fe-2fa5fc84c095"
      },
      "source": [
        "train_x[0]"
      ],
      "execution_count": 4,
      "outputs": [
        {
          "output_type": "execute_result",
          "data": {
            "text/plain": [
              "array([[  0,   0,   0,   0,   0,   0,   0,   0,   0,   0,   0,   0,   0,\n",
              "          0,   0,   0,   0,   0,   0,   0,   0,   0,   0,   0,   0,   0,\n",
              "          0,   0],\n",
              "       [  0,   0,   0,   0,   0,   0,   0,   0,   0,   0,   0,   0,   0,\n",
              "          0,   0,   0,   0,   0,   0,   0,   0,   0,   0,   0,   0,   0,\n",
              "          0,   0],\n",
              "       [  0,   0,   0,   0,   0,   0,   0,   0,   0,   0,   0,   0,   0,\n",
              "          0,   0,   0,   0,   0,   0,   0,   0,   0,   0,   0,   0,   0,\n",
              "          0,   0],\n",
              "       [  0,   0,   0,   0,   0,   0,   0,   0,   0,   0,   0,   0,   0,\n",
              "          0,   0,   0,   0,   0,   0,   0,   0,   0,   0,   0,   0,   0,\n",
              "          0,   0],\n",
              "       [  0,   0,   0,   0,   0,   0,   0,   0,   0,   0,   0,   0,   0,\n",
              "          0,   0,   0,   0,   0,   0,   0,   0,   0,   0,   0,   0,   0,\n",
              "          0,   0],\n",
              "       [  0,   0,   0,   0,   0,   0,   0,   0,   0,   0,   0,   0,   3,\n",
              "         18,  18,  18, 126, 136, 175,  26, 166, 255, 247, 127,   0,   0,\n",
              "          0,   0],\n",
              "       [  0,   0,   0,   0,   0,   0,   0,   0,  30,  36,  94, 154, 170,\n",
              "        253, 253, 253, 253, 253, 225, 172, 253, 242, 195,  64,   0,   0,\n",
              "          0,   0],\n",
              "       [  0,   0,   0,   0,   0,   0,   0,  49, 238, 253, 253, 253, 253,\n",
              "        253, 253, 253, 253, 251,  93,  82,  82,  56,  39,   0,   0,   0,\n",
              "          0,   0],\n",
              "       [  0,   0,   0,   0,   0,   0,   0,  18, 219, 253, 253, 253, 253,\n",
              "        253, 198, 182, 247, 241,   0,   0,   0,   0,   0,   0,   0,   0,\n",
              "          0,   0],\n",
              "       [  0,   0,   0,   0,   0,   0,   0,   0,  80, 156, 107, 253, 253,\n",
              "        205,  11,   0,  43, 154,   0,   0,   0,   0,   0,   0,   0,   0,\n",
              "          0,   0],\n",
              "       [  0,   0,   0,   0,   0,   0,   0,   0,   0,  14,   1, 154, 253,\n",
              "         90,   0,   0,   0,   0,   0,   0,   0,   0,   0,   0,   0,   0,\n",
              "          0,   0],\n",
              "       [  0,   0,   0,   0,   0,   0,   0,   0,   0,   0,   0, 139, 253,\n",
              "        190,   2,   0,   0,   0,   0,   0,   0,   0,   0,   0,   0,   0,\n",
              "          0,   0],\n",
              "       [  0,   0,   0,   0,   0,   0,   0,   0,   0,   0,   0,  11, 190,\n",
              "        253,  70,   0,   0,   0,   0,   0,   0,   0,   0,   0,   0,   0,\n",
              "          0,   0],\n",
              "       [  0,   0,   0,   0,   0,   0,   0,   0,   0,   0,   0,   0,  35,\n",
              "        241, 225, 160, 108,   1,   0,   0,   0,   0,   0,   0,   0,   0,\n",
              "          0,   0],\n",
              "       [  0,   0,   0,   0,   0,   0,   0,   0,   0,   0,   0,   0,   0,\n",
              "         81, 240, 253, 253, 119,  25,   0,   0,   0,   0,   0,   0,   0,\n",
              "          0,   0],\n",
              "       [  0,   0,   0,   0,   0,   0,   0,   0,   0,   0,   0,   0,   0,\n",
              "          0,  45, 186, 253, 253, 150,  27,   0,   0,   0,   0,   0,   0,\n",
              "          0,   0],\n",
              "       [  0,   0,   0,   0,   0,   0,   0,   0,   0,   0,   0,   0,   0,\n",
              "          0,   0,  16,  93, 252, 253, 187,   0,   0,   0,   0,   0,   0,\n",
              "          0,   0],\n",
              "       [  0,   0,   0,   0,   0,   0,   0,   0,   0,   0,   0,   0,   0,\n",
              "          0,   0,   0,   0, 249, 253, 249,  64,   0,   0,   0,   0,   0,\n",
              "          0,   0],\n",
              "       [  0,   0,   0,   0,   0,   0,   0,   0,   0,   0,   0,   0,   0,\n",
              "          0,  46, 130, 183, 253, 253, 207,   2,   0,   0,   0,   0,   0,\n",
              "          0,   0],\n",
              "       [  0,   0,   0,   0,   0,   0,   0,   0,   0,   0,   0,   0,  39,\n",
              "        148, 229, 253, 253, 253, 250, 182,   0,   0,   0,   0,   0,   0,\n",
              "          0,   0],\n",
              "       [  0,   0,   0,   0,   0,   0,   0,   0,   0,   0,  24, 114, 221,\n",
              "        253, 253, 253, 253, 201,  78,   0,   0,   0,   0,   0,   0,   0,\n",
              "          0,   0],\n",
              "       [  0,   0,   0,   0,   0,   0,   0,   0,  23,  66, 213, 253, 253,\n",
              "        253, 253, 198,  81,   2,   0,   0,   0,   0,   0,   0,   0,   0,\n",
              "          0,   0],\n",
              "       [  0,   0,   0,   0,   0,   0,  18, 171, 219, 253, 253, 253, 253,\n",
              "        195,  80,   9,   0,   0,   0,   0,   0,   0,   0,   0,   0,   0,\n",
              "          0,   0],\n",
              "       [  0,   0,   0,   0,  55, 172, 226, 253, 253, 253, 253, 244, 133,\n",
              "         11,   0,   0,   0,   0,   0,   0,   0,   0,   0,   0,   0,   0,\n",
              "          0,   0],\n",
              "       [  0,   0,   0,   0, 136, 253, 253, 253, 212, 135, 132,  16,   0,\n",
              "          0,   0,   0,   0,   0,   0,   0,   0,   0,   0,   0,   0,   0,\n",
              "          0,   0],\n",
              "       [  0,   0,   0,   0,   0,   0,   0,   0,   0,   0,   0,   0,   0,\n",
              "          0,   0,   0,   0,   0,   0,   0,   0,   0,   0,   0,   0,   0,\n",
              "          0,   0],\n",
              "       [  0,   0,   0,   0,   0,   0,   0,   0,   0,   0,   0,   0,   0,\n",
              "          0,   0,   0,   0,   0,   0,   0,   0,   0,   0,   0,   0,   0,\n",
              "          0,   0],\n",
              "       [  0,   0,   0,   0,   0,   0,   0,   0,   0,   0,   0,   0,   0,\n",
              "          0,   0,   0,   0,   0,   0,   0,   0,   0,   0,   0,   0,   0,\n",
              "          0,   0]], dtype=uint8)"
            ]
          },
          "metadata": {},
          "execution_count": 4
        }
      ]
    },
    {
      "cell_type": "code",
      "metadata": {
        "id": "qW4ZeZcNRouf",
        "colab": {
          "base_uri": "https://localhost:8080/",
          "height": 303
        },
        "outputId": "ad365c7e-3a79-470c-cad1-d6af8f6a7509"
      },
      "source": [
        "'''\n",
        "Ctrl+Enter를 이용하여\n",
        "반복 실행 해보자!\n",
        "'''\n",
        "\n",
        "# id = rd.randrange(0,10000)\n",
        "id = 0\n",
        "\n",
        "print(f'id = {id}')\n",
        "print(f'다음 그림은 숫자 {train_y[id]} 입니다.')\n",
        "\n",
        "plt.imshow(train_x[id], cmap='gray')\n",
        "plt.show()"
      ],
      "execution_count": 5,
      "outputs": [
        {
          "output_type": "stream",
          "name": "stdout",
          "text": [
            "id = 0\n",
            "다음 그림은 숫자 5 입니다.\n"
          ]
        },
        {
          "output_type": "display_data",
          "data": {
            "text/plain": [
              "<Figure size 432x288 with 1 Axes>"
            ],
            "image/png": "[encoded data removed]"
          },
          "metadata": {
            "needs_background": "light"
          }
        }
      ]
    },
    {
      "cell_type": "markdown",
      "source": [
        "## 데이터 전처리"
      ],
      "metadata": {
        "id": "UcckuQyK2Hj9"
      }
    },
    {
      "cell_type": "markdown",
      "source": [
        "* reshape"
      ],
      "metadata": {
        "id": "IrZCdbKY3UKp"
      }
    },
    {
      "cell_type": "code",
      "source": [
        "train_x.shape"
      ],
      "metadata": {
        "id": "4sJup7hP3GPA",
        "colab": {
          "base_uri": "https://localhost:8080/"
        },
        "outputId": "7d66ecfd-97d4-43e7-fc01-ecf3ba5d4529"
      },
      "execution_count": 6,
      "outputs": [
        {
          "output_type": "execute_result",
          "data": {
            "text/plain": [
              "(60000, 28, 28)"
            ]
          },
          "metadata": {},
          "execution_count": 6
        }
      ]
    },
    {
      "cell_type": "code",
      "metadata": {
        "id": "m3itgyE_RxbO"
      },
      "source": [
        "train_x = train_x.reshape([train_x.shape[0],-1])\n",
        "test_x = test_x.reshape([test_x.shape[0],-1])"
      ],
      "execution_count": 7,
      "outputs": []
    },
    {
      "cell_type": "code",
      "source": [
        "train_x.shape"
      ],
      "metadata": {
        "id": "2Vuxttua3RHh",
        "colab": {
          "base_uri": "https://localhost:8080/"
        },
        "outputId": "6052e0cc-317a-4d16-ee3b-f401c443aaa9"
      },
      "execution_count": 8,
      "outputs": [
        {
          "output_type": "execute_result",
          "data": {
            "text/plain": [
              "(60000, 784)"
            ]
          },
          "metadata": {},
          "execution_count": 8
        }
      ]
    },
    {
      "cell_type": "markdown",
      "source": [
        "* min-max scaling"
      ],
      "metadata": {
        "id": "EWhadGmn3dWI"
      }
    },
    {
      "cell_type": "code",
      "metadata": {
        "id": "cWL_no_LR3U8",
        "colab": {
          "base_uri": "https://localhost:8080/"
        },
        "outputId": "51665a0d-8474-4137-8ad7-d827e519bdec"
      },
      "source": [
        "print(f'max : {train_x.max()} / min : {train_x.min()}')"
      ],
      "execution_count": 9,
      "outputs": [
        {
          "output_type": "stream",
          "name": "stdout",
          "text": [
            "max : 255 / min : 0\n"
          ]
        }
      ]
    },
    {
      "cell_type": "code",
      "metadata": {
        "id": "3An_EZn0R4wM"
      },
      "source": [
        "max_num = train_x.max()\n",
        "\n",
        "train_x = train_x/max_num\n",
        "test_x = test_x/max_num"
      ],
      "execution_count": 10,
      "outputs": []
    },
    {
      "cell_type": "code",
      "source": [
        "print(f'max : {train_x.max()} / min : {train_x.min()}')"
      ],
      "metadata": {
        "id": "CHkomLIy07Cd",
        "colab": {
          "base_uri": "https://localhost:8080/"
        },
        "outputId": "f6fafa43-77ae-4589-cbe1-d16657e26ec6"
      },
      "execution_count": 11,
      "outputs": [
        {
          "output_type": "stream",
          "name": "stdout",
          "text": [
            "max : 1.0 / min : 0.0\n"
          ]
        }
      ]
    },
    {
      "cell_type": "markdown",
      "source": [
        "* target feature : One-hot Encoding"
      ],
      "metadata": {
        "id": "vAAvHQol3jKy"
      }
    },
    {
      "cell_type": "code",
      "metadata": {
        "id": "gNZ25pdaQoVr"
      },
      "source": [
        "from tensorflow.keras.utils import to_categorical"
      ],
      "execution_count": 12,
      "outputs": []
    },
    {
      "cell_type": "code",
      "source": [
        "set(train_y)"
      ],
      "metadata": {
        "id": "x9BJuZrEEKs7",
        "colab": {
          "base_uri": "https://localhost:8080/"
        },
        "outputId": "ca83e948-919a-468b-94b1-442fa97845b6"
      },
      "execution_count": 13,
      "outputs": [
        {
          "output_type": "execute_result",
          "data": {
            "text/plain": [
              "{0, 1, 2, 3, 4, 5, 6, 7, 8, 9}"
            ]
          },
          "metadata": {},
          "execution_count": 13
        }
      ]
    },
    {
      "cell_type": "code",
      "source": [
        "len_y = len(set(train_y))"
      ],
      "metadata": {
        "id": "Ng7pbGLMEkQW"
      },
      "execution_count": 14,
      "outputs": []
    },
    {
      "cell_type": "code",
      "source": [
        "train_y.shape"
      ],
      "metadata": {
        "id": "zJ4l4d1S3wiU",
        "colab": {
          "base_uri": "https://localhost:8080/"
        },
        "outputId": "1b688380-e875-4049-9b37-7a7672f4a825"
      },
      "execution_count": 15,
      "outputs": [
        {
          "output_type": "execute_result",
          "data": {
            "text/plain": [
              "(60000,)"
            ]
          },
          "metadata": {},
          "execution_count": 15
        }
      ]
    },
    {
      "cell_type": "code",
      "metadata": {
        "id": "gNs8-ZziR50H"
      },
      "source": [
        "train_y = to_categorical(train_y, len_y)\n",
        "test_y = to_categorical(test_y, len_y)"
      ],
      "execution_count": 16,
      "outputs": []
    },
    {
      "cell_type": "code",
      "metadata": {
        "id": "R0wVmwf-SGDE",
        "colab": {
          "base_uri": "https://localhost:8080/"
        },
        "outputId": "ff84e67d-128d-4727-8216-5a328407b251"
      },
      "source": [
        "train_y.shape"
      ],
      "execution_count": 17,
      "outputs": [
        {
          "output_type": "execute_result",
          "data": {
            "text/plain": [
              "(60000, 10)"
            ]
          },
          "metadata": {},
          "execution_count": 17
        }
      ]
    },
    {
      "cell_type": "markdown",
      "metadata": {
        "id": "mQ_FTTj7XAtC"
      },
      "source": [
        "## 모델링 I\n",
        "\n",
        "1. Sequential, Functional 아무 것이나!\n",
        "2. 히든레이어 없이 epochs=50 으로 성능 관찰.\n",
        "3. activation, loss 설정\n",
        "4. Early Stopping"
      ]
    },
    {
      "cell_type": "code",
      "source": [
        "train_x.shape, train_y.shape"
      ],
      "metadata": {
        "id": "myxdMHv1Dgnb",
        "colab": {
          "base_uri": "https://localhost:8080/"
        },
        "outputId": "6c38cd6e-1980-41c6-afcc-6bfe8e87aa18"
      },
      "execution_count": 18,
      "outputs": [
        {
          "output_type": "execute_result",
          "data": {
            "text/plain": [
              "((60000, 784), (60000, 10))"
            ]
          },
          "metadata": {},
          "execution_count": 18
        }
      ]
    },
    {
      "cell_type": "code",
      "metadata": {
        "id": "rJRWUyZiR8_y",
        "colab": {
          "base_uri": "https://localhost:8080/"
        },
        "outputId": "5cad7705-c9a6-49b2-9126-f6d8c49aa178"
      },
      "source": [
        "keras.backend.clear_session()\n",
        "\n",
        "model = keras.models.Sequential()\n",
        "\n",
        "model.add(keras.layers.Input(shape=(train_x.shape[1])) )\n",
        "model.add(keras.layers.Dense(10, activation='softmax') )\n",
        "\n",
        "model.compile(loss=keras.losses.categorical_crossentropy, metrics=['accuracy'],\n",
        "               optimizer='adam')\n",
        "\n",
        "model.summary()"
      ],
      "execution_count": 19,
      "outputs": [
        {
          "output_type": "stream",
          "name": "stdout",
          "text": [
            "Model: \"sequential\"\n",
            "_________________________________________________________________\n",
            " Layer (type)                Output Shape              Param #   \n",
            "=================================================================\n",
            " dense (Dense)               (None, 10)                7850      \n",
            "                                                                 \n",
            "=================================================================\n",
            "Total params: 7,850\n",
            "Trainable params: 7,850\n",
            "Non-trainable params: 0\n",
            "_________________________________________________________________\n"
          ]
        }
      ]
    },
    {
      "cell_type": "code",
      "metadata": {
        "id": "55TMUhUmTJxe"
      },
      "source": [
        "from tensorflow.keras.callbacks import EarlyStopping"
      ],
      "execution_count": 20,
      "outputs": []
    },
    {
      "cell_type": "code",
      "source": [
        "es = EarlyStopping(monitor='val_loss',\n",
        "                   min_delta=0,\n",
        "                   patience=5,\n",
        "                   verbose=1,\n",
        "                   restore_best_weights=True)"
      ],
      "metadata": {
        "id": "n5sZxHNTGEh2"
      },
      "execution_count": 21,
      "outputs": []
    },
    {
      "cell_type": "code",
      "source": [
        "model.fit(train_x, train_y, validation_split=0.2, callbacks=[es],\n",
        "          verbose=1, epochs=50)"
      ],
      "metadata": {
        "id": "4yTJF59UGQgx",
        "colab": {
          "base_uri": "https://localhost:8080/"
        },
        "outputId": "354361af-c3e7-488f-a9d6-a2d577ccfb3d"
      },
      "execution_count": 22,
      "outputs": [
        {
          "output_type": "stream",
          "name": "stdout",
          "text": [
            "Epoch 1/50\n",
            "1500/1500 [==============================] - 7s 4ms/step - loss: 0.5082 - accuracy: 0.8699 - val_loss: 0.3175 - val_accuracy: 0.9118\n",
            "Epoch 2/50\n",
            "1500/1500 [==============================] - 6s 4ms/step - loss: 0.3181 - accuracy: 0.9108 - val_loss: 0.2887 - val_accuracy: 0.9188\n",
            "Epoch 3/50\n",
            "1500/1500 [==============================] - 4s 3ms/step - loss: 0.2935 - accuracy: 0.9180 - val_loss: 0.2787 - val_accuracy: 0.9221\n",
            "Epoch 4/50\n",
            "1500/1500 [==============================] - 4s 3ms/step - loss: 0.2815 - accuracy: 0.9209 - val_loss: 0.2708 - val_accuracy: 0.9255\n",
            "Epoch 5/50\n",
            "1500/1500 [==============================] - 5s 3ms/step - loss: 0.2737 - accuracy: 0.9238 - val_loss: 0.2679 - val_accuracy: 0.9249\n",
            "Epoch 6/50\n",
            "1500/1500 [==============================] - 4s 2ms/step - loss: 0.2684 - accuracy: 0.9249 - val_loss: 0.2718 - val_accuracy: 0.9252\n",
            "Epoch 7/50\n",
            "1500/1500 [==============================] - 4s 3ms/step - loss: 0.2642 - accuracy: 0.9264 - val_loss: 0.2614 - val_accuracy: 0.9298\n",
            "Epoch 8/50\n",
            "1500/1500 [==============================] - 5s 3ms/step - loss: 0.2607 - accuracy: 0.9275 - val_loss: 0.2608 - val_accuracy: 0.9291\n",
            "Epoch 9/50\n",
            "1500/1500 [==============================] - 4s 3ms/step - loss: 0.2582 - accuracy: 0.9278 - val_loss: 0.2611 - val_accuracy: 0.9294\n",
            "Epoch 10/50\n",
            "1500/1500 [==============================] - 4s 2ms/step - loss: 0.2551 - accuracy: 0.9289 - val_loss: 0.2670 - val_accuracy: 0.9283\n",
            "Epoch 11/50\n",
            "1500/1500 [==============================] - 5s 3ms/step - loss: 0.2531 - accuracy: 0.9293 - val_loss: 0.2609 - val_accuracy: 0.9290\n",
            "Epoch 12/50\n",
            "1500/1500 [==============================] - 4s 2ms/step - loss: 0.2511 - accuracy: 0.9303 - val_loss: 0.2637 - val_accuracy: 0.9297\n",
            "Epoch 13/50\n",
            "1500/1500 [==============================] - 4s 2ms/step - loss: 0.2496 - accuracy: 0.9305 - val_loss: 0.2599 - val_accuracy: 0.9309\n",
            "Epoch 14/50\n",
            "1500/1500 [==============================] - 5s 3ms/step - loss: 0.2480 - accuracy: 0.9306 - val_loss: 0.2620 - val_accuracy: 0.9287\n",
            "Epoch 15/50\n",
            "1500/1500 [==============================] - 4s 3ms/step - loss: 0.2470 - accuracy: 0.9314 - val_loss: 0.2614 - val_accuracy: 0.9308\n",
            "Epoch 16/50\n",
            "1500/1500 [==============================] - 4s 2ms/step - loss: 0.2452 - accuracy: 0.9314 - val_loss: 0.2616 - val_accuracy: 0.9303\n",
            "Epoch 17/50\n",
            "1500/1500 [==============================] - 5s 3ms/step - loss: 0.2444 - accuracy: 0.9320 - val_loss: 0.2610 - val_accuracy: 0.9296\n",
            "Epoch 18/50\n",
            "1485/1500 [============================>.] - ETA: 0s - loss: 0.2440 - accuracy: 0.9321Restoring model weights from the end of the best epoch: 13.\n",
            "1500/1500 [==============================] - 4s 3ms/step - loss: 0.2432 - accuracy: 0.9323 - val_loss: 0.2645 - val_accuracy: 0.9290\n",
            "Epoch 18: early stopping\n"
          ]
        },
        {
          "output_type": "execute_result",
          "data": {
            "text/plain": [
              "<keras.callbacks.History at 0x7fd5e0dec490>"
            ]
          },
          "metadata": {},
          "execution_count": 22
        }
      ]
    },
    {
      "cell_type": "code",
      "metadata": {
        "id": "3LZQpXA01gEE",
        "colab": {
          "base_uri": "https://localhost:8080/"
        },
        "outputId": "b563c2a5-df03-4690-95b3-d1349be964f8"
      },
      "source": [
        "pred_train = model.predict(train_x)\n",
        "pred_test = model.predict(test_x)\n",
        "\n",
        "single_pred_train = pred_train.argmax(axis=1)\n",
        "single_pred_test = pred_test.argmax(axis=1)\n",
        "\n",
        "logi_train_accuracy = accuracy_score(train_y.argmax(axis=1), single_pred_train)\n",
        "logi_test_accuracy = accuracy_score(test_y.argmax(axis=1), single_pred_test)\n",
        "\n",
        "print('트레이닝 정확도 : {:.2f}%'.format(logi_train_accuracy*100))\n",
        "print('테스트 정확도 : {:.2f}%'.format(logi_test_accuracy*100))"
      ],
      "execution_count": 24,
      "outputs": [
        {
          "output_type": "stream",
          "name": "stdout",
          "text": [
            "1875/1875 [==============================] - 4s 2ms/step\n",
            "313/313 [==============================] - 1s 2ms/step\n",
            "트레이닝 정확도 : 93.26%\n",
            "테스트 정확도 : 92.65%\n"
          ]
        }
      ]
    },
    {
      "cell_type": "code",
      "source": [
        "mnist_labels = ['0', '1', '2', '3', '4', '5', '6', '7', '8', '9']\n",
        "\n",
        "figure = plt.figure(figsize=(20, 10))\n",
        "\n",
        "for i, index in enumerate(np.random.choice(test_x.shape[0], size=15, replace=False)):\n",
        "    ax = figure.add_subplot(3, 5, i + 1, xticks=[], yticks=[])\n",
        "    # Display each image\n",
        "    ax.imshow(np.squeeze(test_x[index].reshape([28,-1])), cmap='gray' )\n",
        "    \n",
        "    predict_index = pred_test[index].argmax(axis=0)\n",
        "    true_index = test_y[index].argmax(axis=0)\n",
        "    # Set the title for each image\n",
        "    ax.set_title(f\"{mnist_labels[predict_index]} ({mnist_labels[true_index]})\",\n",
        "                 color=(\"green\" if predict_index == true_index else \"red\"))"
      ],
      "metadata": {
        "id": "qpc22yPV2ojZ",
        "colab": {
          "base_uri": "https://localhost:8080/",
          "height": 594
        },
        "outputId": "82763aa2-acc5-47b2-e876-3ecc9ed97e96"
      },
      "execution_count": 25,
      "outputs": [
        {
          "output_type": "display_data",
          "data": {
            "text/plain": [
              "<Figure size 1440x720 with 15 Axes>"
            ],
            "image/png": "[encoded data removed]"
          },
          "metadata": {}
        }
      ]
    },
    {
      "cell_type": "code",
      "metadata": {
        "id": "LWYzgkHh1gEM",
        "colab": {
          "base_uri": "https://localhost:8080/",
          "height": 399
        },
        "outputId": "34bd4657-e7ab-47ae-ab66-7f45db06bad7"
      },
      "source": [
        "'''\n",
        "틀린 것만 관찰해보자!\n",
        "\n",
        "Ctrl+Enter를 이용하여\n",
        "반복 실행 해보자!\n",
        "'''\n",
        "\n",
        "true_false = (test_y.argmax(axis=1) == single_pred_test)\n",
        "f_id = np.where(true_false == False)[0]\n",
        "f_n = len(f_id)\n",
        "\n",
        "id = f_id[rd.randrange(0,f_n)]\n",
        "\n",
        "print(f'id = {id}' )\n",
        "print(f'다음 그림은 숫자 {test_y.argmax(axis=1)[id]} 입니다.')\n",
        "print(f'모델의 예측 : {single_pred_test[id]}')\n",
        "print(f'모델의 카테고리별 확률 : {np.floor(pred_test[id]*100)}')\n",
        "\n",
        "if test_y.argmax(axis=1)[id] == single_pred_test[id] :\n",
        "    print('===============')\n",
        "    print('정답입니다')\n",
        "    print('===============')\n",
        "else : \n",
        "    print('===============')\n",
        "    print('틀렸어요')\n",
        "    print('===============')\n",
        "\n",
        "plt.imshow(test_x[id].reshape([28,-1]), cmap='gray')\n",
        "plt.show()"
      ],
      "execution_count": 26,
      "outputs": [
        {
          "output_type": "stream",
          "name": "stdout",
          "text": [
            "id = 2560\n",
            "다음 그림은 숫자 3 입니다.\n",
            "모델의 예측 : 2\n",
            "모델의 카테고리별 확률 : [ 0.  0. 62. 20.  0.  0. 16.  0.  0.  0.]\n",
            "===============\n",
            "틀렸어요\n",
            "===============\n"
          ]
        },
        {
          "output_type": "display_data",
          "data": {
            "text/plain": [
              "<Figure size 432x288 with 1 Axes>"
            ],
            "image/png": "[encoded data removed]"
          },
          "metadata": {
            "needs_background": "light"
          }
        }
      ]
    },
    {
      "cell_type": "code",
      "source": [
        "model.evaluate(test_x, test_y)"
      ],
      "metadata": {
        "id": "NFpmX8rrP0T9",
        "colab": {
          "base_uri": "https://localhost:8080/"
        },
        "outputId": "30f990af-af62-4b4b-a1db-360d7577e819"
      },
      "execution_count": 27,
      "outputs": [
        {
          "output_type": "stream",
          "name": "stdout",
          "text": [
            "313/313 [==============================] - 1s 2ms/step - loss: 0.2666 - accuracy: 0.9265\n"
          ]
        },
        {
          "output_type": "execute_result",
          "data": {
            "text/plain": [
              "[0.2666027247905731, 0.9265000224113464]"
            ]
          },
          "metadata": {},
          "execution_count": 27
        }
      ]
    },
    {
      "cell_type": "markdown",
      "metadata": {
        "id": "Zf8Kd1vj4J_q"
      },
      "source": [
        "\n",
        "\n",
        "---\n",
        "\n"
      ]
    },
    {
      "cell_type": "markdown",
      "metadata": {
        "id": "X0oixpzuOken"
      },
      "source": [
        "## 모델링 II\n",
        "\n",
        "1. Sequential, Functional 아무 것이나!\n",
        "2. 히든레이어 3개 이상 쌓고, epochs=50 으로 성능 관찰.\n",
        "3. activation, loss 설정\n",
        "4. Early Stopping"
      ]
    },
    {
      "cell_type": "code",
      "source": [
        "train_x.shape, train_y.shape"
      ],
      "metadata": {
        "id": "1zsOvsgSOkeo",
        "colab": {
          "base_uri": "https://localhost:8080/"
        },
        "outputId": "5e532418-c236-4c8d-ac57-ae5f62d19ca2"
      },
      "execution_count": 28,
      "outputs": [
        {
          "output_type": "execute_result",
          "data": {
            "text/plain": [
              "((60000, 784), (60000, 10))"
            ]
          },
          "metadata": {},
          "execution_count": 28
        }
      ]
    },
    {
      "cell_type": "code",
      "metadata": {
        "id": "HjKAVo88Okeo",
        "colab": {
          "base_uri": "https://localhost:8080/"
        },
        "outputId": "4e225d4c-36f1-4869-ca95-0932a1acaf76"
      },
      "source": [
        "keras.backend.clear_session()\n",
        "\n",
        "model = keras.models.Sequential()\n",
        "\n",
        "model.add(keras.layers.Input(shape=(train_x.shape[1])) )\n",
        "model.add(keras.layers.Dense(256, activation='relu') )\n",
        "model.add(keras.layers.Dense(256, activation='relu') )\n",
        "model.add(keras.layers.Dense(256, activation='relu') )\n",
        "model.add(keras.layers.Dense(10, activation='softmax') )\n",
        "\n",
        "model.compile(loss=keras.losses.categorical_crossentropy, metrics=['accuracy'],\n",
        "               optimizer='adam')\n",
        "\n",
        "model.summary()"
      ],
      "execution_count": 29,
      "outputs": [
        {
          "output_type": "stream",
          "name": "stdout",
          "text": [
            "Model: \"sequential\"\n",
            "_________________________________________________________________\n",
            " Layer (type)                Output Shape              Param #   \n",
            "=================================================================\n",
            " dense (Dense)               (None, 256)               200960    \n",
            "                                                                 \n",
            " dense_1 (Dense)             (None, 256)               65792     \n",
            "                                                                 \n",
            " dense_2 (Dense)             (None, 256)               65792     \n",
            "                                                                 \n",
            " dense_3 (Dense)             (None, 10)                2570      \n",
            "                                                                 \n",
            "=================================================================\n",
            "Total params: 335,114\n",
            "Trainable params: 335,114\n",
            "Non-trainable params: 0\n",
            "_________________________________________________________________\n"
          ]
        }
      ]
    },
    {
      "cell_type": "code",
      "metadata": {
        "id": "zRWyC8cfOkeo"
      },
      "source": [
        "from tensorflow.keras.callbacks import EarlyStopping"
      ],
      "execution_count": 30,
      "outputs": []
    },
    {
      "cell_type": "code",
      "source": [
        "es = EarlyStopping(monitor='val_loss',\n",
        "                   min_delta=0,\n",
        "                   patience=5,\n",
        "                   verbose=1,\n",
        "                   restore_best_weights=True)"
      ],
      "metadata": {
        "id": "j47xDcCJOkeo"
      },
      "execution_count": 31,
      "outputs": []
    },
    {
      "cell_type": "code",
      "source": [
        "model.fit(train_x, train_y, validation_split=0.2, callbacks=[es],\n",
        "          verbose=1, epochs=50)"
      ],
      "metadata": {
        "id": "FBYwoFxSOkep",
        "colab": {
          "base_uri": "https://localhost:8080/"
        },
        "outputId": "d6ab6515-596d-4e7e-e588-b152813a62a4"
      },
      "execution_count": 32,
      "outputs": [
        {
          "output_type": "stream",
          "name": "stdout",
          "text": [
            "Epoch 1/50\n",
            "1500/1500 [==============================] - 15s 9ms/step - loss: 0.2271 - accuracy: 0.9315 - val_loss: 0.1095 - val_accuracy: 0.9650\n",
            "Epoch 2/50\n",
            "1500/1500 [==============================] - 14s 9ms/step - loss: 0.0962 - accuracy: 0.9700 - val_loss: 0.1215 - val_accuracy: 0.9645\n",
            "Epoch 3/50\n",
            "1500/1500 [==============================] - 15s 10ms/step - loss: 0.0693 - accuracy: 0.9786 - val_loss: 0.1277 - val_accuracy: 0.9642\n",
            "Epoch 4/50\n",
            "1500/1500 [==============================] - 15s 10ms/step - loss: 0.0562 - accuracy: 0.9822 - val_loss: 0.0838 - val_accuracy: 0.9754\n",
            "Epoch 5/50\n",
            "1500/1500 [==============================] - 14s 9ms/step - loss: 0.0445 - accuracy: 0.9862 - val_loss: 0.0928 - val_accuracy: 0.9748\n",
            "Epoch 6/50\n",
            "1500/1500 [==============================] - 14s 10ms/step - loss: 0.0382 - accuracy: 0.9881 - val_loss: 0.0954 - val_accuracy: 0.9737\n",
            "Epoch 7/50\n",
            "1500/1500 [==============================] - 15s 10ms/step - loss: 0.0309 - accuracy: 0.9900 - val_loss: 0.1403 - val_accuracy: 0.9674\n",
            "Epoch 8/50\n",
            "1500/1500 [==============================] - 14s 9ms/step - loss: 0.0289 - accuracy: 0.9914 - val_loss: 0.0963 - val_accuracy: 0.9762\n",
            "Epoch 9/50\n",
            "1496/1500 [============================>.] - ETA: 0s - loss: 0.0254 - accuracy: 0.9927Restoring model weights from the end of the best epoch: 4.\n",
            "1500/1500 [==============================] - 14s 9ms/step - loss: 0.0254 - accuracy: 0.9927 - val_loss: 0.1092 - val_accuracy: 0.9745\n",
            "Epoch 9: early stopping\n"
          ]
        },
        {
          "output_type": "execute_result",
          "data": {
            "text/plain": [
              "<keras.callbacks.History at 0x7fd5e0e1f490>"
            ]
          },
          "metadata": {},
          "execution_count": 32
        }
      ]
    },
    {
      "cell_type": "code",
      "metadata": {
        "id": "RK1KSAYBOkep",
        "colab": {
          "base_uri": "https://localhost:8080/"
        },
        "outputId": "5032a707-42b7-48de-a56c-da87447ccd9d"
      },
      "source": [
        "pred_train = model.predict(train_x)\n",
        "pred_test = model.predict(test_x)\n",
        "\n",
        "single_pred_train = pred_train.argmax(axis=1)\n",
        "single_pred_test = pred_test.argmax(axis=1)\n",
        "\n",
        "logi_train_accuracy = accuracy_score(train_y.argmax(axis=1), single_pred_train)\n",
        "logi_test_accuracy = accuracy_score(test_y.argmax(axis=1), single_pred_test)\n",
        "\n",
        "print('트레이닝 정확도 : {:.2f}%'.format(logi_train_accuracy*100))\n",
        "print('테스트 정확도 : {:.2f}%'.format(logi_test_accuracy*100))"
      ],
      "execution_count": 33,
      "outputs": [
        {
          "output_type": "stream",
          "name": "stdout",
          "text": [
            "1875/1875 [==============================] - 7s 4ms/step\n",
            "313/313 [==============================] - 1s 3ms/step\n",
            "트레이닝 정확도 : 98.80%\n",
            "테스트 정확도 : 97.59%\n"
          ]
        }
      ]
    },
    {
      "cell_type": "code",
      "source": [
        "mnist_labels = ['0', '1', '2', '3', '4', '5', '6', '7', '8', '9']\n",
        "\n",
        "figure = plt.figure(figsize=(20, 10))\n",
        "\n",
        "for i, index in enumerate(np.random.choice(test_x.shape[0], size=15, replace=False)):\n",
        "    ax = figure.add_subplot(3, 5, i + 1, xticks=[], yticks=[])\n",
        "    # Display each image\n",
        "    ax.imshow(np.squeeze(test_x[index].reshape([28,-1])), cmap='gray' )\n",
        "    \n",
        "    predict_index = pred_test[index].argmax(axis=0)\n",
        "    true_index = test_y[index].argmax(axis=0)\n",
        "    # Set the title for each image\n",
        "    ax.set_title(f\"{mnist_labels[predict_index]} ({mnist_labels[true_index]})\",\n",
        "                 color=(\"green\" if predict_index == true_index else \"red\"))"
      ],
      "metadata": {
        "id": "oaqGP_11Okep",
        "colab": {
          "base_uri": "https://localhost:8080/",
          "height": 594
        },
        "outputId": "1932248f-d26b-48f1-9980-3a475668e95a"
      },
      "execution_count": 34,
      "outputs": [
        {
          "output_type": "display_data",
          "data": {
            "text/plain": [
              "<Figure size 1440x720 with 15 Axes>"
            ],
            "image/png": "[encoded data removed]"
          },
          "metadata": {}
        }
      ]
    },
    {
      "cell_type": "code",
      "metadata": {
        "id": "VMYH5ksPOkep",
        "colab": {
          "base_uri": "https://localhost:8080/",
          "height": 399
        },
        "outputId": "2edadee5-78fd-43be-d044-21afa8d6992d"
      },
      "source": [
        "'''\n",
        "틀린 것만 관찰해보자!\n",
        "\n",
        "Ctrl+Enter를 이용하여\n",
        "반복 실행 해보자!\n",
        "'''\n",
        "\n",
        "true_false = (test_y.argmax(axis=1) == single_pred_test)\n",
        "f_id = np.where(true_false == False)[0]\n",
        "f_n = len(f_id)\n",
        "\n",
        "id = f_id[rd.randrange(0,f_n)]\n",
        "\n",
        "print(f'id = {id}' )\n",
        "print(f'다음 그림은 숫자 {test_y.argmax(axis=1)[id]} 입니다.')\n",
        "print(f'모델의 예측 : {single_pred_test[id]}')\n",
        "print(f'모델의 카테고리별 확률 : {np.floor(pred_test[id]*100)}')\n",
        "\n",
        "if test_y.argmax(axis=1)[id] == single_pred_test[id] :\n",
        "    print('===============')\n",
        "    print('정답입니다')\n",
        "    print('===============')\n",
        "else : \n",
        "    print('===============')\n",
        "    print('틀렸어요')\n",
        "    print('===============')\n",
        "\n",
        "plt.imshow(test_x[id].reshape([28,-1]), cmap='gray')\n",
        "plt.show()"
      ],
      "execution_count": 35,
      "outputs": [
        {
          "output_type": "stream",
          "name": "stdout",
          "text": [
            "id = 9792\n",
            "다음 그림은 숫자 4 입니다.\n",
            "모델의 예측 : 1\n",
            "모델의 카테고리별 확률 : [ 0. 86.  0.  0.  2.  0.  0.  6.  0.  4.]\n",
            "===============\n",
            "틀렸어요\n",
            "===============\n"
          ]
        },
        {
          "output_type": "display_data",
          "data": {
            "text/plain": [
              "<Figure size 432x288 with 1 Axes>"
            ],
            "image/png": "[encoded data removed]"
          },
          "metadata": {
            "needs_background": "light"
          }
        }
      ]
    },
    {
      "cell_type": "code",
      "source": [
        "model.evaluate(test_x, test_y)"
      ],
      "metadata": {
        "id": "Tdq81PdoO66-",
        "colab": {
          "base_uri": "https://localhost:8080/"
        },
        "outputId": "baaaeafc-fdd2-481d-91fa-b752c90b6be3"
      },
      "execution_count": 36,
      "outputs": [
        {
          "output_type": "stream",
          "name": "stdout",
          "text": [
            "313/313 [==============================] - 2s 5ms/step - loss: 0.0814 - accuracy: 0.9759\n"
          ]
        },
        {
          "output_type": "execute_result",
          "data": {
            "text/plain": [
              "[0.08141053467988968, 0.9758999943733215]"
            ]
          },
          "metadata": {},
          "execution_count": 36
        }
      ]
    },
    {
      "cell_type": "code",
      "source": [],
      "metadata": {
        "id": "KlHddjOPcgf2"
      },
      "execution_count": null,
      "outputs": []
    }
  ]
}